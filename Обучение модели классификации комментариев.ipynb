{
 "cells": [
  {
   "cell_type": "markdown",
   "metadata": {
    "toc": true
   },
   "source": [
    "<h1>Содержание<span class=\"tocSkip\"></span></h1>\n",
    "<div class=\"toc\"><ul class=\"toc-item\"><li><span><a href=\"#Подготовка\" data-toc-modified-id=\"Подготовка-1\"><span class=\"toc-item-num\">1&nbsp;&nbsp;</span>Подготовка</a></span></li><li><span><a href=\"#Обучение\" data-toc-modified-id=\"Обучение-2\"><span class=\"toc-item-num\">2&nbsp;&nbsp;</span>Обучение</a></span><ul class=\"toc-item\"><li><span><a href=\"#Логистическая-регрессия\" data-toc-modified-id=\"Логистическая-регрессия-2.1\"><span class=\"toc-item-num\">2.1&nbsp;&nbsp;</span>Логистическая регрессия</a></span></li><li><span><a href=\"#Случайное-дерево\" data-toc-modified-id=\"Случайное-дерево-2.2\"><span class=\"toc-item-num\">2.2&nbsp;&nbsp;</span>Случайное дерево</a></span></li><li><span><a href=\"#CatBoostClassifier\" data-toc-modified-id=\"CatBoostClassifier-2.3\"><span class=\"toc-item-num\">2.3&nbsp;&nbsp;</span>CatBoostClassifier</a></span></li><li><span><a href=\"#LGBM-Classifier\" data-toc-modified-id=\"LGBM-Classifier-2.4\"><span class=\"toc-item-num\">2.4&nbsp;&nbsp;</span>LGBM Classifier</a></span></li></ul></li><li><span><a href=\"#Тестирование-лучшей-модели\" data-toc-modified-id=\"Тестирование-лучшей-модели-3\"><span class=\"toc-item-num\">3&nbsp;&nbsp;</span>Тестирование лучшей модели</a></span></li><li><span><a href=\"#Выводы\" data-toc-modified-id=\"Выводы-4\"><span class=\"toc-item-num\">4&nbsp;&nbsp;</span>Выводы</a></span></li></ul></div>"
   ]
  },
  {
   "cell_type": "markdown",
   "metadata": {},
   "source": [
    "# Проект для «Викишоп»"
   ]
  },
  {
   "cell_type": "markdown",
   "metadata": {},
   "source": [
    "Интернет-магазин «Викишоп» запускает новый сервис. Теперь пользователи могут редактировать и дополнять описания товаров, как в вики-сообществах. То есть клиенты предлагают свои правки и комментируют изменения других. Магазину нужен инструмент, который будет искать токсичные комментарии и отправлять их на модерацию. \n",
    "\n",
    "Обучите модель классифицировать комментарии на позитивные и негативные. В вашем распоряжении набор данных с разметкой о токсичности правок.\n",
    "\n",
    "Постройте модель со значением метрики качества *F1* не меньше 0.75. \n",
    "\n",
    "**Инструкция по выполнению проекта**\n",
    "\n",
    "1. Загрузите и подготовьте данные.\n",
    "2. Обучите разные модели. \n",
    "3. Сделайте выводы.\n",
    "\n",
    "\n",
    "**Описание данных**\n",
    "\n",
    "Данные находятся в файле `toxic_comments.csv`. Столбец *text* в нём содержит текст комментария, а *toxic* — целевой признак."
   ]
  },
  {
   "cell_type": "markdown",
   "metadata": {},
   "source": [
    "## Подготовка"
   ]
  },
  {
   "cell_type": "code",
   "execution_count": 1,
   "metadata": {},
   "outputs": [],
   "source": [
    "import pandas as pd\n",
    "import numpy as np\n",
    "import re\n",
    "from pymystem3 import Mystem\n",
    "import nltk\n",
    "from nltk.corpus import stopwords as nltk_stopwords\n",
    "from sklearn.feature_extraction.text import TfidfVectorizer\n",
    "from sklearn.model_selection import train_test_split, cross_val_score, GridSearchCV\n",
    "from sklearn.linear_model import LogisticRegression, SGDClassifier\n",
    "from sklearn.tree import DecisionTreeClassifier\n",
    "from catboost import CatBoostClassifier\n",
    "from lightgbm import LGBMClassifier\n",
    "from sklearn.metrics import f1_score\n",
    "from sklearn.utils import shuffle\n",
    "import warnings\n",
    "import spacy\n",
    "from tqdm.notebook import tqdm"
   ]
  },
  {
   "cell_type": "code",
   "execution_count": 2,
   "metadata": {},
   "outputs": [],
   "source": [
    "warnings.filterwarnings('ignore')"
   ]
  },
  {
   "cell_type": "code",
   "execution_count": 3,
   "metadata": {},
   "outputs": [],
   "source": [
    "data = pd.read_csv('/datasets/toxic_comments.csv')"
   ]
  },
  {
   "cell_type": "code",
   "execution_count": 4,
   "metadata": {},
   "outputs": [
    {
     "name": "stdout",
     "output_type": "stream",
     "text": [
      "<class 'pandas.core.frame.DataFrame'>\n",
      "RangeIndex: 159292 entries, 0 to 159291\n",
      "Data columns (total 3 columns):\n",
      " #   Column      Non-Null Count   Dtype \n",
      "---  ------      --------------   ----- \n",
      " 0   Unnamed: 0  159292 non-null  int64 \n",
      " 1   text        159292 non-null  object\n",
      " 2   toxic       159292 non-null  int64 \n",
      "dtypes: int64(2), object(1)\n",
      "memory usage: 3.6+ MB\n"
     ]
    }
   ],
   "source": [
    "data.info()"
   ]
  },
  {
   "cell_type": "code",
   "execution_count": 5,
   "metadata": {},
   "outputs": [
    {
     "data": {
      "text/html": [
       "<div>\n",
       "<style scoped>\n",
       "    .dataframe tbody tr th:only-of-type {\n",
       "        vertical-align: middle;\n",
       "    }\n",
       "\n",
       "    .dataframe tbody tr th {\n",
       "        vertical-align: top;\n",
       "    }\n",
       "\n",
       "    .dataframe thead th {\n",
       "        text-align: right;\n",
       "    }\n",
       "</style>\n",
       "<table border=\"1\" class=\"dataframe\">\n",
       "  <thead>\n",
       "    <tr style=\"text-align: right;\">\n",
       "      <th></th>\n",
       "      <th>Unnamed: 0</th>\n",
       "      <th>text</th>\n",
       "      <th>toxic</th>\n",
       "    </tr>\n",
       "  </thead>\n",
       "  <tbody>\n",
       "    <tr>\n",
       "      <th>0</th>\n",
       "      <td>0</td>\n",
       "      <td>Explanation\\nWhy the edits made under my usern...</td>\n",
       "      <td>0</td>\n",
       "    </tr>\n",
       "    <tr>\n",
       "      <th>1</th>\n",
       "      <td>1</td>\n",
       "      <td>D'aww! He matches this background colour I'm s...</td>\n",
       "      <td>0</td>\n",
       "    </tr>\n",
       "    <tr>\n",
       "      <th>2</th>\n",
       "      <td>2</td>\n",
       "      <td>Hey man, I'm really not trying to edit war. It...</td>\n",
       "      <td>0</td>\n",
       "    </tr>\n",
       "    <tr>\n",
       "      <th>3</th>\n",
       "      <td>3</td>\n",
       "      <td>\"\\nMore\\nI can't make any real suggestions on ...</td>\n",
       "      <td>0</td>\n",
       "    </tr>\n",
       "    <tr>\n",
       "      <th>4</th>\n",
       "      <td>4</td>\n",
       "      <td>You, sir, are my hero. Any chance you remember...</td>\n",
       "      <td>0</td>\n",
       "    </tr>\n",
       "    <tr>\n",
       "      <th>5</th>\n",
       "      <td>5</td>\n",
       "      <td>\"\\n\\nCongratulations from me as well, use the ...</td>\n",
       "      <td>0</td>\n",
       "    </tr>\n",
       "    <tr>\n",
       "      <th>6</th>\n",
       "      <td>6</td>\n",
       "      <td>COCKSUCKER BEFORE YOU PISS AROUND ON MY WORK</td>\n",
       "      <td>1</td>\n",
       "    </tr>\n",
       "    <tr>\n",
       "      <th>7</th>\n",
       "      <td>7</td>\n",
       "      <td>Your vandalism to the Matt Shirvington article...</td>\n",
       "      <td>0</td>\n",
       "    </tr>\n",
       "    <tr>\n",
       "      <th>8</th>\n",
       "      <td>8</td>\n",
       "      <td>Sorry if the word 'nonsense' was offensive to ...</td>\n",
       "      <td>0</td>\n",
       "    </tr>\n",
       "    <tr>\n",
       "      <th>9</th>\n",
       "      <td>9</td>\n",
       "      <td>alignment on this subject and which are contra...</td>\n",
       "      <td>0</td>\n",
       "    </tr>\n",
       "    <tr>\n",
       "      <th>10</th>\n",
       "      <td>10</td>\n",
       "      <td>\"\\nFair use rationale for Image:Wonju.jpg\\n\\nT...</td>\n",
       "      <td>0</td>\n",
       "    </tr>\n",
       "    <tr>\n",
       "      <th>11</th>\n",
       "      <td>11</td>\n",
       "      <td>bbq \\n\\nbe a man and lets discuss it-maybe ove...</td>\n",
       "      <td>0</td>\n",
       "    </tr>\n",
       "    <tr>\n",
       "      <th>12</th>\n",
       "      <td>12</td>\n",
       "      <td>Hey... what is it..\\n@ | talk .\\nWhat is it......</td>\n",
       "      <td>1</td>\n",
       "    </tr>\n",
       "    <tr>\n",
       "      <th>13</th>\n",
       "      <td>13</td>\n",
       "      <td>Before you start throwing accusations and warn...</td>\n",
       "      <td>0</td>\n",
       "    </tr>\n",
       "    <tr>\n",
       "      <th>14</th>\n",
       "      <td>14</td>\n",
       "      <td>Oh, and the girl above started her arguments w...</td>\n",
       "      <td>0</td>\n",
       "    </tr>\n",
       "    <tr>\n",
       "      <th>15</th>\n",
       "      <td>15</td>\n",
       "      <td>\"\\n\\nJuelz Santanas Age\\n\\nIn 2002, Juelz Sant...</td>\n",
       "      <td>0</td>\n",
       "    </tr>\n",
       "    <tr>\n",
       "      <th>16</th>\n",
       "      <td>16</td>\n",
       "      <td>Bye! \\n\\nDon't look, come or think of comming ...</td>\n",
       "      <td>1</td>\n",
       "    </tr>\n",
       "    <tr>\n",
       "      <th>17</th>\n",
       "      <td>17</td>\n",
       "      <td>REDIRECT Talk:Voydan Pop Georgiev- Chernodrinski</td>\n",
       "      <td>0</td>\n",
       "    </tr>\n",
       "    <tr>\n",
       "      <th>18</th>\n",
       "      <td>18</td>\n",
       "      <td>The Mitsurugi point made no sense - why not ar...</td>\n",
       "      <td>0</td>\n",
       "    </tr>\n",
       "    <tr>\n",
       "      <th>19</th>\n",
       "      <td>19</td>\n",
       "      <td>Don't mean to bother you \\n\\nI see that you're...</td>\n",
       "      <td>0</td>\n",
       "    </tr>\n",
       "  </tbody>\n",
       "</table>\n",
       "</div>"
      ],
      "text/plain": [
       "    Unnamed: 0                                               text  toxic\n",
       "0            0  Explanation\\nWhy the edits made under my usern...      0\n",
       "1            1  D'aww! He matches this background colour I'm s...      0\n",
       "2            2  Hey man, I'm really not trying to edit war. It...      0\n",
       "3            3  \"\\nMore\\nI can't make any real suggestions on ...      0\n",
       "4            4  You, sir, are my hero. Any chance you remember...      0\n",
       "5            5  \"\\n\\nCongratulations from me as well, use the ...      0\n",
       "6            6       COCKSUCKER BEFORE YOU PISS AROUND ON MY WORK      1\n",
       "7            7  Your vandalism to the Matt Shirvington article...      0\n",
       "8            8  Sorry if the word 'nonsense' was offensive to ...      0\n",
       "9            9  alignment on this subject and which are contra...      0\n",
       "10          10  \"\\nFair use rationale for Image:Wonju.jpg\\n\\nT...      0\n",
       "11          11  bbq \\n\\nbe a man and lets discuss it-maybe ove...      0\n",
       "12          12  Hey... what is it..\\n@ | talk .\\nWhat is it......      1\n",
       "13          13  Before you start throwing accusations and warn...      0\n",
       "14          14  Oh, and the girl above started her arguments w...      0\n",
       "15          15  \"\\n\\nJuelz Santanas Age\\n\\nIn 2002, Juelz Sant...      0\n",
       "16          16  Bye! \\n\\nDon't look, come or think of comming ...      1\n",
       "17          17   REDIRECT Talk:Voydan Pop Georgiev- Chernodrinski      0\n",
       "18          18  The Mitsurugi point made no sense - why not ar...      0\n",
       "19          19  Don't mean to bother you \\n\\nI see that you're...      0"
      ]
     },
     "execution_count": 5,
     "metadata": {},
     "output_type": "execute_result"
    }
   ],
   "source": [
    "data.head(20)"
   ]
  },
  {
   "cell_type": "code",
   "execution_count": 6,
   "metadata": {},
   "outputs": [
    {
     "data": {
      "text/plain": [
       "0    143106\n",
       "1     16186\n",
       "Name: toxic, dtype: int64"
      ]
     },
     "execution_count": 6,
     "metadata": {},
     "output_type": "execute_result"
    }
   ],
   "source": [
    "data['toxic'].value_counts()"
   ]
  },
  {
   "cell_type": "markdown",
   "metadata": {},
   "source": [
    "Видно, что классы не сбалансированы, один примерно в 9 раз больше другого. Попробуем применить взвешивание классов для уравновешивания."
   ]
  },
  {
   "cell_type": "markdown",
   "metadata": {},
   "source": [
    "## Обучение"
   ]
  },
  {
   "cell_type": "code",
   "execution_count": 7,
   "metadata": {},
   "outputs": [
    {
     "data": {
      "application/vnd.jupyter.widget-view+json": {
       "model_id": "d122391c8ffc49b8b316541f0a573ca7",
       "version_major": 2,
       "version_minor": 0
      },
      "text/plain": [
       "  0%|          | 0/159292 [00:00<?, ?it/s]"
      ]
     },
     "metadata": {},
     "output_type": "display_data"
    }
   ],
   "source": [
    "nlp = spacy.load('en_core_web_sm', disable=['parser', 'ner'])\n",
    "\n",
    "def lemmatize_text(text):\n",
    "    text = text.lower()\n",
    "    txt = nlp(text)\n",
    "    lemm_text = \" \".join([token.lemma_ for token in txt])\n",
    "    cleared_text = re.sub(r'[^a-zA-Z]', ' ', lemm_text) \n",
    "    return \" \".join(cleared_text.split())\n",
    "\n",
    "\n",
    "tqdm.pandas()\n",
    "data['lemm_text'] = data['text'].progress_apply(lemmatize_text)\n",
    "\n",
    "data = data.drop(['text'], axis=1)"
   ]
  },
  {
   "cell_type": "code",
   "execution_count": 8,
   "metadata": {},
   "outputs": [
    {
     "name": "stderr",
     "output_type": "stream",
     "text": [
      "[nltk_data] Downloading package stopwords to /home/jovyan/nltk_data...\n",
      "[nltk_data]   Package stopwords is already up-to-date!\n"
     ]
    }
   ],
   "source": [
    "target = data['toxic']\n",
    "features = data.drop(['toxic'], axis=1)\n",
    "\n",
    "features_train, features_test, target_train, target_test = train_test_split(features, \n",
    "                                                                              target, \n",
    "                                                                              test_size=0.1, \n",
    "                                                                              random_state=12345)\n",
    "\n",
    "nltk.download('stopwords')\n",
    "stopwords = set(nltk_stopwords.words('english'))\n",
    "\n",
    "count_tf_idf = TfidfVectorizer(stop_words=stopwords)\n",
    "\n",
    "features_train = count_tf_idf.fit_transform(features_train['lemm_text'])\n",
    "features_test = count_tf_idf.transform(features_test['lemm_text'])"
   ]
  },
  {
   "cell_type": "markdown",
   "metadata": {},
   "source": [
    "Для обучения будем использовать следующие модели:\n",
    "- логистическая регрессия\n",
    "- случайное дерево\n",
    "- CatBoostClassifier\n",
    "- LGBM Classifier"
   ]
  },
  {
   "cell_type": "markdown",
   "metadata": {},
   "source": [
    "### Логистическая регрессия"
   ]
  },
  {
   "cell_type": "code",
   "execution_count": 9,
   "metadata": {},
   "outputs": [
    {
     "name": "stdout",
     "output_type": "stream",
     "text": [
      "Значение метрики F1 на обучающей выборке для LinearRegression 0.748837762610259\n",
      "CPU times: user 59.4 s, sys: 1min 10s, total: 2min 9s\n",
      "Wall time: 2min 9s\n"
     ]
    }
   ],
   "source": [
    "%%time\n",
    "\n",
    "model_reg = LogisticRegression(class_weight='balanced')\n",
    "\n",
    "print(f'''Значение метрики F1 на обучающей выборке для LinearRegression''', \n",
    "      cross_val_score(model_reg, features_train, target_train, \n",
    "                         cv = 3, \n",
    "                         n_jobs = -1, \n",
    "                         scoring = 'f1').mean())"
   ]
  },
  {
   "cell_type": "markdown",
   "metadata": {},
   "source": [
    "### Случайное дерево"
   ]
  },
  {
   "cell_type": "code",
   "execution_count": 10,
   "metadata": {},
   "outputs": [
    {
     "data": {
      "text/plain": [
       "{'max_depth': 30}"
      ]
     },
     "metadata": {},
     "output_type": "display_data"
    },
    {
     "data": {
      "text/plain": [
       "0.6878381351729321"
      ]
     },
     "metadata": {},
     "output_type": "display_data"
    },
    {
     "name": "stdout",
     "output_type": "stream",
     "text": [
      "CPU times: user 20min 53s, sys: 1.45 s, total: 20min 54s\n",
      "Wall time: 20min 54s\n"
     ]
    }
   ],
   "source": [
    "%%time\n",
    "\n",
    "model_tree = DecisionTreeClassifier(random_state=12345)\n",
    "max_depth_list = [x for x in range(2, 31)]\n",
    "parameters_tree = {'max_depth': max_depth_list}\n",
    "grid = GridSearchCV(model_tree, param_grid = parameters_tree, cv=3, scoring='f1')\n",
    "grid.fit(features_train, target_train)\n",
    "display(grid.best_params_)\n",
    "display(grid.best_score_)"
   ]
  },
  {
   "cell_type": "markdown",
   "metadata": {},
   "source": [
    "### CatBoostClassifier"
   ]
  },
  {
   "cell_type": "code",
   "execution_count": 11,
   "metadata": {},
   "outputs": [
    {
     "data": {
      "text/plain": [
       "{'learning_rate': 0.5}"
      ]
     },
     "metadata": {},
     "output_type": "display_data"
    },
    {
     "data": {
      "text/plain": [
       "0.7651161842980562"
      ]
     },
     "metadata": {},
     "output_type": "display_data"
    },
    {
     "name": "stdout",
     "output_type": "stream",
     "text": [
      "CPU times: user 4h 38min 50s, sys: 2min 7s, total: 4h 40min 57s\n",
      "Wall time: 4h 41min 13s\n"
     ]
    }
   ],
   "source": [
    "%%time\n",
    "\n",
    "model_cat = CatBoostClassifier(cat_features=[], verbose=False, random_state=12345)\n",
    "parameters_cat = {'learning_rate':[0.1, 0.5, 0.8]}\n",
    "grid = GridSearchCV(model_cat, parameters_cat, cv=3, scoring='f1')\n",
    "grid.fit(features_train, target_train)\n",
    "display(grid.best_params_)\n",
    "display(grid.best_score_)"
   ]
  },
  {
   "cell_type": "markdown",
   "metadata": {},
   "source": [
    "### LGBM Classifier"
   ]
  },
  {
   "cell_type": "code",
   "execution_count": 12,
   "metadata": {},
   "outputs": [
    {
     "data": {
      "text/plain": [
       "{'num_leaves': 200}"
      ]
     },
     "metadata": {},
     "output_type": "display_data"
    },
    {
     "data": {
      "text/plain": [
       "0.7758700637962693"
      ]
     },
     "metadata": {},
     "output_type": "display_data"
    },
    {
     "name": "stdout",
     "output_type": "stream",
     "text": [
      "CPU times: user 1h 15min 30s, sys: 10.8 s, total: 1h 15min 41s\n",
      "Wall time: 1h 16min 31s\n"
     ]
    }
   ],
   "source": [
    "%%time\n",
    "\n",
    "model_lgbm = LGBMClassifier(random_state=12345)\n",
    "parameters_lgbm = {'num_leaves' : [100, 150, 200]}\n",
    "grid = GridSearchCV(model_lgbm, parameters_lgbm, cv=3, scoring='f1')\n",
    "grid.fit(features_train, target_train)\n",
    "display(grid.best_params_)\n",
    "display(grid.best_score_)"
   ]
  },
  {
   "cell_type": "markdown",
   "metadata": {},
   "source": [
    "Таким образом, лучшая модель на кросс-валидации - LGBM Classifier. Протестируем ее на тестовой выборке."
   ]
  },
  {
   "cell_type": "markdown",
   "metadata": {},
   "source": [
    "## Тестирование лучшей модели"
   ]
  },
  {
   "cell_type": "code",
   "execution_count": 14,
   "metadata": {},
   "outputs": [
    {
     "data": {
      "text/plain": [
       "0.7909527073337903"
      ]
     },
     "execution_count": 14,
     "metadata": {},
     "output_type": "execute_result"
    }
   ],
   "source": [
    "model_lgbm = LGBMClassifier(random_state=12345, num_leaves=200)\n",
    "model_lgbm.fit(features_train, target_train)\n",
    "pred = model_lgbm.predict(features_test)\n",
    "f1_score(target_test, pred)"
   ]
  },
  {
   "cell_type": "markdown",
   "metadata": {},
   "source": [
    "Модель показывает достаточно высокую метрику F1."
   ]
  },
  {
   "cell_type": "markdown",
   "metadata": {},
   "source": [
    "## Выводы"
   ]
  },
  {
   "cell_type": "markdown",
   "metadata": {},
   "source": [
    "В ходе работы были обработаны данные (в частности, применено взвешивание классов для броьбы с дисбалансом), обучено с кросс-валидацией несколько моделей, выбрана лучшая и протестирована на тестовой выборке, где показала F1-меру 0.79, что является достаточно высоким показателем для поставленной задачи."
   ]
  }
 ],
 "metadata": {
  "ExecuteTimeLog": [
   {
    "duration": 1318,
    "start_time": "2023-03-20T11:22:36.407Z"
   },
   {
    "duration": 59,
    "start_time": "2023-03-20T11:22:59.672Z"
   },
   {
    "duration": 3,
    "start_time": "2023-03-20T11:23:02.450Z"
   },
   {
    "duration": 3522,
    "start_time": "2023-03-20T11:23:28.530Z"
   },
   {
    "duration": 28,
    "start_time": "2023-03-20T11:23:36.611Z"
   },
   {
    "duration": 12,
    "start_time": "2023-03-20T11:23:44.958Z"
   },
   {
    "duration": 7,
    "start_time": "2023-03-20T11:24:22.540Z"
   },
   {
    "duration": 6,
    "start_time": "2023-03-20T16:16:50.795Z"
   },
   {
    "duration": 1422,
    "start_time": "2023-03-20T16:19:56.851Z"
   },
   {
    "duration": 83728,
    "start_time": "2023-03-20T16:24:53.108Z"
   },
   {
    "duration": 55,
    "start_time": "2023-03-20T16:26:59.068Z"
   },
   {
    "duration": 9586,
    "start_time": "2023-03-20T16:28:47.645Z"
   },
   {
    "duration": 61,
    "start_time": "2023-03-20T16:42:35.124Z"
   },
   {
    "duration": 71,
    "start_time": "2023-03-20T16:42:46.050Z"
   },
   {
    "duration": 61462,
    "start_time": "2023-03-20T16:43:01.778Z"
   },
   {
    "duration": 91,
    "start_time": "2023-03-20T17:30:28.781Z"
   },
   {
    "duration": 604224,
    "start_time": "2023-03-20T17:30:44.951Z"
   },
   {
    "duration": 23264938,
    "start_time": "2023-03-20T17:44:26.104Z"
   },
   {
    "duration": 92,
    "start_time": "2023-03-21T00:12:11.044Z"
   },
   {
    "duration": 7306103,
    "start_time": "2023-03-21T00:12:11.138Z"
   },
   {
    "duration": 1637,
    "start_time": "2023-03-21T08:05:51.686Z"
   },
   {
    "duration": 4,
    "start_time": "2023-03-21T08:05:54.088Z"
   },
   {
    "duration": 3808,
    "start_time": "2023-03-21T08:05:55.103Z"
   },
   {
    "duration": 32,
    "start_time": "2023-03-21T08:05:59.593Z"
   },
   {
    "duration": 16,
    "start_time": "2023-03-21T08:06:00.890Z"
   },
   {
    "duration": 7,
    "start_time": "2023-03-21T08:06:02.964Z"
   },
   {
    "duration": 96865,
    "start_time": "2023-03-21T08:06:18.182Z"
   },
   {
    "duration": 11712,
    "start_time": "2023-03-21T08:07:55.049Z"
   },
   {
    "duration": 106614,
    "start_time": "2023-03-21T08:08:31.987Z"
   },
   {
    "duration": 975244,
    "start_time": "2023-03-21T08:10:28.868Z"
   },
   {
    "duration": 18343026,
    "start_time": "2023-03-21T08:26:44.114Z"
   },
   {
    "duration": 13850783,
    "start_time": "2023-03-21T13:32:27.143Z"
   },
   {
    "duration": 2484137,
    "start_time": "2023-03-21T17:26:11.187Z"
   },
   {
    "duration": 5527,
    "start_time": "2023-03-22T15:19:44.060Z"
   },
   {
    "duration": 3,
    "start_time": "2023-03-22T15:19:52.341Z"
   },
   {
    "duration": 1219,
    "start_time": "2023-03-22T15:19:53.777Z"
   },
   {
    "duration": 35,
    "start_time": "2023-03-22T15:19:57.229Z"
   },
   {
    "duration": 17,
    "start_time": "2023-03-22T15:19:58.111Z"
   },
   {
    "duration": 8,
    "start_time": "2023-03-22T15:20:00.793Z"
   },
   {
    "duration": 3,
    "start_time": "2023-03-22T15:21:42.888Z"
   },
   {
    "duration": 430,
    "start_time": "2023-03-22T15:22:22.859Z"
   },
   {
    "duration": 1104,
    "start_time": "2023-03-22T15:23:14.988Z"
   },
   {
    "duration": 19837,
    "start_time": "2023-03-22T15:24:52.889Z"
   },
   {
    "duration": 1218628,
    "start_time": "2023-03-22T15:25:17.210Z"
   },
   {
    "duration": 7612,
    "start_time": "2023-03-22T15:56:26.493Z"
   },
   {
    "duration": 54424,
    "start_time": "2023-03-22T16:00:35.223Z"
   },
   {
    "duration": 16343,
    "start_time": "2023-03-22T16:01:29.649Z"
   },
   {
    "duration": 27525,
    "start_time": "2023-03-22T16:01:45.994Z"
   },
   {
    "duration": 7849,
    "start_time": "2023-03-22T16:05:09.461Z"
   },
   {
    "duration": 17012,
    "start_time": "2023-03-22T16:06:27.783Z"
   },
   {
    "duration": 4,
    "start_time": "2023-03-22T16:06:48.220Z"
   },
   {
    "duration": 1274,
    "start_time": "2023-03-22T16:06:49.100Z"
   },
   {
    "duration": 36,
    "start_time": "2023-03-22T16:06:50.376Z"
   },
   {
    "duration": 18,
    "start_time": "2023-03-22T16:06:53.518Z"
   },
   {
    "duration": 8,
    "start_time": "2023-03-22T16:06:57.166Z"
   },
   {
    "duration": 1248385,
    "start_time": "2023-03-22T16:07:01.047Z"
   },
   {
    "duration": 7621,
    "start_time": "2023-03-22T16:27:49.434Z"
   },
   {
    "duration": 142921,
    "start_time": "2023-03-22T16:27:57.056Z"
   },
   {
    "duration": 1158390,
    "start_time": "2023-03-22T16:30:19.979Z"
   },
   {
    "duration": 17346,
    "start_time": "2023-03-22T21:38:32.392Z"
   },
   {
    "duration": 3,
    "start_time": "2023-03-22T21:38:49.740Z"
   },
   {
    "duration": 1269,
    "start_time": "2023-03-22T21:38:49.744Z"
   },
   {
    "duration": 35,
    "start_time": "2023-03-22T21:38:51.015Z"
   },
   {
    "duration": 19,
    "start_time": "2023-03-22T21:38:51.052Z"
   },
   {
    "duration": 12,
    "start_time": "2023-03-22T21:38:51.073Z"
   },
   {
    "duration": 1143783,
    "start_time": "2023-03-22T21:38:51.087Z"
   },
   {
    "duration": 6838,
    "start_time": "2023-03-22T21:57:54.872Z"
   },
   {
    "duration": 129947,
    "start_time": "2023-03-22T21:58:01.712Z"
   },
   {
    "duration": 1254982,
    "start_time": "2023-03-22T22:00:11.665Z"
   },
   {
    "duration": 16873023,
    "start_time": "2023-03-22T22:21:06.649Z"
   },
   {
    "duration": 4591956,
    "start_time": "2023-03-23T03:02:19.674Z"
   },
   {
    "duration": 583933,
    "start_time": "2023-03-23T04:18:51.632Z"
   },
   {
    "duration": 1899332,
    "start_time": "2023-03-23T06:17:48.530Z"
   }
  ],
  "kernelspec": {
   "display_name": "Python 3 (ipykernel)",
   "language": "python",
   "name": "python3"
  },
  "language_info": {
   "codemirror_mode": {
    "name": "ipython",
    "version": 3
   },
   "file_extension": ".py",
   "mimetype": "text/x-python",
   "name": "python",
   "nbconvert_exporter": "python",
   "pygments_lexer": "ipython3",
   "version": "3.9.13"
  },
  "toc": {
   "base_numbering": 1,
   "nav_menu": {},
   "number_sections": true,
   "sideBar": true,
   "skip_h1_title": true,
   "title_cell": "Содержание",
   "title_sidebar": "Contents",
   "toc_cell": true,
   "toc_position": {
    "height": "calc(100% - 180px)",
    "left": "10px",
    "top": "150px",
    "width": "302.391px"
   },
   "toc_section_display": true,
   "toc_window_display": false
  }
 },
 "nbformat": 4,
 "nbformat_minor": 2
}
