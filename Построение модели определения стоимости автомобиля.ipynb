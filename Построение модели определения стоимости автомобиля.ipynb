{
 "cells": [
  {
   "cell_type": "markdown",
   "metadata": {},
   "source": [
    "# Определение стоимости автомобилей"
   ]
  },
  {
   "cell_type": "markdown",
   "metadata": {},
   "source": [
    "Сервис по продаже автомобилей с пробегом «Не бит, не крашен» разрабатывает приложение для привлечения новых клиентов. В нём можно быстро узнать рыночную стоимость своего автомобиля. В вашем распоряжении исторические данные: технические характеристики, комплектации и цены автомобилей. Вам нужно построить модель для определения стоимости. \n",
    "\n",
    "Заказчику важны:\n",
    "\n",
    "- качество предсказания;\n",
    "- скорость предсказания;\n",
    "- время обучения."
   ]
  },
  {
   "cell_type": "markdown",
   "metadata": {},
   "source": [
    "## Подготовка данных"
   ]
  },
  {
   "cell_type": "markdown",
   "metadata": {},
   "source": [
    "### Загрузка данных"
   ]
  },
  {
   "cell_type": "code",
   "execution_count": 1,
   "metadata": {},
   "outputs": [],
   "source": [
    "import pandas as pd\n",
    "import matplotlib.pyplot as plt\n",
    "import numpy as np\n",
    "from sklearn.model_selection import train_test_split\n",
    "from sklearn.metrics import mean_squared_error\n",
    "from sklearn.linear_model import LinearRegression\n",
    "from sklearn.tree import DecisionTreeRegressor\n",
    "from catboost import CatBoostRegressor\n",
    "from lightgbm import LGBMRegressor\n",
    "from sklearn.model_selection import cross_val_score\n",
    "from sklearn.model_selection import GridSearchCV\n",
    "from sklearn.preprocessing import OrdinalEncoder"
   ]
  },
  {
   "cell_type": "code",
   "execution_count": 2,
   "metadata": {},
   "outputs": [],
   "source": [
    "pd.options.mode.chained_assignment = None"
   ]
  },
  {
   "cell_type": "code",
   "execution_count": 3,
   "metadata": {},
   "outputs": [],
   "source": [
    "data = pd.read_csv('/datasets/autos.csv')"
   ]
  },
  {
   "cell_type": "code",
   "execution_count": 4,
   "metadata": {},
   "outputs": [
    {
     "data": {
      "text/html": [
       "<div>\n",
       "<style scoped>\n",
       "    .dataframe tbody tr th:only-of-type {\n",
       "        vertical-align: middle;\n",
       "    }\n",
       "\n",
       "    .dataframe tbody tr th {\n",
       "        vertical-align: top;\n",
       "    }\n",
       "\n",
       "    .dataframe thead th {\n",
       "        text-align: right;\n",
       "    }\n",
       "</style>\n",
       "<table border=\"1\" class=\"dataframe\">\n",
       "  <thead>\n",
       "    <tr style=\"text-align: right;\">\n",
       "      <th></th>\n",
       "      <th>DateCrawled</th>\n",
       "      <th>Price</th>\n",
       "      <th>VehicleType</th>\n",
       "      <th>RegistrationYear</th>\n",
       "      <th>Gearbox</th>\n",
       "      <th>Power</th>\n",
       "      <th>Model</th>\n",
       "      <th>Kilometer</th>\n",
       "      <th>RegistrationMonth</th>\n",
       "      <th>FuelType</th>\n",
       "      <th>Brand</th>\n",
       "      <th>Repaired</th>\n",
       "      <th>DateCreated</th>\n",
       "      <th>NumberOfPictures</th>\n",
       "      <th>PostalCode</th>\n",
       "      <th>LastSeen</th>\n",
       "    </tr>\n",
       "  </thead>\n",
       "  <tbody>\n",
       "    <tr>\n",
       "      <th>0</th>\n",
       "      <td>2016-03-24 11:52:17</td>\n",
       "      <td>480</td>\n",
       "      <td>NaN</td>\n",
       "      <td>1993</td>\n",
       "      <td>manual</td>\n",
       "      <td>0</td>\n",
       "      <td>golf</td>\n",
       "      <td>150000</td>\n",
       "      <td>0</td>\n",
       "      <td>petrol</td>\n",
       "      <td>volkswagen</td>\n",
       "      <td>NaN</td>\n",
       "      <td>2016-03-24 00:00:00</td>\n",
       "      <td>0</td>\n",
       "      <td>70435</td>\n",
       "      <td>2016-04-07 03:16:57</td>\n",
       "    </tr>\n",
       "    <tr>\n",
       "      <th>1</th>\n",
       "      <td>2016-03-24 10:58:45</td>\n",
       "      <td>18300</td>\n",
       "      <td>coupe</td>\n",
       "      <td>2011</td>\n",
       "      <td>manual</td>\n",
       "      <td>190</td>\n",
       "      <td>NaN</td>\n",
       "      <td>125000</td>\n",
       "      <td>5</td>\n",
       "      <td>gasoline</td>\n",
       "      <td>audi</td>\n",
       "      <td>yes</td>\n",
       "      <td>2016-03-24 00:00:00</td>\n",
       "      <td>0</td>\n",
       "      <td>66954</td>\n",
       "      <td>2016-04-07 01:46:50</td>\n",
       "    </tr>\n",
       "    <tr>\n",
       "      <th>2</th>\n",
       "      <td>2016-03-14 12:52:21</td>\n",
       "      <td>9800</td>\n",
       "      <td>suv</td>\n",
       "      <td>2004</td>\n",
       "      <td>auto</td>\n",
       "      <td>163</td>\n",
       "      <td>grand</td>\n",
       "      <td>125000</td>\n",
       "      <td>8</td>\n",
       "      <td>gasoline</td>\n",
       "      <td>jeep</td>\n",
       "      <td>NaN</td>\n",
       "      <td>2016-03-14 00:00:00</td>\n",
       "      <td>0</td>\n",
       "      <td>90480</td>\n",
       "      <td>2016-04-05 12:47:46</td>\n",
       "    </tr>\n",
       "    <tr>\n",
       "      <th>3</th>\n",
       "      <td>2016-03-17 16:54:04</td>\n",
       "      <td>1500</td>\n",
       "      <td>small</td>\n",
       "      <td>2001</td>\n",
       "      <td>manual</td>\n",
       "      <td>75</td>\n",
       "      <td>golf</td>\n",
       "      <td>150000</td>\n",
       "      <td>6</td>\n",
       "      <td>petrol</td>\n",
       "      <td>volkswagen</td>\n",
       "      <td>no</td>\n",
       "      <td>2016-03-17 00:00:00</td>\n",
       "      <td>0</td>\n",
       "      <td>91074</td>\n",
       "      <td>2016-03-17 17:40:17</td>\n",
       "    </tr>\n",
       "    <tr>\n",
       "      <th>4</th>\n",
       "      <td>2016-03-31 17:25:20</td>\n",
       "      <td>3600</td>\n",
       "      <td>small</td>\n",
       "      <td>2008</td>\n",
       "      <td>manual</td>\n",
       "      <td>69</td>\n",
       "      <td>fabia</td>\n",
       "      <td>90000</td>\n",
       "      <td>7</td>\n",
       "      <td>gasoline</td>\n",
       "      <td>skoda</td>\n",
       "      <td>no</td>\n",
       "      <td>2016-03-31 00:00:00</td>\n",
       "      <td>0</td>\n",
       "      <td>60437</td>\n",
       "      <td>2016-04-06 10:17:21</td>\n",
       "    </tr>\n",
       "    <tr>\n",
       "      <th>5</th>\n",
       "      <td>2016-04-04 17:36:23</td>\n",
       "      <td>650</td>\n",
       "      <td>sedan</td>\n",
       "      <td>1995</td>\n",
       "      <td>manual</td>\n",
       "      <td>102</td>\n",
       "      <td>3er</td>\n",
       "      <td>150000</td>\n",
       "      <td>10</td>\n",
       "      <td>petrol</td>\n",
       "      <td>bmw</td>\n",
       "      <td>yes</td>\n",
       "      <td>2016-04-04 00:00:00</td>\n",
       "      <td>0</td>\n",
       "      <td>33775</td>\n",
       "      <td>2016-04-06 19:17:07</td>\n",
       "    </tr>\n",
       "    <tr>\n",
       "      <th>6</th>\n",
       "      <td>2016-04-01 20:48:51</td>\n",
       "      <td>2200</td>\n",
       "      <td>convertible</td>\n",
       "      <td>2004</td>\n",
       "      <td>manual</td>\n",
       "      <td>109</td>\n",
       "      <td>2_reihe</td>\n",
       "      <td>150000</td>\n",
       "      <td>8</td>\n",
       "      <td>petrol</td>\n",
       "      <td>peugeot</td>\n",
       "      <td>no</td>\n",
       "      <td>2016-04-01 00:00:00</td>\n",
       "      <td>0</td>\n",
       "      <td>67112</td>\n",
       "      <td>2016-04-05 18:18:39</td>\n",
       "    </tr>\n",
       "    <tr>\n",
       "      <th>7</th>\n",
       "      <td>2016-03-21 18:54:38</td>\n",
       "      <td>0</td>\n",
       "      <td>sedan</td>\n",
       "      <td>1980</td>\n",
       "      <td>manual</td>\n",
       "      <td>50</td>\n",
       "      <td>other</td>\n",
       "      <td>40000</td>\n",
       "      <td>7</td>\n",
       "      <td>petrol</td>\n",
       "      <td>volkswagen</td>\n",
       "      <td>no</td>\n",
       "      <td>2016-03-21 00:00:00</td>\n",
       "      <td>0</td>\n",
       "      <td>19348</td>\n",
       "      <td>2016-03-25 16:47:58</td>\n",
       "    </tr>\n",
       "    <tr>\n",
       "      <th>8</th>\n",
       "      <td>2016-04-04 23:42:13</td>\n",
       "      <td>14500</td>\n",
       "      <td>bus</td>\n",
       "      <td>2014</td>\n",
       "      <td>manual</td>\n",
       "      <td>125</td>\n",
       "      <td>c_max</td>\n",
       "      <td>30000</td>\n",
       "      <td>8</td>\n",
       "      <td>petrol</td>\n",
       "      <td>ford</td>\n",
       "      <td>NaN</td>\n",
       "      <td>2016-04-04 00:00:00</td>\n",
       "      <td>0</td>\n",
       "      <td>94505</td>\n",
       "      <td>2016-04-04 23:42:13</td>\n",
       "    </tr>\n",
       "    <tr>\n",
       "      <th>9</th>\n",
       "      <td>2016-03-17 10:53:50</td>\n",
       "      <td>999</td>\n",
       "      <td>small</td>\n",
       "      <td>1998</td>\n",
       "      <td>manual</td>\n",
       "      <td>101</td>\n",
       "      <td>golf</td>\n",
       "      <td>150000</td>\n",
       "      <td>0</td>\n",
       "      <td>NaN</td>\n",
       "      <td>volkswagen</td>\n",
       "      <td>NaN</td>\n",
       "      <td>2016-03-17 00:00:00</td>\n",
       "      <td>0</td>\n",
       "      <td>27472</td>\n",
       "      <td>2016-03-31 17:17:06</td>\n",
       "    </tr>\n",
       "    <tr>\n",
       "      <th>10</th>\n",
       "      <td>2016-03-26 19:54:18</td>\n",
       "      <td>2000</td>\n",
       "      <td>sedan</td>\n",
       "      <td>2004</td>\n",
       "      <td>manual</td>\n",
       "      <td>105</td>\n",
       "      <td>3_reihe</td>\n",
       "      <td>150000</td>\n",
       "      <td>12</td>\n",
       "      <td>petrol</td>\n",
       "      <td>mazda</td>\n",
       "      <td>no</td>\n",
       "      <td>2016-03-26 00:00:00</td>\n",
       "      <td>0</td>\n",
       "      <td>96224</td>\n",
       "      <td>2016-04-06 10:45:34</td>\n",
       "    </tr>\n",
       "    <tr>\n",
       "      <th>11</th>\n",
       "      <td>2016-04-07 10:06:22</td>\n",
       "      <td>2799</td>\n",
       "      <td>wagon</td>\n",
       "      <td>2005</td>\n",
       "      <td>manual</td>\n",
       "      <td>140</td>\n",
       "      <td>passat</td>\n",
       "      <td>150000</td>\n",
       "      <td>12</td>\n",
       "      <td>gasoline</td>\n",
       "      <td>volkswagen</td>\n",
       "      <td>yes</td>\n",
       "      <td>2016-04-07 00:00:00</td>\n",
       "      <td>0</td>\n",
       "      <td>57290</td>\n",
       "      <td>2016-04-07 10:25:17</td>\n",
       "    </tr>\n",
       "    <tr>\n",
       "      <th>12</th>\n",
       "      <td>2016-03-15 22:49:09</td>\n",
       "      <td>999</td>\n",
       "      <td>wagon</td>\n",
       "      <td>1995</td>\n",
       "      <td>manual</td>\n",
       "      <td>115</td>\n",
       "      <td>passat</td>\n",
       "      <td>150000</td>\n",
       "      <td>11</td>\n",
       "      <td>petrol</td>\n",
       "      <td>volkswagen</td>\n",
       "      <td>NaN</td>\n",
       "      <td>2016-03-15 00:00:00</td>\n",
       "      <td>0</td>\n",
       "      <td>37269</td>\n",
       "      <td>2016-04-01 13:16:16</td>\n",
       "    </tr>\n",
       "    <tr>\n",
       "      <th>13</th>\n",
       "      <td>2016-03-21 21:37:40</td>\n",
       "      <td>2500</td>\n",
       "      <td>wagon</td>\n",
       "      <td>2004</td>\n",
       "      <td>manual</td>\n",
       "      <td>131</td>\n",
       "      <td>passat</td>\n",
       "      <td>150000</td>\n",
       "      <td>2</td>\n",
       "      <td>NaN</td>\n",
       "      <td>volkswagen</td>\n",
       "      <td>no</td>\n",
       "      <td>2016-03-21 00:00:00</td>\n",
       "      <td>0</td>\n",
       "      <td>90762</td>\n",
       "      <td>2016-03-23 02:50:54</td>\n",
       "    </tr>\n",
       "    <tr>\n",
       "      <th>14</th>\n",
       "      <td>2016-03-21 12:57:01</td>\n",
       "      <td>17999</td>\n",
       "      <td>suv</td>\n",
       "      <td>2011</td>\n",
       "      <td>manual</td>\n",
       "      <td>190</td>\n",
       "      <td>navara</td>\n",
       "      <td>70000</td>\n",
       "      <td>3</td>\n",
       "      <td>gasoline</td>\n",
       "      <td>nissan</td>\n",
       "      <td>no</td>\n",
       "      <td>2016-03-21 00:00:00</td>\n",
       "      <td>0</td>\n",
       "      <td>4177</td>\n",
       "      <td>2016-04-06 07:45:42</td>\n",
       "    </tr>\n",
       "    <tr>\n",
       "      <th>15</th>\n",
       "      <td>2016-03-11 21:39:15</td>\n",
       "      <td>450</td>\n",
       "      <td>small</td>\n",
       "      <td>1910</td>\n",
       "      <td>NaN</td>\n",
       "      <td>0</td>\n",
       "      <td>ka</td>\n",
       "      <td>5000</td>\n",
       "      <td>0</td>\n",
       "      <td>petrol</td>\n",
       "      <td>ford</td>\n",
       "      <td>NaN</td>\n",
       "      <td>2016-03-11 00:00:00</td>\n",
       "      <td>0</td>\n",
       "      <td>24148</td>\n",
       "      <td>2016-03-19 08:46:47</td>\n",
       "    </tr>\n",
       "    <tr>\n",
       "      <th>16</th>\n",
       "      <td>2016-04-01 12:46:46</td>\n",
       "      <td>300</td>\n",
       "      <td>NaN</td>\n",
       "      <td>2016</td>\n",
       "      <td>NaN</td>\n",
       "      <td>60</td>\n",
       "      <td>polo</td>\n",
       "      <td>150000</td>\n",
       "      <td>0</td>\n",
       "      <td>petrol</td>\n",
       "      <td>volkswagen</td>\n",
       "      <td>NaN</td>\n",
       "      <td>2016-04-01 00:00:00</td>\n",
       "      <td>0</td>\n",
       "      <td>38871</td>\n",
       "      <td>2016-04-01 12:46:46</td>\n",
       "    </tr>\n",
       "    <tr>\n",
       "      <th>17</th>\n",
       "      <td>2016-03-20 10:25:19</td>\n",
       "      <td>1750</td>\n",
       "      <td>small</td>\n",
       "      <td>2004</td>\n",
       "      <td>auto</td>\n",
       "      <td>75</td>\n",
       "      <td>twingo</td>\n",
       "      <td>150000</td>\n",
       "      <td>2</td>\n",
       "      <td>petrol</td>\n",
       "      <td>renault</td>\n",
       "      <td>no</td>\n",
       "      <td>2016-03-20 00:00:00</td>\n",
       "      <td>0</td>\n",
       "      <td>65599</td>\n",
       "      <td>2016-04-06 13:16:07</td>\n",
       "    </tr>\n",
       "    <tr>\n",
       "      <th>18</th>\n",
       "      <td>2016-03-23 15:48:05</td>\n",
       "      <td>7550</td>\n",
       "      <td>bus</td>\n",
       "      <td>2007</td>\n",
       "      <td>manual</td>\n",
       "      <td>136</td>\n",
       "      <td>c_max</td>\n",
       "      <td>150000</td>\n",
       "      <td>6</td>\n",
       "      <td>gasoline</td>\n",
       "      <td>ford</td>\n",
       "      <td>no</td>\n",
       "      <td>2016-03-23 00:00:00</td>\n",
       "      <td>0</td>\n",
       "      <td>88361</td>\n",
       "      <td>2016-04-05 18:45:11</td>\n",
       "    </tr>\n",
       "    <tr>\n",
       "      <th>19</th>\n",
       "      <td>2016-04-01 22:55:47</td>\n",
       "      <td>1850</td>\n",
       "      <td>bus</td>\n",
       "      <td>2004</td>\n",
       "      <td>manual</td>\n",
       "      <td>102</td>\n",
       "      <td>a_klasse</td>\n",
       "      <td>150000</td>\n",
       "      <td>1</td>\n",
       "      <td>petrol</td>\n",
       "      <td>mercedes_benz</td>\n",
       "      <td>no</td>\n",
       "      <td>2016-04-01 00:00:00</td>\n",
       "      <td>0</td>\n",
       "      <td>49565</td>\n",
       "      <td>2016-04-05 22:46:05</td>\n",
       "    </tr>\n",
       "  </tbody>\n",
       "</table>\n",
       "</div>"
      ],
      "text/plain": [
       "            DateCrawled  Price  VehicleType  RegistrationYear Gearbox  Power  \\\n",
       "0   2016-03-24 11:52:17    480          NaN              1993  manual      0   \n",
       "1   2016-03-24 10:58:45  18300        coupe              2011  manual    190   \n",
       "2   2016-03-14 12:52:21   9800          suv              2004    auto    163   \n",
       "3   2016-03-17 16:54:04   1500        small              2001  manual     75   \n",
       "4   2016-03-31 17:25:20   3600        small              2008  manual     69   \n",
       "5   2016-04-04 17:36:23    650        sedan              1995  manual    102   \n",
       "6   2016-04-01 20:48:51   2200  convertible              2004  manual    109   \n",
       "7   2016-03-21 18:54:38      0        sedan              1980  manual     50   \n",
       "8   2016-04-04 23:42:13  14500          bus              2014  manual    125   \n",
       "9   2016-03-17 10:53:50    999        small              1998  manual    101   \n",
       "10  2016-03-26 19:54:18   2000        sedan              2004  manual    105   \n",
       "11  2016-04-07 10:06:22   2799        wagon              2005  manual    140   \n",
       "12  2016-03-15 22:49:09    999        wagon              1995  manual    115   \n",
       "13  2016-03-21 21:37:40   2500        wagon              2004  manual    131   \n",
       "14  2016-03-21 12:57:01  17999          suv              2011  manual    190   \n",
       "15  2016-03-11 21:39:15    450        small              1910     NaN      0   \n",
       "16  2016-04-01 12:46:46    300          NaN              2016     NaN     60   \n",
       "17  2016-03-20 10:25:19   1750        small              2004    auto     75   \n",
       "18  2016-03-23 15:48:05   7550          bus              2007  manual    136   \n",
       "19  2016-04-01 22:55:47   1850          bus              2004  manual    102   \n",
       "\n",
       "       Model  Kilometer  RegistrationMonth  FuelType          Brand Repaired  \\\n",
       "0       golf     150000                  0    petrol     volkswagen      NaN   \n",
       "1        NaN     125000                  5  gasoline           audi      yes   \n",
       "2      grand     125000                  8  gasoline           jeep      NaN   \n",
       "3       golf     150000                  6    petrol     volkswagen       no   \n",
       "4      fabia      90000                  7  gasoline          skoda       no   \n",
       "5        3er     150000                 10    petrol            bmw      yes   \n",
       "6    2_reihe     150000                  8    petrol        peugeot       no   \n",
       "7      other      40000                  7    petrol     volkswagen       no   \n",
       "8      c_max      30000                  8    petrol           ford      NaN   \n",
       "9       golf     150000                  0       NaN     volkswagen      NaN   \n",
       "10   3_reihe     150000                 12    petrol          mazda       no   \n",
       "11    passat     150000                 12  gasoline     volkswagen      yes   \n",
       "12    passat     150000                 11    petrol     volkswagen      NaN   \n",
       "13    passat     150000                  2       NaN     volkswagen       no   \n",
       "14    navara      70000                  3  gasoline         nissan       no   \n",
       "15        ka       5000                  0    petrol           ford      NaN   \n",
       "16      polo     150000                  0    petrol     volkswagen      NaN   \n",
       "17    twingo     150000                  2    petrol        renault       no   \n",
       "18     c_max     150000                  6  gasoline           ford       no   \n",
       "19  a_klasse     150000                  1    petrol  mercedes_benz       no   \n",
       "\n",
       "            DateCreated  NumberOfPictures  PostalCode             LastSeen  \n",
       "0   2016-03-24 00:00:00                 0       70435  2016-04-07 03:16:57  \n",
       "1   2016-03-24 00:00:00                 0       66954  2016-04-07 01:46:50  \n",
       "2   2016-03-14 00:00:00                 0       90480  2016-04-05 12:47:46  \n",
       "3   2016-03-17 00:00:00                 0       91074  2016-03-17 17:40:17  \n",
       "4   2016-03-31 00:00:00                 0       60437  2016-04-06 10:17:21  \n",
       "5   2016-04-04 00:00:00                 0       33775  2016-04-06 19:17:07  \n",
       "6   2016-04-01 00:00:00                 0       67112  2016-04-05 18:18:39  \n",
       "7   2016-03-21 00:00:00                 0       19348  2016-03-25 16:47:58  \n",
       "8   2016-04-04 00:00:00                 0       94505  2016-04-04 23:42:13  \n",
       "9   2016-03-17 00:00:00                 0       27472  2016-03-31 17:17:06  \n",
       "10  2016-03-26 00:00:00                 0       96224  2016-04-06 10:45:34  \n",
       "11  2016-04-07 00:00:00                 0       57290  2016-04-07 10:25:17  \n",
       "12  2016-03-15 00:00:00                 0       37269  2016-04-01 13:16:16  \n",
       "13  2016-03-21 00:00:00                 0       90762  2016-03-23 02:50:54  \n",
       "14  2016-03-21 00:00:00                 0        4177  2016-04-06 07:45:42  \n",
       "15  2016-03-11 00:00:00                 0       24148  2016-03-19 08:46:47  \n",
       "16  2016-04-01 00:00:00                 0       38871  2016-04-01 12:46:46  \n",
       "17  2016-03-20 00:00:00                 0       65599  2016-04-06 13:16:07  \n",
       "18  2016-03-23 00:00:00                 0       88361  2016-04-05 18:45:11  \n",
       "19  2016-04-01 00:00:00                 0       49565  2016-04-05 22:46:05  "
      ]
     },
     "execution_count": 4,
     "metadata": {},
     "output_type": "execute_result"
    }
   ],
   "source": [
    "data.head(20)"
   ]
  },
  {
   "cell_type": "code",
   "execution_count": 5,
   "metadata": {},
   "outputs": [
    {
     "name": "stdout",
     "output_type": "stream",
     "text": [
      "<class 'pandas.core.frame.DataFrame'>\n",
      "RangeIndex: 354369 entries, 0 to 354368\n",
      "Data columns (total 16 columns):\n",
      " #   Column             Non-Null Count   Dtype \n",
      "---  ------             --------------   ----- \n",
      " 0   DateCrawled        354369 non-null  object\n",
      " 1   Price              354369 non-null  int64 \n",
      " 2   VehicleType        316879 non-null  object\n",
      " 3   RegistrationYear   354369 non-null  int64 \n",
      " 4   Gearbox            334536 non-null  object\n",
      " 5   Power              354369 non-null  int64 \n",
      " 6   Model              334664 non-null  object\n",
      " 7   Kilometer          354369 non-null  int64 \n",
      " 8   RegistrationMonth  354369 non-null  int64 \n",
      " 9   FuelType           321474 non-null  object\n",
      " 10  Brand              354369 non-null  object\n",
      " 11  Repaired           283215 non-null  object\n",
      " 12  DateCreated        354369 non-null  object\n",
      " 13  NumberOfPictures   354369 non-null  int64 \n",
      " 14  PostalCode         354369 non-null  int64 \n",
      " 15  LastSeen           354369 non-null  object\n",
      "dtypes: int64(7), object(9)\n",
      "memory usage: 43.3+ MB\n"
     ]
    }
   ],
   "source": [
    "data.info()"
   ]
  },
  {
   "cell_type": "markdown",
   "metadata": {},
   "source": [
    "### Предобработка данных"
   ]
  },
  {
   "cell_type": "code",
   "execution_count": 6,
   "metadata": {},
   "outputs": [
    {
     "data": {
      "text/plain": [
       "4"
      ]
     },
     "execution_count": 6,
     "metadata": {},
     "output_type": "execute_result"
    }
   ],
   "source": [
    "data.duplicated().sum()"
   ]
  },
  {
   "cell_type": "code",
   "execution_count": 7,
   "metadata": {},
   "outputs": [],
   "source": [
    "data = data.drop_duplicates()"
   ]
  },
  {
   "cell_type": "code",
   "execution_count": 8,
   "metadata": {},
   "outputs": [
    {
     "data": {
      "text/plain": [
       "0"
      ]
     },
     "execution_count": 8,
     "metadata": {},
     "output_type": "execute_result"
    }
   ],
   "source": [
    "data.duplicated().sum()"
   ]
  },
  {
   "cell_type": "markdown",
   "metadata": {},
   "source": [
    "Отфильтруем таблицу так, чтобы в ней остались только значимые признаки.\n",
    "Значимыми для ценообразования кажутся следующие: \n",
    "- тип кузова\n",
    "- год регистрации\n",
    "- тип коробки передач\n",
    "- мощность\n",
    "- модель\n",
    "- пробег\n",
    "- тип топлива\n",
    "- марка\n",
    "- была ли машина в ремонте"
   ]
  },
  {
   "cell_type": "code",
   "execution_count": 9,
   "metadata": {},
   "outputs": [
    {
     "name": "stdout",
     "output_type": "stream",
     "text": [
      "<class 'pandas.core.frame.DataFrame'>\n",
      "Int64Index: 354365 entries, 0 to 354368\n",
      "Data columns (total 10 columns):\n",
      " #   Column            Non-Null Count   Dtype \n",
      "---  ------            --------------   ----- \n",
      " 0   VehicleType       316875 non-null  object\n",
      " 1   RegistrationYear  354365 non-null  int64 \n",
      " 2   Gearbox           334532 non-null  object\n",
      " 3   Power             354365 non-null  int64 \n",
      " 4   Model             334660 non-null  object\n",
      " 5   Kilometer         354365 non-null  int64 \n",
      " 6   FuelType          321470 non-null  object\n",
      " 7   Brand             354365 non-null  object\n",
      " 8   Repaired          283211 non-null  object\n",
      " 9   Price             354365 non-null  int64 \n",
      "dtypes: int64(4), object(6)\n",
      "memory usage: 29.7+ MB\n"
     ]
    }
   ],
   "source": [
    "data_f = data[['VehicleType', \n",
    "            'RegistrationYear', \n",
    "            'Gearbox',\n",
    "            'Power',\n",
    "            'Model',\n",
    "            'Kilometer',\n",
    "            'FuelType',\n",
    "            'Brand',\n",
    "            'Repaired',\n",
    "            'Price']]\n",
    "data_f.info()"
   ]
  },
  {
   "cell_type": "code",
   "execution_count": 10,
   "metadata": {},
   "outputs": [
    {
     "data": {
      "text/plain": [
       "VehicleType         37490\n",
       "RegistrationYear        0\n",
       "Gearbox             19833\n",
       "Power                   0\n",
       "Model               19705\n",
       "Kilometer               0\n",
       "FuelType            32895\n",
       "Brand                   0\n",
       "Repaired            71154\n",
       "Price                   0\n",
       "dtype: int64"
      ]
     },
     "execution_count": 10,
     "metadata": {},
     "output_type": "execute_result"
    }
   ],
   "source": [
    "data_f.isna().sum()"
   ]
  },
  {
   "cell_type": "markdown",
   "metadata": {},
   "source": [
    "Сначала посмотрим на значения в столбце Price."
   ]
  },
  {
   "cell_type": "code",
   "execution_count": 11,
   "metadata": {},
   "outputs": [
    {
     "data": {
      "text/plain": [
       "0        10772\n",
       "500       5670\n",
       "1500      5394\n",
       "1000      4648\n",
       "1200      4594\n",
       "         ...  \n",
       "13180        1\n",
       "10879        1\n",
       "2683         1\n",
       "634          1\n",
       "8188         1\n",
       "Name: Price, Length: 3731, dtype: int64"
      ]
     },
     "execution_count": 11,
     "metadata": {},
     "output_type": "execute_result"
    }
   ],
   "source": [
    "data_f['Price'].value_counts()"
   ]
  },
  {
   "cell_type": "markdown",
   "metadata": {},
   "source": [
    "Удалим те строки, в которых цена равна 0 - это явно неправда."
   ]
  },
  {
   "cell_type": "code",
   "execution_count": 12,
   "metadata": {},
   "outputs": [],
   "source": [
    "data_f = data_f.query('Price > 0')"
   ]
  },
  {
   "cell_type": "markdown",
   "metadata": {},
   "source": [
    "Посмотрим на распределение данных по цене в оставшейся таблице."
   ]
  },
  {
   "cell_type": "code",
   "execution_count": 13,
   "metadata": {},
   "outputs": [
    {
     "data": {
      "text/plain": [
       "count    343593.000000\n",
       "mean       4555.147363\n",
       "std        4515.076200\n",
       "min           1.000000\n",
       "25%        1200.000000\n",
       "50%        2890.000000\n",
       "75%        6500.000000\n",
       "max       20000.000000\n",
       "Name: Price, dtype: float64"
      ]
     },
     "execution_count": 13,
     "metadata": {},
     "output_type": "execute_result"
    },
    {
     "data": {
      "image/png": "[encoded data removed]",
      "text/plain": [
       "<Figure size 864x648 with 1 Axes>"
      ]
     },
     "metadata": {
      "needs_background": "light"
     },
     "output_type": "display_data"
    }
   ],
   "source": [
    "data_f['Price'].hist(bins=100, figsize=(12,9))\n",
    "data_f['Price'].describe()"
   ]
  },
  {
   "cell_type": "markdown",
   "metadata": {},
   "source": [
    "Посмотрим на самое позднее время скачивания анкеты в оригинальной таблице - все не соответствующие этим ограничениям строки можно будет удалить."
   ]
  },
  {
   "cell_type": "code",
   "execution_count": 14,
   "metadata": {},
   "outputs": [
    {
     "data": {
      "text/plain": [
       "Timestamp('2016-04-07 14:36:58')"
      ]
     },
     "execution_count": 14,
     "metadata": {},
     "output_type": "execute_result"
    }
   ],
   "source": [
    "date = pd.to_datetime(data['DateCrawled'])\n",
    "date.max()"
   ]
  },
  {
   "cell_type": "code",
   "execution_count": 15,
   "metadata": {},
   "outputs": [],
   "source": [
    "data_f = data_f.query('RegistrationYear <= 2016')"
   ]
  },
  {
   "cell_type": "code",
   "execution_count": 16,
   "metadata": {},
   "outputs": [
    {
     "data": {
      "text/plain": [
       "count    329814.000000\n",
       "mean       2002.461727\n",
       "std          12.963860\n",
       "min        1000.000000\n",
       "25%        1999.000000\n",
       "50%        2003.000000\n",
       "75%        2007.000000\n",
       "max        2016.000000\n",
       "Name: RegistrationYear, dtype: float64"
      ]
     },
     "execution_count": 16,
     "metadata": {},
     "output_type": "execute_result"
    },
    {
     "data": {
      "image/png": "[encoded data removed]",
      "text/plain": [
       "<Figure size 864x648 with 1 Axes>"
      ]
     },
     "metadata": {
      "needs_background": "light"
     },
     "output_type": "display_data"
    }
   ],
   "source": [
    "data_f['RegistrationYear'].hist(bins=100, figsize=(12,9))\n",
    "data_f['RegistrationYear'].describe()"
   ]
  },
  {
   "cell_type": "markdown",
   "metadata": {},
   "source": [
    "Уберем еще выбросы, где год меньше 1900."
   ]
  },
  {
   "cell_type": "code",
   "execution_count": 17,
   "metadata": {},
   "outputs": [
    {
     "data": {
      "text/plain": [
       "count    329761.000000\n",
       "mean       2002.593600\n",
       "std           6.927904\n",
       "min        1910.000000\n",
       "25%        1999.000000\n",
       "50%        2003.000000\n",
       "75%        2007.000000\n",
       "max        2016.000000\n",
       "Name: RegistrationYear, dtype: float64"
      ]
     },
     "execution_count": 17,
     "metadata": {},
     "output_type": "execute_result"
    },
    {
     "data": {
      "image/png": "[encoded data removed]",
      "text/plain": [
       "<Figure size 864x648 with 1 Axes>"
      ]
     },
     "metadata": {
      "needs_background": "light"
     },
     "output_type": "display_data"
    }
   ],
   "source": [
    "data_f = data_f.query('RegistrationYear >= 1900')\n",
    "data_f['RegistrationYear'].hist(bins=100, figsize=(12,9))\n",
    "data_f['RegistrationYear'].describe()"
   ]
  },
  {
   "cell_type": "markdown",
   "metadata": {},
   "source": [
    "По гистограмме понятно, что на самом деле можно взять левой границей 1960 год."
   ]
  },
  {
   "cell_type": "code",
   "execution_count": 18,
   "metadata": {},
   "outputs": [
    {
     "data": {
      "text/plain": [
       "count    329474.000000\n",
       "mean       2002.646443\n",
       "std           6.674568\n",
       "min        1960.000000\n",
       "25%        1999.000000\n",
       "50%        2003.000000\n",
       "75%        2007.000000\n",
       "max        2016.000000\n",
       "Name: RegistrationYear, dtype: float64"
      ]
     },
     "execution_count": 18,
     "metadata": {},
     "output_type": "execute_result"
    },
    {
     "data": {
      "image/png": "[encoded data removed]",
      "text/plain": [
       "<Figure size 864x648 with 1 Axes>"
      ]
     },
     "metadata": {
      "needs_background": "light"
     },
     "output_type": "display_data"
    }
   ],
   "source": [
    "data_f = data_f.query('RegistrationYear >= 1960')\n",
    "data_f['RegistrationYear'].hist(bins=30, figsize=(12,9))\n",
    "data_f['RegistrationYear'].describe()"
   ]
  },
  {
   "cell_type": "markdown",
   "metadata": {},
   "source": [
    "Посмотрим, в каких еще столбцах остались пропуски."
   ]
  },
  {
   "cell_type": "code",
   "execution_count": 19,
   "metadata": {},
   "outputs": [
    {
     "data": {
      "text/plain": [
       "VehicleType         19897\n",
       "RegistrationYear        0\n",
       "Gearbox             15517\n",
       "Power                   0\n",
       "Model               15519\n",
       "Kilometer               0\n",
       "FuelType            24105\n",
       "Brand                   0\n",
       "Repaired            59759\n",
       "Price                   0\n",
       "dtype: int64"
      ]
     },
     "execution_count": 19,
     "metadata": {},
     "output_type": "execute_result"
    }
   ],
   "source": [
    "data_f.isna().sum()"
   ]
  },
  {
   "cell_type": "markdown",
   "metadata": {},
   "source": [
    "Тип кузова и тип топлива непонятно, как восстановить - просто удалим строки, где эти значения пропущены."
   ]
  },
  {
   "cell_type": "code",
   "execution_count": 20,
   "metadata": {},
   "outputs": [],
   "source": [
    "data_f = data_f.dropna(subset=['VehicleType', 'FuelType'])"
   ]
  },
  {
   "cell_type": "code",
   "execution_count": 21,
   "metadata": {},
   "outputs": [
    {
     "data": {
      "text/plain": [
       "VehicleType             0\n",
       "RegistrationYear        0\n",
       "Gearbox              7349\n",
       "Power                   0\n",
       "Model                9304\n",
       "Kilometer               0\n",
       "FuelType                0\n",
       "Brand                   0\n",
       "Repaired            42218\n",
       "Price                   0\n",
       "dtype: int64"
      ]
     },
     "execution_count": 21,
     "metadata": {},
     "output_type": "execute_result"
    }
   ],
   "source": [
    "data_f.isna().sum()"
   ]
  },
  {
   "cell_type": "code",
   "execution_count": 22,
   "metadata": {},
   "outputs": [
    {
     "name": "stdout",
     "output_type": "stream",
     "text": [
      "<class 'pandas.core.frame.DataFrame'>\n",
      "Int64Index: 295111 entries, 1 to 354368\n",
      "Data columns (total 10 columns):\n",
      " #   Column            Non-Null Count   Dtype \n",
      "---  ------            --------------   ----- \n",
      " 0   VehicleType       295111 non-null  object\n",
      " 1   RegistrationYear  295111 non-null  int64 \n",
      " 2   Gearbox           287762 non-null  object\n",
      " 3   Power             295111 non-null  int64 \n",
      " 4   Model             285807 non-null  object\n",
      " 5   Kilometer         295111 non-null  int64 \n",
      " 6   FuelType          295111 non-null  object\n",
      " 7   Brand             295111 non-null  object\n",
      " 8   Repaired          252893 non-null  object\n",
      " 9   Price             295111 non-null  int64 \n",
      "dtypes: int64(4), object(6)\n",
      "memory usage: 24.8+ MB\n"
     ]
    }
   ],
   "source": [
    "data_f.info()"
   ]
  },
  {
   "cell_type": "markdown",
   "metadata": {},
   "source": [
    "Если тип коробки передач не указан, скорее всего, она механическая; если не указано, чинили ли машину - скорее всего, нет; модель восстановить невозможно, но если бренд уже известен, то это может быть не настолько критичной информацией, поэтому пропуски в столбце моделей мы просто заменим на unknown."
   ]
  },
  {
   "cell_type": "code",
   "execution_count": 23,
   "metadata": {},
   "outputs": [],
   "source": [
    "data_f.fillna({'Gearbox':'manual', \n",
    "                           'Repaired':'no',\n",
    "                           'Model':'unknown'},\n",
    "                          inplace=True)"
   ]
  },
  {
   "cell_type": "code",
   "execution_count": 24,
   "metadata": {},
   "outputs": [
    {
     "data": {
      "text/plain": [
       "VehicleType         0\n",
       "RegistrationYear    0\n",
       "Gearbox             0\n",
       "Power               0\n",
       "Model               0\n",
       "Kilometer           0\n",
       "FuelType            0\n",
       "Brand               0\n",
       "Repaired            0\n",
       "Price               0\n",
       "dtype: int64"
      ]
     },
     "execution_count": 24,
     "metadata": {},
     "output_type": "execute_result"
    }
   ],
   "source": [
    "data_f.isna().sum()"
   ]
  },
  {
   "cell_type": "code",
   "execution_count": 25,
   "metadata": {},
   "outputs": [
    {
     "name": "stdout",
     "output_type": "stream",
     "text": [
      "<class 'pandas.core.frame.DataFrame'>\n",
      "Int64Index: 295111 entries, 1 to 354368\n",
      "Data columns (total 10 columns):\n",
      " #   Column            Non-Null Count   Dtype \n",
      "---  ------            --------------   ----- \n",
      " 0   VehicleType       295111 non-null  object\n",
      " 1   RegistrationYear  295111 non-null  int64 \n",
      " 2   Gearbox           295111 non-null  object\n",
      " 3   Power             295111 non-null  int64 \n",
      " 4   Model             295111 non-null  object\n",
      " 5   Kilometer         295111 non-null  int64 \n",
      " 6   FuelType          295111 non-null  object\n",
      " 7   Brand             295111 non-null  object\n",
      " 8   Repaired          295111 non-null  object\n",
      " 9   Price             295111 non-null  int64 \n",
      "dtypes: int64(4), object(6)\n",
      "memory usage: 24.8+ MB\n"
     ]
    }
   ],
   "source": [
    "data_f.info()"
   ]
  },
  {
   "cell_type": "markdown",
   "metadata": {},
   "source": [
    "Посмотрим теперь на значения в столбце Power."
   ]
  },
  {
   "cell_type": "code",
   "execution_count": 26,
   "metadata": {},
   "outputs": [
    {
     "data": {
      "text/plain": [
       "<AxesSubplot:>"
      ]
     },
     "execution_count": 26,
     "metadata": {},
     "output_type": "execute_result"
    },
    {
     "data": {
      "image/png": "[encoded data removed]",
      "text/plain": [
       "<Figure size 864x648 with 1 Axes>"
      ]
     },
     "metadata": {
      "needs_background": "light"
     },
     "output_type": "display_data"
    }
   ],
   "source": [
    "data_f['Power'].hist(bins=100, figsize=(12, 9))"
   ]
  },
  {
   "cell_type": "markdown",
   "metadata": {},
   "source": [
    "Начнем с того, что отсечем все очевидно аномальные значения - например, больше 750 л.с., а также равные 0."
   ]
  },
  {
   "cell_type": "code",
   "execution_count": 27,
   "metadata": {},
   "outputs": [
    {
     "data": {
      "text/plain": [
       "count    274497.000000\n",
       "mean        121.681814\n",
       "std          54.227181\n",
       "min           1.000000\n",
       "25%          80.000000\n",
       "50%         115.000000\n",
       "75%         150.000000\n",
       "max         732.000000\n",
       "Name: Power, dtype: float64"
      ]
     },
     "execution_count": 27,
     "metadata": {},
     "output_type": "execute_result"
    },
    {
     "data": {
      "image/png": "[encoded data removed]",
      "text/plain": [
       "<Figure size 864x648 with 1 Axes>"
      ]
     },
     "metadata": {
      "needs_background": "light"
     },
     "output_type": "display_data"
    }
   ],
   "source": [
    "data_f = data_f.query('0 < Power <= 750')\n",
    "data_f['Power'].hist(bins=100, figsize=(12, 9))\n",
    "data_f['Power'].describe()"
   ]
  },
  {
   "cell_type": "markdown",
   "metadata": {},
   "source": [
    "По гистограмме видно, что значения меньше 50 и больше 350 тоже можно отбросить, это скорее всего выбросы."
   ]
  },
  {
   "cell_type": "code",
   "execution_count": 28,
   "metadata": {},
   "outputs": [
    {
     "data": {
      "text/plain": [
       "count    269114.000000\n",
       "mean        122.266333\n",
       "std          51.205911\n",
       "min          50.000000\n",
       "25%          82.000000\n",
       "50%         115.000000\n",
       "75%         150.000000\n",
       "max         350.000000\n",
       "Name: Power, dtype: float64"
      ]
     },
     "execution_count": 28,
     "metadata": {},
     "output_type": "execute_result"
    },
    {
     "data": {
      "image/png": "[encoded data removed]",
      "text/plain": [
       "<Figure size 864x648 with 1 Axes>"
      ]
     },
     "metadata": {
      "needs_background": "light"
     },
     "output_type": "display_data"
    }
   ],
   "source": [
    "data_f = data_f.query('50 <= Power <= 350')\n",
    "data_f['Power'].hist(bins=100, figsize=(12, 9))\n",
    "data_f['Power'].describe()"
   ]
  },
  {
   "cell_type": "code",
   "execution_count": 29,
   "metadata": {},
   "outputs": [
    {
     "name": "stdout",
     "output_type": "stream",
     "text": [
      "<class 'pandas.core.frame.DataFrame'>\n",
      "Int64Index: 269114 entries, 1 to 354368\n",
      "Data columns (total 10 columns):\n",
      " #   Column            Non-Null Count   Dtype \n",
      "---  ------            --------------   ----- \n",
      " 0   VehicleType       269114 non-null  object\n",
      " 1   RegistrationYear  269114 non-null  int64 \n",
      " 2   Gearbox           269114 non-null  object\n",
      " 3   Power             269114 non-null  int64 \n",
      " 4   Model             269114 non-null  object\n",
      " 5   Kilometer         269114 non-null  int64 \n",
      " 6   FuelType          269114 non-null  object\n",
      " 7   Brand             269114 non-null  object\n",
      " 8   Repaired          269114 non-null  object\n",
      " 9   Price             269114 non-null  int64 \n",
      "dtypes: int64(4), object(6)\n",
      "memory usage: 22.6+ MB\n"
     ]
    }
   ],
   "source": [
    "data_f.info()"
   ]
  },
  {
   "cell_type": "markdown",
   "metadata": {},
   "source": [
    "Наконец, последнее, что мы сделаем в рамках предобработки данных - поменяем столбцы Repaired и Gearbox на булев тип, поскольку оба этих столбца содержат два возможных значения, и это поможет нам немного выиграть в памяти."
   ]
  },
  {
   "cell_type": "code",
   "execution_count": 30,
   "metadata": {},
   "outputs": [
    {
     "name": "stdout",
     "output_type": "stream",
     "text": [
      "<class 'pandas.core.frame.DataFrame'>\n",
      "Int64Index: 269114 entries, 1 to 354368\n",
      "Data columns (total 10 columns):\n",
      " #   Column            Non-Null Count   Dtype \n",
      "---  ------            --------------   ----- \n",
      " 0   VehicleType       269114 non-null  object\n",
      " 1   RegistrationYear  269114 non-null  int64 \n",
      " 2   Power             269114 non-null  int64 \n",
      " 3   Model             269114 non-null  object\n",
      " 4   Kilometer         269114 non-null  int64 \n",
      " 5   FuelType          269114 non-null  object\n",
      " 6   Brand             269114 non-null  object\n",
      " 7   Price             269114 non-null  int64 \n",
      " 8   IsManual          269114 non-null  bool  \n",
      " 9   IsRepaired        269114 non-null  bool  \n",
      "dtypes: bool(2), int64(4), object(4)\n",
      "memory usage: 19.0+ MB\n"
     ]
    }
   ],
   "source": [
    "data_f['IsManual'] = 0\n",
    "data_f.loc[data_f['Gearbox'] == 'manual', 'IsManual'] = 1\n",
    "data_f['IsRepaired'] = 0\n",
    "data_f.loc[data_f['Repaired'] == 'yes', 'IsRepaired'] = 1\n",
    "data_f['IsManual'] = data_f['IsManual'].astype('bool')\n",
    "data_f['IsRepaired'] = data_f['IsRepaired'].astype('bool')\n",
    "data_f.drop(['Repaired','Gearbox'], inplace=True, axis=1)\n",
    "data_f.info()"
   ]
  },
  {
   "cell_type": "markdown",
   "metadata": {},
   "source": [
    "Предобработка данных на этом завершена. Мы удалили строки, данные в которых не подлежали восстановлению, заполнили пропуски там, где это было возможно, избавились от аномальных значений, поменяли тип данных в двух столбцах и при этом получили довольно серьезный выигрыш в памяти - от 43.3 мб в начале до 19 мб в конце."
   ]
  },
  {
   "cell_type": "markdown",
   "metadata": {},
   "source": [
    "## Обучение моделей"
   ]
  },
  {
   "cell_type": "markdown",
   "metadata": {},
   "source": [
    "Рассмотрим для этой задачи следующие модели:\n",
    "- линейная регрессия\n",
    "- CatBoostRegressor\n",
    "- LGBMRegressor"
   ]
  },
  {
   "cell_type": "code",
   "execution_count": 31,
   "metadata": {},
   "outputs": [],
   "source": [
    "features = data_f.drop(['Price'], axis=1)\n",
    "target = data_f['Price']\n",
    "ohe_features_train = pd.get_dummies(features_train, drop_first=True)\n",
    "ohe_features_test = pd.get_dummies(features_test, drop_first=True)"
   ]
  },
  {
   "cell_type": "markdown",
   "metadata": {},
   "source": [
    "### Линейная регрессия"
   ]
  },
  {
   "cell_type": "code",
   "execution_count": 34,
   "metadata": {},
   "outputs": [
    {
     "name": "stdout",
     "output_type": "stream",
     "text": [
      "CPU times: user 7min 40s, sys: 7min 27s, total: 15min 7s\n",
      "Wall time: 15min 9s\n"
     ]
    },
    {
     "data": {
      "text/plain": [
       "{'copy_X': True, 'fit_intercept': True}"
      ]
     },
     "execution_count": 34,
     "metadata": {},
     "output_type": "execute_result"
    }
   ],
   "source": [
    "%%time\n",
    "\n",
    "model_reg = LinearRegression(n_jobs=-1)\n",
    "parameters_linreg = {'copy_X': [True, False],\n",
    "              'fit_intercept': [True, False],\n",
    "             }\n",
    "grid = GridSearchCV(model_reg, param_grid=parameters_linreg, cv=5, scoring='neg_mean_squared_error')\n",
    "grid.fit(ohe_features_train, target_train)\n",
    "grid.best_params_"
   ]
  },
  {
   "cell_type": "markdown",
   "metadata": {},
   "source": [
    "### CatBoostRegressor"
   ]
  },
  {
   "cell_type": "code",
   "execution_count": 32,
   "metadata": {},
   "outputs": [
    {
     "name": "stdout",
     "output_type": "stream",
     "text": [
      "CPU times: user 34min 52s, sys: 11.5 s, total: 35min 3s\n",
      "Wall time: 35min 34s\n"
     ]
    },
    {
     "data": {
      "text/plain": [
       "{'learning_rate': 0.5}"
      ]
     },
     "execution_count": 32,
     "metadata": {},
     "output_type": "execute_result"
    }
   ],
   "source": [
    "%%time\n",
    "\n",
    "model_cat = CatBoostRegressor(cat_features=['VehicleType','FuelType','Brand','Model'], verbose=False, random_state=12345)\n",
    "parameters_cat = {'learning_rate':[0.1, 0.5, 0.8]}\n",
    "grid = GridSearchCV(model_cat, parameters_cat, cv=5, scoring='neg_mean_squared_error')\n",
    "grid.fit(features_train, target_train)\n",
    "grid.best_params_"
   ]
  },
  {
   "cell_type": "markdown",
   "metadata": {},
   "source": [
    "### LGBM Regressor"
   ]
  },
  {
   "cell_type": "code",
   "execution_count": 33,
   "metadata": {},
   "outputs": [],
   "source": [
    "cat_columns = ['VehicleType','FuelType','Brand','Model']\n",
    "cat_features = features[cat_columns]\n",
    "lgbm_features_train = features_train.copy()\n",
    "lgbm_features_test = features_train.copy()\n",
    "for column in cat_columns:\n",
    "    lgbm_features_train[column] = lgbm_features_train[column].astype('category')\n",
    "    lgbm_features_test[column] = lgbm_features_test[column].astype('category')"
   ]
  },
  {
   "cell_type": "code",
   "execution_count": 35,
   "metadata": {},
   "outputs": [
    {
     "name": "stdout",
     "output_type": "stream",
     "text": [
      "CPU times: user 3h 21min 12s, sys: 2min 32s, total: 3h 23min 45s\n",
      "Wall time: 3h 24min 49s\n"
     ]
    },
    {
     "data": {
      "text/plain": [
       "{'num_leaves': 200}"
      ]
     },
     "execution_count": 35,
     "metadata": {},
     "output_type": "execute_result"
    }
   ],
   "source": [
    "%%time\n",
    "\n",
    "model_lgbm = LGBMRegressor(random_state=12345)\n",
    "parameters_lgbm = {'num_leaves' : [100, 150, 200]}\n",
    "grid = GridSearchCV(model_lgbm, parameters_lgbm, cv=5, scoring='neg_mean_squared_error')\n",
    "grid.fit(lgbm_features_train, target_train)\n",
    "grid.best_params_"
   ]
  },
  {
   "cell_type": "markdown",
   "metadata": {},
   "source": [
    "На этом шаге мы подобрали лучшие гиперпараметры для трех моделей. Проверим их на тестовых данных и выясним, какая лучше всего подходит для данной задачи."
   ]
  },
  {
   "cell_type": "markdown",
   "metadata": {},
   "source": [
    "## Анализ моделей"
   ]
  },
  {
   "cell_type": "markdown",
   "metadata": {},
   "source": [
    "### Линейная регрессия"
   ]
  },
  {
   "cell_type": "code",
   "execution_count": 39,
   "metadata": {},
   "outputs": [
    {
     "name": "stdout",
     "output_type": "stream",
     "text": [
      "CPU times: user 17.6 s, sys: 11.1 s, total: 28.7 s\n",
      "Wall time: 28.8 s\n"
     ]
    },
    {
     "data": {
      "text/plain": [
       "LinearRegression(n_jobs=-1)"
      ]
     },
     "execution_count": 39,
     "metadata": {},
     "output_type": "execute_result"
    }
   ],
   "source": [
    "%%time\n",
    "\n",
    "model_reg = LinearRegression(copy_X=True, fit_intercept=True, n_jobs=(-1))\n",
    "model_reg.fit(ohe_features_train, target_train)"
   ]
  },
  {
   "cell_type": "code",
   "execution_count": 40,
   "metadata": {},
   "outputs": [
    {
     "name": "stdout",
     "output_type": "stream",
     "text": [
      "CPU times: user 3.51 s, sys: 941 ms, total: 4.45 s\n",
      "Wall time: 4.49 s\n"
     ]
    }
   ],
   "source": [
    "%%time\n",
    "\n",
    "predictions = model_reg.predict(ohe_features_train)"
   ]
  },
  {
   "cell_type": "code",
   "execution_count": 42,
   "metadata": {},
   "outputs": [
    {
     "data": {
      "text/plain": [
       "2498.075873179726"
      ]
     },
     "execution_count": 42,
     "metadata": {},
     "output_type": "execute_result"
    }
   ],
   "source": [
    "mean_squared_error(target_train, predictions) ** 0.5"
   ]
  },
  {
   "cell_type": "markdown",
   "metadata": {},
   "source": [
    "### CatBoostRegressor"
   ]
  },
  {
   "cell_type": "code",
   "execution_count": 43,
   "metadata": {},
   "outputs": [
    {
     "name": "stdout",
     "output_type": "stream",
     "text": [
      "CPU times: user 2min 38s, sys: 953 ms, total: 2min 39s\n",
      "Wall time: 2min 41s\n"
     ]
    },
    {
     "data": {
      "text/plain": [
       "<catboost.core.CatBoostRegressor at 0x7fae05cbbf40>"
      ]
     },
     "execution_count": 43,
     "metadata": {},
     "output_type": "execute_result"
    }
   ],
   "source": [
    "%%time\n",
    "\n",
    "model_cat = CatBoostRegressor(learning_rate=0.5, verbose=False, random_state=12345, cat_features=['VehicleType','FuelType','Brand','Model'])\n",
    "model_cat.fit(features_train, target_train)"
   ]
  },
  {
   "cell_type": "code",
   "execution_count": 44,
   "metadata": {},
   "outputs": [
    {
     "name": "stdout",
     "output_type": "stream",
     "text": [
      "CPU times: user 2.82 s, sys: 34.6 ms, total: 2.85 s\n",
      "Wall time: 2.85 s\n"
     ]
    }
   ],
   "source": [
    "%%time\n",
    "\n",
    "predictions = model_cat.predict(features_train)"
   ]
  },
  {
   "cell_type": "code",
   "execution_count": 45,
   "metadata": {},
   "outputs": [
    {
     "data": {
      "text/plain": [
       "1404.7949488256504"
      ]
     },
     "execution_count": 45,
     "metadata": {},
     "output_type": "execute_result"
    }
   ],
   "source": [
    "mean_squared_error(target_train, predictions) ** 0.5"
   ]
  },
  {
   "cell_type": "markdown",
   "metadata": {},
   "source": [
    "### LGBM Regressor"
   ]
  },
  {
   "cell_type": "code",
   "execution_count": 46,
   "metadata": {},
   "outputs": [
    {
     "name": "stdout",
     "output_type": "stream",
     "text": [
      "CPU times: user 33min 39s, sys: 12.3 s, total: 33min 51s\n",
      "Wall time: 34min 3s\n"
     ]
    },
    {
     "data": {
      "text/plain": [
       "LGBMRegressor(num_leaves=200, random_state=12345)"
      ]
     },
     "execution_count": 46,
     "metadata": {},
     "output_type": "execute_result"
    }
   ],
   "source": [
    "%%time\n",
    "\n",
    "model_lgbm = LGBMRegressor(random_state=12345, num_leaves=200)\n",
    "model_lgbm.fit(lgbm_features_train, target_train)"
   ]
  },
  {
   "cell_type": "code",
   "execution_count": 47,
   "metadata": {},
   "outputs": [
    {
     "name": "stdout",
     "output_type": "stream",
     "text": [
      "CPU times: user 3.89 s, sys: 0 ns, total: 3.89 s\n",
      "Wall time: 3.9 s\n"
     ]
    }
   ],
   "source": [
    "%%time\n",
    "\n",
    "predictions = model_lgbm.predict(lgbm_features_train)"
   ]
  },
  {
   "cell_type": "code",
   "execution_count": 48,
   "metadata": {},
   "outputs": [
    {
     "data": {
      "text/plain": [
       "1357.0466172564204"
      ]
     },
     "execution_count": 48,
     "metadata": {},
     "output_type": "execute_result"
    }
   ],
   "source": [
    "mean_squared_error(target_train, predictions) ** 0.5"
   ]
  },
  {
   "cell_type": "markdown",
   "metadata": {},
   "source": [
    "## Тестирование лучшей модели"
   ]
  },
  {
   "cell_type": "markdown",
   "metadata": {},
   "source": [
    "Поскольку обучение CatBoost заняло на порядок меньше времени, а точности моделей различаются не столь значимо, в качестве лучшей модели я порекомендую ее."
   ]
  },
  {
   "cell_type": "code",
   "execution_count": 49,
   "metadata": {},
   "outputs": [
    {
     "data": {
      "text/plain": [
       "1554.1595069990412"
      ]
     },
     "execution_count": 49,
     "metadata": {},
     "output_type": "execute_result"
    }
   ],
   "source": [
    "predictions = model_cat.predict(features_test)\n",
    "mean_squared_error(target_test, predictions) ** 0.5"
   ]
  },
  {
   "cell_type": "markdown",
   "metadata": {},
   "source": [
    "Модель показала достаточно низкий уровень RMSE, чтобы принять ее."
   ]
  },
  {
   "cell_type": "markdown",
   "metadata": {},
   "source": [
    "## Выводы"
   ]
  },
  {
   "cell_type": "markdown",
   "metadata": {},
   "source": [
    "- Модель линейной регрессии на этой задаче показала себя очень слабо - несмотря на то, что она быстро обучается и предсказывает, у нее слишком высокая метрика RMSE.\n",
    "- Модель CatBoostRegressor предсказывает точнее, но обучается значительно дольше, да и подбор гиперпараметров для нее занял 40 минут про переборе только одного параметра.\n",
    "- Модель LGBM Regressor дольше всех обучается и еще дольше подбираются гиперпараметры, но с точки зрения точности именно эта модель показывает наилучшие результаты.\n",
    "\n",
    "Итого:\n",
    "- если скорость настолько же важна, как и точность, стоит пользоваться моделью CatBoostRegressor\n",
    "- если точность принципиально важнее скорости, лучше подойдет LGBM Regressor"
   ]
  }
 ],
 "metadata": {
  "ExecuteTimeLog": [
   {
    "duration": 1638,
    "start_time": "2023-02-14T21:14:00.255Z"
   },
   {
    "duration": 6,
    "start_time": "2023-02-14T21:14:12.493Z"
   },
   {
    "duration": 3329,
    "start_time": "2023-02-14T21:15:28.625Z"
   },
   {
    "duration": 20,
    "start_time": "2023-02-14T21:15:50.565Z"
   },
   {
    "duration": 158,
    "start_time": "2023-02-14T21:16:02.177Z"
   },
   {
    "duration": 601,
    "start_time": "2023-02-14T21:16:56.238Z"
   },
   {
    "duration": 567,
    "start_time": "2023-02-14T21:17:30.179Z"
   },
   {
    "duration": 491,
    "start_time": "2023-02-14T21:17:43.181Z"
   },
   {
    "duration": 538,
    "start_time": "2023-02-14T21:18:11.654Z"
   },
   {
    "duration": 500,
    "start_time": "2023-02-14T21:18:13.285Z"
   },
   {
    "duration": 1545,
    "start_time": "2023-02-16T09:13:57.484Z"
   },
   {
    "duration": 6,
    "start_time": "2023-02-16T09:13:59.032Z"
   },
   {
    "duration": 1045,
    "start_time": "2023-02-16T09:13:59.730Z"
   },
   {
    "duration": 20,
    "start_time": "2023-02-16T09:14:00.777Z"
   },
   {
    "duration": 103,
    "start_time": "2023-02-16T09:14:03.286Z"
   },
   {
    "duration": 139,
    "start_time": "2023-02-16T09:19:09.598Z"
   },
   {
    "duration": 96,
    "start_time": "2023-02-16T09:19:20.132Z"
   },
   {
    "duration": 64,
    "start_time": "2023-02-16T09:19:49.652Z"
   },
   {
    "duration": 8,
    "start_time": "2023-02-16T09:23:26.528Z"
   },
   {
    "duration": 30,
    "start_time": "2023-02-16T09:25:12.937Z"
   },
   {
    "duration": 293,
    "start_time": "2023-02-16T09:26:02.151Z"
   },
   {
    "duration": 1319,
    "start_time": "2023-02-16T09:33:52.153Z"
   },
   {
    "duration": 3,
    "start_time": "2023-02-16T09:33:53.474Z"
   },
   {
    "duration": 730,
    "start_time": "2023-02-16T09:33:53.479Z"
   },
   {
    "duration": 27,
    "start_time": "2023-02-16T09:33:54.211Z"
   },
   {
    "duration": 110,
    "start_time": "2023-02-16T09:33:54.240Z"
   },
   {
    "duration": 439,
    "start_time": "2023-02-16T09:33:54.352Z"
   },
   {
    "duration": 465,
    "start_time": "2023-02-16T09:33:54.792Z"
   },
   {
    "duration": 441,
    "start_time": "2023-02-16T09:33:55.259Z"
   },
   {
    "duration": 105,
    "start_time": "2023-02-16T09:33:55.702Z"
   },
   {
    "duration": 67,
    "start_time": "2023-02-16T09:33:55.808Z"
   },
   {
    "duration": 13,
    "start_time": "2023-02-16T09:33:55.877Z"
   },
   {
    "duration": 51,
    "start_time": "2023-02-16T09:33:55.892Z"
   },
   {
    "duration": 306,
    "start_time": "2023-02-16T09:33:55.944Z"
   },
   {
    "duration": 119,
    "start_time": "2023-02-16T09:35:36.346Z"
   },
   {
    "duration": 1101,
    "start_time": "2023-02-16T09:35:40.327Z"
   },
   {
    "duration": 1307,
    "start_time": "2023-02-16T09:36:36.755Z"
   },
   {
    "duration": 3,
    "start_time": "2023-02-16T09:36:38.064Z"
   },
   {
    "duration": 730,
    "start_time": "2023-02-16T09:36:38.068Z"
   },
   {
    "duration": 29,
    "start_time": "2023-02-16T09:36:38.799Z"
   },
   {
    "duration": 110,
    "start_time": "2023-02-16T09:36:38.831Z"
   },
   {
    "duration": 418,
    "start_time": "2023-02-16T09:36:38.943Z"
   },
   {
    "duration": 439,
    "start_time": "2023-02-16T09:36:39.362Z"
   },
   {
    "duration": 415,
    "start_time": "2023-02-16T09:36:39.802Z"
   },
   {
    "duration": 92,
    "start_time": "2023-02-16T09:36:40.219Z"
   },
   {
    "duration": 69,
    "start_time": "2023-02-16T09:36:40.312Z"
   },
   {
    "duration": 10,
    "start_time": "2023-02-16T09:36:40.383Z"
   },
   {
    "duration": 46,
    "start_time": "2023-02-16T09:36:40.394Z"
   },
   {
    "duration": 284,
    "start_time": "2023-02-16T09:36:40.442Z"
   },
   {
    "duration": 60,
    "start_time": "2023-02-16T09:36:40.729Z"
   },
   {
    "duration": 48,
    "start_time": "2023-02-16T09:37:03.108Z"
   },
   {
    "duration": 47,
    "start_time": "2023-02-16T09:37:27.929Z"
   },
   {
    "duration": 35,
    "start_time": "2023-02-16T09:38:03.185Z"
   },
   {
    "duration": 333,
    "start_time": "2023-02-16T09:38:29.688Z"
   },
   {
    "duration": 287,
    "start_time": "2023-02-16T09:39:33.137Z"
   },
   {
    "duration": 273,
    "start_time": "2023-02-16T09:40:30.583Z"
   },
   {
    "duration": 222,
    "start_time": "2023-02-16T09:40:53.591Z"
   },
   {
    "duration": 64,
    "start_time": "2023-02-16T09:52:23.832Z"
   },
   {
    "duration": 45,
    "start_time": "2023-02-16T09:56:57.734Z"
   },
   {
    "duration": 54,
    "start_time": "2023-02-16T09:57:06.395Z"
   },
   {
    "duration": 61,
    "start_time": "2023-02-16T09:57:18.742Z"
   },
   {
    "duration": 32,
    "start_time": "2023-02-16T10:26:48.627Z"
   },
   {
    "duration": 29,
    "start_time": "2023-02-16T10:26:58.940Z"
   },
   {
    "duration": 58,
    "start_time": "2023-02-16T10:27:04.264Z"
   },
   {
    "duration": 110,
    "start_time": "2023-02-16T10:27:11.563Z"
   },
   {
    "duration": 59,
    "start_time": "2023-02-16T10:27:21.868Z"
   },
   {
    "duration": 247,
    "start_time": "2023-02-16T10:28:36.939Z"
   },
   {
    "duration": 279,
    "start_time": "2023-02-16T10:37:31.960Z"
   },
   {
    "duration": 378,
    "start_time": "2023-02-16T10:39:01.289Z"
   },
   {
    "duration": 52,
    "start_time": "2023-02-16T10:39:18.864Z"
   },
   {
    "duration": 31,
    "start_time": "2023-02-16T10:46:17.284Z"
   },
   {
    "duration": 37,
    "start_time": "2023-02-16T10:47:36.388Z"
   },
   {
    "duration": 83,
    "start_time": "2023-02-16T10:47:59.527Z"
   },
   {
    "duration": 141,
    "start_time": "2023-02-16T10:48:31.755Z"
   },
   {
    "duration": 82,
    "start_time": "2023-02-16T10:48:37.841Z"
   },
   {
    "duration": 73,
    "start_time": "2023-02-16T11:12:52.422Z"
   },
   {
    "duration": 13,
    "start_time": "2023-02-16T11:20:56.677Z"
   },
   {
    "duration": 2382,
    "start_time": "2023-02-16T11:21:27.114Z"
   },
   {
    "duration": 855,
    "start_time": "2023-02-16T11:23:02.530Z"
   },
   {
    "duration": 1726,
    "start_time": "2023-02-16T11:23:05.356Z"
   },
   {
    "duration": 17770,
    "start_time": "2023-02-16T11:23:23.882Z"
   },
   {
    "duration": 195443,
    "start_time": "2023-02-16T11:23:54.574Z"
   },
   {
    "duration": 345404,
    "start_time": "2023-02-16T11:27:14.442Z"
   },
   {
    "duration": 3643846,
    "start_time": "2023-02-16T11:45:49.856Z"
   },
   {
    "duration": 4799424,
    "start_time": "2023-02-16T12:47:47.734Z"
   },
   {
    "duration": 25032,
    "start_time": "2023-02-16T14:11:03.670Z"
   },
   {
    "duration": 2284377,
    "start_time": "2023-02-16T14:12:44.660Z"
   },
   {
    "duration": 49,
    "start_time": "2023-02-16T15:02:45.640Z"
   },
   {
    "duration": 4865,
    "start_time": "2023-02-16T15:02:59.830Z"
   },
   {
    "duration": 4927,
    "start_time": "2023-02-16T15:03:25.161Z"
   },
   {
    "duration": 2247250,
    "start_time": "2023-02-16T15:03:42.717Z"
   },
   {
    "duration": 21147536,
    "start_time": "2023-02-16T15:41:42.698Z"
   },
   {
    "duration": 339327,
    "start_time": "2023-02-16T21:36:11.925Z"
   },
   {
    "duration": 5,
    "start_time": "2023-02-16T21:42:14.728Z"
   },
   {
    "duration": 254,
    "start_time": "2023-02-16T21:44:27.424Z"
   },
   {
    "duration": 297,
    "start_time": "2023-02-16T21:44:37.826Z"
   },
   {
    "duration": 13728931,
    "start_time": "2023-02-16T21:44:46.409Z"
   },
   {
    "duration": 1596,
    "start_time": "2023-02-17T08:14:51.253Z"
   },
   {
    "duration": 3,
    "start_time": "2023-02-17T08:14:54.980Z"
   },
   {
    "duration": 1019,
    "start_time": "2023-02-17T08:14:55.695Z"
   },
   {
    "duration": 20,
    "start_time": "2023-02-17T08:14:56.731Z"
   },
   {
    "duration": 100,
    "start_time": "2023-02-17T08:14:59.690Z"
   },
   {
    "duration": 403,
    "start_time": "2023-02-17T08:15:02.608Z"
   },
   {
    "duration": 452,
    "start_time": "2023-02-17T08:15:03.747Z"
   },
   {
    "duration": 424,
    "start_time": "2023-02-17T08:15:04.808Z"
   },
   {
    "duration": 95,
    "start_time": "2023-02-17T08:15:07.147Z"
   },
   {
    "duration": 64,
    "start_time": "2023-02-17T08:15:11.962Z"
   },
   {
    "duration": 9,
    "start_time": "2023-02-17T08:15:13.685Z"
   },
   {
    "duration": 36,
    "start_time": "2023-02-17T08:15:16.008Z"
   },
   {
    "duration": 314,
    "start_time": "2023-02-17T08:15:17.137Z"
   },
   {
    "duration": 69,
    "start_time": "2023-02-17T08:15:19.958Z"
   },
   {
    "duration": 34,
    "start_time": "2023-02-17T08:15:21.188Z"
   },
   {
    "duration": 368,
    "start_time": "2023-02-17T08:15:22.207Z"
   },
   {
    "duration": 314,
    "start_time": "2023-02-17T08:15:24.727Z"
   },
   {
    "duration": 223,
    "start_time": "2023-02-17T08:15:27.956Z"
   },
   {
    "duration": 80,
    "start_time": "2023-02-17T08:15:30.525Z"
   },
   {
    "duration": 48,
    "start_time": "2023-02-17T08:15:32.495Z"
   },
   {
    "duration": 56,
    "start_time": "2023-02-17T08:15:33.430Z"
   },
   {
    "duration": 64,
    "start_time": "2023-02-17T08:15:34.790Z"
   },
   {
    "duration": 35,
    "start_time": "2023-02-17T08:15:36.663Z"
   },
   {
    "duration": 54,
    "start_time": "2023-02-17T08:15:37.233Z"
   },
   {
    "duration": 58,
    "start_time": "2023-02-17T08:15:38.974Z"
   },
   {
    "duration": 293,
    "start_time": "2023-02-17T08:15:40.952Z"
   },
   {
    "duration": 295,
    "start_time": "2023-02-17T08:15:45.014Z"
   },
   {
    "duration": 305,
    "start_time": "2023-02-17T08:15:48.075Z"
   },
   {
    "duration": 76,
    "start_time": "2023-02-17T08:15:50.447Z"
   },
   {
    "duration": 88,
    "start_time": "2023-02-17T08:15:53.156Z"
   },
   {
    "duration": 912,
    "start_time": "2023-02-17T08:15:57.939Z"
   },
   {
    "duration": 334,
    "start_time": "2023-02-17T08:16:08.338Z"
   },
   {
    "duration": 171,
    "start_time": "2023-02-17T08:26:49.220Z"
   },
   {
    "duration": 19791,
    "start_time": "2023-02-17T08:26:59.136Z"
   },
   {
    "duration": 1235,
    "start_time": "2023-02-17T08:28:57.597Z"
   },
   {
    "duration": 4,
    "start_time": "2023-02-17T08:29:59.892Z"
   },
   {
    "duration": 145972,
    "start_time": "2023-02-17T08:34:19.104Z"
   },
   {
    "duration": 763,
    "start_time": "2023-02-17T08:37:26.743Z"
   },
   {
    "duration": 5,
    "start_time": "2023-02-17T08:37:57.763Z"
   },
   {
    "duration": 263231,
    "start_time": "2023-02-17T08:39:49.701Z"
   },
   {
    "duration": 2145,
    "start_time": "2023-02-17T08:44:18.479Z"
   },
   {
    "duration": 776,
    "start_time": "2023-02-17T08:44:46.461Z"
   },
   {
    "duration": 5,
    "start_time": "2023-02-17T08:44:49.192Z"
   },
   {
    "duration": 1698,
    "start_time": "2023-02-17T17:38:07.403Z"
   },
   {
    "duration": 4,
    "start_time": "2023-02-17T17:38:09.687Z"
   },
   {
    "duration": 1185,
    "start_time": "2023-02-17T17:38:11.786Z"
   },
   {
    "duration": 19,
    "start_time": "2023-02-17T17:38:12.972Z"
   },
   {
    "duration": 165,
    "start_time": "2023-02-17T17:38:15.029Z"
   },
   {
    "duration": 480,
    "start_time": "2023-02-17T17:38:17.691Z"
   },
   {
    "duration": 501,
    "start_time": "2023-02-17T17:38:18.805Z"
   },
   {
    "duration": 468,
    "start_time": "2023-02-17T17:38:19.832Z"
   },
   {
    "duration": 114,
    "start_time": "2023-02-17T17:38:22.580Z"
   },
   {
    "duration": 91,
    "start_time": "2023-02-17T17:38:24.805Z"
   },
   {
    "duration": 9,
    "start_time": "2023-02-17T17:38:26.716Z"
   },
   {
    "duration": 39,
    "start_time": "2023-02-17T17:38:28.638Z"
   },
   {
    "duration": 348,
    "start_time": "2023-02-17T17:38:30.123Z"
   },
   {
    "duration": 59,
    "start_time": "2023-02-17T17:38:33.587Z"
   },
   {
    "duration": 34,
    "start_time": "2023-02-17T17:38:35.015Z"
   },
   {
    "duration": 380,
    "start_time": "2023-02-17T17:38:36.798Z"
   },
   {
    "duration": 325,
    "start_time": "2023-02-17T17:38:40.379Z"
   },
   {
    "duration": 237,
    "start_time": "2023-02-17T17:38:43.309Z"
   },
   {
    "duration": 88,
    "start_time": "2023-02-17T17:38:47.036Z"
   },
   {
    "duration": 50,
    "start_time": "2023-02-17T17:38:49.675Z"
   },
   {
    "duration": 84,
    "start_time": "2023-02-17T17:38:50.388Z"
   },
   {
    "duration": 99,
    "start_time": "2023-02-17T17:38:52.131Z"
   },
   {
    "duration": 44,
    "start_time": "2023-02-17T17:38:54.081Z"
   },
   {
    "duration": 82,
    "start_time": "2023-02-17T17:38:54.832Z"
   },
   {
    "duration": 95,
    "start_time": "2023-02-17T17:38:56.426Z"
   },
   {
    "duration": 306,
    "start_time": "2023-02-17T17:38:59.729Z"
   },
   {
    "duration": 324,
    "start_time": "2023-02-17T17:39:02.038Z"
   },
   {
    "duration": 353,
    "start_time": "2023-02-17T17:39:04.691Z"
   },
   {
    "duration": 75,
    "start_time": "2023-02-17T17:39:07.896Z"
   },
   {
    "duration": 115,
    "start_time": "2023-02-17T17:39:10.180Z"
   },
   {
    "duration": 602,
    "start_time": "2023-02-17T17:40:09.582Z"
   },
   {
    "duration": 2134932,
    "start_time": "2023-02-17T17:41:41.536Z"
   },
   {
    "duration": 159,
    "start_time": "2023-02-17T18:19:44.365Z"
   },
   {
    "duration": 909129,
    "start_time": "2023-02-17T18:20:09.942Z"
   },
   {
    "duration": 12289788,
    "start_time": "2023-02-17T18:35:19.073Z"
   },
   {
    "duration": 26064,
    "start_time": "2023-02-18T06:15:16.870Z"
   },
   {
    "duration": 1495,
    "start_time": "2023-02-18T06:15:42.936Z"
   },
   {
    "duration": 12,
    "start_time": "2023-02-18T06:15:44.433Z"
   },
   {
    "duration": 28773,
    "start_time": "2023-02-18T06:16:05.486Z"
   },
   {
    "duration": 4502,
    "start_time": "2023-02-18T06:16:34.261Z"
   },
   {
    "duration": 19,
    "start_time": "2023-02-18T06:16:38.765Z"
   },
   {
    "duration": 6,
    "start_time": "2023-02-18T06:19:06.114Z"
   },
   {
    "duration": 161220,
    "start_time": "2023-02-18T06:19:24.164Z"
   },
   {
    "duration": 2859,
    "start_time": "2023-02-18T06:22:05.386Z"
   },
   {
    "duration": 8,
    "start_time": "2023-02-18T06:22:08.249Z"
   },
   {
    "duration": 2043524,
    "start_time": "2023-02-18T06:22:08.259Z"
   },
   {
    "duration": 3907,
    "start_time": "2023-02-18T06:56:11.852Z"
   },
   {
    "duration": 7,
    "start_time": "2023-02-18T06:56:15.761Z"
   },
   {
    "duration": 802,
    "start_time": "2023-02-18T16:29:22.269Z"
   }
  ],
  "kernelspec": {
   "display_name": "Python 3 (ipykernel)",
   "language": "python",
   "name": "python3"
  },
  "language_info": {
   "codemirror_mode": {
    "name": "ipython",
    "version": 3
   },
   "file_extension": ".py",
   "mimetype": "text/x-python",
   "name": "python",
   "nbconvert_exporter": "python",
   "pygments_lexer": "ipython3",
   "version": "3.9.13"
  },
  "toc": {
   "base_numbering": 1,
   "nav_menu": {},
   "number_sections": true,
   "sideBar": true,
   "skip_h1_title": true,
   "title_cell": "Table of Contents",
   "title_sidebar": "Contents",
   "toc_cell": false,
   "toc_position": {},
   "toc_section_display": true,
   "toc_window_display": false
  }
 },
 "nbformat": 4,
 "nbformat_minor": 2
}
