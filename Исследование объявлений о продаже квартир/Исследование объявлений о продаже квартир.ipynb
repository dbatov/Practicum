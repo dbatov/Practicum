{
 "cells": [
  {
   "cell_type": "markdown",
   "metadata": {},
   "source": [
    "# Исследование объявлений о продаже квартир\n",
    "\n",
    "В вашем распоряжении данные сервиса Яндекс.Недвижимость — архив объявлений о продаже квартир в Санкт-Петербурге и соседних населённых пунктов за несколько лет. Нужно научиться определять рыночную стоимость объектов недвижимости. Ваша задача — установить параметры. Это позволит построить автоматизированную систему: она отследит аномалии и мошенническую деятельность. \n",
    "\n",
    "По каждой квартире на продажу доступны два вида данных. Первые вписаны пользователем, вторые — получены автоматически на основе картографических данных. Например, расстояние до центра, аэропорта, ближайшего парка и водоёма. "
   ]
  },
  {
   "cell_type": "markdown",
   "metadata": {},
   "source": [
    "### Откройте файл с данными и изучите общую информацию. "
   ]
  },
  {
   "cell_type": "code",
   "execution_count": 1,
   "metadata": {},
   "outputs": [],
   "source": [
    "import pandas as pd\n",
    "import matplotlib.pyplot as plt"
   ]
  },
  {
   "cell_type": "code",
   "execution_count": 2,
   "metadata": {},
   "outputs": [],
   "source": [
    "data = pd.read_csv('/datasets/real_estate_data.csv', sep='\\t')"
   ]
  },
  {
   "cell_type": "code",
   "execution_count": 3,
   "metadata": {},
   "outputs": [
    {
     "name": "stdout",
     "output_type": "stream",
     "text": [
      "<class 'pandas.core.frame.DataFrame'>\n",
      "RangeIndex: 23699 entries, 0 to 23698\n",
      "Data columns (total 22 columns):\n",
      " #   Column                Non-Null Count  Dtype  \n",
      "---  ------                --------------  -----  \n",
      " 0   total_images          23699 non-null  int64  \n",
      " 1   last_price            23699 non-null  float64\n",
      " 2   total_area            23699 non-null  float64\n",
      " 3   first_day_exposition  23699 non-null  object \n",
      " 4   rooms                 23699 non-null  int64  \n",
      " 5   ceiling_height        14504 non-null  float64\n",
      " 6   floors_total          23613 non-null  float64\n",
      " 7   living_area           21796 non-null  float64\n",
      " 8   floor                 23699 non-null  int64  \n",
      " 9   is_apartment          2775 non-null   object \n",
      " 10  studio                23699 non-null  bool   \n",
      " 11  open_plan             23699 non-null  bool   \n",
      " 12  kitchen_area          21421 non-null  float64\n",
      " 13  balcony               12180 non-null  float64\n",
      " 14  locality_name         23650 non-null  object \n",
      " 15  airports_nearest      18157 non-null  float64\n",
      " 16  cityCenters_nearest   18180 non-null  float64\n",
      " 17  parks_around3000      18181 non-null  float64\n",
      " 18  parks_nearest         8079 non-null   float64\n",
      " 19  ponds_around3000      18181 non-null  float64\n",
      " 20  ponds_nearest         9110 non-null   float64\n",
      " 21  days_exposition       20518 non-null  float64\n",
      "dtypes: bool(2), float64(14), int64(3), object(3)\n",
      "memory usage: 3.7+ MB\n"
     ]
    }
   ],
   "source": [
    "data.info()"
   ]
  },
  {
   "cell_type": "code",
   "execution_count": 4,
   "metadata": {},
   "outputs": [
    {
     "data": {
      "text/html": [
       "<div>\n",
       "<style scoped>\n",
       "    .dataframe tbody tr th:only-of-type {\n",
       "        vertical-align: middle;\n",
       "    }\n",
       "\n",
       "    .dataframe tbody tr th {\n",
       "        vertical-align: top;\n",
       "    }\n",
       "\n",
       "    .dataframe thead th {\n",
       "        text-align: right;\n",
       "    }\n",
       "</style>\n",
       "<table border=\"1\" class=\"dataframe\">\n",
       "  <thead>\n",
       "    <tr style=\"text-align: right;\">\n",
       "      <th></th>\n",
       "      <th>total_images</th>\n",
       "      <th>last_price</th>\n",
       "      <th>total_area</th>\n",
       "      <th>first_day_exposition</th>\n",
       "      <th>rooms</th>\n",
       "      <th>ceiling_height</th>\n",
       "      <th>floors_total</th>\n",
       "      <th>living_area</th>\n",
       "      <th>floor</th>\n",
       "      <th>is_apartment</th>\n",
       "      <th>...</th>\n",
       "      <th>kitchen_area</th>\n",
       "      <th>balcony</th>\n",
       "      <th>locality_name</th>\n",
       "      <th>airports_nearest</th>\n",
       "      <th>cityCenters_nearest</th>\n",
       "      <th>parks_around3000</th>\n",
       "      <th>parks_nearest</th>\n",
       "      <th>ponds_around3000</th>\n",
       "      <th>ponds_nearest</th>\n",
       "      <th>days_exposition</th>\n",
       "    </tr>\n",
       "  </thead>\n",
       "  <tbody>\n",
       "    <tr>\n",
       "      <th>0</th>\n",
       "      <td>20</td>\n",
       "      <td>13000000.0</td>\n",
       "      <td>108.00</td>\n",
       "      <td>2019-03-07T00:00:00</td>\n",
       "      <td>3</td>\n",
       "      <td>2.70</td>\n",
       "      <td>16.0</td>\n",
       "      <td>51.00</td>\n",
       "      <td>8</td>\n",
       "      <td>NaN</td>\n",
       "      <td>...</td>\n",
       "      <td>25.00</td>\n",
       "      <td>NaN</td>\n",
       "      <td>Санкт-Петербург</td>\n",
       "      <td>18863.0</td>\n",
       "      <td>16028.0</td>\n",
       "      <td>1.0</td>\n",
       "      <td>482.0</td>\n",
       "      <td>2.0</td>\n",
       "      <td>755.0</td>\n",
       "      <td>NaN</td>\n",
       "    </tr>\n",
       "    <tr>\n",
       "      <th>1</th>\n",
       "      <td>7</td>\n",
       "      <td>3350000.0</td>\n",
       "      <td>40.40</td>\n",
       "      <td>2018-12-04T00:00:00</td>\n",
       "      <td>1</td>\n",
       "      <td>NaN</td>\n",
       "      <td>11.0</td>\n",
       "      <td>18.60</td>\n",
       "      <td>1</td>\n",
       "      <td>NaN</td>\n",
       "      <td>...</td>\n",
       "      <td>11.00</td>\n",
       "      <td>2.0</td>\n",
       "      <td>посёлок Шушары</td>\n",
       "      <td>12817.0</td>\n",
       "      <td>18603.0</td>\n",
       "      <td>0.0</td>\n",
       "      <td>NaN</td>\n",
       "      <td>0.0</td>\n",
       "      <td>NaN</td>\n",
       "      <td>81.0</td>\n",
       "    </tr>\n",
       "    <tr>\n",
       "      <th>2</th>\n",
       "      <td>10</td>\n",
       "      <td>5196000.0</td>\n",
       "      <td>56.00</td>\n",
       "      <td>2015-08-20T00:00:00</td>\n",
       "      <td>2</td>\n",
       "      <td>NaN</td>\n",
       "      <td>5.0</td>\n",
       "      <td>34.30</td>\n",
       "      <td>4</td>\n",
       "      <td>NaN</td>\n",
       "      <td>...</td>\n",
       "      <td>8.30</td>\n",
       "      <td>0.0</td>\n",
       "      <td>Санкт-Петербург</td>\n",
       "      <td>21741.0</td>\n",
       "      <td>13933.0</td>\n",
       "      <td>1.0</td>\n",
       "      <td>90.0</td>\n",
       "      <td>2.0</td>\n",
       "      <td>574.0</td>\n",
       "      <td>558.0</td>\n",
       "    </tr>\n",
       "    <tr>\n",
       "      <th>3</th>\n",
       "      <td>0</td>\n",
       "      <td>64900000.0</td>\n",
       "      <td>159.00</td>\n",
       "      <td>2015-07-24T00:00:00</td>\n",
       "      <td>3</td>\n",
       "      <td>NaN</td>\n",
       "      <td>14.0</td>\n",
       "      <td>NaN</td>\n",
       "      <td>9</td>\n",
       "      <td>NaN</td>\n",
       "      <td>...</td>\n",
       "      <td>NaN</td>\n",
       "      <td>0.0</td>\n",
       "      <td>Санкт-Петербург</td>\n",
       "      <td>28098.0</td>\n",
       "      <td>6800.0</td>\n",
       "      <td>2.0</td>\n",
       "      <td>84.0</td>\n",
       "      <td>3.0</td>\n",
       "      <td>234.0</td>\n",
       "      <td>424.0</td>\n",
       "    </tr>\n",
       "    <tr>\n",
       "      <th>4</th>\n",
       "      <td>2</td>\n",
       "      <td>10000000.0</td>\n",
       "      <td>100.00</td>\n",
       "      <td>2018-06-19T00:00:00</td>\n",
       "      <td>2</td>\n",
       "      <td>3.03</td>\n",
       "      <td>14.0</td>\n",
       "      <td>32.00</td>\n",
       "      <td>13</td>\n",
       "      <td>NaN</td>\n",
       "      <td>...</td>\n",
       "      <td>41.00</td>\n",
       "      <td>NaN</td>\n",
       "      <td>Санкт-Петербург</td>\n",
       "      <td>31856.0</td>\n",
       "      <td>8098.0</td>\n",
       "      <td>2.0</td>\n",
       "      <td>112.0</td>\n",
       "      <td>1.0</td>\n",
       "      <td>48.0</td>\n",
       "      <td>121.0</td>\n",
       "    </tr>\n",
       "    <tr>\n",
       "      <th>5</th>\n",
       "      <td>10</td>\n",
       "      <td>2890000.0</td>\n",
       "      <td>30.40</td>\n",
       "      <td>2018-09-10T00:00:00</td>\n",
       "      <td>1</td>\n",
       "      <td>NaN</td>\n",
       "      <td>12.0</td>\n",
       "      <td>14.40</td>\n",
       "      <td>5</td>\n",
       "      <td>NaN</td>\n",
       "      <td>...</td>\n",
       "      <td>9.10</td>\n",
       "      <td>NaN</td>\n",
       "      <td>городской посёлок Янино-1</td>\n",
       "      <td>NaN</td>\n",
       "      <td>NaN</td>\n",
       "      <td>NaN</td>\n",
       "      <td>NaN</td>\n",
       "      <td>NaN</td>\n",
       "      <td>NaN</td>\n",
       "      <td>55.0</td>\n",
       "    </tr>\n",
       "    <tr>\n",
       "      <th>6</th>\n",
       "      <td>6</td>\n",
       "      <td>3700000.0</td>\n",
       "      <td>37.30</td>\n",
       "      <td>2017-11-02T00:00:00</td>\n",
       "      <td>1</td>\n",
       "      <td>NaN</td>\n",
       "      <td>26.0</td>\n",
       "      <td>10.60</td>\n",
       "      <td>6</td>\n",
       "      <td>NaN</td>\n",
       "      <td>...</td>\n",
       "      <td>14.40</td>\n",
       "      <td>1.0</td>\n",
       "      <td>посёлок Парголово</td>\n",
       "      <td>52996.0</td>\n",
       "      <td>19143.0</td>\n",
       "      <td>0.0</td>\n",
       "      <td>NaN</td>\n",
       "      <td>0.0</td>\n",
       "      <td>NaN</td>\n",
       "      <td>155.0</td>\n",
       "    </tr>\n",
       "    <tr>\n",
       "      <th>7</th>\n",
       "      <td>5</td>\n",
       "      <td>7915000.0</td>\n",
       "      <td>71.60</td>\n",
       "      <td>2019-04-18T00:00:00</td>\n",
       "      <td>2</td>\n",
       "      <td>NaN</td>\n",
       "      <td>24.0</td>\n",
       "      <td>NaN</td>\n",
       "      <td>22</td>\n",
       "      <td>NaN</td>\n",
       "      <td>...</td>\n",
       "      <td>18.90</td>\n",
       "      <td>2.0</td>\n",
       "      <td>Санкт-Петербург</td>\n",
       "      <td>23982.0</td>\n",
       "      <td>11634.0</td>\n",
       "      <td>0.0</td>\n",
       "      <td>NaN</td>\n",
       "      <td>0.0</td>\n",
       "      <td>NaN</td>\n",
       "      <td>NaN</td>\n",
       "    </tr>\n",
       "    <tr>\n",
       "      <th>8</th>\n",
       "      <td>20</td>\n",
       "      <td>2900000.0</td>\n",
       "      <td>33.16</td>\n",
       "      <td>2018-05-23T00:00:00</td>\n",
       "      <td>1</td>\n",
       "      <td>NaN</td>\n",
       "      <td>27.0</td>\n",
       "      <td>15.43</td>\n",
       "      <td>26</td>\n",
       "      <td>NaN</td>\n",
       "      <td>...</td>\n",
       "      <td>8.81</td>\n",
       "      <td>NaN</td>\n",
       "      <td>посёлок Мурино</td>\n",
       "      <td>NaN</td>\n",
       "      <td>NaN</td>\n",
       "      <td>NaN</td>\n",
       "      <td>NaN</td>\n",
       "      <td>NaN</td>\n",
       "      <td>NaN</td>\n",
       "      <td>189.0</td>\n",
       "    </tr>\n",
       "    <tr>\n",
       "      <th>9</th>\n",
       "      <td>18</td>\n",
       "      <td>5400000.0</td>\n",
       "      <td>61.00</td>\n",
       "      <td>2017-02-26T00:00:00</td>\n",
       "      <td>3</td>\n",
       "      <td>2.50</td>\n",
       "      <td>9.0</td>\n",
       "      <td>43.60</td>\n",
       "      <td>7</td>\n",
       "      <td>NaN</td>\n",
       "      <td>...</td>\n",
       "      <td>6.50</td>\n",
       "      <td>2.0</td>\n",
       "      <td>Санкт-Петербург</td>\n",
       "      <td>50898.0</td>\n",
       "      <td>15008.0</td>\n",
       "      <td>0.0</td>\n",
       "      <td>NaN</td>\n",
       "      <td>0.0</td>\n",
       "      <td>NaN</td>\n",
       "      <td>289.0</td>\n",
       "    </tr>\n",
       "    <tr>\n",
       "      <th>10</th>\n",
       "      <td>5</td>\n",
       "      <td>5050000.0</td>\n",
       "      <td>39.60</td>\n",
       "      <td>2017-11-16T00:00:00</td>\n",
       "      <td>1</td>\n",
       "      <td>2.67</td>\n",
       "      <td>12.0</td>\n",
       "      <td>20.30</td>\n",
       "      <td>3</td>\n",
       "      <td>NaN</td>\n",
       "      <td>...</td>\n",
       "      <td>8.50</td>\n",
       "      <td>NaN</td>\n",
       "      <td>Санкт-Петербург</td>\n",
       "      <td>38357.0</td>\n",
       "      <td>13878.0</td>\n",
       "      <td>1.0</td>\n",
       "      <td>310.0</td>\n",
       "      <td>2.0</td>\n",
       "      <td>553.0</td>\n",
       "      <td>137.0</td>\n",
       "    </tr>\n",
       "    <tr>\n",
       "      <th>11</th>\n",
       "      <td>9</td>\n",
       "      <td>3300000.0</td>\n",
       "      <td>44.00</td>\n",
       "      <td>2018-08-27T00:00:00</td>\n",
       "      <td>2</td>\n",
       "      <td>NaN</td>\n",
       "      <td>5.0</td>\n",
       "      <td>31.00</td>\n",
       "      <td>4</td>\n",
       "      <td>False</td>\n",
       "      <td>...</td>\n",
       "      <td>6.00</td>\n",
       "      <td>1.0</td>\n",
       "      <td>Ломоносов</td>\n",
       "      <td>48252.0</td>\n",
       "      <td>51677.0</td>\n",
       "      <td>0.0</td>\n",
       "      <td>NaN</td>\n",
       "      <td>0.0</td>\n",
       "      <td>NaN</td>\n",
       "      <td>7.0</td>\n",
       "    </tr>\n",
       "    <tr>\n",
       "      <th>12</th>\n",
       "      <td>10</td>\n",
       "      <td>3890000.0</td>\n",
       "      <td>54.00</td>\n",
       "      <td>2016-06-30T00:00:00</td>\n",
       "      <td>2</td>\n",
       "      <td>NaN</td>\n",
       "      <td>5.0</td>\n",
       "      <td>30.00</td>\n",
       "      <td>5</td>\n",
       "      <td>NaN</td>\n",
       "      <td>...</td>\n",
       "      <td>9.00</td>\n",
       "      <td>0.0</td>\n",
       "      <td>Сертолово</td>\n",
       "      <td>NaN</td>\n",
       "      <td>NaN</td>\n",
       "      <td>NaN</td>\n",
       "      <td>NaN</td>\n",
       "      <td>NaN</td>\n",
       "      <td>NaN</td>\n",
       "      <td>90.0</td>\n",
       "    </tr>\n",
       "    <tr>\n",
       "      <th>13</th>\n",
       "      <td>20</td>\n",
       "      <td>3550000.0</td>\n",
       "      <td>42.80</td>\n",
       "      <td>2017-07-01T00:00:00</td>\n",
       "      <td>2</td>\n",
       "      <td>2.56</td>\n",
       "      <td>5.0</td>\n",
       "      <td>27.00</td>\n",
       "      <td>5</td>\n",
       "      <td>NaN</td>\n",
       "      <td>...</td>\n",
       "      <td>5.20</td>\n",
       "      <td>1.0</td>\n",
       "      <td>Петергоф</td>\n",
       "      <td>37868.0</td>\n",
       "      <td>33058.0</td>\n",
       "      <td>1.0</td>\n",
       "      <td>294.0</td>\n",
       "      <td>3.0</td>\n",
       "      <td>298.0</td>\n",
       "      <td>366.0</td>\n",
       "    </tr>\n",
       "    <tr>\n",
       "      <th>14</th>\n",
       "      <td>1</td>\n",
       "      <td>4400000.0</td>\n",
       "      <td>36.00</td>\n",
       "      <td>2016-06-23T00:00:00</td>\n",
       "      <td>1</td>\n",
       "      <td>NaN</td>\n",
       "      <td>6.0</td>\n",
       "      <td>17.00</td>\n",
       "      <td>1</td>\n",
       "      <td>NaN</td>\n",
       "      <td>...</td>\n",
       "      <td>8.00</td>\n",
       "      <td>0.0</td>\n",
       "      <td>Пушкин</td>\n",
       "      <td>20782.0</td>\n",
       "      <td>30759.0</td>\n",
       "      <td>0.0</td>\n",
       "      <td>NaN</td>\n",
       "      <td>1.0</td>\n",
       "      <td>96.0</td>\n",
       "      <td>203.0</td>\n",
       "    </tr>\n",
       "    <tr>\n",
       "      <th>15</th>\n",
       "      <td>16</td>\n",
       "      <td>4650000.0</td>\n",
       "      <td>39.00</td>\n",
       "      <td>2017-11-18T00:00:00</td>\n",
       "      <td>1</td>\n",
       "      <td>NaN</td>\n",
       "      <td>14.0</td>\n",
       "      <td>20.50</td>\n",
       "      <td>5</td>\n",
       "      <td>NaN</td>\n",
       "      <td>...</td>\n",
       "      <td>7.60</td>\n",
       "      <td>1.0</td>\n",
       "      <td>Санкт-Петербург</td>\n",
       "      <td>12900.0</td>\n",
       "      <td>14259.0</td>\n",
       "      <td>1.0</td>\n",
       "      <td>590.0</td>\n",
       "      <td>1.0</td>\n",
       "      <td>296.0</td>\n",
       "      <td>19.0</td>\n",
       "    </tr>\n",
       "    <tr>\n",
       "      <th>16</th>\n",
       "      <td>11</td>\n",
       "      <td>6700000.0</td>\n",
       "      <td>82.00</td>\n",
       "      <td>2017-11-23T00:00:00</td>\n",
       "      <td>3</td>\n",
       "      <td>3.05</td>\n",
       "      <td>5.0</td>\n",
       "      <td>55.60</td>\n",
       "      <td>1</td>\n",
       "      <td>NaN</td>\n",
       "      <td>...</td>\n",
       "      <td>9.00</td>\n",
       "      <td>NaN</td>\n",
       "      <td>Санкт-Петербург</td>\n",
       "      <td>22108.0</td>\n",
       "      <td>10698.0</td>\n",
       "      <td>3.0</td>\n",
       "      <td>420.0</td>\n",
       "      <td>0.0</td>\n",
       "      <td>NaN</td>\n",
       "      <td>397.0</td>\n",
       "    </tr>\n",
       "    <tr>\n",
       "      <th>17</th>\n",
       "      <td>6</td>\n",
       "      <td>4180000.0</td>\n",
       "      <td>36.00</td>\n",
       "      <td>2016-09-09T00:00:00</td>\n",
       "      <td>1</td>\n",
       "      <td>NaN</td>\n",
       "      <td>17.0</td>\n",
       "      <td>16.50</td>\n",
       "      <td>7</td>\n",
       "      <td>NaN</td>\n",
       "      <td>...</td>\n",
       "      <td>11.00</td>\n",
       "      <td>1.0</td>\n",
       "      <td>Санкт-Петербург</td>\n",
       "      <td>33564.0</td>\n",
       "      <td>14616.0</td>\n",
       "      <td>0.0</td>\n",
       "      <td>NaN</td>\n",
       "      <td>1.0</td>\n",
       "      <td>859.0</td>\n",
       "      <td>571.0</td>\n",
       "    </tr>\n",
       "    <tr>\n",
       "      <th>18</th>\n",
       "      <td>8</td>\n",
       "      <td>3250000.0</td>\n",
       "      <td>31.00</td>\n",
       "      <td>2017-01-27T00:00:00</td>\n",
       "      <td>1</td>\n",
       "      <td>2.50</td>\n",
       "      <td>5.0</td>\n",
       "      <td>19.40</td>\n",
       "      <td>2</td>\n",
       "      <td>NaN</td>\n",
       "      <td>...</td>\n",
       "      <td>5.60</td>\n",
       "      <td>1.0</td>\n",
       "      <td>Санкт-Петербург</td>\n",
       "      <td>44060.0</td>\n",
       "      <td>10842.0</td>\n",
       "      <td>1.0</td>\n",
       "      <td>759.0</td>\n",
       "      <td>0.0</td>\n",
       "      <td>NaN</td>\n",
       "      <td>168.0</td>\n",
       "    </tr>\n",
       "    <tr>\n",
       "      <th>19</th>\n",
       "      <td>16</td>\n",
       "      <td>14200000.0</td>\n",
       "      <td>121.00</td>\n",
       "      <td>2019-01-09T00:00:00</td>\n",
       "      <td>3</td>\n",
       "      <td>2.75</td>\n",
       "      <td>16.0</td>\n",
       "      <td>76.00</td>\n",
       "      <td>8</td>\n",
       "      <td>NaN</td>\n",
       "      <td>...</td>\n",
       "      <td>12.00</td>\n",
       "      <td>NaN</td>\n",
       "      <td>Санкт-Петербург</td>\n",
       "      <td>38900.0</td>\n",
       "      <td>12843.0</td>\n",
       "      <td>0.0</td>\n",
       "      <td>NaN</td>\n",
       "      <td>0.0</td>\n",
       "      <td>NaN</td>\n",
       "      <td>97.0</td>\n",
       "    </tr>\n",
       "  </tbody>\n",
       "</table>\n",
       "<p>20 rows × 22 columns</p>\n",
       "</div>"
      ],
      "text/plain": [
       "    total_images  last_price  total_area first_day_exposition  rooms  \\\n",
       "0             20  13000000.0      108.00  2019-03-07T00:00:00      3   \n",
       "1              7   3350000.0       40.40  2018-12-04T00:00:00      1   \n",
       "2             10   5196000.0       56.00  2015-08-20T00:00:00      2   \n",
       "3              0  64900000.0      159.00  2015-07-24T00:00:00      3   \n",
       "4              2  10000000.0      100.00  2018-06-19T00:00:00      2   \n",
       "5             10   2890000.0       30.40  2018-09-10T00:00:00      1   \n",
       "6              6   3700000.0       37.30  2017-11-02T00:00:00      1   \n",
       "7              5   7915000.0       71.60  2019-04-18T00:00:00      2   \n",
       "8             20   2900000.0       33.16  2018-05-23T00:00:00      1   \n",
       "9             18   5400000.0       61.00  2017-02-26T00:00:00      3   \n",
       "10             5   5050000.0       39.60  2017-11-16T00:00:00      1   \n",
       "11             9   3300000.0       44.00  2018-08-27T00:00:00      2   \n",
       "12            10   3890000.0       54.00  2016-06-30T00:00:00      2   \n",
       "13            20   3550000.0       42.80  2017-07-01T00:00:00      2   \n",
       "14             1   4400000.0       36.00  2016-06-23T00:00:00      1   \n",
       "15            16   4650000.0       39.00  2017-11-18T00:00:00      1   \n",
       "16            11   6700000.0       82.00  2017-11-23T00:00:00      3   \n",
       "17             6   4180000.0       36.00  2016-09-09T00:00:00      1   \n",
       "18             8   3250000.0       31.00  2017-01-27T00:00:00      1   \n",
       "19            16  14200000.0      121.00  2019-01-09T00:00:00      3   \n",
       "\n",
       "    ceiling_height  floors_total  living_area  floor is_apartment  ...  \\\n",
       "0             2.70          16.0        51.00      8          NaN  ...   \n",
       "1              NaN          11.0        18.60      1          NaN  ...   \n",
       "2              NaN           5.0        34.30      4          NaN  ...   \n",
       "3              NaN          14.0          NaN      9          NaN  ...   \n",
       "4             3.03          14.0        32.00     13          NaN  ...   \n",
       "5              NaN          12.0        14.40      5          NaN  ...   \n",
       "6              NaN          26.0        10.60      6          NaN  ...   \n",
       "7              NaN          24.0          NaN     22          NaN  ...   \n",
       "8              NaN          27.0        15.43     26          NaN  ...   \n",
       "9             2.50           9.0        43.60      7          NaN  ...   \n",
       "10            2.67          12.0        20.30      3          NaN  ...   \n",
       "11             NaN           5.0        31.00      4        False  ...   \n",
       "12             NaN           5.0        30.00      5          NaN  ...   \n",
       "13            2.56           5.0        27.00      5          NaN  ...   \n",
       "14             NaN           6.0        17.00      1          NaN  ...   \n",
       "15             NaN          14.0        20.50      5          NaN  ...   \n",
       "16            3.05           5.0        55.60      1          NaN  ...   \n",
       "17             NaN          17.0        16.50      7          NaN  ...   \n",
       "18            2.50           5.0        19.40      2          NaN  ...   \n",
       "19            2.75          16.0        76.00      8          NaN  ...   \n",
       "\n",
       "    kitchen_area  balcony              locality_name  airports_nearest  \\\n",
       "0          25.00      NaN            Санкт-Петербург           18863.0   \n",
       "1          11.00      2.0             посёлок Шушары           12817.0   \n",
       "2           8.30      0.0            Санкт-Петербург           21741.0   \n",
       "3            NaN      0.0            Санкт-Петербург           28098.0   \n",
       "4          41.00      NaN            Санкт-Петербург           31856.0   \n",
       "5           9.10      NaN  городской посёлок Янино-1               NaN   \n",
       "6          14.40      1.0          посёлок Парголово           52996.0   \n",
       "7          18.90      2.0            Санкт-Петербург           23982.0   \n",
       "8           8.81      NaN             посёлок Мурино               NaN   \n",
       "9           6.50      2.0            Санкт-Петербург           50898.0   \n",
       "10          8.50      NaN            Санкт-Петербург           38357.0   \n",
       "11          6.00      1.0                  Ломоносов           48252.0   \n",
       "12          9.00      0.0                  Сертолово               NaN   \n",
       "13          5.20      1.0                   Петергоф           37868.0   \n",
       "14          8.00      0.0                     Пушкин           20782.0   \n",
       "15          7.60      1.0            Санкт-Петербург           12900.0   \n",
       "16          9.00      NaN            Санкт-Петербург           22108.0   \n",
       "17         11.00      1.0            Санкт-Петербург           33564.0   \n",
       "18          5.60      1.0            Санкт-Петербург           44060.0   \n",
       "19         12.00      NaN            Санкт-Петербург           38900.0   \n",
       "\n",
       "   cityCenters_nearest  parks_around3000  parks_nearest  ponds_around3000  \\\n",
       "0              16028.0               1.0          482.0               2.0   \n",
       "1              18603.0               0.0            NaN               0.0   \n",
       "2              13933.0               1.0           90.0               2.0   \n",
       "3               6800.0               2.0           84.0               3.0   \n",
       "4               8098.0               2.0          112.0               1.0   \n",
       "5                  NaN               NaN            NaN               NaN   \n",
       "6              19143.0               0.0            NaN               0.0   \n",
       "7              11634.0               0.0            NaN               0.0   \n",
       "8                  NaN               NaN            NaN               NaN   \n",
       "9              15008.0               0.0            NaN               0.0   \n",
       "10             13878.0               1.0          310.0               2.0   \n",
       "11             51677.0               0.0            NaN               0.0   \n",
       "12                 NaN               NaN            NaN               NaN   \n",
       "13             33058.0               1.0          294.0               3.0   \n",
       "14             30759.0               0.0            NaN               1.0   \n",
       "15             14259.0               1.0          590.0               1.0   \n",
       "16             10698.0               3.0          420.0               0.0   \n",
       "17             14616.0               0.0            NaN               1.0   \n",
       "18             10842.0               1.0          759.0               0.0   \n",
       "19             12843.0               0.0            NaN               0.0   \n",
       "\n",
       "    ponds_nearest  days_exposition  \n",
       "0           755.0              NaN  \n",
       "1             NaN             81.0  \n",
       "2           574.0            558.0  \n",
       "3           234.0            424.0  \n",
       "4            48.0            121.0  \n",
       "5             NaN             55.0  \n",
       "6             NaN            155.0  \n",
       "7             NaN              NaN  \n",
       "8             NaN            189.0  \n",
       "9             NaN            289.0  \n",
       "10          553.0            137.0  \n",
       "11            NaN              7.0  \n",
       "12            NaN             90.0  \n",
       "13          298.0            366.0  \n",
       "14           96.0            203.0  \n",
       "15          296.0             19.0  \n",
       "16            NaN            397.0  \n",
       "17          859.0            571.0  \n",
       "18            NaN            168.0  \n",
       "19            NaN             97.0  \n",
       "\n",
       "[20 rows x 22 columns]"
      ]
     },
     "execution_count": 4,
     "metadata": {},
     "output_type": "execute_result"
    }
   ],
   "source": [
    "data.head(20)"
   ]
  },
  {
   "cell_type": "code",
   "execution_count": 5,
   "metadata": {
    "scrolled": true
   },
   "outputs": [
    {
     "data": {
      "image/png": "[encoded data removed]",
      "text/plain": [
       "<Figure size 1080x1440 with 20 Axes>"
      ]
     },
     "metadata": {
      "needs_background": "light"
     },
     "output_type": "display_data"
    }
   ],
   "source": [
    "x = data.hist(figsize=(15, 20))\n",
    "plt.show()"
   ]
  },
  {
   "cell_type": "markdown",
   "metadata": {},
   "source": [
    "### Предобработка данных"
   ]
  },
  {
   "cell_type": "code",
   "execution_count": 6,
   "metadata": {},
   "outputs": [
    {
     "data": {
      "text/plain": [
       "total_images                0\n",
       "last_price                  0\n",
       "total_area                  0\n",
       "first_day_exposition        0\n",
       "rooms                       0\n",
       "ceiling_height           9195\n",
       "floors_total               86\n",
       "living_area              1903\n",
       "floor                       0\n",
       "is_apartment            20924\n",
       "studio                      0\n",
       "open_plan                   0\n",
       "kitchen_area             2278\n",
       "balcony                 11519\n",
       "locality_name              49\n",
       "airports_nearest         5542\n",
       "cityCenters_nearest      5519\n",
       "parks_around3000         5518\n",
       "parks_nearest           15620\n",
       "ponds_around3000         5518\n",
       "ponds_nearest           14589\n",
       "days_exposition          3181\n",
       "dtype: int64"
      ]
     },
     "execution_count": 6,
     "metadata": {},
     "output_type": "execute_result"
    }
   ],
   "source": [
    "data.isna().sum()"
   ]
  },
  {
   "cell_type": "code",
   "execution_count": 7,
   "metadata": {},
   "outputs": [],
   "source": [
    "data['balcony'] = data['balcony'].fillna(0)"
   ]
  },
  {
   "cell_type": "markdown",
   "metadata": {},
   "source": [
    "Если количество балконов не указано, скорее всего, балконов в квартире нет."
   ]
  },
  {
   "cell_type": "code",
   "execution_count": 8,
   "metadata": {},
   "outputs": [],
   "source": [
    "data['locality_name'] = data['locality_name'].fillna('unknown')"
   ]
  },
  {
   "cell_type": "markdown",
   "metadata": {},
   "source": [
    "Если населенный пункт не указан - угадать мы его не можем, следовательно, можно заменить пропуски на строку \"неизвестно\""
   ]
  },
  {
   "cell_type": "code",
   "execution_count": 9,
   "metadata": {},
   "outputs": [],
   "source": [
    "data['is_apartment'] = data['is_apartment'].fillna(False)"
   ]
  },
  {
   "cell_type": "markdown",
   "metadata": {},
   "source": [
    "Если значение параметра is_apartment не указано, скорее всего, помещение не является апартаментами."
   ]
  },
  {
   "cell_type": "code",
   "execution_count": 10,
   "metadata": {},
   "outputs": [],
   "source": [
    "data['ceiling_height'] = data['ceiling_height'].fillna(data['ceiling_height'].median())"
   ]
  },
  {
   "cell_type": "markdown",
   "metadata": {},
   "source": [
    "Высота потолков - величина, принимающая значения из некого фиксированного списка, значит, логично заполнять пропуски медианным значением"
   ]
  },
  {
   "cell_type": "code",
   "execution_count": 11,
   "metadata": {},
   "outputs": [],
   "source": [
    "for t in data['rooms'].unique():\n",
    "    data.loc[(data['rooms'] == t) & (data['living_area'].isna()), 'living_area'] = \\\n",
    "    data.loc[(data['rooms'] == t), 'living_area'].median()"
   ]
  },
  {
   "cell_type": "markdown",
   "metadata": {},
   "source": [
    "Площадь квартиры явно зависит от количества квартир, поэтому будем заполнять пропуски медианным значением среди всех квартир с тем же числом комнат."
   ]
  },
  {
   "cell_type": "code",
   "execution_count": 12,
   "metadata": {},
   "outputs": [],
   "source": [
    "data.loc[(data['studio'] == True) & (data['kitchen_area'].isna()), 'kitchen_area'] = 0\n",
    "for t in data['rooms'].unique():\n",
    "    data.loc[(data['rooms'] == t) & (data['kitchen_area'].isna()), 'kitchen_area'] = \\\n",
    "    data.loc[(data['rooms'] == t), 'kitchen_area'].median()"
   ]
  },
  {
   "cell_type": "markdown",
   "metadata": {},
   "source": [
    "Если квартира - студия, площадь ее кухни можно считать нулевой; если нет, то можно предположить, что количество комнат коррелирует с размером кухни, и заполнить опять-таки медианным значением по количеству комнат."
   ]
  },
  {
   "cell_type": "code",
   "execution_count": 13,
   "metadata": {},
   "outputs": [],
   "source": [
    "data.loc[(data['parks_nearest'].isna()) & (data['parks_around3000'].isna()), 'parks_around3000'] = 0"
   ]
  },
  {
   "cell_type": "markdown",
   "metadata": {},
   "source": [
    "Количество парков в радиусе 3 км не указано только для тех квартир, где не указана дистанция до ближайшего парка в принципе; из этого можно сделать вывод, что в радиусе 3 км от таких квартир нет парков."
   ]
  },
  {
   "cell_type": "code",
   "execution_count": 14,
   "metadata": {},
   "outputs": [],
   "source": [
    "data.loc[(data['ponds_nearest'].isna()) & (data['ponds_around3000'].isna()), 'ponds_around3000'] = 0"
   ]
  },
  {
   "cell_type": "markdown",
   "metadata": {},
   "source": [
    "Аналогично с предыдущим пунктом - количество водоёмов в радиусе 3 км не указано только для тех квартир, где не указана дистанция до ближайшего водоёма в принципе; из этого можно сделать вывод, что в радиусе 3 км от таких квартир нет водоёмов."
   ]
  },
  {
   "cell_type": "code",
   "execution_count": 15,
   "metadata": {},
   "outputs": [],
   "source": [
    "median_ft = data[data['floors_total'].notna()]['floors_total'].median()\n",
    "data['floors_total'] = data['floors_total'].fillna(median_ft)\n",
    "data.loc[data['floors_total'] < data['floor'], 'floors_total'] = data['floor']"
   ]
  },
  {
   "cell_type": "markdown",
   "metadata": {},
   "source": [
    "Количество этажей я заполнил следующим образом: сначала посчитал медианное значение этажей, потом заполнил им все пропуски, а потом там, где квартира находится на этаже выше медианного, предположил, что в таком случае можно считать, что квартира находится на послежнем этаже, и поменял количество этажей на этаж квартиры."
   ]
  },
  {
   "cell_type": "code",
   "execution_count": 16,
   "metadata": {},
   "outputs": [
    {
     "data": {
      "text/plain": [
       "total_images                0\n",
       "last_price                  0\n",
       "total_area                  0\n",
       "first_day_exposition        0\n",
       "rooms                       0\n",
       "ceiling_height              0\n",
       "floors_total                0\n",
       "living_area                 0\n",
       "floor                       0\n",
       "is_apartment                0\n",
       "studio                      0\n",
       "open_plan                   0\n",
       "kitchen_area                0\n",
       "balcony                     0\n",
       "locality_name               0\n",
       "airports_nearest         5542\n",
       "cityCenters_nearest      5519\n",
       "parks_around3000            0\n",
       "parks_nearest           15620\n",
       "ponds_around3000            0\n",
       "ponds_nearest           14589\n",
       "days_exposition          3181\n",
       "dtype: int64"
      ]
     },
     "execution_count": 16,
     "metadata": {},
     "output_type": "execute_result"
    }
   ],
   "source": [
    "data.isna().sum()"
   ]
  },
  {
   "cell_type": "markdown",
   "metadata": {},
   "source": [
    "Оставшиеся пропуски были оставлены без изменений. Показатели расстояния до ближайшего аэропорта/до центра города/ближайшего парка/ближайшего водоема, во-первых, кажутся менее важными, чме имеющаяся в таблице информация, а во-вторых - их невозможно заполнить никак, кроме подключения к проекту геолокации (или хотя бы указания адреса)).\n",
    "Отсутствие количества дней, за которые квартира была продана, может означать, что квартира еще не была продана, что тоже является довольно важным показателем, так что эти значения оставлены без изменений."
   ]
  },
  {
   "cell_type": "markdown",
   "metadata": {},
   "source": [
    "Возможные причины появления пропусков в таблице:\n",
    "- какие-то данные риэлтор посчитал непринципиальными для продажи квартиры\n",
    "- какие-то данные не были включены в объявление о продаже, потому что выставляли квартиру в невыгодном свете тем или иным образом\n",
    "- часть данных просто забыли внести (человеческий фактор)\n",
    "- отсутствие количества дней, за которые квартира была продана, может означать, что квартира еще не продана"
   ]
  },
  {
   "cell_type": "code",
   "execution_count": 17,
   "metadata": {},
   "outputs": [],
   "source": [
    "data['first_day_exposition'] = pd.to_datetime(data['first_day_exposition'], format='%Y-%m-%dT%H:%M:%S')\n",
    "data['floors_total'] = data['floors_total'].astype('int64')\n",
    "data['balcony'] = data['balcony'].astype('int64')\n",
    "data['parks_around3000'] = data['parks_around3000'].astype('int64')\n",
    "data['ponds_around3000'] = data['ponds_around3000'].astype('int64')\n",
    "data['last_price'] = data['last_price'].astype('int64')\n",
    "data['is_apartment'] = data['is_apartment'].astype('bool')"
   ]
  },
  {
   "cell_type": "markdown",
   "metadata": {},
   "source": [
    "Столбец с датой публикации нужно перевести в datetime - так с ним дальше будет удобнее работать.\n",
    "Столбцы с общим количеством этажей, количеством балконов и количеством парков/водоемов в радиусе 3 км, можно перевести в int - это явно целые числа. (столбец в количеством дней до продажи тоже можно было бы, но там не получилось это сделать из-за пропущенных значений..)\n",
    "Столбец is_apartment нужно перевести в bool, так как там значения - True или False."
   ]
  },
  {
   "cell_type": "code",
   "execution_count": 18,
   "metadata": {},
   "outputs": [
    {
     "name": "stdout",
     "output_type": "stream",
     "text": [
      "<class 'pandas.core.frame.DataFrame'>\n",
      "RangeIndex: 23699 entries, 0 to 23698\n",
      "Data columns (total 22 columns):\n",
      " #   Column                Non-Null Count  Dtype         \n",
      "---  ------                --------------  -----         \n",
      " 0   total_images          23699 non-null  int64         \n",
      " 1   last_price            23699 non-null  int64         \n",
      " 2   total_area            23699 non-null  float64       \n",
      " 3   first_day_exposition  23699 non-null  datetime64[ns]\n",
      " 4   rooms                 23699 non-null  int64         \n",
      " 5   ceiling_height        23699 non-null  float64       \n",
      " 6   floors_total          23699 non-null  int64         \n",
      " 7   living_area           23699 non-null  float64       \n",
      " 8   floor                 23699 non-null  int64         \n",
      " 9   is_apartment          23699 non-null  bool          \n",
      " 10  studio                23699 non-null  bool          \n",
      " 11  open_plan             23699 non-null  bool          \n",
      " 12  kitchen_area          23699 non-null  float64       \n",
      " 13  balcony               23699 non-null  int64         \n",
      " 14  locality_name         23699 non-null  object        \n",
      " 15  airports_nearest      18157 non-null  float64       \n",
      " 16  cityCenters_nearest   18180 non-null  float64       \n",
      " 17  parks_around3000      23699 non-null  int64         \n",
      " 18  parks_nearest         8079 non-null   float64       \n",
      " 19  ponds_around3000      23699 non-null  int64         \n",
      " 20  ponds_nearest         9110 non-null   float64       \n",
      " 21  days_exposition       20518 non-null  float64       \n",
      "dtypes: bool(3), datetime64[ns](1), float64(9), int64(8), object(1)\n",
      "memory usage: 3.5+ MB\n"
     ]
    }
   ],
   "source": [
    "data.info()"
   ]
  },
  {
   "cell_type": "code",
   "execution_count": 19,
   "metadata": {},
   "outputs": [
    {
     "data": {
      "text/plain": [
       "array(['Санкт-Петербург', 'посёлок Шушары', 'городской посёлок Янино-1',\n",
       "       'посёлок Парголово', 'посёлок Мурино', 'Ломоносов', 'Сертолово',\n",
       "       'Петергоф', 'Пушкин', 'деревня Кудрово', 'Коммунар', 'Колпино',\n",
       "       'поселок городского типа Красный Бор', 'Гатчина', 'поселок Мурино',\n",
       "       'деревня Фёдоровское', 'Выборг', 'Кронштадт', 'Кировск',\n",
       "       'деревня Новое Девяткино', 'посёлок Металлострой',\n",
       "       'посёлок городского типа Лебяжье',\n",
       "       'посёлок городского типа Сиверский', 'поселок Молодцово',\n",
       "       'поселок городского типа Кузьмоловский',\n",
       "       'садовое товарищество Новая Ропша', 'Павловск',\n",
       "       'деревня Пикколово', 'Всеволожск', 'Волхов', 'Кингисепп',\n",
       "       'Приозерск', 'Сестрорецк', 'деревня Куттузи', 'посёлок Аннино',\n",
       "       'поселок городского типа Ефимовский', 'посёлок Плодовое',\n",
       "       'деревня Заклинье', 'поселок Торковичи', 'поселок Первомайское',\n",
       "       'Красное Село', 'посёлок Понтонный', 'Сясьстрой', 'деревня Старая',\n",
       "       'деревня Лесколово', 'посёлок Новый Свет', 'Сланцы',\n",
       "       'село Путилово', 'Ивангород', 'Мурино', 'Шлиссельбург',\n",
       "       'Никольское', 'Зеленогорск', 'Сосновый Бор', 'поселок Новый Свет',\n",
       "       'деревня Оржицы', 'деревня Кальтино', 'Кудрово',\n",
       "       'поселок Романовка', 'посёлок Бугры', 'поселок Бугры',\n",
       "       'поселок городского типа Рощино', 'Кириши', 'Луга', 'Волосово',\n",
       "       'Отрадное', 'село Павлово', 'поселок Оредеж', 'село Копорье',\n",
       "       'посёлок городского типа Красный Бор', 'посёлок Молодёжное',\n",
       "       'Тихвин', 'посёлок Победа', 'деревня Нурма',\n",
       "       'поселок городского типа Синявино', 'Тосно',\n",
       "       'посёлок городского типа Кузьмоловский', 'посёлок Стрельна',\n",
       "       'Бокситогорск', 'посёлок Александровская', 'деревня Лопухинка',\n",
       "       'Пикалёво', 'поселок Терволово',\n",
       "       'поселок городского типа Советский', 'Подпорожье',\n",
       "       'посёлок Петровское', 'посёлок городского типа Токсово',\n",
       "       'поселок Сельцо', 'посёлок городского типа Вырица',\n",
       "       'деревня Кипень', 'деревня Келози', 'деревня Вартемяги',\n",
       "       'посёлок Тельмана', 'поселок Севастьяново',\n",
       "       'городской поселок Большая Ижора', 'unknown',\n",
       "       'городской посёлок Павлово', 'деревня Агалатово',\n",
       "       'посёлок Новогорелово', 'городской посёлок Лесогорский',\n",
       "       'деревня Лаголово', 'поселок Цвелодубово',\n",
       "       'поселок городского типа Рахья', 'поселок городского типа Вырица',\n",
       "       'деревня Белогорка', 'поселок Заводской',\n",
       "       'городской посёлок Новоселье', 'деревня Большие Колпаны',\n",
       "       'деревня Горбунки', 'деревня Батово', 'деревня Заневка',\n",
       "       'деревня Иссад', 'Приморск', 'городской посёлок Фёдоровское',\n",
       "       'деревня Мистолово', 'Новая Ладога', 'поселок Зимитицы',\n",
       "       'поселок Барышево', 'деревня Разметелево',\n",
       "       'поселок городского типа имени Свердлова', 'деревня Пеники',\n",
       "       'поселок Рябово', 'деревня Пудомяги', 'поселок станции Корнево',\n",
       "       'деревня Низино', 'деревня Бегуницы', 'посёлок Поляны',\n",
       "       'городской посёлок Мга', 'поселок Елизаветино',\n",
       "       'посёлок городского типа Кузнечное', 'деревня Колтуши',\n",
       "       'поселок Запорожское', 'посёлок городского типа Рощино',\n",
       "       'деревня Гостилицы', 'деревня Малое Карлино',\n",
       "       'посёлок Мичуринское', 'посёлок городского типа имени Морозова',\n",
       "       'посёлок Песочный', 'посёлок Сосново', 'деревня Аро',\n",
       "       'поселок Ильичёво', 'посёлок городского типа Тайцы',\n",
       "       'деревня Малое Верево', 'деревня Извара', 'поселок станции Вещево',\n",
       "       'село Паша', 'деревня Калитино',\n",
       "       'посёлок городского типа Ульяновка', 'деревня Чудской Бор',\n",
       "       'поселок городского типа Дубровка', 'деревня Мины',\n",
       "       'поселок Войсковицы', 'посёлок городского типа имени Свердлова',\n",
       "       'деревня Коркино', 'посёлок Ропша',\n",
       "       'поселок городского типа Приладожский', 'посёлок Щеглово',\n",
       "       'посёлок Гаврилово', 'Лодейное Поле', 'деревня Рабитицы',\n",
       "       'поселок городского типа Никольский', 'деревня Кузьмолово',\n",
       "       'деревня Малые Колпаны', 'поселок Тельмана',\n",
       "       'посёлок Петро-Славянка', 'городской посёлок Назия',\n",
       "       'посёлок Репино', 'посёлок Ильичёво', 'поселок Углово',\n",
       "       'поселок Старая Малукса', 'садовое товарищество Рахья',\n",
       "       'поселок Аннино', 'поселок Победа', 'деревня Меньково',\n",
       "       'деревня Старые Бегуницы', 'посёлок Сапёрный', 'поселок Семрино',\n",
       "       'поселок Гаврилово', 'поселок Глажево', 'поселок Кобринское',\n",
       "       'деревня Гарболово', 'деревня Юкки',\n",
       "       'поселок станции Приветнинское', 'деревня Мануйлово',\n",
       "       'деревня Пчева', 'поселок Поляны', 'поселок Цвылёво',\n",
       "       'поселок Мельниково', 'посёлок Пудость', 'посёлок Усть-Луга',\n",
       "       'Светогорск', 'Любань', 'поселок Селезнёво',\n",
       "       'поселок городского типа Рябово', 'Каменногорск', 'деревня Кривко',\n",
       "       'поселок Глебычево', 'деревня Парицы', 'поселок Жилпосёлок',\n",
       "       'посёлок городского типа Мга', 'городской поселок Янино-1',\n",
       "       'посёлок Войскорово', 'село Никольское', 'посёлок Терволово',\n",
       "       'поселок Стеклянный', 'посёлок городского типа Важины',\n",
       "       'посёлок Мыза-Ивановка', 'село Русско-Высоцкое',\n",
       "       'поселок городского типа Лебяжье',\n",
       "       'поселок городского типа Форносово', 'село Старая Ладога',\n",
       "       'поселок Житково', 'городской посёлок Виллози', 'деревня Лампово',\n",
       "       'деревня Шпаньково', 'деревня Лаврики', 'посёлок Сумино',\n",
       "       'посёлок Возрождение', 'деревня Старосиверская',\n",
       "       'посёлок Кикерино', 'поселок Возрождение',\n",
       "       'деревня Старое Хинколово', 'посёлок Пригородный',\n",
       "       'посёлок Торфяное', 'городской посёлок Будогощь',\n",
       "       'поселок Суходолье', 'поселок Красная Долина', 'деревня Хапо-Ое',\n",
       "       'поселок городского типа Дружная Горка', 'поселок Лисий Нос',\n",
       "       'деревня Яльгелево', 'посёлок Стеклянный', 'село Рождествено',\n",
       "       'деревня Старополье', 'посёлок Левашово', 'деревня Сяськелево',\n",
       "       'деревня Камышовка',\n",
       "       'садоводческое некоммерческое товарищество Лесная Поляна',\n",
       "       'деревня Хязельки', 'поселок Жилгородок',\n",
       "       'посёлок городского типа Павлово', 'деревня Ялгино',\n",
       "       'поселок Новый Учхоз', 'городской посёлок Рощино',\n",
       "       'поселок Гончарово', 'поселок Почап', 'посёлок Сапёрное',\n",
       "       'посёлок Платформа 69-й километр', 'поселок Каложицы',\n",
       "       'деревня Фалилеево', 'деревня Пельгора',\n",
       "       'поселок городского типа Лесогорский', 'деревня Торошковичи',\n",
       "       'посёлок Белоостров', 'посёлок Алексеевка', 'поселок Серебрянский',\n",
       "       'поселок Лукаши', 'поселок Петровское', 'деревня Щеглово',\n",
       "       'поселок Мичуринское', 'деревня Тарасово', 'поселок Кингисеппский',\n",
       "       'посёлок при железнодорожной станции Вещево', 'поселок Ушаки',\n",
       "       'деревня Котлы', 'деревня Сижно', 'деревня Торосово',\n",
       "       'посёлок Форт Красная Горка', 'поселок городского типа Токсово',\n",
       "       'деревня Новолисино', 'посёлок станции Громово', 'деревня Глинка',\n",
       "       'посёлок Мельниково', 'поселок городского типа Назия',\n",
       "       'деревня Старая Пустошь', 'поселок Коммунары', 'поселок Починок',\n",
       "       'посёлок городского типа Вознесенье', 'деревня Разбегаево',\n",
       "       'посёлок городского типа Рябово', 'поселок Гладкое',\n",
       "       'посёлок при железнодорожной станции Приветнинское',\n",
       "       'поселок Тёсово-4', 'посёлок Жилгородок', 'деревня Бор',\n",
       "       'посёлок Коробицыно', 'деревня Большая Вруда', 'деревня Курковицы',\n",
       "       'посёлок Лисий Нос', 'городской посёлок Советский',\n",
       "       'посёлок Кобралово', 'деревня Суоранда', 'поселок Кобралово',\n",
       "       'поселок городского типа Кондратьево',\n",
       "       'коттеджный поселок Счастье', 'поселок Любань', 'деревня Реброво',\n",
       "       'деревня Зимитицы', 'деревня Тойворово', 'поселок Семиозерье',\n",
       "       'поселок Лесное', 'поселок Совхозный', 'поселок Усть-Луга',\n",
       "       'посёлок Ленинское', 'посёлок Суйда',\n",
       "       'посёлок городского типа Форносово', 'деревня Нижние Осельки',\n",
       "       'посёлок станции Свирь', 'поселок Перово', 'Высоцк',\n",
       "       'поселок Гарболово', 'село Шум', 'поселок Котельский',\n",
       "       'поселок станции Лужайка', 'деревня Большая Пустомержа',\n",
       "       'поселок Красносельское', 'деревня Вахнова Кара', 'деревня Пижма',\n",
       "       'коттеджный поселок Кивеннапа Север', 'поселок Коробицыно',\n",
       "       'поселок Ромашки', 'посёлок Перово', 'деревня Каськово',\n",
       "       'деревня Куровицы', 'посёлок Плоское', 'поселок Сумино',\n",
       "       'поселок городского типа Большая Ижора', 'поселок Кирпичное',\n",
       "       'деревня Ям-Тесово', 'деревня Раздолье', 'деревня Терпилицы',\n",
       "       'посёлок Шугозеро', 'деревня Ваганово', 'поселок Пушное',\n",
       "       'садовое товарищество Садко', 'посёлок Усть-Ижора',\n",
       "       'деревня Выскатка', 'городской посёлок Свирьстрой',\n",
       "       'поселок Громово', 'деревня Кисельня', 'посёлок Старая Малукса',\n",
       "       'деревня Трубников Бор', 'поселок Калитино',\n",
       "       'посёлок Высокоключевой', 'садовое товарищество Приладожский',\n",
       "       'посёлок Пансионат Зелёный Бор', 'деревня Ненимяки',\n",
       "       'поселок Пансионат Зелёный Бор', 'деревня Снегирёвка',\n",
       "       'деревня Рапполово', 'деревня Пустынка', 'поселок Рабитицы',\n",
       "       'деревня Большой Сабск', 'деревня Русско', 'деревня Лупполово',\n",
       "       'деревня Большое Рейзино', 'деревня Малая Романовка',\n",
       "       'поселок Дружноселье', 'поселок Пчевжа', 'поселок Володарское',\n",
       "       'деревня Нижняя', 'коттеджный посёлок Лесное', 'деревня Тихковицы',\n",
       "       'деревня Борисова Грива', 'посёлок Дзержинского'], dtype=object)"
      ]
     },
     "execution_count": 19,
     "metadata": {},
     "output_type": "execute_result"
    }
   ],
   "source": [
    "data['locality_name'].unique()\n"
   ]
  },
  {
   "cell_type": "code",
   "execution_count": 20,
   "metadata": {},
   "outputs": [],
   "source": [
    "duplicates_poselok = ['поселок городского типа', 'посёлок городского типа', 'поселок при железнодорожной станции',\\\n",
    "                      'посёлок при железнодорожной станции', 'коттеджный поселок', 'коттеджный посёлок', 'поселок', \\\n",
    "                     'городской поселок', 'городской посёлок', 'поселок станции', 'посёлок станции']\n",
    "duplicates_snt = ['садовое товарищество', 'садоводческое товарищество', 'садовое некоммерческое товарищество', \\\n",
    "                 'садоводческое некоммерческое товарищество']\n",
    "data['locality_name'] = data['locality_name'].replace(duplicates_poselok, 'посёлок', regex=True)\n",
    "data['locality_name'] = data['locality_name'].replace(duplicates_snt, 'СНТ', regex=True)"
   ]
  },
  {
   "cell_type": "code",
   "execution_count": 21,
   "metadata": {},
   "outputs": [
    {
     "data": {
      "text/plain": [
       "array(['Санкт-Петербург', 'посёлок Шушары', 'посёлок Янино-1',\n",
       "       'посёлок Парголово', 'посёлок Мурино', 'Ломоносов', 'Сертолово',\n",
       "       'Петергоф', 'Пушкин', 'деревня Кудрово', 'Коммунар', 'Колпино',\n",
       "       'посёлок Красный Бор', 'Гатчина', 'деревня Фёдоровское', 'Выборг',\n",
       "       'Кронштадт', 'Кировск', 'деревня Новое Девяткино',\n",
       "       'посёлок Металлострой', 'посёлок Лебяжье', 'посёлок Сиверский',\n",
       "       'посёлок Молодцово', 'посёлок Кузьмоловский', 'СНТ Новая Ропша',\n",
       "       'Павловск', 'деревня Пикколово', 'Всеволожск', 'Волхов',\n",
       "       'Кингисепп', 'Приозерск', 'Сестрорецк', 'деревня Куттузи',\n",
       "       'посёлок Аннино', 'посёлок Ефимовский', 'посёлок Плодовое',\n",
       "       'деревня Заклинье', 'посёлок Торковичи', 'посёлок Первомайское',\n",
       "       'Красное Село', 'посёлок Понтонный', 'Сясьстрой', 'деревня Старая',\n",
       "       'деревня Лесколово', 'посёлок Новый Свет', 'Сланцы',\n",
       "       'село Путилово', 'Ивангород', 'Мурино', 'Шлиссельбург',\n",
       "       'Никольское', 'Зеленогорск', 'Сосновый Бор', 'деревня Оржицы',\n",
       "       'деревня Кальтино', 'Кудрово', 'посёлок Романовка',\n",
       "       'посёлок Бугры', 'посёлок Рощино', 'Кириши', 'Луга', 'Волосово',\n",
       "       'Отрадное', 'село Павлово', 'посёлок Оредеж', 'село Копорье',\n",
       "       'посёлок Молодёжное', 'Тихвин', 'посёлок Победа', 'деревня Нурма',\n",
       "       'посёлок Синявино', 'Тосно', 'посёлок Стрельна', 'Бокситогорск',\n",
       "       'посёлок Александровская', 'деревня Лопухинка', 'Пикалёво',\n",
       "       'посёлок Терволово', 'посёлок Советский', 'Подпорожье',\n",
       "       'посёлок Петровское', 'посёлок Токсово', 'посёлок Сельцо',\n",
       "       'посёлок Вырица', 'деревня Кипень', 'деревня Келози',\n",
       "       'деревня Вартемяги', 'посёлок Тельмана', 'посёлок Севастьяново',\n",
       "       'городской посёлок Большая Ижора', 'unknown', 'посёлок Павлово',\n",
       "       'деревня Агалатово', 'посёлок Новогорелово', 'посёлок Лесогорский',\n",
       "       'деревня Лаголово', 'посёлок Цвелодубово', 'посёлок Рахья',\n",
       "       'деревня Белогорка', 'посёлок Заводской', 'посёлок Новоселье',\n",
       "       'деревня Большие Колпаны', 'деревня Горбунки', 'деревня Батово',\n",
       "       'деревня Заневка', 'деревня Иссад', 'Приморск',\n",
       "       'посёлок Фёдоровское', 'деревня Мистолово', 'Новая Ладога',\n",
       "       'посёлок Зимитицы', 'посёлок Барышево', 'деревня Разметелево',\n",
       "       'посёлок имени Свердлова', 'деревня Пеники', 'посёлок Рябово',\n",
       "       'деревня Пудомяги', 'посёлок станции Корнево', 'деревня Низино',\n",
       "       'деревня Бегуницы', 'посёлок Поляны', 'посёлок Мга',\n",
       "       'посёлок Елизаветино', 'посёлок Кузнечное', 'деревня Колтуши',\n",
       "       'посёлок Запорожское', 'деревня Гостилицы',\n",
       "       'деревня Малое Карлино', 'посёлок Мичуринское',\n",
       "       'посёлок имени Морозова', 'посёлок Песочный', 'посёлок Сосново',\n",
       "       'деревня Аро', 'посёлок Ильичёво', 'посёлок Тайцы',\n",
       "       'деревня Малое Верево', 'деревня Извара', 'посёлок станции Вещево',\n",
       "       'село Паша', 'деревня Калитино', 'посёлок Ульяновка',\n",
       "       'деревня Чудской Бор', 'посёлок Дубровка', 'деревня Мины',\n",
       "       'посёлок Войсковицы', 'деревня Коркино', 'посёлок Ропша',\n",
       "       'посёлок Приладожский', 'посёлок Щеглово', 'посёлок Гаврилово',\n",
       "       'Лодейное Поле', 'деревня Рабитицы', 'посёлок Никольский',\n",
       "       'деревня Кузьмолово', 'деревня Малые Колпаны',\n",
       "       'посёлок Петро-Славянка', 'посёлок Назия', 'посёлок Репино',\n",
       "       'посёлок Углово', 'посёлок Старая Малукса', 'СНТ Рахья',\n",
       "       'деревня Меньково', 'деревня Старые Бегуницы', 'посёлок Сапёрный',\n",
       "       'посёлок Семрино', 'посёлок Глажево', 'посёлок Кобринское',\n",
       "       'деревня Гарболово', 'деревня Юкки',\n",
       "       'посёлок станции Приветнинское', 'деревня Мануйлово',\n",
       "       'деревня Пчева', 'посёлок Цвылёво', 'посёлок Мельниково',\n",
       "       'посёлок Пудость', 'посёлок Усть-Луга', 'Светогорск', 'Любань',\n",
       "       'посёлок Селезнёво', 'Каменногорск', 'деревня Кривко',\n",
       "       'посёлок Глебычево', 'деревня Парицы', 'посёлок Жилпосёлок',\n",
       "       'городской посёлок Янино-1', 'посёлок Войскорово',\n",
       "       'село Никольское', 'посёлок Стеклянный', 'посёлок Важины',\n",
       "       'посёлок Мыза-Ивановка', 'село Русско-Высоцкое',\n",
       "       'посёлок Форносово', 'село Старая Ладога', 'посёлок Житково',\n",
       "       'посёлок Виллози', 'деревня Лампово', 'деревня Шпаньково',\n",
       "       'деревня Лаврики', 'посёлок Сумино', 'посёлок Возрождение',\n",
       "       'деревня Старосиверская', 'посёлок Кикерино',\n",
       "       'деревня Старое Хинколово', 'посёлок Пригородный',\n",
       "       'посёлок Торфяное', 'посёлок Будогощь', 'посёлок Суходолье',\n",
       "       'посёлок Красная Долина', 'деревня Хапо-Ое',\n",
       "       'посёлок Дружная Горка', 'посёлок Лисий Нос', 'деревня Яльгелево',\n",
       "       'село Рождествено', 'деревня Старополье', 'посёлок Левашово',\n",
       "       'деревня Сяськелево', 'деревня Камышовка', 'СНТ Лесная Поляна',\n",
       "       'деревня Хязельки', 'посёлок Жилгородок', 'деревня Ялгино',\n",
       "       'посёлок Новый Учхоз', 'посёлок Гончарово', 'посёлок Почап',\n",
       "       'посёлок Сапёрное', 'посёлок Платформа 69-й километр',\n",
       "       'посёлок Каложицы', 'деревня Фалилеево', 'деревня Пельгора',\n",
       "       'деревня Торошковичи', 'посёлок Белоостров', 'посёлок Алексеевка',\n",
       "       'посёлок Серебрянский', 'посёлок Лукаши', 'деревня Щеглово',\n",
       "       'деревня Тарасово', 'посёлок Кингисеппский', 'посёлок Вещево',\n",
       "       'посёлок Ушаки', 'деревня Котлы', 'деревня Сижно',\n",
       "       'деревня Торосово', 'посёлок Форт Красная Горка',\n",
       "       'деревня Новолисино', 'посёлок Громово', 'деревня Глинка',\n",
       "       'деревня Старая Пустошь', 'посёлок Коммунары', 'посёлок Починок',\n",
       "       'посёлок Вознесенье', 'деревня Разбегаево', 'посёлок Гладкое',\n",
       "       'посёлок Приветнинское', 'посёлок Тёсово-4', 'деревня Бор',\n",
       "       'посёлок Коробицыно', 'деревня Большая Вруда', 'деревня Курковицы',\n",
       "       'посёлок Кобралово', 'деревня Суоранда', 'посёлок Кондратьево',\n",
       "       'посёлок Счастье', 'посёлок Любань', 'деревня Реброво',\n",
       "       'деревня Зимитицы', 'деревня Тойворово', 'посёлок Семиозерье',\n",
       "       'посёлок Лесное', 'посёлок Совхозный', 'посёлок Ленинское',\n",
       "       'посёлок Суйда', 'деревня Нижние Осельки', 'посёлок Свирь',\n",
       "       'посёлок Перово', 'Высоцк', 'посёлок Гарболово', 'село Шум',\n",
       "       'посёлок Котельский', 'посёлок станции Лужайка',\n",
       "       'деревня Большая Пустомержа', 'посёлок Красносельское',\n",
       "       'деревня Вахнова Кара', 'деревня Пижма', 'посёлок Кивеннапа Север',\n",
       "       'посёлок Ромашки', 'деревня Каськово', 'деревня Куровицы',\n",
       "       'посёлок Плоское', 'посёлок Большая Ижора', 'посёлок Кирпичное',\n",
       "       'деревня Ям-Тесово', 'деревня Раздолье', 'деревня Терпилицы',\n",
       "       'посёлок Шугозеро', 'деревня Ваганово', 'посёлок Пушное',\n",
       "       'СНТ Садко', 'посёлок Усть-Ижора', 'деревня Выскатка',\n",
       "       'посёлок Свирьстрой', 'деревня Кисельня', 'деревня Трубников Бор',\n",
       "       'посёлок Калитино', 'посёлок Высокоключевой', 'СНТ Приладожский',\n",
       "       'посёлок Пансионат Зелёный Бор', 'деревня Ненимяки',\n",
       "       'деревня Снегирёвка', 'деревня Рапполово', 'деревня Пустынка',\n",
       "       'посёлок Рабитицы', 'деревня Большой Сабск', 'деревня Русско',\n",
       "       'деревня Лупполово', 'деревня Большое Рейзино',\n",
       "       'деревня Малая Романовка', 'посёлок Дружноселье', 'посёлок Пчевжа',\n",
       "       'посёлок Володарское', 'деревня Нижняя', 'деревня Тихковицы',\n",
       "       'деревня Борисова Грива', 'посёлок Дзержинского'], dtype=object)"
      ]
     },
     "execution_count": 21,
     "metadata": {},
     "output_type": "execute_result"
    }
   ],
   "source": [
    "data['locality_name'].unique()"
   ]
  },
  {
   "cell_type": "code",
   "execution_count": 22,
   "metadata": {},
   "outputs": [],
   "source": [
    "data['locality_name'] = data['locality_name'].replace('посёлок Жилпосёлок', 'посёлок Жилгородок') \n",
    "#видимо, регулярка случайно поменяла название поселка :)"
   ]
  },
  {
   "cell_type": "code",
   "execution_count": 23,
   "metadata": {},
   "outputs": [
    {
     "data": {
      "text/plain": [
       "array(['Санкт-Петербург', 'посёлок Шушары', 'посёлок Янино-1',\n",
       "       'посёлок Парголово', 'посёлок Мурино', 'Ломоносов', 'Сертолово',\n",
       "       'Петергоф', 'Пушкин', 'деревня Кудрово', 'Коммунар', 'Колпино',\n",
       "       'посёлок Красный Бор', 'Гатчина', 'деревня Фёдоровское', 'Выборг',\n",
       "       'Кронштадт', 'Кировск', 'деревня Новое Девяткино',\n",
       "       'посёлок Металлострой', 'посёлок Лебяжье', 'посёлок Сиверский',\n",
       "       'посёлок Молодцово', 'посёлок Кузьмоловский', 'СНТ Новая Ропша',\n",
       "       'Павловск', 'деревня Пикколово', 'Всеволожск', 'Волхов',\n",
       "       'Кингисепп', 'Приозерск', 'Сестрорецк', 'деревня Куттузи',\n",
       "       'посёлок Аннино', 'посёлок Ефимовский', 'посёлок Плодовое',\n",
       "       'деревня Заклинье', 'посёлок Торковичи', 'посёлок Первомайское',\n",
       "       'Красное Село', 'посёлок Понтонный', 'Сясьстрой', 'деревня Старая',\n",
       "       'деревня Лесколово', 'посёлок Новый Свет', 'Сланцы',\n",
       "       'село Путилово', 'Ивангород', 'Мурино', 'Шлиссельбург',\n",
       "       'Никольское', 'Зеленогорск', 'Сосновый Бор', 'деревня Оржицы',\n",
       "       'деревня Кальтино', 'Кудрово', 'посёлок Романовка',\n",
       "       'посёлок Бугры', 'посёлок Рощино', 'Кириши', 'Луга', 'Волосово',\n",
       "       'Отрадное', 'село Павлово', 'посёлок Оредеж', 'село Копорье',\n",
       "       'посёлок Молодёжное', 'Тихвин', 'посёлок Победа', 'деревня Нурма',\n",
       "       'посёлок Синявино', 'Тосно', 'посёлок Стрельна', 'Бокситогорск',\n",
       "       'посёлок Александровская', 'деревня Лопухинка', 'Пикалёво',\n",
       "       'посёлок Терволово', 'посёлок Советский', 'Подпорожье',\n",
       "       'посёлок Петровское', 'посёлок Токсово', 'посёлок Сельцо',\n",
       "       'посёлок Вырица', 'деревня Кипень', 'деревня Келози',\n",
       "       'деревня Вартемяги', 'посёлок Тельмана', 'посёлок Севастьяново',\n",
       "       'городской посёлок Большая Ижора', 'unknown', 'посёлок Павлово',\n",
       "       'деревня Агалатово', 'посёлок Новогорелово', 'посёлок Лесогорский',\n",
       "       'деревня Лаголово', 'посёлок Цвелодубово', 'посёлок Рахья',\n",
       "       'деревня Белогорка', 'посёлок Заводской', 'посёлок Новоселье',\n",
       "       'деревня Большие Колпаны', 'деревня Горбунки', 'деревня Батово',\n",
       "       'деревня Заневка', 'деревня Иссад', 'Приморск',\n",
       "       'посёлок Фёдоровское', 'деревня Мистолово', 'Новая Ладога',\n",
       "       'посёлок Зимитицы', 'посёлок Барышево', 'деревня Разметелево',\n",
       "       'посёлок имени Свердлова', 'деревня Пеники', 'посёлок Рябово',\n",
       "       'деревня Пудомяги', 'посёлок станции Корнево', 'деревня Низино',\n",
       "       'деревня Бегуницы', 'посёлок Поляны', 'посёлок Мга',\n",
       "       'посёлок Елизаветино', 'посёлок Кузнечное', 'деревня Колтуши',\n",
       "       'посёлок Запорожское', 'деревня Гостилицы',\n",
       "       'деревня Малое Карлино', 'посёлок Мичуринское',\n",
       "       'посёлок имени Морозова', 'посёлок Песочный', 'посёлок Сосново',\n",
       "       'деревня Аро', 'посёлок Ильичёво', 'посёлок Тайцы',\n",
       "       'деревня Малое Верево', 'деревня Извара', 'посёлок станции Вещево',\n",
       "       'село Паша', 'деревня Калитино', 'посёлок Ульяновка',\n",
       "       'деревня Чудской Бор', 'посёлок Дубровка', 'деревня Мины',\n",
       "       'посёлок Войсковицы', 'деревня Коркино', 'посёлок Ропша',\n",
       "       'посёлок Приладожский', 'посёлок Щеглово', 'посёлок Гаврилово',\n",
       "       'Лодейное Поле', 'деревня Рабитицы', 'посёлок Никольский',\n",
       "       'деревня Кузьмолово', 'деревня Малые Колпаны',\n",
       "       'посёлок Петро-Славянка', 'посёлок Назия', 'посёлок Репино',\n",
       "       'посёлок Углово', 'посёлок Старая Малукса', 'СНТ Рахья',\n",
       "       'деревня Меньково', 'деревня Старые Бегуницы', 'посёлок Сапёрный',\n",
       "       'посёлок Семрино', 'посёлок Глажево', 'посёлок Кобринское',\n",
       "       'деревня Гарболово', 'деревня Юкки',\n",
       "       'посёлок станции Приветнинское', 'деревня Мануйлово',\n",
       "       'деревня Пчева', 'посёлок Цвылёво', 'посёлок Мельниково',\n",
       "       'посёлок Пудость', 'посёлок Усть-Луга', 'Светогорск', 'Любань',\n",
       "       'посёлок Селезнёво', 'Каменногорск', 'деревня Кривко',\n",
       "       'посёлок Глебычево', 'деревня Парицы', 'посёлок Жилгородок',\n",
       "       'городской посёлок Янино-1', 'посёлок Войскорово',\n",
       "       'село Никольское', 'посёлок Стеклянный', 'посёлок Важины',\n",
       "       'посёлок Мыза-Ивановка', 'село Русско-Высоцкое',\n",
       "       'посёлок Форносово', 'село Старая Ладога', 'посёлок Житково',\n",
       "       'посёлок Виллози', 'деревня Лампово', 'деревня Шпаньково',\n",
       "       'деревня Лаврики', 'посёлок Сумино', 'посёлок Возрождение',\n",
       "       'деревня Старосиверская', 'посёлок Кикерино',\n",
       "       'деревня Старое Хинколово', 'посёлок Пригородный',\n",
       "       'посёлок Торфяное', 'посёлок Будогощь', 'посёлок Суходолье',\n",
       "       'посёлок Красная Долина', 'деревня Хапо-Ое',\n",
       "       'посёлок Дружная Горка', 'посёлок Лисий Нос', 'деревня Яльгелево',\n",
       "       'село Рождествено', 'деревня Старополье', 'посёлок Левашово',\n",
       "       'деревня Сяськелево', 'деревня Камышовка', 'СНТ Лесная Поляна',\n",
       "       'деревня Хязельки', 'деревня Ялгино', 'посёлок Новый Учхоз',\n",
       "       'посёлок Гончарово', 'посёлок Почап', 'посёлок Сапёрное',\n",
       "       'посёлок Платформа 69-й километр', 'посёлок Каложицы',\n",
       "       'деревня Фалилеево', 'деревня Пельгора', 'деревня Торошковичи',\n",
       "       'посёлок Белоостров', 'посёлок Алексеевка', 'посёлок Серебрянский',\n",
       "       'посёлок Лукаши', 'деревня Щеглово', 'деревня Тарасово',\n",
       "       'посёлок Кингисеппский', 'посёлок Вещево', 'посёлок Ушаки',\n",
       "       'деревня Котлы', 'деревня Сижно', 'деревня Торосово',\n",
       "       'посёлок Форт Красная Горка', 'деревня Новолисино',\n",
       "       'посёлок Громово', 'деревня Глинка', 'деревня Старая Пустошь',\n",
       "       'посёлок Коммунары', 'посёлок Починок', 'посёлок Вознесенье',\n",
       "       'деревня Разбегаево', 'посёлок Гладкое', 'посёлок Приветнинское',\n",
       "       'посёлок Тёсово-4', 'деревня Бор', 'посёлок Коробицыно',\n",
       "       'деревня Большая Вруда', 'деревня Курковицы', 'посёлок Кобралово',\n",
       "       'деревня Суоранда', 'посёлок Кондратьево', 'посёлок Счастье',\n",
       "       'посёлок Любань', 'деревня Реброво', 'деревня Зимитицы',\n",
       "       'деревня Тойворово', 'посёлок Семиозерье', 'посёлок Лесное',\n",
       "       'посёлок Совхозный', 'посёлок Ленинское', 'посёлок Суйда',\n",
       "       'деревня Нижние Осельки', 'посёлок Свирь', 'посёлок Перово',\n",
       "       'Высоцк', 'посёлок Гарболово', 'село Шум', 'посёлок Котельский',\n",
       "       'посёлок станции Лужайка', 'деревня Большая Пустомержа',\n",
       "       'посёлок Красносельское', 'деревня Вахнова Кара', 'деревня Пижма',\n",
       "       'посёлок Кивеннапа Север', 'посёлок Ромашки', 'деревня Каськово',\n",
       "       'деревня Куровицы', 'посёлок Плоское', 'посёлок Большая Ижора',\n",
       "       'посёлок Кирпичное', 'деревня Ям-Тесово', 'деревня Раздолье',\n",
       "       'деревня Терпилицы', 'посёлок Шугозеро', 'деревня Ваганово',\n",
       "       'посёлок Пушное', 'СНТ Садко', 'посёлок Усть-Ижора',\n",
       "       'деревня Выскатка', 'посёлок Свирьстрой', 'деревня Кисельня',\n",
       "       'деревня Трубников Бор', 'посёлок Калитино',\n",
       "       'посёлок Высокоключевой', 'СНТ Приладожский',\n",
       "       'посёлок Пансионат Зелёный Бор', 'деревня Ненимяки',\n",
       "       'деревня Снегирёвка', 'деревня Рапполово', 'деревня Пустынка',\n",
       "       'посёлок Рабитицы', 'деревня Большой Сабск', 'деревня Русско',\n",
       "       'деревня Лупполово', 'деревня Большое Рейзино',\n",
       "       'деревня Малая Романовка', 'посёлок Дружноселье', 'посёлок Пчевжа',\n",
       "       'посёлок Володарское', 'деревня Нижняя', 'деревня Тихковицы',\n",
       "       'деревня Борисова Грива', 'посёлок Дзержинского'], dtype=object)"
      ]
     },
     "execution_count": 23,
     "metadata": {},
     "output_type": "execute_result"
    }
   ],
   "source": [
    "data['locality_name'].unique()"
   ]
  },
  {
   "cell_type": "code",
   "execution_count": 24,
   "metadata": {},
   "outputs": [
    {
     "data": {
      "text/html": [
       "<div>\n",
       "<style scoped>\n",
       "    .dataframe tbody tr th:only-of-type {\n",
       "        vertical-align: middle;\n",
       "    }\n",
       "\n",
       "    .dataframe tbody tr th {\n",
       "        vertical-align: top;\n",
       "    }\n",
       "\n",
       "    .dataframe thead th {\n",
       "        text-align: right;\n",
       "    }\n",
       "</style>\n",
       "<table border=\"1\" class=\"dataframe\">\n",
       "  <thead>\n",
       "    <tr style=\"text-align: right;\">\n",
       "      <th></th>\n",
       "      <th>total_images</th>\n",
       "      <th>last_price</th>\n",
       "      <th>total_area</th>\n",
       "      <th>first_day_exposition</th>\n",
       "      <th>rooms</th>\n",
       "      <th>ceiling_height</th>\n",
       "      <th>floors_total</th>\n",
       "      <th>living_area</th>\n",
       "      <th>floor</th>\n",
       "      <th>is_apartment</th>\n",
       "      <th>...</th>\n",
       "      <th>kitchen_area</th>\n",
       "      <th>balcony</th>\n",
       "      <th>locality_name</th>\n",
       "      <th>airports_nearest</th>\n",
       "      <th>cityCenters_nearest</th>\n",
       "      <th>parks_around3000</th>\n",
       "      <th>parks_nearest</th>\n",
       "      <th>ponds_around3000</th>\n",
       "      <th>ponds_nearest</th>\n",
       "      <th>days_exposition</th>\n",
       "    </tr>\n",
       "  </thead>\n",
       "  <tbody>\n",
       "    <tr>\n",
       "      <th>12667</th>\n",
       "      <td>50</td>\n",
       "      <td>20500000</td>\n",
       "      <td>76.0</td>\n",
       "      <td>2017-12-10</td>\n",
       "      <td>3</td>\n",
       "      <td>2.65</td>\n",
       "      <td>20</td>\n",
       "      <td>47.00</td>\n",
       "      <td>16</td>\n",
       "      <td>False</td>\n",
       "      <td>...</td>\n",
       "      <td>29.0</td>\n",
       "      <td>0</td>\n",
       "      <td>Санкт-Петербург</td>\n",
       "      <td>50812.0</td>\n",
       "      <td>16141.0</td>\n",
       "      <td>0</td>\n",
       "      <td>NaN</td>\n",
       "      <td>0</td>\n",
       "      <td>NaN</td>\n",
       "      <td>5.0</td>\n",
       "    </tr>\n",
       "    <tr>\n",
       "      <th>9778</th>\n",
       "      <td>50</td>\n",
       "      <td>11000000</td>\n",
       "      <td>87.0</td>\n",
       "      <td>2017-10-25</td>\n",
       "      <td>2</td>\n",
       "      <td>2.65</td>\n",
       "      <td>25</td>\n",
       "      <td>32.50</td>\n",
       "      <td>11</td>\n",
       "      <td>False</td>\n",
       "      <td>...</td>\n",
       "      <td>31.0</td>\n",
       "      <td>5</td>\n",
       "      <td>Санкт-Петербург</td>\n",
       "      <td>9586.0</td>\n",
       "      <td>11649.0</td>\n",
       "      <td>0</td>\n",
       "      <td>NaN</td>\n",
       "      <td>0</td>\n",
       "      <td>NaN</td>\n",
       "      <td>3.0</td>\n",
       "    </tr>\n",
       "    <tr>\n",
       "      <th>17396</th>\n",
       "      <td>50</td>\n",
       "      <td>14500000</td>\n",
       "      <td>119.7</td>\n",
       "      <td>2017-12-02</td>\n",
       "      <td>4</td>\n",
       "      <td>4.00</td>\n",
       "      <td>4</td>\n",
       "      <td>87.50</td>\n",
       "      <td>3</td>\n",
       "      <td>False</td>\n",
       "      <td>...</td>\n",
       "      <td>13.5</td>\n",
       "      <td>0</td>\n",
       "      <td>Санкт-Петербург</td>\n",
       "      <td>24375.0</td>\n",
       "      <td>2410.0</td>\n",
       "      <td>1</td>\n",
       "      <td>551.0</td>\n",
       "      <td>2</td>\n",
       "      <td>617.0</td>\n",
       "      <td>106.0</td>\n",
       "    </tr>\n",
       "    <tr>\n",
       "      <th>15157</th>\n",
       "      <td>42</td>\n",
       "      <td>17998000</td>\n",
       "      <td>138.6</td>\n",
       "      <td>2017-09-27</td>\n",
       "      <td>4</td>\n",
       "      <td>2.65</td>\n",
       "      <td>18</td>\n",
       "      <td>93.10</td>\n",
       "      <td>17</td>\n",
       "      <td>False</td>\n",
       "      <td>...</td>\n",
       "      <td>16.0</td>\n",
       "      <td>2</td>\n",
       "      <td>Санкт-Петербург</td>\n",
       "      <td>34991.0</td>\n",
       "      <td>11920.0</td>\n",
       "      <td>0</td>\n",
       "      <td>NaN</td>\n",
       "      <td>0</td>\n",
       "      <td>NaN</td>\n",
       "      <td>172.0</td>\n",
       "    </tr>\n",
       "    <tr>\n",
       "      <th>1058</th>\n",
       "      <td>39</td>\n",
       "      <td>1900000</td>\n",
       "      <td>63.0</td>\n",
       "      <td>2017-09-29</td>\n",
       "      <td>3</td>\n",
       "      <td>2.65</td>\n",
       "      <td>5</td>\n",
       "      <td>44.20</td>\n",
       "      <td>5</td>\n",
       "      <td>False</td>\n",
       "      <td>...</td>\n",
       "      <td>6.3</td>\n",
       "      <td>1</td>\n",
       "      <td>деревня Лопухинка</td>\n",
       "      <td>NaN</td>\n",
       "      <td>NaN</td>\n",
       "      <td>0</td>\n",
       "      <td>NaN</td>\n",
       "      <td>0</td>\n",
       "      <td>NaN</td>\n",
       "      <td>106.0</td>\n",
       "    </tr>\n",
       "    <tr>\n",
       "      <th>...</th>\n",
       "      <td>...</td>\n",
       "      <td>...</td>\n",
       "      <td>...</td>\n",
       "      <td>...</td>\n",
       "      <td>...</td>\n",
       "      <td>...</td>\n",
       "      <td>...</td>\n",
       "      <td>...</td>\n",
       "      <td>...</td>\n",
       "      <td>...</td>\n",
       "      <td>...</td>\n",
       "      <td>...</td>\n",
       "      <td>...</td>\n",
       "      <td>...</td>\n",
       "      <td>...</td>\n",
       "      <td>...</td>\n",
       "      <td>...</td>\n",
       "      <td>...</td>\n",
       "      <td>...</td>\n",
       "      <td>...</td>\n",
       "      <td>...</td>\n",
       "    </tr>\n",
       "    <tr>\n",
       "      <th>15267</th>\n",
       "      <td>0</td>\n",
       "      <td>6700000</td>\n",
       "      <td>81.0</td>\n",
       "      <td>2017-04-14</td>\n",
       "      <td>3</td>\n",
       "      <td>2.65</td>\n",
       "      <td>5</td>\n",
       "      <td>45.00</td>\n",
       "      <td>3</td>\n",
       "      <td>False</td>\n",
       "      <td>...</td>\n",
       "      <td>9.5</td>\n",
       "      <td>0</td>\n",
       "      <td>Санкт-Петербург</td>\n",
       "      <td>29407.0</td>\n",
       "      <td>8109.0</td>\n",
       "      <td>1</td>\n",
       "      <td>702.0</td>\n",
       "      <td>1</td>\n",
       "      <td>974.0</td>\n",
       "      <td>42.0</td>\n",
       "    </tr>\n",
       "    <tr>\n",
       "      <th>8140</th>\n",
       "      <td>0</td>\n",
       "      <td>3515000</td>\n",
       "      <td>40.4</td>\n",
       "      <td>2017-08-09</td>\n",
       "      <td>1</td>\n",
       "      <td>3.00</td>\n",
       "      <td>5</td>\n",
       "      <td>16.51</td>\n",
       "      <td>4</td>\n",
       "      <td>False</td>\n",
       "      <td>...</td>\n",
       "      <td>12.0</td>\n",
       "      <td>0</td>\n",
       "      <td>Пушкин</td>\n",
       "      <td>15696.0</td>\n",
       "      <td>27850.0</td>\n",
       "      <td>1</td>\n",
       "      <td>966.0</td>\n",
       "      <td>1</td>\n",
       "      <td>450.0</td>\n",
       "      <td>5.0</td>\n",
       "    </tr>\n",
       "    <tr>\n",
       "      <th>4103</th>\n",
       "      <td>0</td>\n",
       "      <td>5750000</td>\n",
       "      <td>71.2</td>\n",
       "      <td>2017-11-10</td>\n",
       "      <td>3</td>\n",
       "      <td>3.00</td>\n",
       "      <td>5</td>\n",
       "      <td>48.80</td>\n",
       "      <td>4</td>\n",
       "      <td>False</td>\n",
       "      <td>...</td>\n",
       "      <td>9.5</td>\n",
       "      <td>1</td>\n",
       "      <td>Санкт-Петербург</td>\n",
       "      <td>29364.0</td>\n",
       "      <td>8212.0</td>\n",
       "      <td>1</td>\n",
       "      <td>463.0</td>\n",
       "      <td>0</td>\n",
       "      <td>NaN</td>\n",
       "      <td>60.0</td>\n",
       "    </tr>\n",
       "    <tr>\n",
       "      <th>18237</th>\n",
       "      <td>0</td>\n",
       "      <td>4000000</td>\n",
       "      <td>54.0</td>\n",
       "      <td>2017-11-09</td>\n",
       "      <td>2</td>\n",
       "      <td>2.65</td>\n",
       "      <td>14</td>\n",
       "      <td>30.50</td>\n",
       "      <td>14</td>\n",
       "      <td>False</td>\n",
       "      <td>...</td>\n",
       "      <td>8.8</td>\n",
       "      <td>0</td>\n",
       "      <td>Санкт-Петербург</td>\n",
       "      <td>51954.0</td>\n",
       "      <td>17067.0</td>\n",
       "      <td>1</td>\n",
       "      <td>1064.0</td>\n",
       "      <td>3</td>\n",
       "      <td>224.0</td>\n",
       "      <td>144.0</td>\n",
       "    </tr>\n",
       "    <tr>\n",
       "      <th>16399</th>\n",
       "      <td>0</td>\n",
       "      <td>5110000</td>\n",
       "      <td>59.0</td>\n",
       "      <td>2016-05-19</td>\n",
       "      <td>3</td>\n",
       "      <td>2.60</td>\n",
       "      <td>5</td>\n",
       "      <td>39.00</td>\n",
       "      <td>3</td>\n",
       "      <td>False</td>\n",
       "      <td>...</td>\n",
       "      <td>7.0</td>\n",
       "      <td>0</td>\n",
       "      <td>Санкт-Петербург</td>\n",
       "      <td>10362.0</td>\n",
       "      <td>13737.0</td>\n",
       "      <td>0</td>\n",
       "      <td>NaN</td>\n",
       "      <td>0</td>\n",
       "      <td>NaN</td>\n",
       "      <td>140.0</td>\n",
       "    </tr>\n",
       "  </tbody>\n",
       "</table>\n",
       "<p>23699 rows × 22 columns</p>\n",
       "</div>"
      ],
      "text/plain": [
       "       total_images  last_price  total_area first_day_exposition  rooms  \\\n",
       "12667            50    20500000        76.0           2017-12-10      3   \n",
       "9778             50    11000000        87.0           2017-10-25      2   \n",
       "17396            50    14500000       119.7           2017-12-02      4   \n",
       "15157            42    17998000       138.6           2017-09-27      4   \n",
       "1058             39     1900000        63.0           2017-09-29      3   \n",
       "...             ...         ...         ...                  ...    ...   \n",
       "15267             0     6700000        81.0           2017-04-14      3   \n",
       "8140              0     3515000        40.4           2017-08-09      1   \n",
       "4103              0     5750000        71.2           2017-11-10      3   \n",
       "18237             0     4000000        54.0           2017-11-09      2   \n",
       "16399             0     5110000        59.0           2016-05-19      3   \n",
       "\n",
       "       ceiling_height  floors_total  living_area  floor  is_apartment  ...  \\\n",
       "12667            2.65            20        47.00     16         False  ...   \n",
       "9778             2.65            25        32.50     11         False  ...   \n",
       "17396            4.00             4        87.50      3         False  ...   \n",
       "15157            2.65            18        93.10     17         False  ...   \n",
       "1058             2.65             5        44.20      5         False  ...   \n",
       "...               ...           ...          ...    ...           ...  ...   \n",
       "15267            2.65             5        45.00      3         False  ...   \n",
       "8140             3.00             5        16.51      4         False  ...   \n",
       "4103             3.00             5        48.80      4         False  ...   \n",
       "18237            2.65            14        30.50     14         False  ...   \n",
       "16399            2.60             5        39.00      3         False  ...   \n",
       "\n",
       "       kitchen_area  balcony      locality_name  airports_nearest  \\\n",
       "12667          29.0        0    Санкт-Петербург           50812.0   \n",
       "9778           31.0        5    Санкт-Петербург            9586.0   \n",
       "17396          13.5        0    Санкт-Петербург           24375.0   \n",
       "15157          16.0        2    Санкт-Петербург           34991.0   \n",
       "1058            6.3        1  деревня Лопухинка               NaN   \n",
       "...             ...      ...                ...               ...   \n",
       "15267           9.5        0    Санкт-Петербург           29407.0   \n",
       "8140           12.0        0             Пушкин           15696.0   \n",
       "4103            9.5        1    Санкт-Петербург           29364.0   \n",
       "18237           8.8        0    Санкт-Петербург           51954.0   \n",
       "16399           7.0        0    Санкт-Петербург           10362.0   \n",
       "\n",
       "      cityCenters_nearest  parks_around3000  parks_nearest  ponds_around3000  \\\n",
       "12667             16141.0                 0            NaN                 0   \n",
       "9778              11649.0                 0            NaN                 0   \n",
       "17396              2410.0                 1          551.0                 2   \n",
       "15157             11920.0                 0            NaN                 0   \n",
       "1058                  NaN                 0            NaN                 0   \n",
       "...                   ...               ...            ...               ...   \n",
       "15267              8109.0                 1          702.0                 1   \n",
       "8140              27850.0                 1          966.0                 1   \n",
       "4103               8212.0                 1          463.0                 0   \n",
       "18237             17067.0                 1         1064.0                 3   \n",
       "16399             13737.0                 0            NaN                 0   \n",
       "\n",
       "       ponds_nearest  days_exposition  \n",
       "12667            NaN              5.0  \n",
       "9778             NaN              3.0  \n",
       "17396          617.0            106.0  \n",
       "15157            NaN            172.0  \n",
       "1058             NaN            106.0  \n",
       "...              ...              ...  \n",
       "15267          974.0             42.0  \n",
       "8140           450.0              5.0  \n",
       "4103             NaN             60.0  \n",
       "18237          224.0            144.0  \n",
       "16399            NaN            140.0  \n",
       "\n",
       "[23699 rows x 22 columns]"
      ]
     },
     "execution_count": 24,
     "metadata": {},
     "output_type": "execute_result"
    }
   ],
   "source": [
    "data.sort_values('total_images', ascending=False)"
   ]
  },
  {
   "cell_type": "code",
   "execution_count": 25,
   "metadata": {
    "scrolled": true
   },
   "outputs": [
    {
     "data": {
      "text/html": [
       "<div>\n",
       "<style scoped>\n",
       "    .dataframe tbody tr th:only-of-type {\n",
       "        vertical-align: middle;\n",
       "    }\n",
       "\n",
       "    .dataframe tbody tr th {\n",
       "        vertical-align: top;\n",
       "    }\n",
       "\n",
       "    .dataframe thead th {\n",
       "        text-align: right;\n",
       "    }\n",
       "</style>\n",
       "<table border=\"1\" class=\"dataframe\">\n",
       "  <thead>\n",
       "    <tr style=\"text-align: right;\">\n",
       "      <th></th>\n",
       "      <th>total_images</th>\n",
       "      <th>last_price</th>\n",
       "      <th>total_area</th>\n",
       "      <th>first_day_exposition</th>\n",
       "      <th>rooms</th>\n",
       "      <th>ceiling_height</th>\n",
       "      <th>floors_total</th>\n",
       "      <th>living_area</th>\n",
       "      <th>floor</th>\n",
       "      <th>is_apartment</th>\n",
       "      <th>...</th>\n",
       "      <th>kitchen_area</th>\n",
       "      <th>balcony</th>\n",
       "      <th>locality_name</th>\n",
       "      <th>airports_nearest</th>\n",
       "      <th>cityCenters_nearest</th>\n",
       "      <th>parks_around3000</th>\n",
       "      <th>parks_nearest</th>\n",
       "      <th>ponds_around3000</th>\n",
       "      <th>ponds_nearest</th>\n",
       "      <th>days_exposition</th>\n",
       "    </tr>\n",
       "  </thead>\n",
       "  <tbody>\n",
       "    <tr>\n",
       "      <th>19540</th>\n",
       "      <td>8</td>\n",
       "      <td>420000000</td>\n",
       "      <td>900.0</td>\n",
       "      <td>2017-12-06</td>\n",
       "      <td>12</td>\n",
       "      <td>2.80</td>\n",
       "      <td>25</td>\n",
       "      <td>409.7</td>\n",
       "      <td>25</td>\n",
       "      <td>False</td>\n",
       "      <td>...</td>\n",
       "      <td>112.0</td>\n",
       "      <td>0</td>\n",
       "      <td>Санкт-Петербург</td>\n",
       "      <td>30706.0</td>\n",
       "      <td>7877.0</td>\n",
       "      <td>0</td>\n",
       "      <td>NaN</td>\n",
       "      <td>2</td>\n",
       "      <td>318.0</td>\n",
       "      <td>106.0</td>\n",
       "    </tr>\n",
       "    <tr>\n",
       "      <th>12859</th>\n",
       "      <td>20</td>\n",
       "      <td>140000000</td>\n",
       "      <td>631.2</td>\n",
       "      <td>2019-04-09</td>\n",
       "      <td>7</td>\n",
       "      <td>3.90</td>\n",
       "      <td>4</td>\n",
       "      <td>322.3</td>\n",
       "      <td>4</td>\n",
       "      <td>False</td>\n",
       "      <td>...</td>\n",
       "      <td>19.5</td>\n",
       "      <td>1</td>\n",
       "      <td>Санкт-Петербург</td>\n",
       "      <td>25707.0</td>\n",
       "      <td>4972.0</td>\n",
       "      <td>0</td>\n",
       "      <td>NaN</td>\n",
       "      <td>2</td>\n",
       "      <td>210.0</td>\n",
       "      <td>NaN</td>\n",
       "    </tr>\n",
       "    <tr>\n",
       "      <th>3117</th>\n",
       "      <td>19</td>\n",
       "      <td>140000000</td>\n",
       "      <td>631.0</td>\n",
       "      <td>2019-03-30</td>\n",
       "      <td>7</td>\n",
       "      <td>2.65</td>\n",
       "      <td>5</td>\n",
       "      <td>145.0</td>\n",
       "      <td>5</td>\n",
       "      <td>False</td>\n",
       "      <td>...</td>\n",
       "      <td>60.0</td>\n",
       "      <td>0</td>\n",
       "      <td>Санкт-Петербург</td>\n",
       "      <td>25707.0</td>\n",
       "      <td>4972.0</td>\n",
       "      <td>0</td>\n",
       "      <td>NaN</td>\n",
       "      <td>2</td>\n",
       "      <td>210.0</td>\n",
       "      <td>NaN</td>\n",
       "    </tr>\n",
       "    <tr>\n",
       "      <th>15651</th>\n",
       "      <td>20</td>\n",
       "      <td>300000000</td>\n",
       "      <td>618.0</td>\n",
       "      <td>2017-12-18</td>\n",
       "      <td>7</td>\n",
       "      <td>3.40</td>\n",
       "      <td>7</td>\n",
       "      <td>258.0</td>\n",
       "      <td>5</td>\n",
       "      <td>False</td>\n",
       "      <td>...</td>\n",
       "      <td>70.0</td>\n",
       "      <td>0</td>\n",
       "      <td>Санкт-Петербург</td>\n",
       "      <td>32440.0</td>\n",
       "      <td>5297.0</td>\n",
       "      <td>0</td>\n",
       "      <td>NaN</td>\n",
       "      <td>2</td>\n",
       "      <td>198.0</td>\n",
       "      <td>111.0</td>\n",
       "    </tr>\n",
       "    <tr>\n",
       "      <th>5358</th>\n",
       "      <td>20</td>\n",
       "      <td>65000000</td>\n",
       "      <td>590.0</td>\n",
       "      <td>2019-02-14</td>\n",
       "      <td>15</td>\n",
       "      <td>3.50</td>\n",
       "      <td>6</td>\n",
       "      <td>409.0</td>\n",
       "      <td>3</td>\n",
       "      <td>False</td>\n",
       "      <td>...</td>\n",
       "      <td>100.0</td>\n",
       "      <td>0</td>\n",
       "      <td>Санкт-Петербург</td>\n",
       "      <td>24447.0</td>\n",
       "      <td>4666.0</td>\n",
       "      <td>1</td>\n",
       "      <td>767.0</td>\n",
       "      <td>0</td>\n",
       "      <td>NaN</td>\n",
       "      <td>14.0</td>\n",
       "    </tr>\n",
       "    <tr>\n",
       "      <th>...</th>\n",
       "      <td>...</td>\n",
       "      <td>...</td>\n",
       "      <td>...</td>\n",
       "      <td>...</td>\n",
       "      <td>...</td>\n",
       "      <td>...</td>\n",
       "      <td>...</td>\n",
       "      <td>...</td>\n",
       "      <td>...</td>\n",
       "      <td>...</td>\n",
       "      <td>...</td>\n",
       "      <td>...</td>\n",
       "      <td>...</td>\n",
       "      <td>...</td>\n",
       "      <td>...</td>\n",
       "      <td>...</td>\n",
       "      <td>...</td>\n",
       "      <td>...</td>\n",
       "      <td>...</td>\n",
       "      <td>...</td>\n",
       "      <td>...</td>\n",
       "    </tr>\n",
       "    <tr>\n",
       "      <th>19558</th>\n",
       "      <td>2</td>\n",
       "      <td>1686000</td>\n",
       "      <td>13.2</td>\n",
       "      <td>2018-12-17</td>\n",
       "      <td>1</td>\n",
       "      <td>2.65</td>\n",
       "      <td>5</td>\n",
       "      <td>17.6</td>\n",
       "      <td>1</td>\n",
       "      <td>False</td>\n",
       "      <td>...</td>\n",
       "      <td>9.0</td>\n",
       "      <td>0</td>\n",
       "      <td>Санкт-Петербург</td>\n",
       "      <td>19891.0</td>\n",
       "      <td>4165.0</td>\n",
       "      <td>1</td>\n",
       "      <td>361.0</td>\n",
       "      <td>1</td>\n",
       "      <td>155.0</td>\n",
       "      <td>19.0</td>\n",
       "    </tr>\n",
       "    <tr>\n",
       "      <th>19807</th>\n",
       "      <td>0</td>\n",
       "      <td>3800000</td>\n",
       "      <td>13.0</td>\n",
       "      <td>2018-07-04</td>\n",
       "      <td>1</td>\n",
       "      <td>2.65</td>\n",
       "      <td>5</td>\n",
       "      <td>10.0</td>\n",
       "      <td>3</td>\n",
       "      <td>False</td>\n",
       "      <td>...</td>\n",
       "      <td>9.0</td>\n",
       "      <td>0</td>\n",
       "      <td>Санкт-Петербург</td>\n",
       "      <td>21302.0</td>\n",
       "      <td>1242.0</td>\n",
       "      <td>1</td>\n",
       "      <td>592.0</td>\n",
       "      <td>3</td>\n",
       "      <td>27.0</td>\n",
       "      <td>9.0</td>\n",
       "    </tr>\n",
       "    <tr>\n",
       "      <th>19546</th>\n",
       "      <td>3</td>\n",
       "      <td>1850000</td>\n",
       "      <td>13.0</td>\n",
       "      <td>2019-03-11</td>\n",
       "      <td>1</td>\n",
       "      <td>3.40</td>\n",
       "      <td>5</td>\n",
       "      <td>17.6</td>\n",
       "      <td>2</td>\n",
       "      <td>False</td>\n",
       "      <td>...</td>\n",
       "      <td>9.0</td>\n",
       "      <td>0</td>\n",
       "      <td>Санкт-Петербург</td>\n",
       "      <td>24915.0</td>\n",
       "      <td>5483.0</td>\n",
       "      <td>1</td>\n",
       "      <td>644.0</td>\n",
       "      <td>0</td>\n",
       "      <td>NaN</td>\n",
       "      <td>24.0</td>\n",
       "    </tr>\n",
       "    <tr>\n",
       "      <th>17961</th>\n",
       "      <td>3</td>\n",
       "      <td>1400000</td>\n",
       "      <td>13.0</td>\n",
       "      <td>2017-12-03</td>\n",
       "      <td>1</td>\n",
       "      <td>2.60</td>\n",
       "      <td>9</td>\n",
       "      <td>17.6</td>\n",
       "      <td>1</td>\n",
       "      <td>False</td>\n",
       "      <td>...</td>\n",
       "      <td>9.0</td>\n",
       "      <td>0</td>\n",
       "      <td>Санкт-Петербург</td>\n",
       "      <td>14350.0</td>\n",
       "      <td>15945.0</td>\n",
       "      <td>0</td>\n",
       "      <td>NaN</td>\n",
       "      <td>1</td>\n",
       "      <td>185.0</td>\n",
       "      <td>410.0</td>\n",
       "    </tr>\n",
       "    <tr>\n",
       "      <th>19904</th>\n",
       "      <td>4</td>\n",
       "      <td>2400000</td>\n",
       "      <td>12.0</td>\n",
       "      <td>2017-07-19</td>\n",
       "      <td>1</td>\n",
       "      <td>2.55</td>\n",
       "      <td>5</td>\n",
       "      <td>10.0</td>\n",
       "      <td>2</td>\n",
       "      <td>False</td>\n",
       "      <td>...</td>\n",
       "      <td>9.0</td>\n",
       "      <td>0</td>\n",
       "      <td>Санкт-Петербург</td>\n",
       "      <td>21314.0</td>\n",
       "      <td>964.0</td>\n",
       "      <td>1</td>\n",
       "      <td>886.0</td>\n",
       "      <td>2</td>\n",
       "      <td>45.0</td>\n",
       "      <td>200.0</td>\n",
       "    </tr>\n",
       "  </tbody>\n",
       "</table>\n",
       "<p>23699 rows × 22 columns</p>\n",
       "</div>"
      ],
      "text/plain": [
       "       total_images  last_price  total_area first_day_exposition  rooms  \\\n",
       "19540             8   420000000       900.0           2017-12-06     12   \n",
       "12859            20   140000000       631.2           2019-04-09      7   \n",
       "3117             19   140000000       631.0           2019-03-30      7   \n",
       "15651            20   300000000       618.0           2017-12-18      7   \n",
       "5358             20    65000000       590.0           2019-02-14     15   \n",
       "...             ...         ...         ...                  ...    ...   \n",
       "19558             2     1686000        13.2           2018-12-17      1   \n",
       "19807             0     3800000        13.0           2018-07-04      1   \n",
       "19546             3     1850000        13.0           2019-03-11      1   \n",
       "17961             3     1400000        13.0           2017-12-03      1   \n",
       "19904             4     2400000        12.0           2017-07-19      1   \n",
       "\n",
       "       ceiling_height  floors_total  living_area  floor  is_apartment  ...  \\\n",
       "19540            2.80            25        409.7     25         False  ...   \n",
       "12859            3.90             4        322.3      4         False  ...   \n",
       "3117             2.65             5        145.0      5         False  ...   \n",
       "15651            3.40             7        258.0      5         False  ...   \n",
       "5358             3.50             6        409.0      3         False  ...   \n",
       "...               ...           ...          ...    ...           ...  ...   \n",
       "19558            2.65             5         17.6      1         False  ...   \n",
       "19807            2.65             5         10.0      3         False  ...   \n",
       "19546            3.40             5         17.6      2         False  ...   \n",
       "17961            2.60             9         17.6      1         False  ...   \n",
       "19904            2.55             5         10.0      2         False  ...   \n",
       "\n",
       "       kitchen_area  balcony    locality_name  airports_nearest  \\\n",
       "19540         112.0        0  Санкт-Петербург           30706.0   \n",
       "12859          19.5        1  Санкт-Петербург           25707.0   \n",
       "3117           60.0        0  Санкт-Петербург           25707.0   \n",
       "15651          70.0        0  Санкт-Петербург           32440.0   \n",
       "5358          100.0        0  Санкт-Петербург           24447.0   \n",
       "...             ...      ...              ...               ...   \n",
       "19558           9.0        0  Санкт-Петербург           19891.0   \n",
       "19807           9.0        0  Санкт-Петербург           21302.0   \n",
       "19546           9.0        0  Санкт-Петербург           24915.0   \n",
       "17961           9.0        0  Санкт-Петербург           14350.0   \n",
       "19904           9.0        0  Санкт-Петербург           21314.0   \n",
       "\n",
       "      cityCenters_nearest  parks_around3000  parks_nearest  ponds_around3000  \\\n",
       "19540              7877.0                 0            NaN                 2   \n",
       "12859              4972.0                 0            NaN                 2   \n",
       "3117               4972.0                 0            NaN                 2   \n",
       "15651              5297.0                 0            NaN                 2   \n",
       "5358               4666.0                 1          767.0                 0   \n",
       "...                   ...               ...            ...               ...   \n",
       "19558              4165.0                 1          361.0                 1   \n",
       "19807              1242.0                 1          592.0                 3   \n",
       "19546              5483.0                 1          644.0                 0   \n",
       "17961             15945.0                 0            NaN                 1   \n",
       "19904               964.0                 1          886.0                 2   \n",
       "\n",
       "       ponds_nearest  days_exposition  \n",
       "19540          318.0            106.0  \n",
       "12859          210.0              NaN  \n",
       "3117           210.0              NaN  \n",
       "15651          198.0            111.0  \n",
       "5358             NaN             14.0  \n",
       "...              ...              ...  \n",
       "19558          155.0             19.0  \n",
       "19807           27.0              9.0  \n",
       "19546            NaN             24.0  \n",
       "17961          185.0            410.0  \n",
       "19904           45.0            200.0  \n",
       "\n",
       "[23699 rows x 22 columns]"
      ]
     },
     "execution_count": 25,
     "metadata": {},
     "output_type": "execute_result"
    }
   ],
   "source": [
    "data.sort_values('total_area', ascending=False)"
   ]
  },
  {
   "cell_type": "code",
   "execution_count": 26,
   "metadata": {
    "scrolled": false
   },
   "outputs": [
    {
     "data": {
      "text/html": [
       "<div>\n",
       "<style scoped>\n",
       "    .dataframe tbody tr th:only-of-type {\n",
       "        vertical-align: middle;\n",
       "    }\n",
       "\n",
       "    .dataframe tbody tr th {\n",
       "        vertical-align: top;\n",
       "    }\n",
       "\n",
       "    .dataframe thead th {\n",
       "        text-align: right;\n",
       "    }\n",
       "</style>\n",
       "<table border=\"1\" class=\"dataframe\">\n",
       "  <thead>\n",
       "    <tr style=\"text-align: right;\">\n",
       "      <th></th>\n",
       "      <th>total_images</th>\n",
       "      <th>last_price</th>\n",
       "      <th>total_area</th>\n",
       "      <th>first_day_exposition</th>\n",
       "      <th>rooms</th>\n",
       "      <th>ceiling_height</th>\n",
       "      <th>floors_total</th>\n",
       "      <th>living_area</th>\n",
       "      <th>floor</th>\n",
       "      <th>is_apartment</th>\n",
       "      <th>...</th>\n",
       "      <th>kitchen_area</th>\n",
       "      <th>balcony</th>\n",
       "      <th>locality_name</th>\n",
       "      <th>airports_nearest</th>\n",
       "      <th>cityCenters_nearest</th>\n",
       "      <th>parks_around3000</th>\n",
       "      <th>parks_nearest</th>\n",
       "      <th>ponds_around3000</th>\n",
       "      <th>ponds_nearest</th>\n",
       "      <th>days_exposition</th>\n",
       "    </tr>\n",
       "  </thead>\n",
       "  <tbody>\n",
       "    <tr>\n",
       "      <th>14498</th>\n",
       "      <td>6</td>\n",
       "      <td>32250000</td>\n",
       "      <td>374.60</td>\n",
       "      <td>2018-06-09</td>\n",
       "      <td>19</td>\n",
       "      <td>2.65</td>\n",
       "      <td>5</td>\n",
       "      <td>264.5</td>\n",
       "      <td>2</td>\n",
       "      <td>False</td>\n",
       "      <td>...</td>\n",
       "      <td>27.6</td>\n",
       "      <td>0</td>\n",
       "      <td>Санкт-Петербург</td>\n",
       "      <td>19497.0</td>\n",
       "      <td>3574.0</td>\n",
       "      <td>0</td>\n",
       "      <td>NaN</td>\n",
       "      <td>2</td>\n",
       "      <td>548.0</td>\n",
       "      <td>114.0</td>\n",
       "    </tr>\n",
       "    <tr>\n",
       "      <th>18848</th>\n",
       "      <td>6</td>\n",
       "      <td>28500000</td>\n",
       "      <td>270.00</td>\n",
       "      <td>2015-03-02</td>\n",
       "      <td>16</td>\n",
       "      <td>3.00</td>\n",
       "      <td>4</td>\n",
       "      <td>180.0</td>\n",
       "      <td>4</td>\n",
       "      <td>False</td>\n",
       "      <td>...</td>\n",
       "      <td>13.0</td>\n",
       "      <td>1</td>\n",
       "      <td>Санкт-Петербург</td>\n",
       "      <td>23575.0</td>\n",
       "      <td>4142.0</td>\n",
       "      <td>1</td>\n",
       "      <td>516.0</td>\n",
       "      <td>0</td>\n",
       "      <td>NaN</td>\n",
       "      <td>1365.0</td>\n",
       "    </tr>\n",
       "    <tr>\n",
       "      <th>5358</th>\n",
       "      <td>20</td>\n",
       "      <td>65000000</td>\n",
       "      <td>590.00</td>\n",
       "      <td>2019-02-14</td>\n",
       "      <td>15</td>\n",
       "      <td>3.50</td>\n",
       "      <td>6</td>\n",
       "      <td>409.0</td>\n",
       "      <td>3</td>\n",
       "      <td>False</td>\n",
       "      <td>...</td>\n",
       "      <td>100.0</td>\n",
       "      <td>0</td>\n",
       "      <td>Санкт-Петербург</td>\n",
       "      <td>24447.0</td>\n",
       "      <td>4666.0</td>\n",
       "      <td>1</td>\n",
       "      <td>767.0</td>\n",
       "      <td>0</td>\n",
       "      <td>NaN</td>\n",
       "      <td>14.0</td>\n",
       "    </tr>\n",
       "    <tr>\n",
       "      <th>20829</th>\n",
       "      <td>6</td>\n",
       "      <td>28659000</td>\n",
       "      <td>245.40</td>\n",
       "      <td>2016-03-31</td>\n",
       "      <td>14</td>\n",
       "      <td>2.65</td>\n",
       "      <td>4</td>\n",
       "      <td>168.3</td>\n",
       "      <td>2</td>\n",
       "      <td>False</td>\n",
       "      <td>...</td>\n",
       "      <td>25.9</td>\n",
       "      <td>0</td>\n",
       "      <td>Санкт-Петербург</td>\n",
       "      <td>21104.0</td>\n",
       "      <td>2054.0</td>\n",
       "      <td>3</td>\n",
       "      <td>541.0</td>\n",
       "      <td>2</td>\n",
       "      <td>118.0</td>\n",
       "      <td>95.0</td>\n",
       "    </tr>\n",
       "    <tr>\n",
       "      <th>866</th>\n",
       "      <td>5</td>\n",
       "      <td>25000000</td>\n",
       "      <td>363.00</td>\n",
       "      <td>2017-12-23</td>\n",
       "      <td>14</td>\n",
       "      <td>3.16</td>\n",
       "      <td>5</td>\n",
       "      <td>222.0</td>\n",
       "      <td>4</td>\n",
       "      <td>False</td>\n",
       "      <td>...</td>\n",
       "      <td>16.6</td>\n",
       "      <td>0</td>\n",
       "      <td>Санкт-Петербург</td>\n",
       "      <td>38076.0</td>\n",
       "      <td>7950.0</td>\n",
       "      <td>0</td>\n",
       "      <td>NaN</td>\n",
       "      <td>2</td>\n",
       "      <td>435.0</td>\n",
       "      <td>418.0</td>\n",
       "    </tr>\n",
       "    <tr>\n",
       "      <th>...</th>\n",
       "      <td>...</td>\n",
       "      <td>...</td>\n",
       "      <td>...</td>\n",
       "      <td>...</td>\n",
       "      <td>...</td>\n",
       "      <td>...</td>\n",
       "      <td>...</td>\n",
       "      <td>...</td>\n",
       "      <td>...</td>\n",
       "      <td>...</td>\n",
       "      <td>...</td>\n",
       "      <td>...</td>\n",
       "      <td>...</td>\n",
       "      <td>...</td>\n",
       "      <td>...</td>\n",
       "      <td>...</td>\n",
       "      <td>...</td>\n",
       "      <td>...</td>\n",
       "      <td>...</td>\n",
       "      <td>...</td>\n",
       "      <td>...</td>\n",
       "    </tr>\n",
       "    <tr>\n",
       "      <th>12737</th>\n",
       "      <td>10</td>\n",
       "      <td>2300000</td>\n",
       "      <td>20.50</td>\n",
       "      <td>2018-07-01</td>\n",
       "      <td>0</td>\n",
       "      <td>2.65</td>\n",
       "      <td>25</td>\n",
       "      <td>15.5</td>\n",
       "      <td>13</td>\n",
       "      <td>False</td>\n",
       "      <td>...</td>\n",
       "      <td>0.0</td>\n",
       "      <td>0</td>\n",
       "      <td>посёлок Мурино</td>\n",
       "      <td>NaN</td>\n",
       "      <td>NaN</td>\n",
       "      <td>0</td>\n",
       "      <td>NaN</td>\n",
       "      <td>0</td>\n",
       "      <td>NaN</td>\n",
       "      <td>30.0</td>\n",
       "    </tr>\n",
       "    <tr>\n",
       "      <th>15569</th>\n",
       "      <td>2</td>\n",
       "      <td>1899400</td>\n",
       "      <td>23.30</td>\n",
       "      <td>2018-07-17</td>\n",
       "      <td>0</td>\n",
       "      <td>2.70</td>\n",
       "      <td>4</td>\n",
       "      <td>16.1</td>\n",
       "      <td>4</td>\n",
       "      <td>False</td>\n",
       "      <td>...</td>\n",
       "      <td>0.0</td>\n",
       "      <td>2</td>\n",
       "      <td>Сертолово</td>\n",
       "      <td>NaN</td>\n",
       "      <td>NaN</td>\n",
       "      <td>0</td>\n",
       "      <td>NaN</td>\n",
       "      <td>0</td>\n",
       "      <td>NaN</td>\n",
       "      <td>60.0</td>\n",
       "    </tr>\n",
       "    <tr>\n",
       "      <th>11331</th>\n",
       "      <td>6</td>\n",
       "      <td>1315000</td>\n",
       "      <td>27.32</td>\n",
       "      <td>2017-09-29</td>\n",
       "      <td>0</td>\n",
       "      <td>2.70</td>\n",
       "      <td>15</td>\n",
       "      <td>18.7</td>\n",
       "      <td>15</td>\n",
       "      <td>False</td>\n",
       "      <td>...</td>\n",
       "      <td>0.0</td>\n",
       "      <td>0</td>\n",
       "      <td>Никольское</td>\n",
       "      <td>NaN</td>\n",
       "      <td>NaN</td>\n",
       "      <td>0</td>\n",
       "      <td>NaN</td>\n",
       "      <td>0</td>\n",
       "      <td>NaN</td>\n",
       "      <td>116.0</td>\n",
       "    </tr>\n",
       "    <tr>\n",
       "      <th>9817</th>\n",
       "      <td>8</td>\n",
       "      <td>2190000</td>\n",
       "      <td>19.00</td>\n",
       "      <td>2018-10-12</td>\n",
       "      <td>0</td>\n",
       "      <td>3.50</td>\n",
       "      <td>5</td>\n",
       "      <td>15.0</td>\n",
       "      <td>1</td>\n",
       "      <td>False</td>\n",
       "      <td>...</td>\n",
       "      <td>0.0</td>\n",
       "      <td>0</td>\n",
       "      <td>Санкт-Петербург</td>\n",
       "      <td>29561.0</td>\n",
       "      <td>8264.0</td>\n",
       "      <td>2</td>\n",
       "      <td>383.0</td>\n",
       "      <td>1</td>\n",
       "      <td>781.0</td>\n",
       "      <td>89.0</td>\n",
       "    </tr>\n",
       "    <tr>\n",
       "      <th>2727</th>\n",
       "      <td>4</td>\n",
       "      <td>3670000</td>\n",
       "      <td>26.49</td>\n",
       "      <td>2018-07-26</td>\n",
       "      <td>0</td>\n",
       "      <td>2.60</td>\n",
       "      <td>21</td>\n",
       "      <td>19.0</td>\n",
       "      <td>4</td>\n",
       "      <td>False</td>\n",
       "      <td>...</td>\n",
       "      <td>0.0</td>\n",
       "      <td>1</td>\n",
       "      <td>Санкт-Петербург</td>\n",
       "      <td>36579.0</td>\n",
       "      <td>9092.0</td>\n",
       "      <td>0</td>\n",
       "      <td>NaN</td>\n",
       "      <td>1</td>\n",
       "      <td>454.0</td>\n",
       "      <td>28.0</td>\n",
       "    </tr>\n",
       "  </tbody>\n",
       "</table>\n",
       "<p>23699 rows × 22 columns</p>\n",
       "</div>"
      ],
      "text/plain": [
       "       total_images  last_price  total_area first_day_exposition  rooms  \\\n",
       "14498             6    32250000      374.60           2018-06-09     19   \n",
       "18848             6    28500000      270.00           2015-03-02     16   \n",
       "5358             20    65000000      590.00           2019-02-14     15   \n",
       "20829             6    28659000      245.40           2016-03-31     14   \n",
       "866               5    25000000      363.00           2017-12-23     14   \n",
       "...             ...         ...         ...                  ...    ...   \n",
       "12737            10     2300000       20.50           2018-07-01      0   \n",
       "15569             2     1899400       23.30           2018-07-17      0   \n",
       "11331             6     1315000       27.32           2017-09-29      0   \n",
       "9817              8     2190000       19.00           2018-10-12      0   \n",
       "2727              4     3670000       26.49           2018-07-26      0   \n",
       "\n",
       "       ceiling_height  floors_total  living_area  floor  is_apartment  ...  \\\n",
       "14498            2.65             5        264.5      2         False  ...   \n",
       "18848            3.00             4        180.0      4         False  ...   \n",
       "5358             3.50             6        409.0      3         False  ...   \n",
       "20829            2.65             4        168.3      2         False  ...   \n",
       "866              3.16             5        222.0      4         False  ...   \n",
       "...               ...           ...          ...    ...           ...  ...   \n",
       "12737            2.65            25         15.5     13         False  ...   \n",
       "15569            2.70             4         16.1      4         False  ...   \n",
       "11331            2.70            15         18.7     15         False  ...   \n",
       "9817             3.50             5         15.0      1         False  ...   \n",
       "2727             2.60            21         19.0      4         False  ...   \n",
       "\n",
       "       kitchen_area  balcony    locality_name  airports_nearest  \\\n",
       "14498          27.6        0  Санкт-Петербург           19497.0   \n",
       "18848          13.0        1  Санкт-Петербург           23575.0   \n",
       "5358          100.0        0  Санкт-Петербург           24447.0   \n",
       "20829          25.9        0  Санкт-Петербург           21104.0   \n",
       "866            16.6        0  Санкт-Петербург           38076.0   \n",
       "...             ...      ...              ...               ...   \n",
       "12737           0.0        0   посёлок Мурино               NaN   \n",
       "15569           0.0        2        Сертолово               NaN   \n",
       "11331           0.0        0       Никольское               NaN   \n",
       "9817            0.0        0  Санкт-Петербург           29561.0   \n",
       "2727            0.0        1  Санкт-Петербург           36579.0   \n",
       "\n",
       "      cityCenters_nearest  parks_around3000  parks_nearest  ponds_around3000  \\\n",
       "14498              3574.0                 0            NaN                 2   \n",
       "18848              4142.0                 1          516.0                 0   \n",
       "5358               4666.0                 1          767.0                 0   \n",
       "20829              2054.0                 3          541.0                 2   \n",
       "866                7950.0                 0            NaN                 2   \n",
       "...                   ...               ...            ...               ...   \n",
       "12737                 NaN                 0            NaN                 0   \n",
       "15569                 NaN                 0            NaN                 0   \n",
       "11331                 NaN                 0            NaN                 0   \n",
       "9817               8264.0                 2          383.0                 1   \n",
       "2727               9092.0                 0            NaN                 1   \n",
       "\n",
       "       ponds_nearest  days_exposition  \n",
       "14498          548.0            114.0  \n",
       "18848            NaN           1365.0  \n",
       "5358             NaN             14.0  \n",
       "20829          118.0             95.0  \n",
       "866            435.0            418.0  \n",
       "...              ...              ...  \n",
       "12737            NaN             30.0  \n",
       "15569            NaN             60.0  \n",
       "11331            NaN            116.0  \n",
       "9817           781.0             89.0  \n",
       "2727           454.0             28.0  \n",
       "\n",
       "[23699 rows x 22 columns]"
      ]
     },
     "execution_count": 26,
     "metadata": {},
     "output_type": "execute_result"
    }
   ],
   "source": [
    "data.sort_values('rooms', ascending=False)"
   ]
  },
  {
   "cell_type": "code",
   "execution_count": 27,
   "metadata": {},
   "outputs": [
    {
     "data": {
      "text/html": [
       "<div>\n",
       "<style scoped>\n",
       "    .dataframe tbody tr th:only-of-type {\n",
       "        vertical-align: middle;\n",
       "    }\n",
       "\n",
       "    .dataframe tbody tr th {\n",
       "        vertical-align: top;\n",
       "    }\n",
       "\n",
       "    .dataframe thead th {\n",
       "        text-align: right;\n",
       "    }\n",
       "</style>\n",
       "<table border=\"1\" class=\"dataframe\">\n",
       "  <thead>\n",
       "    <tr style=\"text-align: right;\">\n",
       "      <th></th>\n",
       "      <th>total_images</th>\n",
       "      <th>last_price</th>\n",
       "      <th>total_area</th>\n",
       "      <th>first_day_exposition</th>\n",
       "      <th>rooms</th>\n",
       "      <th>ceiling_height</th>\n",
       "      <th>floors_total</th>\n",
       "      <th>living_area</th>\n",
       "      <th>floor</th>\n",
       "      <th>is_apartment</th>\n",
       "      <th>...</th>\n",
       "      <th>kitchen_area</th>\n",
       "      <th>balcony</th>\n",
       "      <th>locality_name</th>\n",
       "      <th>airports_nearest</th>\n",
       "      <th>cityCenters_nearest</th>\n",
       "      <th>parks_around3000</th>\n",
       "      <th>parks_nearest</th>\n",
       "      <th>ponds_around3000</th>\n",
       "      <th>ponds_nearest</th>\n",
       "      <th>days_exposition</th>\n",
       "    </tr>\n",
       "  </thead>\n",
       "  <tbody>\n",
       "    <tr>\n",
       "      <th>22869</th>\n",
       "      <td>0</td>\n",
       "      <td>15000000</td>\n",
       "      <td>25.0</td>\n",
       "      <td>2018-07-25</td>\n",
       "      <td>1</td>\n",
       "      <td>100.00</td>\n",
       "      <td>5</td>\n",
       "      <td>14.0</td>\n",
       "      <td>5</td>\n",
       "      <td>True</td>\n",
       "      <td>...</td>\n",
       "      <td>11.00</td>\n",
       "      <td>5</td>\n",
       "      <td>Санкт-Петербург</td>\n",
       "      <td>34963.0</td>\n",
       "      <td>8283.0</td>\n",
       "      <td>1</td>\n",
       "      <td>223.0</td>\n",
       "      <td>3</td>\n",
       "      <td>30.0</td>\n",
       "      <td>19.0</td>\n",
       "    </tr>\n",
       "    <tr>\n",
       "      <th>3148</th>\n",
       "      <td>14</td>\n",
       "      <td>2900000</td>\n",
       "      <td>75.0</td>\n",
       "      <td>2018-11-12</td>\n",
       "      <td>3</td>\n",
       "      <td>32.00</td>\n",
       "      <td>3</td>\n",
       "      <td>53.0</td>\n",
       "      <td>2</td>\n",
       "      <td>False</td>\n",
       "      <td>...</td>\n",
       "      <td>8.00</td>\n",
       "      <td>0</td>\n",
       "      <td>Волхов</td>\n",
       "      <td>NaN</td>\n",
       "      <td>NaN</td>\n",
       "      <td>0</td>\n",
       "      <td>NaN</td>\n",
       "      <td>0</td>\n",
       "      <td>NaN</td>\n",
       "      <td>NaN</td>\n",
       "    </tr>\n",
       "    <tr>\n",
       "      <th>22336</th>\n",
       "      <td>19</td>\n",
       "      <td>9999000</td>\n",
       "      <td>92.4</td>\n",
       "      <td>2019-04-05</td>\n",
       "      <td>2</td>\n",
       "      <td>32.00</td>\n",
       "      <td>6</td>\n",
       "      <td>55.5</td>\n",
       "      <td>5</td>\n",
       "      <td>False</td>\n",
       "      <td>...</td>\n",
       "      <td>16.50</td>\n",
       "      <td>4</td>\n",
       "      <td>Санкт-Петербург</td>\n",
       "      <td>18838.0</td>\n",
       "      <td>3506.0</td>\n",
       "      <td>0</td>\n",
       "      <td>NaN</td>\n",
       "      <td>3</td>\n",
       "      <td>511.0</td>\n",
       "      <td>NaN</td>\n",
       "    </tr>\n",
       "    <tr>\n",
       "      <th>21377</th>\n",
       "      <td>19</td>\n",
       "      <td>4900000</td>\n",
       "      <td>42.0</td>\n",
       "      <td>2017-04-18</td>\n",
       "      <td>1</td>\n",
       "      <td>27.50</td>\n",
       "      <td>24</td>\n",
       "      <td>37.7</td>\n",
       "      <td>19</td>\n",
       "      <td>False</td>\n",
       "      <td>...</td>\n",
       "      <td>11.00</td>\n",
       "      <td>2</td>\n",
       "      <td>Санкт-Петербург</td>\n",
       "      <td>42742.0</td>\n",
       "      <td>9760.0</td>\n",
       "      <td>0</td>\n",
       "      <td>NaN</td>\n",
       "      <td>0</td>\n",
       "      <td>NaN</td>\n",
       "      <td>61.0</td>\n",
       "    </tr>\n",
       "    <tr>\n",
       "      <th>4876</th>\n",
       "      <td>7</td>\n",
       "      <td>3000000</td>\n",
       "      <td>25.0</td>\n",
       "      <td>2017-09-27</td>\n",
       "      <td>0</td>\n",
       "      <td>27.00</td>\n",
       "      <td>25</td>\n",
       "      <td>17.0</td>\n",
       "      <td>17</td>\n",
       "      <td>False</td>\n",
       "      <td>...</td>\n",
       "      <td>0.00</td>\n",
       "      <td>2</td>\n",
       "      <td>посёлок Мурино</td>\n",
       "      <td>NaN</td>\n",
       "      <td>NaN</td>\n",
       "      <td>0</td>\n",
       "      <td>NaN</td>\n",
       "      <td>0</td>\n",
       "      <td>NaN</td>\n",
       "      <td>28.0</td>\n",
       "    </tr>\n",
       "    <tr>\n",
       "      <th>...</th>\n",
       "      <td>...</td>\n",
       "      <td>...</td>\n",
       "      <td>...</td>\n",
       "      <td>...</td>\n",
       "      <td>...</td>\n",
       "      <td>...</td>\n",
       "      <td>...</td>\n",
       "      <td>...</td>\n",
       "      <td>...</td>\n",
       "      <td>...</td>\n",
       "      <td>...</td>\n",
       "      <td>...</td>\n",
       "      <td>...</td>\n",
       "      <td>...</td>\n",
       "      <td>...</td>\n",
       "      <td>...</td>\n",
       "      <td>...</td>\n",
       "      <td>...</td>\n",
       "      <td>...</td>\n",
       "      <td>...</td>\n",
       "      <td>...</td>\n",
       "    </tr>\n",
       "    <tr>\n",
       "      <th>2572</th>\n",
       "      <td>4</td>\n",
       "      <td>2400000</td>\n",
       "      <td>62.0</td>\n",
       "      <td>2018-12-27</td>\n",
       "      <td>3</td>\n",
       "      <td>2.00</td>\n",
       "      <td>5</td>\n",
       "      <td>40.0</td>\n",
       "      <td>4</td>\n",
       "      <td>False</td>\n",
       "      <td>...</td>\n",
       "      <td>6.00</td>\n",
       "      <td>1</td>\n",
       "      <td>Луга</td>\n",
       "      <td>NaN</td>\n",
       "      <td>NaN</td>\n",
       "      <td>0</td>\n",
       "      <td>NaN</td>\n",
       "      <td>0</td>\n",
       "      <td>NaN</td>\n",
       "      <td>NaN</td>\n",
       "    </tr>\n",
       "    <tr>\n",
       "      <th>22960</th>\n",
       "      <td>17</td>\n",
       "      <td>2300000</td>\n",
       "      <td>53.6</td>\n",
       "      <td>2018-10-18</td>\n",
       "      <td>2</td>\n",
       "      <td>2.00</td>\n",
       "      <td>2</td>\n",
       "      <td>19.0</td>\n",
       "      <td>1</td>\n",
       "      <td>False</td>\n",
       "      <td>...</td>\n",
       "      <td>10.00</td>\n",
       "      <td>0</td>\n",
       "      <td>Всеволожск</td>\n",
       "      <td>NaN</td>\n",
       "      <td>NaN</td>\n",
       "      <td>0</td>\n",
       "      <td>NaN</td>\n",
       "      <td>0</td>\n",
       "      <td>NaN</td>\n",
       "      <td>NaN</td>\n",
       "    </tr>\n",
       "    <tr>\n",
       "      <th>16934</th>\n",
       "      <td>5</td>\n",
       "      <td>4100000</td>\n",
       "      <td>40.0</td>\n",
       "      <td>2017-10-17</td>\n",
       "      <td>1</td>\n",
       "      <td>1.75</td>\n",
       "      <td>37</td>\n",
       "      <td>17.4</td>\n",
       "      <td>5</td>\n",
       "      <td>False</td>\n",
       "      <td>...</td>\n",
       "      <td>8.34</td>\n",
       "      <td>0</td>\n",
       "      <td>Санкт-Петербург</td>\n",
       "      <td>18732.0</td>\n",
       "      <td>20444.0</td>\n",
       "      <td>0</td>\n",
       "      <td>NaN</td>\n",
       "      <td>3</td>\n",
       "      <td>80.0</td>\n",
       "      <td>71.0</td>\n",
       "    </tr>\n",
       "    <tr>\n",
       "      <th>5712</th>\n",
       "      <td>5</td>\n",
       "      <td>1500000</td>\n",
       "      <td>42.8</td>\n",
       "      <td>2017-08-14</td>\n",
       "      <td>2</td>\n",
       "      <td>1.20</td>\n",
       "      <td>2</td>\n",
       "      <td>27.5</td>\n",
       "      <td>1</td>\n",
       "      <td>False</td>\n",
       "      <td>...</td>\n",
       "      <td>5.20</td>\n",
       "      <td>0</td>\n",
       "      <td>посёлок Мга</td>\n",
       "      <td>NaN</td>\n",
       "      <td>NaN</td>\n",
       "      <td>0</td>\n",
       "      <td>NaN</td>\n",
       "      <td>0</td>\n",
       "      <td>NaN</td>\n",
       "      <td>248.0</td>\n",
       "    </tr>\n",
       "    <tr>\n",
       "      <th>22590</th>\n",
       "      <td>16</td>\n",
       "      <td>6000000</td>\n",
       "      <td>55.0</td>\n",
       "      <td>2018-10-31</td>\n",
       "      <td>2</td>\n",
       "      <td>1.00</td>\n",
       "      <td>12</td>\n",
       "      <td>32.4</td>\n",
       "      <td>7</td>\n",
       "      <td>False</td>\n",
       "      <td>...</td>\n",
       "      <td>10.00</td>\n",
       "      <td>0</td>\n",
       "      <td>Санкт-Петербург</td>\n",
       "      <td>33053.0</td>\n",
       "      <td>14217.0</td>\n",
       "      <td>2</td>\n",
       "      <td>293.0</td>\n",
       "      <td>2</td>\n",
       "      <td>289.0</td>\n",
       "      <td>13.0</td>\n",
       "    </tr>\n",
       "  </tbody>\n",
       "</table>\n",
       "<p>23699 rows × 22 columns</p>\n",
       "</div>"
      ],
      "text/plain": [
       "       total_images  last_price  total_area first_day_exposition  rooms  \\\n",
       "22869             0    15000000        25.0           2018-07-25      1   \n",
       "3148             14     2900000        75.0           2018-11-12      3   \n",
       "22336            19     9999000        92.4           2019-04-05      2   \n",
       "21377            19     4900000        42.0           2017-04-18      1   \n",
       "4876              7     3000000        25.0           2017-09-27      0   \n",
       "...             ...         ...         ...                  ...    ...   \n",
       "2572              4     2400000        62.0           2018-12-27      3   \n",
       "22960            17     2300000        53.6           2018-10-18      2   \n",
       "16934             5     4100000        40.0           2017-10-17      1   \n",
       "5712              5     1500000        42.8           2017-08-14      2   \n",
       "22590            16     6000000        55.0           2018-10-31      2   \n",
       "\n",
       "       ceiling_height  floors_total  living_area  floor  is_apartment  ...  \\\n",
       "22869          100.00             5         14.0      5          True  ...   \n",
       "3148            32.00             3         53.0      2         False  ...   \n",
       "22336           32.00             6         55.5      5         False  ...   \n",
       "21377           27.50            24         37.7     19         False  ...   \n",
       "4876            27.00            25         17.0     17         False  ...   \n",
       "...               ...           ...          ...    ...           ...  ...   \n",
       "2572             2.00             5         40.0      4         False  ...   \n",
       "22960            2.00             2         19.0      1         False  ...   \n",
       "16934            1.75            37         17.4      5         False  ...   \n",
       "5712             1.20             2         27.5      1         False  ...   \n",
       "22590            1.00            12         32.4      7         False  ...   \n",
       "\n",
       "       kitchen_area  balcony    locality_name  airports_nearest  \\\n",
       "22869         11.00        5  Санкт-Петербург           34963.0   \n",
       "3148           8.00        0           Волхов               NaN   \n",
       "22336         16.50        4  Санкт-Петербург           18838.0   \n",
       "21377         11.00        2  Санкт-Петербург           42742.0   \n",
       "4876           0.00        2   посёлок Мурино               NaN   \n",
       "...             ...      ...              ...               ...   \n",
       "2572           6.00        1             Луга               NaN   \n",
       "22960         10.00        0       Всеволожск               NaN   \n",
       "16934          8.34        0  Санкт-Петербург           18732.0   \n",
       "5712           5.20        0      посёлок Мга               NaN   \n",
       "22590         10.00        0  Санкт-Петербург           33053.0   \n",
       "\n",
       "      cityCenters_nearest  parks_around3000  parks_nearest  ponds_around3000  \\\n",
       "22869              8283.0                 1          223.0                 3   \n",
       "3148                  NaN                 0            NaN                 0   \n",
       "22336              3506.0                 0            NaN                 3   \n",
       "21377              9760.0                 0            NaN                 0   \n",
       "4876                  NaN                 0            NaN                 0   \n",
       "...                   ...               ...            ...               ...   \n",
       "2572                  NaN                 0            NaN                 0   \n",
       "22960                 NaN                 0            NaN                 0   \n",
       "16934             20444.0                 0            NaN                 3   \n",
       "5712                  NaN                 0            NaN                 0   \n",
       "22590             14217.0                 2          293.0                 2   \n",
       "\n",
       "       ponds_nearest  days_exposition  \n",
       "22869           30.0             19.0  \n",
       "3148             NaN              NaN  \n",
       "22336          511.0              NaN  \n",
       "21377            NaN             61.0  \n",
       "4876             NaN             28.0  \n",
       "...              ...              ...  \n",
       "2572             NaN              NaN  \n",
       "22960            NaN              NaN  \n",
       "16934           80.0             71.0  \n",
       "5712             NaN            248.0  \n",
       "22590          289.0             13.0  \n",
       "\n",
       "[23699 rows x 22 columns]"
      ]
     },
     "execution_count": 27,
     "metadata": {},
     "output_type": "execute_result"
    }
   ],
   "source": [
    "data.sort_values('ceiling_height', ascending=False)"
   ]
  },
  {
   "cell_type": "code",
   "execution_count": 28,
   "metadata": {},
   "outputs": [
    {
     "data": {
      "text/html": [
       "<div>\n",
       "<style scoped>\n",
       "    .dataframe tbody tr th:only-of-type {\n",
       "        vertical-align: middle;\n",
       "    }\n",
       "\n",
       "    .dataframe tbody tr th {\n",
       "        vertical-align: top;\n",
       "    }\n",
       "\n",
       "    .dataframe thead th {\n",
       "        text-align: right;\n",
       "    }\n",
       "</style>\n",
       "<table border=\"1\" class=\"dataframe\">\n",
       "  <thead>\n",
       "    <tr style=\"text-align: right;\">\n",
       "      <th></th>\n",
       "      <th>total_images</th>\n",
       "      <th>last_price</th>\n",
       "      <th>total_area</th>\n",
       "      <th>first_day_exposition</th>\n",
       "      <th>rooms</th>\n",
       "      <th>ceiling_height</th>\n",
       "      <th>floors_total</th>\n",
       "      <th>living_area</th>\n",
       "      <th>floor</th>\n",
       "      <th>is_apartment</th>\n",
       "      <th>...</th>\n",
       "      <th>kitchen_area</th>\n",
       "      <th>balcony</th>\n",
       "      <th>locality_name</th>\n",
       "      <th>airports_nearest</th>\n",
       "      <th>cityCenters_nearest</th>\n",
       "      <th>parks_around3000</th>\n",
       "      <th>parks_nearest</th>\n",
       "      <th>ponds_around3000</th>\n",
       "      <th>ponds_nearest</th>\n",
       "      <th>days_exposition</th>\n",
       "    </tr>\n",
       "  </thead>\n",
       "  <tbody>\n",
       "    <tr>\n",
       "      <th>2253</th>\n",
       "      <td>12</td>\n",
       "      <td>3800000</td>\n",
       "      <td>45.5</td>\n",
       "      <td>2018-06-28</td>\n",
       "      <td>2</td>\n",
       "      <td>2.88</td>\n",
       "      <td>60</td>\n",
       "      <td>27.4</td>\n",
       "      <td>4</td>\n",
       "      <td>False</td>\n",
       "      <td>...</td>\n",
       "      <td>7.40</td>\n",
       "      <td>0</td>\n",
       "      <td>Кронштадт</td>\n",
       "      <td>67763.0</td>\n",
       "      <td>49488.0</td>\n",
       "      <td>2</td>\n",
       "      <td>342.0</td>\n",
       "      <td>3</td>\n",
       "      <td>614.0</td>\n",
       "      <td>166.0</td>\n",
       "    </tr>\n",
       "    <tr>\n",
       "      <th>16731</th>\n",
       "      <td>9</td>\n",
       "      <td>3978000</td>\n",
       "      <td>40.0</td>\n",
       "      <td>2018-09-24</td>\n",
       "      <td>1</td>\n",
       "      <td>2.65</td>\n",
       "      <td>52</td>\n",
       "      <td>10.5</td>\n",
       "      <td>18</td>\n",
       "      <td>False</td>\n",
       "      <td>...</td>\n",
       "      <td>14.00</td>\n",
       "      <td>0</td>\n",
       "      <td>Санкт-Петербург</td>\n",
       "      <td>20728.0</td>\n",
       "      <td>12978.0</td>\n",
       "      <td>1</td>\n",
       "      <td>793.0</td>\n",
       "      <td>0</td>\n",
       "      <td>NaN</td>\n",
       "      <td>45.0</td>\n",
       "    </tr>\n",
       "    <tr>\n",
       "      <th>16934</th>\n",
       "      <td>5</td>\n",
       "      <td>4100000</td>\n",
       "      <td>40.0</td>\n",
       "      <td>2017-10-17</td>\n",
       "      <td>1</td>\n",
       "      <td>1.75</td>\n",
       "      <td>37</td>\n",
       "      <td>17.4</td>\n",
       "      <td>5</td>\n",
       "      <td>False</td>\n",
       "      <td>...</td>\n",
       "      <td>8.34</td>\n",
       "      <td>0</td>\n",
       "      <td>Санкт-Петербург</td>\n",
       "      <td>18732.0</td>\n",
       "      <td>20444.0</td>\n",
       "      <td>0</td>\n",
       "      <td>NaN</td>\n",
       "      <td>3</td>\n",
       "      <td>80.0</td>\n",
       "      <td>71.0</td>\n",
       "    </tr>\n",
       "    <tr>\n",
       "      <th>397</th>\n",
       "      <td>15</td>\n",
       "      <td>5990000</td>\n",
       "      <td>54.0</td>\n",
       "      <td>2018-03-22</td>\n",
       "      <td>2</td>\n",
       "      <td>2.65</td>\n",
       "      <td>36</td>\n",
       "      <td>21.4</td>\n",
       "      <td>28</td>\n",
       "      <td>False</td>\n",
       "      <td>...</td>\n",
       "      <td>18.70</td>\n",
       "      <td>1</td>\n",
       "      <td>Санкт-Петербург</td>\n",
       "      <td>18732.0</td>\n",
       "      <td>20444.0</td>\n",
       "      <td>0</td>\n",
       "      <td>NaN</td>\n",
       "      <td>3</td>\n",
       "      <td>80.0</td>\n",
       "      <td>11.0</td>\n",
       "    </tr>\n",
       "    <tr>\n",
       "      <th>5807</th>\n",
       "      <td>17</td>\n",
       "      <td>8150000</td>\n",
       "      <td>80.0</td>\n",
       "      <td>2019-01-09</td>\n",
       "      <td>2</td>\n",
       "      <td>27.00</td>\n",
       "      <td>36</td>\n",
       "      <td>41.0</td>\n",
       "      <td>13</td>\n",
       "      <td>False</td>\n",
       "      <td>...</td>\n",
       "      <td>12.00</td>\n",
       "      <td>5</td>\n",
       "      <td>Санкт-Петербург</td>\n",
       "      <td>18732.0</td>\n",
       "      <td>20444.0</td>\n",
       "      <td>0</td>\n",
       "      <td>NaN</td>\n",
       "      <td>3</td>\n",
       "      <td>80.0</td>\n",
       "      <td>38.0</td>\n",
       "    </tr>\n",
       "    <tr>\n",
       "      <th>...</th>\n",
       "      <td>...</td>\n",
       "      <td>...</td>\n",
       "      <td>...</td>\n",
       "      <td>...</td>\n",
       "      <td>...</td>\n",
       "      <td>...</td>\n",
       "      <td>...</td>\n",
       "      <td>...</td>\n",
       "      <td>...</td>\n",
       "      <td>...</td>\n",
       "      <td>...</td>\n",
       "      <td>...</td>\n",
       "      <td>...</td>\n",
       "      <td>...</td>\n",
       "      <td>...</td>\n",
       "      <td>...</td>\n",
       "      <td>...</td>\n",
       "      <td>...</td>\n",
       "      <td>...</td>\n",
       "      <td>...</td>\n",
       "      <td>...</td>\n",
       "    </tr>\n",
       "    <tr>\n",
       "      <th>17020</th>\n",
       "      <td>10</td>\n",
       "      <td>3700000</td>\n",
       "      <td>100.0</td>\n",
       "      <td>2018-01-01</td>\n",
       "      <td>3</td>\n",
       "      <td>3.00</td>\n",
       "      <td>1</td>\n",
       "      <td>35.0</td>\n",
       "      <td>1</td>\n",
       "      <td>False</td>\n",
       "      <td>...</td>\n",
       "      <td>22.00</td>\n",
       "      <td>0</td>\n",
       "      <td>деревня Каськово</td>\n",
       "      <td>NaN</td>\n",
       "      <td>NaN</td>\n",
       "      <td>0</td>\n",
       "      <td>NaN</td>\n",
       "      <td>0</td>\n",
       "      <td>NaN</td>\n",
       "      <td>346.0</td>\n",
       "    </tr>\n",
       "    <tr>\n",
       "      <th>3076</th>\n",
       "      <td>20</td>\n",
       "      <td>2000000</td>\n",
       "      <td>80.0</td>\n",
       "      <td>2018-01-03</td>\n",
       "      <td>3</td>\n",
       "      <td>2.65</td>\n",
       "      <td>1</td>\n",
       "      <td>48.5</td>\n",
       "      <td>1</td>\n",
       "      <td>False</td>\n",
       "      <td>...</td>\n",
       "      <td>10.00</td>\n",
       "      <td>0</td>\n",
       "      <td>Волосово</td>\n",
       "      <td>NaN</td>\n",
       "      <td>NaN</td>\n",
       "      <td>0</td>\n",
       "      <td>NaN</td>\n",
       "      <td>0</td>\n",
       "      <td>NaN</td>\n",
       "      <td>44.0</td>\n",
       "    </tr>\n",
       "    <tr>\n",
       "      <th>8335</th>\n",
       "      <td>10</td>\n",
       "      <td>2700000</td>\n",
       "      <td>80.0</td>\n",
       "      <td>2018-07-07</td>\n",
       "      <td>3</td>\n",
       "      <td>3.00</td>\n",
       "      <td>1</td>\n",
       "      <td>45.0</td>\n",
       "      <td>1</td>\n",
       "      <td>False</td>\n",
       "      <td>...</td>\n",
       "      <td>15.00</td>\n",
       "      <td>0</td>\n",
       "      <td>Луга</td>\n",
       "      <td>NaN</td>\n",
       "      <td>NaN</td>\n",
       "      <td>0</td>\n",
       "      <td>NaN</td>\n",
       "      <td>0</td>\n",
       "      <td>NaN</td>\n",
       "      <td>51.0</td>\n",
       "    </tr>\n",
       "    <tr>\n",
       "      <th>4379</th>\n",
       "      <td>5</td>\n",
       "      <td>5300000</td>\n",
       "      <td>58.5</td>\n",
       "      <td>2017-11-15</td>\n",
       "      <td>2</td>\n",
       "      <td>2.65</td>\n",
       "      <td>1</td>\n",
       "      <td>31.6</td>\n",
       "      <td>1</td>\n",
       "      <td>False</td>\n",
       "      <td>...</td>\n",
       "      <td>9.40</td>\n",
       "      <td>0</td>\n",
       "      <td>посёлок Рощино</td>\n",
       "      <td>NaN</td>\n",
       "      <td>NaN</td>\n",
       "      <td>0</td>\n",
       "      <td>NaN</td>\n",
       "      <td>0</td>\n",
       "      <td>NaN</td>\n",
       "      <td>226.0</td>\n",
       "    </tr>\n",
       "    <tr>\n",
       "      <th>15543</th>\n",
       "      <td>12</td>\n",
       "      <td>3500000</td>\n",
       "      <td>54.0</td>\n",
       "      <td>2017-12-01</td>\n",
       "      <td>2</td>\n",
       "      <td>2.90</td>\n",
       "      <td>1</td>\n",
       "      <td>24.4</td>\n",
       "      <td>1</td>\n",
       "      <td>False</td>\n",
       "      <td>...</td>\n",
       "      <td>7.30</td>\n",
       "      <td>0</td>\n",
       "      <td>городской посёлок Большая Ижора</td>\n",
       "      <td>NaN</td>\n",
       "      <td>NaN</td>\n",
       "      <td>0</td>\n",
       "      <td>NaN</td>\n",
       "      <td>0</td>\n",
       "      <td>NaN</td>\n",
       "      <td>202.0</td>\n",
       "    </tr>\n",
       "  </tbody>\n",
       "</table>\n",
       "<p>23699 rows × 22 columns</p>\n",
       "</div>"
      ],
      "text/plain": [
       "       total_images  last_price  total_area first_day_exposition  rooms  \\\n",
       "2253             12     3800000        45.5           2018-06-28      2   \n",
       "16731             9     3978000        40.0           2018-09-24      1   \n",
       "16934             5     4100000        40.0           2017-10-17      1   \n",
       "397              15     5990000        54.0           2018-03-22      2   \n",
       "5807             17     8150000        80.0           2019-01-09      2   \n",
       "...             ...         ...         ...                  ...    ...   \n",
       "17020            10     3700000       100.0           2018-01-01      3   \n",
       "3076             20     2000000        80.0           2018-01-03      3   \n",
       "8335             10     2700000        80.0           2018-07-07      3   \n",
       "4379              5     5300000        58.5           2017-11-15      2   \n",
       "15543            12     3500000        54.0           2017-12-01      2   \n",
       "\n",
       "       ceiling_height  floors_total  living_area  floor  is_apartment  ...  \\\n",
       "2253             2.88            60         27.4      4         False  ...   \n",
       "16731            2.65            52         10.5     18         False  ...   \n",
       "16934            1.75            37         17.4      5         False  ...   \n",
       "397              2.65            36         21.4     28         False  ...   \n",
       "5807            27.00            36         41.0     13         False  ...   \n",
       "...               ...           ...          ...    ...           ...  ...   \n",
       "17020            3.00             1         35.0      1         False  ...   \n",
       "3076             2.65             1         48.5      1         False  ...   \n",
       "8335             3.00             1         45.0      1         False  ...   \n",
       "4379             2.65             1         31.6      1         False  ...   \n",
       "15543            2.90             1         24.4      1         False  ...   \n",
       "\n",
       "       kitchen_area  balcony                    locality_name  \\\n",
       "2253           7.40        0                        Кронштадт   \n",
       "16731         14.00        0                  Санкт-Петербург   \n",
       "16934          8.34        0                  Санкт-Петербург   \n",
       "397           18.70        1                  Санкт-Петербург   \n",
       "5807          12.00        5                  Санкт-Петербург   \n",
       "...             ...      ...                              ...   \n",
       "17020         22.00        0                 деревня Каськово   \n",
       "3076          10.00        0                         Волосово   \n",
       "8335          15.00        0                             Луга   \n",
       "4379           9.40        0                   посёлок Рощино   \n",
       "15543          7.30        0  городской посёлок Большая Ижора   \n",
       "\n",
       "       airports_nearest cityCenters_nearest  parks_around3000  parks_nearest  \\\n",
       "2253            67763.0             49488.0                 2          342.0   \n",
       "16731           20728.0             12978.0                 1          793.0   \n",
       "16934           18732.0             20444.0                 0            NaN   \n",
       "397             18732.0             20444.0                 0            NaN   \n",
       "5807            18732.0             20444.0                 0            NaN   \n",
       "...                 ...                 ...               ...            ...   \n",
       "17020               NaN                 NaN                 0            NaN   \n",
       "3076                NaN                 NaN                 0            NaN   \n",
       "8335                NaN                 NaN                 0            NaN   \n",
       "4379                NaN                 NaN                 0            NaN   \n",
       "15543               NaN                 NaN                 0            NaN   \n",
       "\n",
       "       ponds_around3000  ponds_nearest  days_exposition  \n",
       "2253                  3          614.0            166.0  \n",
       "16731                 0            NaN             45.0  \n",
       "16934                 3           80.0             71.0  \n",
       "397                   3           80.0             11.0  \n",
       "5807                  3           80.0             38.0  \n",
       "...                 ...            ...              ...  \n",
       "17020                 0            NaN            346.0  \n",
       "3076                  0            NaN             44.0  \n",
       "8335                  0            NaN             51.0  \n",
       "4379                  0            NaN            226.0  \n",
       "15543                 0            NaN            202.0  \n",
       "\n",
       "[23699 rows x 22 columns]"
      ]
     },
     "execution_count": 28,
     "metadata": {},
     "output_type": "execute_result"
    }
   ],
   "source": [
    "data.sort_values('floors_total', ascending=False)"
   ]
  },
  {
   "cell_type": "code",
   "execution_count": 29,
   "metadata": {
    "scrolled": true
   },
   "outputs": [
    {
     "data": {
      "text/html": [
       "<div>\n",
       "<style scoped>\n",
       "    .dataframe tbody tr th:only-of-type {\n",
       "        vertical-align: middle;\n",
       "    }\n",
       "\n",
       "    .dataframe tbody tr th {\n",
       "        vertical-align: top;\n",
       "    }\n",
       "\n",
       "    .dataframe thead th {\n",
       "        text-align: right;\n",
       "    }\n",
       "</style>\n",
       "<table border=\"1\" class=\"dataframe\">\n",
       "  <thead>\n",
       "    <tr style=\"text-align: right;\">\n",
       "      <th></th>\n",
       "      <th>total_images</th>\n",
       "      <th>last_price</th>\n",
       "      <th>total_area</th>\n",
       "      <th>first_day_exposition</th>\n",
       "      <th>rooms</th>\n",
       "      <th>ceiling_height</th>\n",
       "      <th>floors_total</th>\n",
       "      <th>living_area</th>\n",
       "      <th>floor</th>\n",
       "      <th>is_apartment</th>\n",
       "      <th>...</th>\n",
       "      <th>kitchen_area</th>\n",
       "      <th>balcony</th>\n",
       "      <th>locality_name</th>\n",
       "      <th>airports_nearest</th>\n",
       "      <th>cityCenters_nearest</th>\n",
       "      <th>parks_around3000</th>\n",
       "      <th>parks_nearest</th>\n",
       "      <th>ponds_around3000</th>\n",
       "      <th>ponds_nearest</th>\n",
       "      <th>days_exposition</th>\n",
       "    </tr>\n",
       "  </thead>\n",
       "  <tbody>\n",
       "  </tbody>\n",
       "</table>\n",
       "<p>0 rows × 22 columns</p>\n",
       "</div>"
      ],
      "text/plain": [
       "Empty DataFrame\n",
       "Columns: [total_images, last_price, total_area, first_day_exposition, rooms, ceiling_height, floors_total, living_area, floor, is_apartment, studio, open_plan, kitchen_area, balcony, locality_name, airports_nearest, cityCenters_nearest, parks_around3000, parks_nearest, ponds_around3000, ponds_nearest, days_exposition]\n",
       "Index: []\n",
       "\n",
       "[0 rows x 22 columns]"
      ]
     },
     "execution_count": 29,
     "metadata": {},
     "output_type": "execute_result"
    }
   ],
   "source": [
    "data[data['floor'] > data['floors_total']]"
   ]
  },
  {
   "cell_type": "code",
   "execution_count": 30,
   "metadata": {
    "scrolled": false
   },
   "outputs": [
    {
     "data": {
      "text/html": [
       "<div>\n",
       "<style scoped>\n",
       "    .dataframe tbody tr th:only-of-type {\n",
       "        vertical-align: middle;\n",
       "    }\n",
       "\n",
       "    .dataframe tbody tr th {\n",
       "        vertical-align: top;\n",
       "    }\n",
       "\n",
       "    .dataframe thead th {\n",
       "        text-align: right;\n",
       "    }\n",
       "</style>\n",
       "<table border=\"1\" class=\"dataframe\">\n",
       "  <thead>\n",
       "    <tr style=\"text-align: right;\">\n",
       "      <th></th>\n",
       "      <th>total_images</th>\n",
       "      <th>last_price</th>\n",
       "      <th>total_area</th>\n",
       "      <th>first_day_exposition</th>\n",
       "      <th>rooms</th>\n",
       "      <th>ceiling_height</th>\n",
       "      <th>floors_total</th>\n",
       "      <th>living_area</th>\n",
       "      <th>floor</th>\n",
       "      <th>is_apartment</th>\n",
       "      <th>...</th>\n",
       "      <th>kitchen_area</th>\n",
       "      <th>balcony</th>\n",
       "      <th>locality_name</th>\n",
       "      <th>airports_nearest</th>\n",
       "      <th>cityCenters_nearest</th>\n",
       "      <th>parks_around3000</th>\n",
       "      <th>parks_nearest</th>\n",
       "      <th>ponds_around3000</th>\n",
       "      <th>ponds_nearest</th>\n",
       "      <th>days_exposition</th>\n",
       "    </tr>\n",
       "  </thead>\n",
       "  <tbody>\n",
       "    <tr>\n",
       "      <th>15152</th>\n",
       "      <td>9</td>\n",
       "      <td>10200000</td>\n",
       "      <td>70.6</td>\n",
       "      <td>2018-11-14</td>\n",
       "      <td>2</td>\n",
       "      <td>3.10</td>\n",
       "      <td>17</td>\n",
       "      <td>42.3</td>\n",
       "      <td>7</td>\n",
       "      <td>False</td>\n",
       "      <td>...</td>\n",
       "      <td>11.6</td>\n",
       "      <td>5</td>\n",
       "      <td>Санкт-Петербург</td>\n",
       "      <td>9273.0</td>\n",
       "      <td>11391.0</td>\n",
       "      <td>1</td>\n",
       "      <td>531.0</td>\n",
       "      <td>1</td>\n",
       "      <td>935.0</td>\n",
       "      <td>103.0</td>\n",
       "    </tr>\n",
       "    <tr>\n",
       "      <th>19525</th>\n",
       "      <td>17</td>\n",
       "      <td>8370000</td>\n",
       "      <td>64.4</td>\n",
       "      <td>2019-02-19</td>\n",
       "      <td>2</td>\n",
       "      <td>2.80</td>\n",
       "      <td>23</td>\n",
       "      <td>30.1</td>\n",
       "      <td>4</td>\n",
       "      <td>False</td>\n",
       "      <td>...</td>\n",
       "      <td>13.0</td>\n",
       "      <td>5</td>\n",
       "      <td>Санкт-Петербург</td>\n",
       "      <td>32447.0</td>\n",
       "      <td>13064.0</td>\n",
       "      <td>0</td>\n",
       "      <td>NaN</td>\n",
       "      <td>0</td>\n",
       "      <td>NaN</td>\n",
       "      <td>NaN</td>\n",
       "    </tr>\n",
       "    <tr>\n",
       "      <th>3344</th>\n",
       "      <td>27</td>\n",
       "      <td>23500000</td>\n",
       "      <td>134.0</td>\n",
       "      <td>2017-11-10</td>\n",
       "      <td>4</td>\n",
       "      <td>2.65</td>\n",
       "      <td>16</td>\n",
       "      <td>59.0</td>\n",
       "      <td>14</td>\n",
       "      <td>False</td>\n",
       "      <td>...</td>\n",
       "      <td>37.0</td>\n",
       "      <td>5</td>\n",
       "      <td>Санкт-Петербург</td>\n",
       "      <td>31344.0</td>\n",
       "      <td>6673.0</td>\n",
       "      <td>1</td>\n",
       "      <td>545.0</td>\n",
       "      <td>1</td>\n",
       "      <td>198.0</td>\n",
       "      <td>90.0</td>\n",
       "    </tr>\n",
       "    <tr>\n",
       "      <th>17526</th>\n",
       "      <td>13</td>\n",
       "      <td>11000000</td>\n",
       "      <td>73.9</td>\n",
       "      <td>2019-03-31</td>\n",
       "      <td>2</td>\n",
       "      <td>2.80</td>\n",
       "      <td>25</td>\n",
       "      <td>39.9</td>\n",
       "      <td>22</td>\n",
       "      <td>False</td>\n",
       "      <td>...</td>\n",
       "      <td>15.2</td>\n",
       "      <td>5</td>\n",
       "      <td>Санкт-Петербург</td>\n",
       "      <td>36575.0</td>\n",
       "      <td>12097.0</td>\n",
       "      <td>1</td>\n",
       "      <td>610.0</td>\n",
       "      <td>1</td>\n",
       "      <td>654.0</td>\n",
       "      <td>NaN</td>\n",
       "    </tr>\n",
       "    <tr>\n",
       "      <th>3335</th>\n",
       "      <td>12</td>\n",
       "      <td>6700000</td>\n",
       "      <td>73.4</td>\n",
       "      <td>2017-10-19</td>\n",
       "      <td>3</td>\n",
       "      <td>2.50</td>\n",
       "      <td>9</td>\n",
       "      <td>44.3</td>\n",
       "      <td>5</td>\n",
       "      <td>False</td>\n",
       "      <td>...</td>\n",
       "      <td>8.9</td>\n",
       "      <td>5</td>\n",
       "      <td>Санкт-Петербург</td>\n",
       "      <td>51571.0</td>\n",
       "      <td>16814.0</td>\n",
       "      <td>0</td>\n",
       "      <td>NaN</td>\n",
       "      <td>0</td>\n",
       "      <td>NaN</td>\n",
       "      <td>453.0</td>\n",
       "    </tr>\n",
       "    <tr>\n",
       "      <th>...</th>\n",
       "      <td>...</td>\n",
       "      <td>...</td>\n",
       "      <td>...</td>\n",
       "      <td>...</td>\n",
       "      <td>...</td>\n",
       "      <td>...</td>\n",
       "      <td>...</td>\n",
       "      <td>...</td>\n",
       "      <td>...</td>\n",
       "      <td>...</td>\n",
       "      <td>...</td>\n",
       "      <td>...</td>\n",
       "      <td>...</td>\n",
       "      <td>...</td>\n",
       "      <td>...</td>\n",
       "      <td>...</td>\n",
       "      <td>...</td>\n",
       "      <td>...</td>\n",
       "      <td>...</td>\n",
       "      <td>...</td>\n",
       "      <td>...</td>\n",
       "    </tr>\n",
       "    <tr>\n",
       "      <th>9666</th>\n",
       "      <td>6</td>\n",
       "      <td>4600000</td>\n",
       "      <td>42.9</td>\n",
       "      <td>2019-01-08</td>\n",
       "      <td>1</td>\n",
       "      <td>2.75</td>\n",
       "      <td>27</td>\n",
       "      <td>17.7</td>\n",
       "      <td>15</td>\n",
       "      <td>False</td>\n",
       "      <td>...</td>\n",
       "      <td>13.9</td>\n",
       "      <td>0</td>\n",
       "      <td>посёлок Парголово</td>\n",
       "      <td>52610.0</td>\n",
       "      <td>18787.0</td>\n",
       "      <td>0</td>\n",
       "      <td>NaN</td>\n",
       "      <td>0</td>\n",
       "      <td>NaN</td>\n",
       "      <td>NaN</td>\n",
       "    </tr>\n",
       "    <tr>\n",
       "      <th>9665</th>\n",
       "      <td>6</td>\n",
       "      <td>2600000</td>\n",
       "      <td>31.3</td>\n",
       "      <td>2017-04-20</td>\n",
       "      <td>1</td>\n",
       "      <td>2.65</td>\n",
       "      <td>4</td>\n",
       "      <td>18.2</td>\n",
       "      <td>2</td>\n",
       "      <td>False</td>\n",
       "      <td>...</td>\n",
       "      <td>5.6</td>\n",
       "      <td>0</td>\n",
       "      <td>Санкт-Петербург</td>\n",
       "      <td>18459.0</td>\n",
       "      <td>17461.0</td>\n",
       "      <td>1</td>\n",
       "      <td>613.0</td>\n",
       "      <td>0</td>\n",
       "      <td>NaN</td>\n",
       "      <td>15.0</td>\n",
       "    </tr>\n",
       "    <tr>\n",
       "      <th>9663</th>\n",
       "      <td>11</td>\n",
       "      <td>6400000</td>\n",
       "      <td>77.0</td>\n",
       "      <td>2019-03-05</td>\n",
       "      <td>3</td>\n",
       "      <td>2.65</td>\n",
       "      <td>22</td>\n",
       "      <td>43.0</td>\n",
       "      <td>6</td>\n",
       "      <td>False</td>\n",
       "      <td>...</td>\n",
       "      <td>12.5</td>\n",
       "      <td>0</td>\n",
       "      <td>Санкт-Петербург</td>\n",
       "      <td>42165.0</td>\n",
       "      <td>21481.0</td>\n",
       "      <td>0</td>\n",
       "      <td>NaN</td>\n",
       "      <td>0</td>\n",
       "      <td>NaN</td>\n",
       "      <td>45.0</td>\n",
       "    </tr>\n",
       "    <tr>\n",
       "      <th>9662</th>\n",
       "      <td>10</td>\n",
       "      <td>7900000</td>\n",
       "      <td>67.0</td>\n",
       "      <td>2018-09-06</td>\n",
       "      <td>2</td>\n",
       "      <td>2.60</td>\n",
       "      <td>20</td>\n",
       "      <td>41.1</td>\n",
       "      <td>4</td>\n",
       "      <td>False</td>\n",
       "      <td>...</td>\n",
       "      <td>11.6</td>\n",
       "      <td>0</td>\n",
       "      <td>Санкт-Петербург</td>\n",
       "      <td>35068.0</td>\n",
       "      <td>16167.0</td>\n",
       "      <td>0</td>\n",
       "      <td>NaN</td>\n",
       "      <td>0</td>\n",
       "      <td>NaN</td>\n",
       "      <td>89.0</td>\n",
       "    </tr>\n",
       "    <tr>\n",
       "      <th>23698</th>\n",
       "      <td>4</td>\n",
       "      <td>1350000</td>\n",
       "      <td>32.3</td>\n",
       "      <td>2017-07-21</td>\n",
       "      <td>1</td>\n",
       "      <td>2.50</td>\n",
       "      <td>5</td>\n",
       "      <td>12.3</td>\n",
       "      <td>1</td>\n",
       "      <td>False</td>\n",
       "      <td>...</td>\n",
       "      <td>9.0</td>\n",
       "      <td>0</td>\n",
       "      <td>посёлок Новый Учхоз</td>\n",
       "      <td>NaN</td>\n",
       "      <td>NaN</td>\n",
       "      <td>0</td>\n",
       "      <td>NaN</td>\n",
       "      <td>0</td>\n",
       "      <td>NaN</td>\n",
       "      <td>NaN</td>\n",
       "    </tr>\n",
       "  </tbody>\n",
       "</table>\n",
       "<p>23699 rows × 22 columns</p>\n",
       "</div>"
      ],
      "text/plain": [
       "       total_images  last_price  total_area first_day_exposition  rooms  \\\n",
       "15152             9    10200000        70.6           2018-11-14      2   \n",
       "19525            17     8370000        64.4           2019-02-19      2   \n",
       "3344             27    23500000       134.0           2017-11-10      4   \n",
       "17526            13    11000000        73.9           2019-03-31      2   \n",
       "3335             12     6700000        73.4           2017-10-19      3   \n",
       "...             ...         ...         ...                  ...    ...   \n",
       "9666              6     4600000        42.9           2019-01-08      1   \n",
       "9665              6     2600000        31.3           2017-04-20      1   \n",
       "9663             11     6400000        77.0           2019-03-05      3   \n",
       "9662             10     7900000        67.0           2018-09-06      2   \n",
       "23698             4     1350000        32.3           2017-07-21      1   \n",
       "\n",
       "       ceiling_height  floors_total  living_area  floor  is_apartment  ...  \\\n",
       "15152            3.10            17         42.3      7         False  ...   \n",
       "19525            2.80            23         30.1      4         False  ...   \n",
       "3344             2.65            16         59.0     14         False  ...   \n",
       "17526            2.80            25         39.9     22         False  ...   \n",
       "3335             2.50             9         44.3      5         False  ...   \n",
       "...               ...           ...          ...    ...           ...  ...   \n",
       "9666             2.75            27         17.7     15         False  ...   \n",
       "9665             2.65             4         18.2      2         False  ...   \n",
       "9663             2.65            22         43.0      6         False  ...   \n",
       "9662             2.60            20         41.1      4         False  ...   \n",
       "23698            2.50             5         12.3      1         False  ...   \n",
       "\n",
       "       kitchen_area  balcony        locality_name  airports_nearest  \\\n",
       "15152          11.6        5      Санкт-Петербург            9273.0   \n",
       "19525          13.0        5      Санкт-Петербург           32447.0   \n",
       "3344           37.0        5      Санкт-Петербург           31344.0   \n",
       "17526          15.2        5      Санкт-Петербург           36575.0   \n",
       "3335            8.9        5      Санкт-Петербург           51571.0   \n",
       "...             ...      ...                  ...               ...   \n",
       "9666           13.9        0    посёлок Парголово           52610.0   \n",
       "9665            5.6        0      Санкт-Петербург           18459.0   \n",
       "9663           12.5        0      Санкт-Петербург           42165.0   \n",
       "9662           11.6        0      Санкт-Петербург           35068.0   \n",
       "23698           9.0        0  посёлок Новый Учхоз               NaN   \n",
       "\n",
       "      cityCenters_nearest  parks_around3000  parks_nearest  ponds_around3000  \\\n",
       "15152             11391.0                 1          531.0                 1   \n",
       "19525             13064.0                 0            NaN                 0   \n",
       "3344               6673.0                 1          545.0                 1   \n",
       "17526             12097.0                 1          610.0                 1   \n",
       "3335              16814.0                 0            NaN                 0   \n",
       "...                   ...               ...            ...               ...   \n",
       "9666              18787.0                 0            NaN                 0   \n",
       "9665              17461.0                 1          613.0                 0   \n",
       "9663              21481.0                 0            NaN                 0   \n",
       "9662              16167.0                 0            NaN                 0   \n",
       "23698                 NaN                 0            NaN                 0   \n",
       "\n",
       "       ponds_nearest  days_exposition  \n",
       "15152          935.0            103.0  \n",
       "19525            NaN              NaN  \n",
       "3344           198.0             90.0  \n",
       "17526          654.0              NaN  \n",
       "3335             NaN            453.0  \n",
       "...              ...              ...  \n",
       "9666             NaN              NaN  \n",
       "9665             NaN             15.0  \n",
       "9663             NaN             45.0  \n",
       "9662             NaN             89.0  \n",
       "23698            NaN              NaN  \n",
       "\n",
       "[23699 rows x 22 columns]"
      ]
     },
     "execution_count": 30,
     "metadata": {},
     "output_type": "execute_result"
    }
   ],
   "source": [
    "data.sort_values('balcony', ascending=False)"
   ]
  },
  {
   "cell_type": "code",
   "execution_count": 31,
   "metadata": {},
   "outputs": [
    {
     "data": {
      "text/html": [
       "<div>\n",
       "<style scoped>\n",
       "    .dataframe tbody tr th:only-of-type {\n",
       "        vertical-align: middle;\n",
       "    }\n",
       "\n",
       "    .dataframe tbody tr th {\n",
       "        vertical-align: top;\n",
       "    }\n",
       "\n",
       "    .dataframe thead th {\n",
       "        text-align: right;\n",
       "    }\n",
       "</style>\n",
       "<table border=\"1\" class=\"dataframe\">\n",
       "  <thead>\n",
       "    <tr style=\"text-align: right;\">\n",
       "      <th></th>\n",
       "      <th>total_images</th>\n",
       "      <th>last_price</th>\n",
       "      <th>total_area</th>\n",
       "      <th>first_day_exposition</th>\n",
       "      <th>rooms</th>\n",
       "      <th>ceiling_height</th>\n",
       "      <th>floors_total</th>\n",
       "      <th>living_area</th>\n",
       "      <th>floor</th>\n",
       "      <th>is_apartment</th>\n",
       "      <th>...</th>\n",
       "      <th>kitchen_area</th>\n",
       "      <th>balcony</th>\n",
       "      <th>locality_name</th>\n",
       "      <th>airports_nearest</th>\n",
       "      <th>cityCenters_nearest</th>\n",
       "      <th>parks_around3000</th>\n",
       "      <th>parks_nearest</th>\n",
       "      <th>ponds_around3000</th>\n",
       "      <th>ponds_nearest</th>\n",
       "      <th>days_exposition</th>\n",
       "    </tr>\n",
       "  </thead>\n",
       "  <tbody>\n",
       "    <tr>\n",
       "      <th>19540</th>\n",
       "      <td>8</td>\n",
       "      <td>420000000</td>\n",
       "      <td>900.0</td>\n",
       "      <td>2017-12-06</td>\n",
       "      <td>12</td>\n",
       "      <td>2.80</td>\n",
       "      <td>25</td>\n",
       "      <td>409.7</td>\n",
       "      <td>25</td>\n",
       "      <td>False</td>\n",
       "      <td>...</td>\n",
       "      <td>112.0</td>\n",
       "      <td>0</td>\n",
       "      <td>Санкт-Петербург</td>\n",
       "      <td>30706.0</td>\n",
       "      <td>7877.0</td>\n",
       "      <td>0</td>\n",
       "      <td>NaN</td>\n",
       "      <td>2</td>\n",
       "      <td>318.0</td>\n",
       "      <td>106.0</td>\n",
       "    </tr>\n",
       "    <tr>\n",
       "      <th>20215</th>\n",
       "      <td>2</td>\n",
       "      <td>85000000</td>\n",
       "      <td>249.7</td>\n",
       "      <td>2018-02-01</td>\n",
       "      <td>3</td>\n",
       "      <td>2.65</td>\n",
       "      <td>10</td>\n",
       "      <td>72.0</td>\n",
       "      <td>9</td>\n",
       "      <td>False</td>\n",
       "      <td>...</td>\n",
       "      <td>107.0</td>\n",
       "      <td>4</td>\n",
       "      <td>Санкт-Петербург</td>\n",
       "      <td>31532.0</td>\n",
       "      <td>4624.0</td>\n",
       "      <td>1</td>\n",
       "      <td>2218.0</td>\n",
       "      <td>2</td>\n",
       "      <td>99.0</td>\n",
       "      <td>26.0</td>\n",
       "    </tr>\n",
       "    <tr>\n",
       "      <th>2489</th>\n",
       "      <td>9</td>\n",
       "      <td>12500000</td>\n",
       "      <td>255.0</td>\n",
       "      <td>2017-04-21</td>\n",
       "      <td>3</td>\n",
       "      <td>2.65</td>\n",
       "      <td>2</td>\n",
       "      <td>153.9</td>\n",
       "      <td>2</td>\n",
       "      <td>False</td>\n",
       "      <td>...</td>\n",
       "      <td>100.7</td>\n",
       "      <td>0</td>\n",
       "      <td>Санкт-Петербург</td>\n",
       "      <td>29544.0</td>\n",
       "      <td>6916.0</td>\n",
       "      <td>0</td>\n",
       "      <td>NaN</td>\n",
       "      <td>3</td>\n",
       "      <td>198.0</td>\n",
       "      <td>102.0</td>\n",
       "    </tr>\n",
       "    <tr>\n",
       "      <th>5358</th>\n",
       "      <td>20</td>\n",
       "      <td>65000000</td>\n",
       "      <td>590.0</td>\n",
       "      <td>2019-02-14</td>\n",
       "      <td>15</td>\n",
       "      <td>3.50</td>\n",
       "      <td>6</td>\n",
       "      <td>409.0</td>\n",
       "      <td>3</td>\n",
       "      <td>False</td>\n",
       "      <td>...</td>\n",
       "      <td>100.0</td>\n",
       "      <td>0</td>\n",
       "      <td>Санкт-Петербург</td>\n",
       "      <td>24447.0</td>\n",
       "      <td>4666.0</td>\n",
       "      <td>1</td>\n",
       "      <td>767.0</td>\n",
       "      <td>0</td>\n",
       "      <td>NaN</td>\n",
       "      <td>14.0</td>\n",
       "    </tr>\n",
       "    <tr>\n",
       "      <th>16239</th>\n",
       "      <td>5</td>\n",
       "      <td>82400000</td>\n",
       "      <td>181.1</td>\n",
       "      <td>2017-05-24</td>\n",
       "      <td>3</td>\n",
       "      <td>3.90</td>\n",
       "      <td>9</td>\n",
       "      <td>58.2</td>\n",
       "      <td>4</td>\n",
       "      <td>False</td>\n",
       "      <td>...</td>\n",
       "      <td>93.2</td>\n",
       "      <td>0</td>\n",
       "      <td>Санкт-Петербург</td>\n",
       "      <td>25525.0</td>\n",
       "      <td>5845.0</td>\n",
       "      <td>2</td>\n",
       "      <td>116.0</td>\n",
       "      <td>0</td>\n",
       "      <td>NaN</td>\n",
       "      <td>501.0</td>\n",
       "    </tr>\n",
       "    <tr>\n",
       "      <th>...</th>\n",
       "      <td>...</td>\n",
       "      <td>...</td>\n",
       "      <td>...</td>\n",
       "      <td>...</td>\n",
       "      <td>...</td>\n",
       "      <td>...</td>\n",
       "      <td>...</td>\n",
       "      <td>...</td>\n",
       "      <td>...</td>\n",
       "      <td>...</td>\n",
       "      <td>...</td>\n",
       "      <td>...</td>\n",
       "      <td>...</td>\n",
       "      <td>...</td>\n",
       "      <td>...</td>\n",
       "      <td>...</td>\n",
       "      <td>...</td>\n",
       "      <td>...</td>\n",
       "      <td>...</td>\n",
       "      <td>...</td>\n",
       "      <td>...</td>\n",
       "    </tr>\n",
       "    <tr>\n",
       "      <th>6612</th>\n",
       "      <td>18</td>\n",
       "      <td>3590000</td>\n",
       "      <td>26.8</td>\n",
       "      <td>2017-11-10</td>\n",
       "      <td>0</td>\n",
       "      <td>2.65</td>\n",
       "      <td>24</td>\n",
       "      <td>19.0</td>\n",
       "      <td>20</td>\n",
       "      <td>False</td>\n",
       "      <td>...</td>\n",
       "      <td>0.0</td>\n",
       "      <td>0</td>\n",
       "      <td>Санкт-Петербург</td>\n",
       "      <td>11022.0</td>\n",
       "      <td>12679.0</td>\n",
       "      <td>0</td>\n",
       "      <td>NaN</td>\n",
       "      <td>0</td>\n",
       "      <td>NaN</td>\n",
       "      <td>15.0</td>\n",
       "    </tr>\n",
       "    <tr>\n",
       "      <th>697</th>\n",
       "      <td>12</td>\n",
       "      <td>2500000</td>\n",
       "      <td>24.1</td>\n",
       "      <td>2017-12-01</td>\n",
       "      <td>0</td>\n",
       "      <td>2.75</td>\n",
       "      <td>25</td>\n",
       "      <td>17.5</td>\n",
       "      <td>21</td>\n",
       "      <td>False</td>\n",
       "      <td>...</td>\n",
       "      <td>0.0</td>\n",
       "      <td>0</td>\n",
       "      <td>деревня Кудрово</td>\n",
       "      <td>NaN</td>\n",
       "      <td>NaN</td>\n",
       "      <td>0</td>\n",
       "      <td>NaN</td>\n",
       "      <td>0</td>\n",
       "      <td>NaN</td>\n",
       "      <td>201.0</td>\n",
       "    </tr>\n",
       "    <tr>\n",
       "      <th>10273</th>\n",
       "      <td>8</td>\n",
       "      <td>1870000</td>\n",
       "      <td>20.5</td>\n",
       "      <td>2016-04-04</td>\n",
       "      <td>0</td>\n",
       "      <td>2.65</td>\n",
       "      <td>15</td>\n",
       "      <td>15.8</td>\n",
       "      <td>13</td>\n",
       "      <td>False</td>\n",
       "      <td>...</td>\n",
       "      <td>0.0</td>\n",
       "      <td>2</td>\n",
       "      <td>посёлок Мурино</td>\n",
       "      <td>NaN</td>\n",
       "      <td>NaN</td>\n",
       "      <td>0</td>\n",
       "      <td>NaN</td>\n",
       "      <td>0</td>\n",
       "      <td>NaN</td>\n",
       "      <td>856.0</td>\n",
       "    </tr>\n",
       "    <tr>\n",
       "      <th>716</th>\n",
       "      <td>5</td>\n",
       "      <td>1500000</td>\n",
       "      <td>17.0</td>\n",
       "      <td>2017-06-07</td>\n",
       "      <td>0</td>\n",
       "      <td>2.70</td>\n",
       "      <td>9</td>\n",
       "      <td>12.0</td>\n",
       "      <td>1</td>\n",
       "      <td>False</td>\n",
       "      <td>...</td>\n",
       "      <td>0.0</td>\n",
       "      <td>0</td>\n",
       "      <td>посёлок Шушары</td>\n",
       "      <td>18654.0</td>\n",
       "      <td>29846.0</td>\n",
       "      <td>0</td>\n",
       "      <td>NaN</td>\n",
       "      <td>0</td>\n",
       "      <td>NaN</td>\n",
       "      <td>40.0</td>\n",
       "    </tr>\n",
       "    <tr>\n",
       "      <th>18042</th>\n",
       "      <td>15</td>\n",
       "      <td>2950000</td>\n",
       "      <td>25.9</td>\n",
       "      <td>2017-12-09</td>\n",
       "      <td>0</td>\n",
       "      <td>2.65</td>\n",
       "      <td>14</td>\n",
       "      <td>16.9</td>\n",
       "      <td>9</td>\n",
       "      <td>False</td>\n",
       "      <td>...</td>\n",
       "      <td>0.0</td>\n",
       "      <td>2</td>\n",
       "      <td>Санкт-Петербург</td>\n",
       "      <td>23239.0</td>\n",
       "      <td>12102.0</td>\n",
       "      <td>1</td>\n",
       "      <td>1021.0</td>\n",
       "      <td>1</td>\n",
       "      <td>893.0</td>\n",
       "      <td>45.0</td>\n",
       "    </tr>\n",
       "  </tbody>\n",
       "</table>\n",
       "<p>23699 rows × 22 columns</p>\n",
       "</div>"
      ],
      "text/plain": [
       "       total_images  last_price  total_area first_day_exposition  rooms  \\\n",
       "19540             8   420000000       900.0           2017-12-06     12   \n",
       "20215             2    85000000       249.7           2018-02-01      3   \n",
       "2489              9    12500000       255.0           2017-04-21      3   \n",
       "5358             20    65000000       590.0           2019-02-14     15   \n",
       "16239             5    82400000       181.1           2017-05-24      3   \n",
       "...             ...         ...         ...                  ...    ...   \n",
       "6612             18     3590000        26.8           2017-11-10      0   \n",
       "697              12     2500000        24.1           2017-12-01      0   \n",
       "10273             8     1870000        20.5           2016-04-04      0   \n",
       "716               5     1500000        17.0           2017-06-07      0   \n",
       "18042            15     2950000        25.9           2017-12-09      0   \n",
       "\n",
       "       ceiling_height  floors_total  living_area  floor  is_apartment  ...  \\\n",
       "19540            2.80            25        409.7     25         False  ...   \n",
       "20215            2.65            10         72.0      9         False  ...   \n",
       "2489             2.65             2        153.9      2         False  ...   \n",
       "5358             3.50             6        409.0      3         False  ...   \n",
       "16239            3.90             9         58.2      4         False  ...   \n",
       "...               ...           ...          ...    ...           ...  ...   \n",
       "6612             2.65            24         19.0     20         False  ...   \n",
       "697              2.75            25         17.5     21         False  ...   \n",
       "10273            2.65            15         15.8     13         False  ...   \n",
       "716              2.70             9         12.0      1         False  ...   \n",
       "18042            2.65            14         16.9      9         False  ...   \n",
       "\n",
       "       kitchen_area  balcony    locality_name  airports_nearest  \\\n",
       "19540         112.0        0  Санкт-Петербург           30706.0   \n",
       "20215         107.0        4  Санкт-Петербург           31532.0   \n",
       "2489          100.7        0  Санкт-Петербург           29544.0   \n",
       "5358          100.0        0  Санкт-Петербург           24447.0   \n",
       "16239          93.2        0  Санкт-Петербург           25525.0   \n",
       "...             ...      ...              ...               ...   \n",
       "6612            0.0        0  Санкт-Петербург           11022.0   \n",
       "697             0.0        0  деревня Кудрово               NaN   \n",
       "10273           0.0        2   посёлок Мурино               NaN   \n",
       "716             0.0        0   посёлок Шушары           18654.0   \n",
       "18042           0.0        2  Санкт-Петербург           23239.0   \n",
       "\n",
       "      cityCenters_nearest  parks_around3000  parks_nearest  ponds_around3000  \\\n",
       "19540              7877.0                 0            NaN                 2   \n",
       "20215              4624.0                 1         2218.0                 2   \n",
       "2489               6916.0                 0            NaN                 3   \n",
       "5358               4666.0                 1          767.0                 0   \n",
       "16239              5845.0                 2          116.0                 0   \n",
       "...                   ...               ...            ...               ...   \n",
       "6612              12679.0                 0            NaN                 0   \n",
       "697                   NaN                 0            NaN                 0   \n",
       "10273                 NaN                 0            NaN                 0   \n",
       "716               29846.0                 0            NaN                 0   \n",
       "18042             12102.0                 1         1021.0                 1   \n",
       "\n",
       "       ponds_nearest  days_exposition  \n",
       "19540          318.0            106.0  \n",
       "20215           99.0             26.0  \n",
       "2489           198.0            102.0  \n",
       "5358             NaN             14.0  \n",
       "16239            NaN            501.0  \n",
       "...              ...              ...  \n",
       "6612             NaN             15.0  \n",
       "697              NaN            201.0  \n",
       "10273            NaN            856.0  \n",
       "716              NaN             40.0  \n",
       "18042          893.0             45.0  \n",
       "\n",
       "[23699 rows x 22 columns]"
      ]
     },
     "execution_count": 31,
     "metadata": {},
     "output_type": "execute_result"
    }
   ],
   "source": [
    "data.sort_values('kitchen_area', ascending=False)"
   ]
  },
  {
   "cell_type": "code",
   "execution_count": 32,
   "metadata": {},
   "outputs": [
    {
     "data": {
      "text/plain": [
       "array([1, 0, 2, 3])"
      ]
     },
     "execution_count": 32,
     "metadata": {},
     "output_type": "execute_result"
    }
   ],
   "source": [
    "data['parks_around3000'].unique()"
   ]
  },
  {
   "cell_type": "code",
   "execution_count": 33,
   "metadata": {},
   "outputs": [
    {
     "data": {
      "text/plain": [
       "array([2, 0, 3, 1])"
      ]
     },
     "execution_count": 33,
     "metadata": {},
     "output_type": "execute_result"
    }
   ],
   "source": [
    "data['ponds_around3000'].unique()"
   ]
  },
  {
   "cell_type": "code",
   "execution_count": 34,
   "metadata": {},
   "outputs": [
    {
     "data": {
      "text/plain": [
       "array([16028., 18603., 13933., ..., 27977.,  7262.,  6263.])"
      ]
     },
     "execution_count": 34,
     "metadata": {},
     "output_type": "execute_result"
    }
   ],
   "source": [
    "data['cityCenters_nearest'].unique()"
   ]
  },
  {
   "cell_type": "markdown",
   "metadata": {},
   "source": [
    "После рассмотрения сортировок по всем столбцам с числовыми значениями я делаю вывод, что аномальные значения есть только в столбце с высотой потолков - в остальных столбцах минимумы и максимумы выглядят правдоподобно."
   ]
  },
  {
   "cell_type": "code",
   "execution_count": 35,
   "metadata": {},
   "outputs": [],
   "source": [
    "data = data.query('2.5 <= ceiling_height <= 32')"
   ]
  },
  {
   "cell_type": "code",
   "execution_count": 36,
   "metadata": {},
   "outputs": [],
   "source": [
    "pd.options.mode.chained_assignment = None\n",
    "data.loc[data['ceiling_height'] >= 20, 'ceiling_height'] = data['ceiling_height']/10"
   ]
  },
  {
   "cell_type": "code",
   "execution_count": 37,
   "metadata": {},
   "outputs": [],
   "source": [
    "data = data.query('2.5 <= ceiling_height <= 10')"
   ]
  },
  {
   "cell_type": "code",
   "execution_count": 38,
   "metadata": {},
   "outputs": [
    {
     "data": {
      "text/html": [
       "<div>\n",
       "<style scoped>\n",
       "    .dataframe tbody tr th:only-of-type {\n",
       "        vertical-align: middle;\n",
       "    }\n",
       "\n",
       "    .dataframe tbody tr th {\n",
       "        vertical-align: top;\n",
       "    }\n",
       "\n",
       "    .dataframe thead th {\n",
       "        text-align: right;\n",
       "    }\n",
       "</style>\n",
       "<table border=\"1\" class=\"dataframe\">\n",
       "  <thead>\n",
       "    <tr style=\"text-align: right;\">\n",
       "      <th></th>\n",
       "      <th>total_images</th>\n",
       "      <th>last_price</th>\n",
       "      <th>total_area</th>\n",
       "      <th>first_day_exposition</th>\n",
       "      <th>rooms</th>\n",
       "      <th>ceiling_height</th>\n",
       "      <th>floors_total</th>\n",
       "      <th>living_area</th>\n",
       "      <th>floor</th>\n",
       "      <th>is_apartment</th>\n",
       "      <th>...</th>\n",
       "      <th>kitchen_area</th>\n",
       "      <th>balcony</th>\n",
       "      <th>locality_name</th>\n",
       "      <th>airports_nearest</th>\n",
       "      <th>cityCenters_nearest</th>\n",
       "      <th>parks_around3000</th>\n",
       "      <th>parks_nearest</th>\n",
       "      <th>ponds_around3000</th>\n",
       "      <th>ponds_nearest</th>\n",
       "      <th>days_exposition</th>\n",
       "    </tr>\n",
       "  </thead>\n",
       "  <tbody>\n",
       "    <tr>\n",
       "      <th>5863</th>\n",
       "      <td>20</td>\n",
       "      <td>5650000</td>\n",
       "      <td>45.0</td>\n",
       "      <td>2018-08-15</td>\n",
       "      <td>1</td>\n",
       "      <td>8.3</td>\n",
       "      <td>16</td>\n",
       "      <td>19.3</td>\n",
       "      <td>14</td>\n",
       "      <td>False</td>\n",
       "      <td>...</td>\n",
       "      <td>8.3</td>\n",
       "      <td>1</td>\n",
       "      <td>Санкт-Петербург</td>\n",
       "      <td>13069.0</td>\n",
       "      <td>10763.0</td>\n",
       "      <td>0</td>\n",
       "      <td>NaN</td>\n",
       "      <td>1</td>\n",
       "      <td>613.0</td>\n",
       "      <td>14.0</td>\n",
       "    </tr>\n",
       "    <tr>\n",
       "      <th>17442</th>\n",
       "      <td>0</td>\n",
       "      <td>5350000</td>\n",
       "      <td>54.0</td>\n",
       "      <td>2015-06-16</td>\n",
       "      <td>2</td>\n",
       "      <td>8.0</td>\n",
       "      <td>5</td>\n",
       "      <td>29.0</td>\n",
       "      <td>2</td>\n",
       "      <td>False</td>\n",
       "      <td>...</td>\n",
       "      <td>8.8</td>\n",
       "      <td>1</td>\n",
       "      <td>Красное Село</td>\n",
       "      <td>24638.0</td>\n",
       "      <td>28062.0</td>\n",
       "      <td>0</td>\n",
       "      <td>NaN</td>\n",
       "      <td>0</td>\n",
       "      <td>NaN</td>\n",
       "      <td>469.0</td>\n",
       "    </tr>\n",
       "    <tr>\n",
       "      <th>3474</th>\n",
       "      <td>3</td>\n",
       "      <td>1400000</td>\n",
       "      <td>30.0</td>\n",
       "      <td>2018-03-16</td>\n",
       "      <td>1</td>\n",
       "      <td>8.0</td>\n",
       "      <td>5</td>\n",
       "      <td>15.3</td>\n",
       "      <td>2</td>\n",
       "      <td>False</td>\n",
       "      <td>...</td>\n",
       "      <td>7.3</td>\n",
       "      <td>0</td>\n",
       "      <td>деревня Нурма</td>\n",
       "      <td>NaN</td>\n",
       "      <td>NaN</td>\n",
       "      <td>0</td>\n",
       "      <td>NaN</td>\n",
       "      <td>0</td>\n",
       "      <td>NaN</td>\n",
       "      <td>125.0</td>\n",
       "    </tr>\n",
       "    <tr>\n",
       "      <th>15743</th>\n",
       "      <td>14</td>\n",
       "      <td>5600000</td>\n",
       "      <td>67.0</td>\n",
       "      <td>2016-11-11</td>\n",
       "      <td>3</td>\n",
       "      <td>8.0</td>\n",
       "      <td>16</td>\n",
       "      <td>41.0</td>\n",
       "      <td>1</td>\n",
       "      <td>False</td>\n",
       "      <td>...</td>\n",
       "      <td>8.0</td>\n",
       "      <td>0</td>\n",
       "      <td>Санкт-Петербург</td>\n",
       "      <td>32691.0</td>\n",
       "      <td>11035.0</td>\n",
       "      <td>1</td>\n",
       "      <td>723.0</td>\n",
       "      <td>0</td>\n",
       "      <td>NaN</td>\n",
       "      <td>474.0</td>\n",
       "    </tr>\n",
       "    <tr>\n",
       "      <th>20264</th>\n",
       "      <td>17</td>\n",
       "      <td>119000000</td>\n",
       "      <td>187.6</td>\n",
       "      <td>2017-07-10</td>\n",
       "      <td>4</td>\n",
       "      <td>6.0</td>\n",
       "      <td>7</td>\n",
       "      <td>147.0</td>\n",
       "      <td>7</td>\n",
       "      <td>False</td>\n",
       "      <td>...</td>\n",
       "      <td>15.6</td>\n",
       "      <td>0</td>\n",
       "      <td>Санкт-Петербург</td>\n",
       "      <td>26902.0</td>\n",
       "      <td>5605.0</td>\n",
       "      <td>3</td>\n",
       "      <td>484.0</td>\n",
       "      <td>1</td>\n",
       "      <td>305.0</td>\n",
       "      <td>259.0</td>\n",
       "    </tr>\n",
       "    <tr>\n",
       "      <th>...</th>\n",
       "      <td>...</td>\n",
       "      <td>...</td>\n",
       "      <td>...</td>\n",
       "      <td>...</td>\n",
       "      <td>...</td>\n",
       "      <td>...</td>\n",
       "      <td>...</td>\n",
       "      <td>...</td>\n",
       "      <td>...</td>\n",
       "      <td>...</td>\n",
       "      <td>...</td>\n",
       "      <td>...</td>\n",
       "      <td>...</td>\n",
       "      <td>...</td>\n",
       "      <td>...</td>\n",
       "      <td>...</td>\n",
       "      <td>...</td>\n",
       "      <td>...</td>\n",
       "      <td>...</td>\n",
       "      <td>...</td>\n",
       "      <td>...</td>\n",
       "    </tr>\n",
       "    <tr>\n",
       "      <th>10046</th>\n",
       "      <td>13</td>\n",
       "      <td>4500000</td>\n",
       "      <td>41.4</td>\n",
       "      <td>2018-01-16</td>\n",
       "      <td>2</td>\n",
       "      <td>2.5</td>\n",
       "      <td>5</td>\n",
       "      <td>28.0</td>\n",
       "      <td>5</td>\n",
       "      <td>False</td>\n",
       "      <td>...</td>\n",
       "      <td>5.3</td>\n",
       "      <td>1</td>\n",
       "      <td>Сестрорецк</td>\n",
       "      <td>58086.0</td>\n",
       "      <td>35014.0</td>\n",
       "      <td>1</td>\n",
       "      <td>378.0</td>\n",
       "      <td>2</td>\n",
       "      <td>199.0</td>\n",
       "      <td>279.0</td>\n",
       "    </tr>\n",
       "    <tr>\n",
       "      <th>4515</th>\n",
       "      <td>7</td>\n",
       "      <td>2400000</td>\n",
       "      <td>53.2</td>\n",
       "      <td>2019-03-01</td>\n",
       "      <td>3</td>\n",
       "      <td>2.5</td>\n",
       "      <td>5</td>\n",
       "      <td>36.5</td>\n",
       "      <td>3</td>\n",
       "      <td>False</td>\n",
       "      <td>...</td>\n",
       "      <td>5.0</td>\n",
       "      <td>0</td>\n",
       "      <td>Кингисепп</td>\n",
       "      <td>NaN</td>\n",
       "      <td>NaN</td>\n",
       "      <td>0</td>\n",
       "      <td>NaN</td>\n",
       "      <td>0</td>\n",
       "      <td>NaN</td>\n",
       "      <td>NaN</td>\n",
       "    </tr>\n",
       "    <tr>\n",
       "      <th>10042</th>\n",
       "      <td>8</td>\n",
       "      <td>4740000</td>\n",
       "      <td>47.5</td>\n",
       "      <td>2018-06-17</td>\n",
       "      <td>2</td>\n",
       "      <td>2.5</td>\n",
       "      <td>10</td>\n",
       "      <td>31.1</td>\n",
       "      <td>6</td>\n",
       "      <td>False</td>\n",
       "      <td>...</td>\n",
       "      <td>7.8</td>\n",
       "      <td>0</td>\n",
       "      <td>Санкт-Петербург</td>\n",
       "      <td>13652.0</td>\n",
       "      <td>11927.0</td>\n",
       "      <td>0</td>\n",
       "      <td>NaN</td>\n",
       "      <td>1</td>\n",
       "      <td>504.0</td>\n",
       "      <td>78.0</td>\n",
       "    </tr>\n",
       "    <tr>\n",
       "      <th>19238</th>\n",
       "      <td>9</td>\n",
       "      <td>5800000</td>\n",
       "      <td>52.0</td>\n",
       "      <td>2018-12-12</td>\n",
       "      <td>2</td>\n",
       "      <td>2.5</td>\n",
       "      <td>5</td>\n",
       "      <td>28.1</td>\n",
       "      <td>5</td>\n",
       "      <td>False</td>\n",
       "      <td>...</td>\n",
       "      <td>12.2</td>\n",
       "      <td>0</td>\n",
       "      <td>Санкт-Петербург</td>\n",
       "      <td>20057.0</td>\n",
       "      <td>6170.0</td>\n",
       "      <td>1</td>\n",
       "      <td>288.0</td>\n",
       "      <td>0</td>\n",
       "      <td>NaN</td>\n",
       "      <td>47.0</td>\n",
       "    </tr>\n",
       "    <tr>\n",
       "      <th>23698</th>\n",
       "      <td>4</td>\n",
       "      <td>1350000</td>\n",
       "      <td>32.3</td>\n",
       "      <td>2017-07-21</td>\n",
       "      <td>1</td>\n",
       "      <td>2.5</td>\n",
       "      <td>5</td>\n",
       "      <td>12.3</td>\n",
       "      <td>1</td>\n",
       "      <td>False</td>\n",
       "      <td>...</td>\n",
       "      <td>9.0</td>\n",
       "      <td>0</td>\n",
       "      <td>посёлок Новый Учхоз</td>\n",
       "      <td>NaN</td>\n",
       "      <td>NaN</td>\n",
       "      <td>0</td>\n",
       "      <td>NaN</td>\n",
       "      <td>0</td>\n",
       "      <td>NaN</td>\n",
       "      <td>NaN</td>\n",
       "    </tr>\n",
       "  </tbody>\n",
       "</table>\n",
       "<p>23620 rows × 22 columns</p>\n",
       "</div>"
      ],
      "text/plain": [
       "       total_images  last_price  total_area first_day_exposition  rooms  \\\n",
       "5863             20     5650000        45.0           2018-08-15      1   \n",
       "17442             0     5350000        54.0           2015-06-16      2   \n",
       "3474              3     1400000        30.0           2018-03-16      1   \n",
       "15743            14     5600000        67.0           2016-11-11      3   \n",
       "20264            17   119000000       187.6           2017-07-10      4   \n",
       "...             ...         ...         ...                  ...    ...   \n",
       "10046            13     4500000        41.4           2018-01-16      2   \n",
       "4515              7     2400000        53.2           2019-03-01      3   \n",
       "10042             8     4740000        47.5           2018-06-17      2   \n",
       "19238             9     5800000        52.0           2018-12-12      2   \n",
       "23698             4     1350000        32.3           2017-07-21      1   \n",
       "\n",
       "       ceiling_height  floors_total  living_area  floor  is_apartment  ...  \\\n",
       "5863              8.3            16         19.3     14         False  ...   \n",
       "17442             8.0             5         29.0      2         False  ...   \n",
       "3474              8.0             5         15.3      2         False  ...   \n",
       "15743             8.0            16         41.0      1         False  ...   \n",
       "20264             6.0             7        147.0      7         False  ...   \n",
       "...               ...           ...          ...    ...           ...  ...   \n",
       "10046             2.5             5         28.0      5         False  ...   \n",
       "4515              2.5             5         36.5      3         False  ...   \n",
       "10042             2.5            10         31.1      6         False  ...   \n",
       "19238             2.5             5         28.1      5         False  ...   \n",
       "23698             2.5             5         12.3      1         False  ...   \n",
       "\n",
       "       kitchen_area  balcony        locality_name  airports_nearest  \\\n",
       "5863            8.3        1      Санкт-Петербург           13069.0   \n",
       "17442           8.8        1         Красное Село           24638.0   \n",
       "3474            7.3        0        деревня Нурма               NaN   \n",
       "15743           8.0        0      Санкт-Петербург           32691.0   \n",
       "20264          15.6        0      Санкт-Петербург           26902.0   \n",
       "...             ...      ...                  ...               ...   \n",
       "10046           5.3        1           Сестрорецк           58086.0   \n",
       "4515            5.0        0            Кингисепп               NaN   \n",
       "10042           7.8        0      Санкт-Петербург           13652.0   \n",
       "19238          12.2        0      Санкт-Петербург           20057.0   \n",
       "23698           9.0        0  посёлок Новый Учхоз               NaN   \n",
       "\n",
       "      cityCenters_nearest  parks_around3000  parks_nearest  ponds_around3000  \\\n",
       "5863              10763.0                 0            NaN                 1   \n",
       "17442             28062.0                 0            NaN                 0   \n",
       "3474                  NaN                 0            NaN                 0   \n",
       "15743             11035.0                 1          723.0                 0   \n",
       "20264              5605.0                 3          484.0                 1   \n",
       "...                   ...               ...            ...               ...   \n",
       "10046             35014.0                 1          378.0                 2   \n",
       "4515                  NaN                 0            NaN                 0   \n",
       "10042             11927.0                 0            NaN                 1   \n",
       "19238              6170.0                 1          288.0                 0   \n",
       "23698                 NaN                 0            NaN                 0   \n",
       "\n",
       "       ponds_nearest  days_exposition  \n",
       "5863           613.0             14.0  \n",
       "17442            NaN            469.0  \n",
       "3474             NaN            125.0  \n",
       "15743            NaN            474.0  \n",
       "20264          305.0            259.0  \n",
       "...              ...              ...  \n",
       "10046          199.0            279.0  \n",
       "4515             NaN              NaN  \n",
       "10042          504.0             78.0  \n",
       "19238            NaN             47.0  \n",
       "23698            NaN              NaN  \n",
       "\n",
       "[23620 rows x 22 columns]"
      ]
     },
     "execution_count": 38,
     "metadata": {},
     "output_type": "execute_result"
    }
   ],
   "source": [
    "data.sort_values('ceiling_height', ascending=False)"
   ]
  },
  {
   "cell_type": "markdown",
   "metadata": {},
   "source": [
    "Из набора данных были удалены строки с очевидно слишком низкими или очевидно слишком высокими потолками; потолки высотой больше 20, но меньше 100 метров были разделены на 10 (скорее всего, тут была техническая ошибка), потом опять удалены очевидно слишклм низкие(меньше 2,5 м) и слишком высокие (больше 10 м)."
   ]
  },
  {
   "cell_type": "code",
   "execution_count": 39,
   "metadata": {
    "scrolled": true
   },
   "outputs": [
    {
     "data": {
      "text/plain": [
       "0"
      ]
     },
     "execution_count": 39,
     "metadata": {},
     "output_type": "execute_result"
    }
   ],
   "source": [
    "data.duplicated().sum()"
   ]
  },
  {
   "cell_type": "markdown",
   "metadata": {},
   "source": [
    "Следовательно, в оставшихся данных нет явных дубликатов."
   ]
  },
  {
   "cell_type": "markdown",
   "metadata": {},
   "source": [
    "В процессе предобработки данных были заполнены пропуски в следующих столбцах:\n",
    "- количество балконов (0, если не указаны, т.к. в этом случае балконов скорее всего нет)\n",
    "- высота потолков (медианным значением)\n",
    "- количество этажей (сначала посчитал медианное значение этажей, потом заполнил им все пропуски, а потом там, где квартира находится на этаже выше медианного, предположил, что в таком случае можно считать, что квартира находится на последнем этаже, и поменял количество этажей на этаж квартиры)\n",
    "- is_apartment (если не было указано, считал, что значение False)\n",
    "- название населенного пункта (заглушкой 'unknown')\n",
    "- парки в радиусе 3 км (если не указано - таких парков нет)\n",
    "- водоемы в радиусе 3 км (аналогично)\n",
    "- количество комнат (медианой по жилой площади)\n",
    "- площадь кухни (если не студия - медианой по жилой площади, если студия - то 0)\n",
    "\n",
    "Пропуски в столбцах с расстоянием до центра города, до ближайшего аэропорта, ближайшего парка, ближайшего водоема и количеством дней, за которое квартира была продана, были оставлены без изменений. Показатели расстояния до ближайшего аэропорта/до центра города/ближайшего парка/ближайшего водоема, во-первых, кажутся менее важными, чем имеющаяся в таблице информация, а во-вторых - их невозможно заполнить никак, кроме подключения к проекту геолокации (или хотя бы указания адреса)).\n",
    "Отсутствие количества дней, за которые квартира была продана, может означать, что квартира еще не была продана, что тоже является довольно важным показателем, так что эти значения оставлены без изменений.\n",
    "\n",
    "Были изменены типы данных в столбцах:\n",
    "- дата публикации объявления (на datetime)\n",
    "- общее количество этажей (int)\n",
    "- is_apartment (bool)\n",
    "- количество балконов (int)\n",
    "- количество парков/водоемов в радиусе 3 км (int)\n",
    "- цена (int)\n",
    "\n",
    "Была выполнена проверка на явные дубликаты (их не обнаружено), устранены неявные дубликаты в столбце с названием населенного пункта.\n",
    "\n",
    "Были устранены аномальные значения в столбце с высотой потолка; также все остальные столбцы были проверены на наличие аномальных значений, их не было обнаружено."
   ]
  },
  {
   "cell_type": "markdown",
   "metadata": {},
   "source": [
    "### Посчитайте и добавьте в таблицу новые столбцы"
   ]
  },
  {
   "cell_type": "code",
   "execution_count": 40,
   "metadata": {},
   "outputs": [
    {
     "data": {
      "text/plain": [
       "total_images                0\n",
       "last_price                  0\n",
       "total_area                  0\n",
       "first_day_exposition        0\n",
       "rooms                       0\n",
       "ceiling_height              0\n",
       "floors_total                0\n",
       "living_area                 0\n",
       "floor                       0\n",
       "is_apartment                0\n",
       "studio                      0\n",
       "open_plan                   0\n",
       "kitchen_area                0\n",
       "balcony                     0\n",
       "locality_name               0\n",
       "airports_nearest         5511\n",
       "cityCenters_nearest      5488\n",
       "parks_around3000            0\n",
       "parks_nearest           15571\n",
       "ponds_around3000            0\n",
       "ponds_nearest           14535\n",
       "days_exposition          3170\n",
       "dtype: int64"
      ]
     },
     "execution_count": 40,
     "metadata": {},
     "output_type": "execute_result"
    }
   ],
   "source": [
    "data.isna().sum()"
   ]
  },
  {
   "cell_type": "code",
   "execution_count": 41,
   "metadata": {},
   "outputs": [],
   "source": [
    "data['m2_cost'] = data['last_price']/data['total_area']"
   ]
  },
  {
   "cell_type": "code",
   "execution_count": 42,
   "metadata": {},
   "outputs": [],
   "source": [
    "data['weekday'] = data['first_day_exposition'].dt.weekday"
   ]
  },
  {
   "cell_type": "code",
   "execution_count": 43,
   "metadata": {},
   "outputs": [],
   "source": [
    "data['month'] = data['first_day_exposition'].dt.month"
   ]
  },
  {
   "cell_type": "code",
   "execution_count": 44,
   "metadata": {},
   "outputs": [],
   "source": [
    "data['year'] = data['first_day_exposition'].dt.year"
   ]
  },
  {
   "cell_type": "code",
   "execution_count": 45,
   "metadata": {},
   "outputs": [],
   "source": [
    "def group_floors(row):\n",
    "    if row['floor'] == 1:\n",
    "        return 'первый'\n",
    "    if row['floor'] == row['floors_total']:\n",
    "        return 'последний'\n",
    "    else:\n",
    "        return 'другой'\n",
    "\n",
    "data['floor_group'] = data.apply(group_floors, axis=1)"
   ]
  },
  {
   "cell_type": "code",
   "execution_count": 46,
   "metadata": {},
   "outputs": [],
   "source": [
    "def m_to_km(dist):\n",
    "    if pd.isna(dist):\n",
    "        return dist\n",
    "    else:\n",
    "        dist_km = dist / 1000\n",
    "        dist_km = round(dist_km, 1)\n",
    "        if dist_km % 1 == 5:\n",
    "            return int(dist_km) + 1\n",
    "        else:\n",
    "            return int(round(dist_km))\n",
    "data['cityCenters_km'] = data['cityCenters_nearest'].apply(m_to_km)"
   ]
  },
  {
   "cell_type": "code",
   "execution_count": 47,
   "metadata": {
    "scrolled": false
   },
   "outputs": [
    {
     "data": {
      "text/html": [
       "<div>\n",
       "<style scoped>\n",
       "    .dataframe tbody tr th:only-of-type {\n",
       "        vertical-align: middle;\n",
       "    }\n",
       "\n",
       "    .dataframe tbody tr th {\n",
       "        vertical-align: top;\n",
       "    }\n",
       "\n",
       "    .dataframe thead th {\n",
       "        text-align: right;\n",
       "    }\n",
       "</style>\n",
       "<table border=\"1\" class=\"dataframe\">\n",
       "  <thead>\n",
       "    <tr style=\"text-align: right;\">\n",
       "      <th></th>\n",
       "      <th>total_images</th>\n",
       "      <th>last_price</th>\n",
       "      <th>total_area</th>\n",
       "      <th>first_day_exposition</th>\n",
       "      <th>rooms</th>\n",
       "      <th>ceiling_height</th>\n",
       "      <th>floors_total</th>\n",
       "      <th>living_area</th>\n",
       "      <th>floor</th>\n",
       "      <th>is_apartment</th>\n",
       "      <th>...</th>\n",
       "      <th>parks_nearest</th>\n",
       "      <th>ponds_around3000</th>\n",
       "      <th>ponds_nearest</th>\n",
       "      <th>days_exposition</th>\n",
       "      <th>m2_cost</th>\n",
       "      <th>weekday</th>\n",
       "      <th>month</th>\n",
       "      <th>year</th>\n",
       "      <th>floor_group</th>\n",
       "      <th>cityCenters_km</th>\n",
       "    </tr>\n",
       "  </thead>\n",
       "  <tbody>\n",
       "    <tr>\n",
       "      <th>5340</th>\n",
       "      <td>19</td>\n",
       "      <td>3600000</td>\n",
       "      <td>50.6</td>\n",
       "      <td>2019-03-19</td>\n",
       "      <td>2</td>\n",
       "      <td>2.50</td>\n",
       "      <td>5</td>\n",
       "      <td>29.9</td>\n",
       "      <td>4</td>\n",
       "      <td>False</td>\n",
       "      <td>...</td>\n",
       "      <td>NaN</td>\n",
       "      <td>0</td>\n",
       "      <td>NaN</td>\n",
       "      <td>NaN</td>\n",
       "      <td>71146.245059</td>\n",
       "      <td>1</td>\n",
       "      <td>3</td>\n",
       "      <td>2019</td>\n",
       "      <td>другой</td>\n",
       "      <td>66.0</td>\n",
       "    </tr>\n",
       "    <tr>\n",
       "      <th>9640</th>\n",
       "      <td>8</td>\n",
       "      <td>4200000</td>\n",
       "      <td>51.4</td>\n",
       "      <td>2014-12-10</td>\n",
       "      <td>2</td>\n",
       "      <td>2.55</td>\n",
       "      <td>5</td>\n",
       "      <td>31.0</td>\n",
       "      <td>2</td>\n",
       "      <td>False</td>\n",
       "      <td>...</td>\n",
       "      <td>NaN</td>\n",
       "      <td>0</td>\n",
       "      <td>NaN</td>\n",
       "      <td>1194.0</td>\n",
       "      <td>81712.062257</td>\n",
       "      <td>2</td>\n",
       "      <td>12</td>\n",
       "      <td>2014</td>\n",
       "      <td>другой</td>\n",
       "      <td>66.0</td>\n",
       "    </tr>\n",
       "    <tr>\n",
       "      <th>577</th>\n",
       "      <td>7</td>\n",
       "      <td>4000000</td>\n",
       "      <td>59.0</td>\n",
       "      <td>2017-07-23</td>\n",
       "      <td>3</td>\n",
       "      <td>2.50</td>\n",
       "      <td>5</td>\n",
       "      <td>37.0</td>\n",
       "      <td>1</td>\n",
       "      <td>False</td>\n",
       "      <td>...</td>\n",
       "      <td>NaN</td>\n",
       "      <td>0</td>\n",
       "      <td>NaN</td>\n",
       "      <td>NaN</td>\n",
       "      <td>67796.610169</td>\n",
       "      <td>6</td>\n",
       "      <td>7</td>\n",
       "      <td>2017</td>\n",
       "      <td>первый</td>\n",
       "      <td>66.0</td>\n",
       "    </tr>\n",
       "    <tr>\n",
       "      <th>20746</th>\n",
       "      <td>1</td>\n",
       "      <td>3300000</td>\n",
       "      <td>43.5</td>\n",
       "      <td>2016-02-16</td>\n",
       "      <td>2</td>\n",
       "      <td>2.55</td>\n",
       "      <td>4</td>\n",
       "      <td>27.2</td>\n",
       "      <td>2</td>\n",
       "      <td>False</td>\n",
       "      <td>...</td>\n",
       "      <td>NaN</td>\n",
       "      <td>0</td>\n",
       "      <td>NaN</td>\n",
       "      <td>1043.0</td>\n",
       "      <td>75862.068966</td>\n",
       "      <td>1</td>\n",
       "      <td>2</td>\n",
       "      <td>2016</td>\n",
       "      <td>другой</td>\n",
       "      <td>65.0</td>\n",
       "    </tr>\n",
       "    <tr>\n",
       "      <th>5218</th>\n",
       "      <td>15</td>\n",
       "      <td>3650000</td>\n",
       "      <td>53.8</td>\n",
       "      <td>2018-09-24</td>\n",
       "      <td>3</td>\n",
       "      <td>2.50</td>\n",
       "      <td>4</td>\n",
       "      <td>36.9</td>\n",
       "      <td>3</td>\n",
       "      <td>False</td>\n",
       "      <td>...</td>\n",
       "      <td>NaN</td>\n",
       "      <td>0</td>\n",
       "      <td>NaN</td>\n",
       "      <td>121.0</td>\n",
       "      <td>67843.866171</td>\n",
       "      <td>0</td>\n",
       "      <td>9</td>\n",
       "      <td>2018</td>\n",
       "      <td>другой</td>\n",
       "      <td>65.0</td>\n",
       "    </tr>\n",
       "    <tr>\n",
       "      <th>...</th>\n",
       "      <td>...</td>\n",
       "      <td>...</td>\n",
       "      <td>...</td>\n",
       "      <td>...</td>\n",
       "      <td>...</td>\n",
       "      <td>...</td>\n",
       "      <td>...</td>\n",
       "      <td>...</td>\n",
       "      <td>...</td>\n",
       "      <td>...</td>\n",
       "      <td>...</td>\n",
       "      <td>...</td>\n",
       "      <td>...</td>\n",
       "      <td>...</td>\n",
       "      <td>...</td>\n",
       "      <td>...</td>\n",
       "      <td>...</td>\n",
       "      <td>...</td>\n",
       "      <td>...</td>\n",
       "      <td>...</td>\n",
       "      <td>...</td>\n",
       "    </tr>\n",
       "    <tr>\n",
       "      <th>23683</th>\n",
       "      <td>16</td>\n",
       "      <td>2100000</td>\n",
       "      <td>62.8</td>\n",
       "      <td>2018-09-18</td>\n",
       "      <td>4</td>\n",
       "      <td>2.50</td>\n",
       "      <td>5</td>\n",
       "      <td>45.5</td>\n",
       "      <td>3</td>\n",
       "      <td>False</td>\n",
       "      <td>...</td>\n",
       "      <td>NaN</td>\n",
       "      <td>0</td>\n",
       "      <td>NaN</td>\n",
       "      <td>NaN</td>\n",
       "      <td>33439.490446</td>\n",
       "      <td>1</td>\n",
       "      <td>9</td>\n",
       "      <td>2018</td>\n",
       "      <td>другой</td>\n",
       "      <td>NaN</td>\n",
       "    </tr>\n",
       "    <tr>\n",
       "      <th>23692</th>\n",
       "      <td>2</td>\n",
       "      <td>1350000</td>\n",
       "      <td>30.0</td>\n",
       "      <td>2017-07-07</td>\n",
       "      <td>1</td>\n",
       "      <td>2.65</td>\n",
       "      <td>5</td>\n",
       "      <td>17.5</td>\n",
       "      <td>4</td>\n",
       "      <td>False</td>\n",
       "      <td>...</td>\n",
       "      <td>NaN</td>\n",
       "      <td>0</td>\n",
       "      <td>NaN</td>\n",
       "      <td>413.0</td>\n",
       "      <td>45000.000000</td>\n",
       "      <td>4</td>\n",
       "      <td>7</td>\n",
       "      <td>2017</td>\n",
       "      <td>другой</td>\n",
       "      <td>NaN</td>\n",
       "    </tr>\n",
       "    <tr>\n",
       "      <th>23695</th>\n",
       "      <td>14</td>\n",
       "      <td>3100000</td>\n",
       "      <td>59.0</td>\n",
       "      <td>2018-01-15</td>\n",
       "      <td>3</td>\n",
       "      <td>2.65</td>\n",
       "      <td>5</td>\n",
       "      <td>38.0</td>\n",
       "      <td>4</td>\n",
       "      <td>False</td>\n",
       "      <td>...</td>\n",
       "      <td>NaN</td>\n",
       "      <td>0</td>\n",
       "      <td>NaN</td>\n",
       "      <td>45.0</td>\n",
       "      <td>52542.372881</td>\n",
       "      <td>0</td>\n",
       "      <td>1</td>\n",
       "      <td>2018</td>\n",
       "      <td>другой</td>\n",
       "      <td>NaN</td>\n",
       "    </tr>\n",
       "    <tr>\n",
       "      <th>23696</th>\n",
       "      <td>18</td>\n",
       "      <td>2500000</td>\n",
       "      <td>56.7</td>\n",
       "      <td>2018-02-11</td>\n",
       "      <td>2</td>\n",
       "      <td>2.65</td>\n",
       "      <td>3</td>\n",
       "      <td>29.7</td>\n",
       "      <td>1</td>\n",
       "      <td>False</td>\n",
       "      <td>...</td>\n",
       "      <td>NaN</td>\n",
       "      <td>0</td>\n",
       "      <td>NaN</td>\n",
       "      <td>NaN</td>\n",
       "      <td>44091.710758</td>\n",
       "      <td>6</td>\n",
       "      <td>2</td>\n",
       "      <td>2018</td>\n",
       "      <td>первый</td>\n",
       "      <td>NaN</td>\n",
       "    </tr>\n",
       "    <tr>\n",
       "      <th>23698</th>\n",
       "      <td>4</td>\n",
       "      <td>1350000</td>\n",
       "      <td>32.3</td>\n",
       "      <td>2017-07-21</td>\n",
       "      <td>1</td>\n",
       "      <td>2.50</td>\n",
       "      <td>5</td>\n",
       "      <td>12.3</td>\n",
       "      <td>1</td>\n",
       "      <td>False</td>\n",
       "      <td>...</td>\n",
       "      <td>NaN</td>\n",
       "      <td>0</td>\n",
       "      <td>NaN</td>\n",
       "      <td>NaN</td>\n",
       "      <td>41795.665635</td>\n",
       "      <td>4</td>\n",
       "      <td>7</td>\n",
       "      <td>2017</td>\n",
       "      <td>первый</td>\n",
       "      <td>NaN</td>\n",
       "    </tr>\n",
       "  </tbody>\n",
       "</table>\n",
       "<p>23620 rows × 28 columns</p>\n",
       "</div>"
      ],
      "text/plain": [
       "       total_images  last_price  total_area first_day_exposition  rooms  \\\n",
       "5340             19     3600000        50.6           2019-03-19      2   \n",
       "9640              8     4200000        51.4           2014-12-10      2   \n",
       "577               7     4000000        59.0           2017-07-23      3   \n",
       "20746             1     3300000        43.5           2016-02-16      2   \n",
       "5218             15     3650000        53.8           2018-09-24      3   \n",
       "...             ...         ...         ...                  ...    ...   \n",
       "23683            16     2100000        62.8           2018-09-18      4   \n",
       "23692             2     1350000        30.0           2017-07-07      1   \n",
       "23695            14     3100000        59.0           2018-01-15      3   \n",
       "23696            18     2500000        56.7           2018-02-11      2   \n",
       "23698             4     1350000        32.3           2017-07-21      1   \n",
       "\n",
       "       ceiling_height  floors_total  living_area  floor  is_apartment  ...  \\\n",
       "5340             2.50             5         29.9      4         False  ...   \n",
       "9640             2.55             5         31.0      2         False  ...   \n",
       "577              2.50             5         37.0      1         False  ...   \n",
       "20746            2.55             4         27.2      2         False  ...   \n",
       "5218             2.50             4         36.9      3         False  ...   \n",
       "...               ...           ...          ...    ...           ...  ...   \n",
       "23683            2.50             5         45.5      3         False  ...   \n",
       "23692            2.65             5         17.5      4         False  ...   \n",
       "23695            2.65             5         38.0      4         False  ...   \n",
       "23696            2.65             3         29.7      1         False  ...   \n",
       "23698            2.50             5         12.3      1         False  ...   \n",
       "\n",
       "       parks_nearest  ponds_around3000  ponds_nearest  days_exposition  \\\n",
       "5340             NaN                 0            NaN              NaN   \n",
       "9640             NaN                 0            NaN           1194.0   \n",
       "577              NaN                 0            NaN              NaN   \n",
       "20746            NaN                 0            NaN           1043.0   \n",
       "5218             NaN                 0            NaN            121.0   \n",
       "...              ...               ...            ...              ...   \n",
       "23683            NaN                 0            NaN              NaN   \n",
       "23692            NaN                 0            NaN            413.0   \n",
       "23695            NaN                 0            NaN             45.0   \n",
       "23696            NaN                 0            NaN              NaN   \n",
       "23698            NaN                 0            NaN              NaN   \n",
       "\n",
       "            m2_cost  weekday  month  year  floor_group  cityCenters_km  \n",
       "5340   71146.245059        1      3  2019       другой            66.0  \n",
       "9640   81712.062257        2     12  2014       другой            66.0  \n",
       "577    67796.610169        6      7  2017       первый            66.0  \n",
       "20746  75862.068966        1      2  2016       другой            65.0  \n",
       "5218   67843.866171        0      9  2018       другой            65.0  \n",
       "...             ...      ...    ...   ...          ...             ...  \n",
       "23683  33439.490446        1      9  2018       другой             NaN  \n",
       "23692  45000.000000        4      7  2017       другой             NaN  \n",
       "23695  52542.372881        0      1  2018       другой             NaN  \n",
       "23696  44091.710758        6      2  2018       первый             NaN  \n",
       "23698  41795.665635        4      7  2017       первый             NaN  \n",
       "\n",
       "[23620 rows x 28 columns]"
      ]
     },
     "execution_count": 47,
     "metadata": {},
     "output_type": "execute_result"
    }
   ],
   "source": [
    "data.sort_values('cityCenters_km', ascending=False)"
   ]
  },
  {
   "cell_type": "code",
   "execution_count": 48,
   "metadata": {},
   "outputs": [
    {
     "data": {
      "text/plain": [
       "array([16., 19., 14.,  7.,  8., nan, 12., 15., 52., 33., 31., 11., 13.,\n",
       "       10.,  2., 32.,  4., 17., 30.,  5., 51., 50., 24., 18.,  9., 28.,\n",
       "        3.,  6., 27., 21., 49., 35., 26., 36., 34.,  1., 29., 53., 22.,\n",
       "       55., 20., 23., 25.,  0., 66., 47., 40., 57., 37., 41., 43., 48.,\n",
       "       62., 60., 42., 65., 39., 54., 59., 38., 45., 63.])"
      ]
     },
     "execution_count": 48,
     "metadata": {},
     "output_type": "execute_result"
    }
   ],
   "source": [
    "data['cityCenters_km'].unique()"
   ]
  },
  {
   "cell_type": "markdown",
   "metadata": {},
   "source": [
    "Не все значения в километрах выглядят правдоподобно - возможно, часть из них тоже случайно была умножена на 10."
   ]
  },
  {
   "cell_type": "markdown",
   "metadata": {},
   "source": [
    "### Проведите исследовательский анализ данных"
   ]
  },
  {
   "cell_type": "code",
   "execution_count": 49,
   "metadata": {},
   "outputs": [
    {
     "data": {
      "text/plain": [
       "array([[<AxesSubplot:title={'center':'total_area'}>]], dtype=object)"
      ]
     },
     "execution_count": 49,
     "metadata": {},
     "output_type": "execute_result"
    },
    {
     "data": {
      "image/png": "[encoded data removed]",
      "text/plain": [
       "<Figure size 432x288 with 1 Axes>"
      ]
     },
     "metadata": {
      "needs_background": "light"
     },
     "output_type": "display_data"
    }
   ],
   "source": [
    "data.hist('total_area', bins=30, range=(0, 300))"
   ]
  },
  {
   "cell_type": "markdown",
   "metadata": {},
   "source": [
    "Видно, что общая площадь сдаваемых квартир распределена по Пуассону. Распределение выглядит правильно, без пиков там, где их быть не должно."
   ]
  },
  {
   "cell_type": "code",
   "execution_count": 50,
   "metadata": {},
   "outputs": [
    {
     "data": {
      "text/plain": [
       "array([[<AxesSubplot:title={'center':'living_area'}>]], dtype=object)"
      ]
     },
     "execution_count": 50,
     "metadata": {},
     "output_type": "execute_result"
    },
    {
     "data": {
      "image/png": "[encoded data removed]",
      "text/plain": [
       "<Figure size 432x288 with 1 Axes>"
      ]
     },
     "metadata": {
      "needs_background": "light"
     },
     "output_type": "display_data"
    }
   ],
   "source": [
    "data.hist('living_area', bins=30, range=(0, 200))"
   ]
  },
  {
   "cell_type": "markdown",
   "metadata": {},
   "source": [
    "Распределение жилой площади довольно похоже на распределение общей площади, пик у них примерно в одном месте (что логично), но ближе к 0 график жилой площади заметно ниже; это может быть связано с тем, что в маленьких квартирах, особенно в студиях, вся или почти вся площадь - жилая."
   ]
  },
  {
   "cell_type": "code",
   "execution_count": 51,
   "metadata": {},
   "outputs": [
    {
     "data": {
      "text/plain": [
       "array([[<AxesSubplot:title={'center':'kitchen_area'}>]], dtype=object)"
      ]
     },
     "execution_count": 51,
     "metadata": {},
     "output_type": "execute_result"
    },
    {
     "data": {
      "image/png": "[encoded data removed]",
      "text/plain": [
       "<Figure size 432x288 with 1 Axes>"
      ]
     },
     "metadata": {
      "needs_background": "light"
     },
     "output_type": "display_data"
    }
   ],
   "source": [
    "data.hist('kitchen_area', bins=30)"
   ]
  },
  {
   "cell_type": "markdown",
   "metadata": {},
   "source": [
    "Распределение опять-таки похоже на распределения двух других видов площадей; опять видно, что в маленьких квартирах кухни почти нет; тут пик смещен правее, чем в двух предыдущих графиках, это опять-таки подтверждает наблюдение про размер кухни в маленьких квартирах."
   ]
  },
  {
   "cell_type": "code",
   "execution_count": 52,
   "metadata": {},
   "outputs": [
    {
     "data": {
      "text/plain": [
       "array([[<AxesSubplot:title={'center':'last_price'}>]], dtype=object)"
      ]
     },
     "execution_count": 52,
     "metadata": {},
     "output_type": "execute_result"
    },
    {
     "data": {
      "image/png": "[encoded data removed]",
      "text/plain": [
       "<Figure size 720x504 with 1 Axes>"
      ]
     },
     "metadata": {
      "needs_background": "light"
     },
     "output_type": "display_data"
    }
   ],
   "source": [
    "data.hist('last_price', bins=1000, figsize=(10, 7))"
   ]
  },
  {
   "cell_type": "markdown",
   "metadata": {},
   "source": [
    "В случае с этим графиком потребовалось задать большое количество корзин, чтобы отследить, что на самом деле пик все-таки не совсем около 0, а недалеко от него, и распределение все-таки выглядит как обычное пуассоновское."
   ]
  },
  {
   "cell_type": "code",
   "execution_count": 53,
   "metadata": {},
   "outputs": [
    {
     "data": {
      "text/plain": [
       "array([[<AxesSubplot:title={'center':'rooms'}>]], dtype=object)"
      ]
     },
     "execution_count": 53,
     "metadata": {},
     "output_type": "execute_result"
    },
    {
     "data": {
      "image/png": "[encoded data removed]",
      "text/plain": [
       "<Figure size 432x288 with 1 Axes>"
      ]
     },
     "metadata": {
      "needs_background": "light"
     },
     "output_type": "display_data"
    }
   ],
   "source": [
    "data.hist('rooms')"
   ]
  },
  {
   "cell_type": "markdown",
   "metadata": {},
   "source": [
    "В распределении количества комнат тоже нет ничего необычного, оно опять-таки выглядит стандартным пуассоновским распределением."
   ]
  },
  {
   "cell_type": "code",
   "execution_count": 54,
   "metadata": {},
   "outputs": [
    {
     "data": {
      "text/plain": [
       "array([[<AxesSubplot:title={'center':'ceiling_height'}>]], dtype=object)"
      ]
     },
     "execution_count": 54,
     "metadata": {},
     "output_type": "execute_result"
    },
    {
     "data": {
      "image/png": "[encoded data removed]",
      "text/plain": [
       "<Figure size 432x288 with 1 Axes>"
      ]
     },
     "metadata": {
      "needs_background": "light"
     },
     "output_type": "display_data"
    }
   ],
   "source": [
    "data.hist('ceiling_height', bins=100)"
   ]
  },
  {
   "cell_type": "markdown",
   "metadata": {},
   "source": [
    "Здесь на гистограмме можно наблюдать неожиданный пик около 0 - это может быть связано с тем, что большое количество пропусков было заполнено медианным значением, а оно не очень большое."
   ]
  },
  {
   "cell_type": "code",
   "execution_count": 55,
   "metadata": {},
   "outputs": [
    {
     "data": {
      "text/plain": [
       "array([[<AxesSubplot:title={'center':'floor'}>]], dtype=object)"
      ]
     },
     "execution_count": 55,
     "metadata": {},
     "output_type": "execute_result"
    },
    {
     "data": {
      "image/png": "[encoded data removed]",
      "text/plain": [
       "<Figure size 432x288 with 1 Axes>"
      ]
     },
     "metadata": {
      "needs_background": "light"
     },
     "output_type": "display_data"
    }
   ],
   "source": [
    "data.hist('floor', bins=50)"
   ]
  },
  {
   "cell_type": "markdown",
   "metadata": {},
   "source": [
    "Этажи квартир тоже оказались распределены тоже по Пуассону - довольно много квартир на низких этажах."
   ]
  },
  {
   "cell_type": "code",
   "execution_count": 56,
   "metadata": {},
   "outputs": [
    {
     "data": {
      "text/plain": [
       "<AxesSubplot:>"
      ]
     },
     "execution_count": 56,
     "metadata": {},
     "output_type": "execute_result"
    },
    {
     "data": {
      "image/png": "[encoded data removed]",
      "text/plain": [
       "<Figure size 432x288 with 1 Axes>"
      ]
     },
     "metadata": {
      "needs_background": "light"
     },
     "output_type": "display_data"
    }
   ],
   "source": [
    "floors_grouped = data['floor_group'].value_counts()\n",
    "floors_grouped.plot(kind='bar')"
   ]
  },
  {
   "cell_type": "code",
   "execution_count": 82,
   "metadata": {},
   "outputs": [
    {
     "data": {
      "text/plain": [
       "<AxesSubplot:>"
      ]
     },
     "execution_count": 82,
     "metadata": {},
     "output_type": "execute_result"
    },
    {
     "data": {
      "image/png": "[encoded data removed]",
      "text/plain": [
       "<Figure size 432x288 with 1 Axes>"
      ]
     },
     "metadata": {
      "needs_background": "light"
     },
     "output_type": "display_data"
    }
   ],
   "source": [
    "data['floor_group'].hist()"
   ]
  },
  {
   "cell_type": "markdown",
   "metadata": {},
   "source": [
    "Видно, что на последнем и первом этажах примерно поровну квартир, а на этажах, не являющихся ни первым, ни последним - в 5-6 раз больше."
   ]
  },
  {
   "cell_type": "code",
   "execution_count": 57,
   "metadata": {},
   "outputs": [
    {
     "data": {
      "text/plain": [
       "array([[<AxesSubplot:title={'center':'floors_total'}>]], dtype=object)"
      ]
     },
     "execution_count": 57,
     "metadata": {},
     "output_type": "execute_result"
    },
    {
     "data": {
      "image/png": "[encoded data removed]",
      "text/plain": [
       "<Figure size 432x288 with 1 Axes>"
      ]
     },
     "metadata": {
      "needs_background": "light"
     },
     "output_type": "display_data"
    }
   ],
   "source": [
    "data.hist('floors_total', bins=30)"
   ]
  },
  {
   "cell_type": "markdown",
   "metadata": {},
   "source": [
    "У графика количества этажей есть несколько пиков; это может быть связано с тем, что существует набор стандартных значений для количества этажей (много 5-этажек, 10-этажек, в целом - количество этажей часто делится на 5)"
   ]
  },
  {
   "cell_type": "code",
   "execution_count": 58,
   "metadata": {},
   "outputs": [
    {
     "data": {
      "text/plain": [
       "array([[<AxesSubplot:title={'center':'cityCenters_nearest'}>]],\n",
       "      dtype=object)"
      ]
     },
     "execution_count": 58,
     "metadata": {},
     "output_type": "execute_result"
    },
    {
     "data": {
      "image/png": "[encoded data removed]",
      "text/plain": [
       "<Figure size 432x288 with 1 Axes>"
      ]
     },
     "metadata": {
      "needs_background": "light"
     },
     "output_type": "display_data"
    }
   ],
   "source": [
    "data.hist('cityCenters_nearest', bins=30)"
   ]
  },
  {
   "cell_type": "markdown",
   "metadata": {},
   "source": [
    "Есть несколько выбивающихся значений в районе 50000 и 60000 - возможно, это указаны квартиры в деревнях Ленинградской области, а расстояние посчитано до центра Санкт-Петербурга."
   ]
  },
  {
   "cell_type": "code",
   "execution_count": 59,
   "metadata": {},
   "outputs": [
    {
     "data": {
      "text/plain": [
       "array([[<AxesSubplot:title={'center':'airports_nearest'}>]], dtype=object)"
      ]
     },
     "execution_count": 59,
     "metadata": {},
     "output_type": "execute_result"
    },
    {
     "data": {
      "image/png": "[encoded data removed]",
      "text/plain": [
       "<Figure size 432x288 with 1 Axes>"
      ]
     },
     "metadata": {
      "needs_background": "light"
     },
     "output_type": "display_data"
    }
   ],
   "source": [
    "data.hist('airports_nearest', bins=30)"
   ]
  },
  {
   "cell_type": "markdown",
   "metadata": {},
   "source": [
    "Расстояние до аэропорта тоже распределено по Пуассону, есть небольшой выброс около 80000."
   ]
  },
  {
   "cell_type": "code",
   "execution_count": 60,
   "metadata": {},
   "outputs": [
    {
     "data": {
      "text/plain": [
       "array([[<AxesSubplot:title={'center':'parks_nearest'}>]], dtype=object)"
      ]
     },
     "execution_count": 60,
     "metadata": {},
     "output_type": "execute_result"
    },
    {
     "data": {
      "image/png": "[encoded data removed]",
      "text/plain": [
       "<Figure size 432x288 with 1 Axes>"
      ]
     },
     "metadata": {
      "needs_background": "light"
     },
     "output_type": "display_data"
    }
   ],
   "source": [
    "data.hist('parks_nearest', bins=30)"
   ]
  },
  {
   "cell_type": "markdown",
   "metadata": {},
   "source": [
    "Распределение расстояния до ближайшего парка выглядит как абсолютно стандартное распределение Пуассона."
   ]
  },
  {
   "cell_type": "code",
   "execution_count": 61,
   "metadata": {},
   "outputs": [
    {
     "data": {
      "text/plain": [
       "array([[<AxesSubplot:title={'center':'ponds_nearest'}>]], dtype=object)"
      ]
     },
     "execution_count": 61,
     "metadata": {},
     "output_type": "execute_result"
    },
    {
     "data": {
      "image/png": "[encoded data removed]",
      "text/plain": [
       "<Figure size 432x288 with 1 Axes>"
      ]
     },
     "metadata": {
      "needs_background": "light"
     },
     "output_type": "display_data"
    }
   ],
   "source": [
    "data.hist('ponds_nearest', bins=30)"
   ]
  },
  {
   "cell_type": "markdown",
   "metadata": {},
   "source": [
    "Распределение выглядит стандартно, даже слегка смещено к центру, что делает его похожим на нормальное."
   ]
  },
  {
   "cell_type": "code",
   "execution_count": 62,
   "metadata": {},
   "outputs": [
    {
     "data": {
      "text/plain": [
       "array([[<AxesSubplot:title={'center':'weekday'}>]], dtype=object)"
      ]
     },
     "execution_count": 62,
     "metadata": {},
     "output_type": "execute_result"
    },
    {
     "data": {
      "image/png": "[encoded data removed]",
      "text/plain": [
       "<Figure size 432x288 with 1 Axes>"
      ]
     },
     "metadata": {
      "needs_background": "light"
     },
     "output_type": "display_data"
    }
   ],
   "source": [
    "data.hist('weekday', bins=7)"
   ]
  },
  {
   "cell_type": "markdown",
   "metadata": {},
   "source": [
    "Видно, что в выходные публикуется значительно меньше объявлений, чем в будние дни."
   ]
  },
  {
   "cell_type": "code",
   "execution_count": 63,
   "metadata": {},
   "outputs": [
    {
     "data": {
      "text/plain": [
       "array([[<AxesSubplot:title={'center':'month'}>]], dtype=object)"
      ]
     },
     "execution_count": 63,
     "metadata": {},
     "output_type": "execute_result"
    },
    {
     "data": {
      "image/png": "[encoded data removed]",
      "text/plain": [
       "<Figure size 432x288 with 1 Axes>"
      ]
     },
     "metadata": {
      "needs_background": "light"
     },
     "output_type": "display_data"
    }
   ],
   "source": [
    "data.hist('month', bins=12)"
   ]
  },
  {
   "cell_type": "markdown",
   "metadata": {},
   "source": [
    "Из графика видно, что больше всего объявлений публикуется в феврале, марте, апреле и ноябре, а меньше всего -  в январе, мае и декабре."
   ]
  },
  {
   "cell_type": "markdown",
   "metadata": {},
   "source": [
    "Выглядит как обычное пуассоновское паспределение, довольно гладкое."
   ]
  },
  {
   "cell_type": "markdown",
   "metadata": {},
   "source": [
    "Теперь изучим столбец days_exposition:"
   ]
  },
  {
   "cell_type": "code",
   "execution_count": 64,
   "metadata": {},
   "outputs": [
    {
     "data": {
      "text/plain": [
       "array([[<AxesSubplot:title={'center':'days_exposition'}>]], dtype=object)"
      ]
     },
     "execution_count": 64,
     "metadata": {},
     "output_type": "execute_result"
    },
    {
     "data": {
      "image/png": "[encoded data removed]",
      "text/plain": [
       "<Figure size 432x288 with 1 Axes>"
      ]
     },
     "metadata": {
      "needs_background": "light"
     },
     "output_type": "display_data"
    }
   ],
   "source": [
    "data.hist('days_exposition', bins=100)"
   ]
  },
  {
   "cell_type": "code",
   "execution_count": 65,
   "metadata": {},
   "outputs": [
    {
     "data": {
      "text/plain": [
       "181.00601466992666"
      ]
     },
     "execution_count": 65,
     "metadata": {},
     "output_type": "execute_result"
    }
   ],
   "source": [
    "data['days_exposition'].mean()"
   ]
  },
  {
   "cell_type": "code",
   "execution_count": 66,
   "metadata": {},
   "outputs": [
    {
     "data": {
      "text/plain": [
       "95.0"
      ]
     },
     "execution_count": 66,
     "metadata": {},
     "output_type": "execute_result"
    }
   ],
   "source": [
    "data['days_exposition'].median()"
   ]
  },
  {
   "cell_type": "code",
   "execution_count": 67,
   "metadata": {},
   "outputs": [
    {
     "data": {
      "text/plain": [
       "<AxesSubplot:>"
      ]
     },
     "execution_count": 67,
     "metadata": {},
     "output_type": "execute_result"
    },
    {
     "data": {
      "image/png": "[encoded data removed]",
      "text/plain": [
       "<Figure size 432x288 with 1 Axes>"
      ]
     },
     "metadata": {
      "needs_background": "light"
     },
     "output_type": "display_data"
    }
   ],
   "source": [
    "data.boxplot(column='days_exposition')"
   ]
  },
  {
   "cell_type": "code",
   "execution_count": 68,
   "metadata": {},
   "outputs": [
    {
     "data": {
      "text/plain": [
       "count    20450.000000\n",
       "mean       181.006015\n",
       "std        219.923153\n",
       "min          1.000000\n",
       "25%         45.000000\n",
       "50%         95.000000\n",
       "75%        232.000000\n",
       "max       1580.000000\n",
       "Name: days_exposition, dtype: float64"
      ]
     },
     "execution_count": 68,
     "metadata": {},
     "output_type": "execute_result"
    }
   ],
   "source": [
    "data['days_exposition'].describe()"
   ]
  },
  {
   "cell_type": "markdown",
   "metadata": {},
   "source": [
    "На графике boxplot нижний ус заканчивается на нуле, значит, говорить о \"слишком быстрых\" продажах нельзя. Необычно долгими окажутся продажи с длительностью, оказавшейся выше конца верхнего уса, который заканчивается в точке 232+220 (75% + std), то есть продажи, занявшие 452 дня или дольше, могут считаться необычно долгими."
   ]
  },
  {
   "cell_type": "code",
   "execution_count": 69,
   "metadata": {},
   "outputs": [
    {
     "data": {
      "text/plain": [
       "0.6537101083572163"
      ]
     },
     "execution_count": 69,
     "metadata": {},
     "output_type": "execute_result"
    },
    {
     "data": {
      "image/png": "[encoded data removed]",
      "text/plain": [
       "<Figure size 432x288 with 1 Axes>"
      ]
     },
     "metadata": {
      "needs_background": "light"
     },
     "output_type": "display_data"
    }
   ],
   "source": [
    "data.plot(x='total_area', y='last_price', kind='scatter')\n",
    "data['total_area'].corr(data['last_price'])"
   ]
  },
  {
   "cell_type": "markdown",
   "metadata": {},
   "source": [
    "За исключением выбросов, можно заметить, что между данными есть некоторая корреляция; это подтверждает и коэффициент Пирсона (значение 0,65 говорит о среднем уровне корреляции)"
   ]
  },
  {
   "cell_type": "code",
   "execution_count": 70,
   "metadata": {},
   "outputs": [
    {
     "data": {
      "text/plain": [
       "0.5561679139947159"
      ]
     },
     "execution_count": 70,
     "metadata": {},
     "output_type": "execute_result"
    },
    {
     "data": {
      "image/png": "[encoded data removed]",
      "text/plain": [
       "<Figure size 432x288 with 1 Axes>"
      ]
     },
     "metadata": {
      "needs_background": "light"
     },
     "output_type": "display_data"
    }
   ],
   "source": [
    "data.plot(x='living_area', y='last_price', kind='scatter')\n",
    "data['living_area'].corr(data['last_price'])"
   ]
  },
  {
   "cell_type": "markdown",
   "metadata": {},
   "source": [
    "Корреляция между жилой площадью и ценой все еще присутствует, но уже значительно менее сильная. чем в прошлом пункте (коэффициент Пирсона 0.55 - все еще средняя корреляция, но уже ниже)"
   ]
  },
  {
   "cell_type": "code",
   "execution_count": 71,
   "metadata": {},
   "outputs": [
    {
     "data": {
      "text/plain": [
       "0.4512765736807324"
      ]
     },
     "execution_count": 71,
     "metadata": {},
     "output_type": "execute_result"
    },
    {
     "data": {
      "image/png": "[encoded data removed]",
      "text/plain": [
       "<Figure size 432x288 with 1 Axes>"
      ]
     },
     "metadata": {
      "needs_background": "light"
     },
     "output_type": "display_data"
    }
   ],
   "source": [
    "data.plot(x='kitchen_area', y='last_price', kind='scatter')\n",
    "data['kitchen_area'].corr(data['last_price'])"
   ]
  },
  {
   "cell_type": "markdown",
   "metadata": {},
   "source": [
    "Судя по графику, корреляция между площадью кухни и ценой еще меньше; это подтверждается и коэффициентом Пирсона - 0.45 соответствует слабой корреляции."
   ]
  },
  {
   "cell_type": "code",
   "execution_count": 72,
   "metadata": {},
   "outputs": [
    {
     "data": {
      "text/plain": [
       "<AxesSubplot:xlabel='rooms', ylabel='last_price'>"
      ]
     },
     "execution_count": 72,
     "metadata": {},
     "output_type": "execute_result"
    },
    {
     "data": {
      "image/png": "[encoded data removed]",
      "text/plain": [
       "<Figure size 432x288 with 1 Axes>"
      ]
     },
     "metadata": {
      "needs_background": "light"
     },
     "output_type": "display_data"
    }
   ],
   "source": [
    "import seaborn\n",
    "seaborn.barplot(x=data['rooms'], y=data['last_price'])"
   ]
  },
  {
   "cell_type": "markdown",
   "metadata": {},
   "source": [
    "На графике виден одиночный выброс для квартир с 12 комнатами (скорее всего, это какая-нибудь очень дорогая локация) и выброс поменьше - для 15 комнат (аналогично). В остальном график зависимости от количества комнат выглядит как нормальное распределение, с пиком стоимости для квартир с 7 и 8 комнатами."
   ]
  },
  {
   "cell_type": "code",
   "execution_count": 73,
   "metadata": {},
   "outputs": [
    {
     "data": {
      "text/plain": [
       "<AxesSubplot:xlabel='floor_group', ylabel='last_price'>"
      ]
     },
     "execution_count": 73,
     "metadata": {},
     "output_type": "execute_result"
    },
    {
     "data": {
      "image/png": "[encoded data removed]",
      "text/plain": [
       "<Figure size 432x288 with 1 Axes>"
      ]
     },
     "metadata": {
      "needs_background": "light"
     },
     "output_type": "display_data"
    }
   ],
   "source": [
    "seaborn.barplot(x=data['floor_group'], y=data['last_price'])"
   ]
  },
  {
   "cell_type": "markdown",
   "metadata": {},
   "source": [
    "Зависимость здесь очень похожа на линейную: первый этаж - наименьший по стоимости, а дальше - чем выше, тем больше становится стоимость."
   ]
  },
  {
   "cell_type": "code",
   "execution_count": 74,
   "metadata": {},
   "outputs": [
    {
     "data": {
      "text/plain": [
       "<AxesSubplot:xlabel='weekday', ylabel='last_price'>"
      ]
     },
     "execution_count": 74,
     "metadata": {},
     "output_type": "execute_result"
    },
    {
     "data": {
      "image/png": "[encoded data removed]",
      "text/plain": [
       "<Figure size 432x288 with 1 Axes>"
      ]
     },
     "metadata": {
      "needs_background": "light"
     },
     "output_type": "display_data"
    }
   ],
   "source": [
    "seaborn.barplot(x=data['weekday'], y=data['last_price'])"
   ]
  },
  {
   "cell_type": "markdown",
   "metadata": {},
   "source": [
    "Можно заметить, что дороже остальных продаются квартиры, выставленные на продажу в субботу, а дешевле прочих - в пятницу и в воскресенье. "
   ]
  },
  {
   "cell_type": "code",
   "execution_count": 75,
   "metadata": {},
   "outputs": [
    {
     "data": {
      "text/plain": [
       "<AxesSubplot:xlabel='month', ylabel='last_price'>"
      ]
     },
     "execution_count": 75,
     "metadata": {},
     "output_type": "execute_result"
    },
    {
     "data": {
      "image/png": "[encoded data removed]",
      "text/plain": [
       "<Figure size 432x288 with 1 Axes>"
      ]
     },
     "metadata": {
      "needs_background": "light"
     },
     "output_type": "display_data"
    }
   ],
   "source": [
    "seaborn.barplot(x=data['month'], y=data['last_price'])"
   ]
  },
  {
   "cell_type": "markdown",
   "metadata": {},
   "source": [
    "Заметно дороже других продаются квариры, выставленные на продажу в сентябре и в декабре, а дешевле других - в марте, июне, августе, октябре и ноябре."
   ]
  },
  {
   "cell_type": "code",
   "execution_count": 76,
   "metadata": {},
   "outputs": [
    {
     "data": {
      "text/plain": [
       "<AxesSubplot:xlabel='year', ylabel='last_price'>"
      ]
     },
     "execution_count": 76,
     "metadata": {},
     "output_type": "execute_result"
    },
    {
     "data": {
      "image/png": "[encoded data removed]",
      "text/plain": [
       "<Figure size 432x288 with 1 Axes>"
      ]
     },
     "metadata": {
      "needs_background": "light"
     },
     "output_type": "display_data"
    }
   ],
   "source": [
    "seaborn.barplot(x=data['year'], y=data['last_price'])"
   ]
  },
  {
   "cell_type": "code",
   "execution_count": 77,
   "metadata": {},
   "outputs": [
    {
     "data": {
      "text/plain": [
       "<AxesSubplot:xlabel='year', ylabel='total_area'>"
      ]
     },
     "execution_count": 77,
     "metadata": {},
     "output_type": "execute_result"
    },
    {
     "data": {
      "image/png": "[encoded data removed]",
      "text/plain": [
       "<Figure size 432x288 with 1 Axes>"
      ]
     },
     "metadata": {
      "needs_background": "light"
     },
     "output_type": "display_data"
    }
   ],
   "source": [
    "seaborn.barplot(x=data['year'], y=data['total_area'])"
   ]
  },
  {
   "cell_type": "markdown",
   "metadata": {},
   "source": [
    "Можно заметить, что графики цены квартир и площади квартир по годам очень похожи - можно сделать вывод, что с поправкой на площадь стоимость квартир примерно одинаковая вне зависимости от года."
   ]
  },
  {
   "cell_type": "code",
   "execution_count": 78,
   "metadata": {},
   "outputs": [
    {
     "data": {
      "text/plain": [
       "array(['Санкт-Петербург', 'посёлок Мурино', 'посёлок Шушары',\n",
       "       'Всеволожск', 'Пушкин', 'Колпино', 'посёлок Парголово', 'Гатчина',\n",
       "       'деревня Кудрово', 'Выборг'], dtype=object)"
      ]
     },
     "metadata": {},
     "output_type": "display_data"
    },
    {
     "data": {
      "text/plain": [
       "locality_name\n",
       "Выборг                58238.143141\n",
       "Всеволожск            68719.320400\n",
       "Гатчина               68746.146763\n",
       "Колпино               75443.972838\n",
       "посёлок Шушары        78677.364217\n",
       "посёлок Мурино        85681.762601\n",
       "посёлок Парголово     90205.423758\n",
       "деревня Кудрово       92473.547576\n",
       "Пушкин               103147.825496\n",
       "Санкт-Петербург      114849.692339\n",
       "Name: m2_cost, dtype: float64"
      ]
     },
     "metadata": {},
     "output_type": "display_data"
    },
    {
     "data": {
      "text/plain": [
       "locality_name\n",
       "Выборг                58307.692308\n",
       "Всеволожск            65789.473684\n",
       "Гатчина               67796.610169\n",
       "Колпино               74725.274725\n",
       "посёлок Шушары        76876.172608\n",
       "посёлок Мурино        85878.462169\n",
       "посёлок Парголово     91780.224134\n",
       "деревня Кудрово       91860.465116\n",
       "Пушкин                99993.589744\n",
       "Санкт-Петербург      104766.085539\n",
       "Name: m2_cost, dtype: float64"
      ]
     },
     "execution_count": 78,
     "metadata": {},
     "output_type": "execute_result"
    }
   ],
   "source": [
    "locs = data.groupby('locality_name').count().sort_values('last_price', ascending=False).head(10).index.values\n",
    "display(locs)\n",
    "data_locs = data[(data['locality_name'] == 'Санкт-Петербург') | (data['locality_name'] == 'посёлок Мурино') | \\\n",
    "    (data['locality_name'] == 'посёлок Шушары') | (data['locality_name'] == 'Всеволожск') | \\\n",
    "    (data['locality_name'] == 'Пушкин') | (data['locality_name'] == 'Колпино') | \\\n",
    "    (data['locality_name'] == 'посёлок Парголово') | (data['locality_name'] == 'Гатчина') | \\\n",
    "    (data['locality_name'] == 'деревня Кудрово') | (data['locality_name'] == 'Выборг')]\n",
    "display(data_locs.groupby('locality_name')['m2_cost'].mean().sort_values())\n",
    "data_locs.groupby('locality_name')['m2_cost'].median().sort_values()"
   ]
  },
  {
   "cell_type": "code",
   "execution_count": 79,
   "metadata": {},
   "outputs": [
    {
     "data": {
      "text/html": [
       "<div>\n",
       "<style scoped>\n",
       "    .dataframe tbody tr th:only-of-type {\n",
       "        vertical-align: middle;\n",
       "    }\n",
       "\n",
       "    .dataframe tbody tr th {\n",
       "        vertical-align: top;\n",
       "    }\n",
       "\n",
       "    .dataframe thead th {\n",
       "        text-align: right;\n",
       "    }\n",
       "</style>\n",
       "<table border=\"1\" class=\"dataframe\">\n",
       "  <thead>\n",
       "    <tr style=\"text-align: right;\">\n",
       "      <th></th>\n",
       "      <th>balcony</th>\n",
       "      <th>last_price</th>\n",
       "    </tr>\n",
       "    <tr>\n",
       "      <th>locality_name</th>\n",
       "      <th></th>\n",
       "      <th></th>\n",
       "    </tr>\n",
       "  </thead>\n",
       "  <tbody>\n",
       "    <tr>\n",
       "      <th>Санкт-Петербург</th>\n",
       "      <td>15682</td>\n",
       "      <td>5500000.0</td>\n",
       "    </tr>\n",
       "    <tr>\n",
       "      <th>посёлок Мурино</th>\n",
       "      <td>556</td>\n",
       "      <td>3400000.0</td>\n",
       "    </tr>\n",
       "    <tr>\n",
       "      <th>посёлок Шушары</th>\n",
       "      <td>440</td>\n",
       "      <td>3950000.0</td>\n",
       "    </tr>\n",
       "    <tr>\n",
       "      <th>Всеволожск</th>\n",
       "      <td>397</td>\n",
       "      <td>3450000.0</td>\n",
       "    </tr>\n",
       "    <tr>\n",
       "      <th>Пушкин</th>\n",
       "      <td>366</td>\n",
       "      <td>5187319.0</td>\n",
       "    </tr>\n",
       "    <tr>\n",
       "      <th>Колпино</th>\n",
       "      <td>337</td>\n",
       "      <td>3600000.0</td>\n",
       "    </tr>\n",
       "    <tr>\n",
       "      <th>посёлок Парголово</th>\n",
       "      <td>326</td>\n",
       "      <td>4115000.0</td>\n",
       "    </tr>\n",
       "    <tr>\n",
       "      <th>Гатчина</th>\n",
       "      <td>307</td>\n",
       "      <td>3100000.0</td>\n",
       "    </tr>\n",
       "    <tr>\n",
       "      <th>деревня Кудрово</th>\n",
       "      <td>299</td>\n",
       "      <td>3790000.0</td>\n",
       "    </tr>\n",
       "    <tr>\n",
       "      <th>Выборг</th>\n",
       "      <td>235</td>\n",
       "      <td>2900000.0</td>\n",
       "    </tr>\n",
       "  </tbody>\n",
       "</table>\n",
       "</div>"
      ],
      "text/plain": [
       "                   balcony  last_price\n",
       "locality_name                         \n",
       "Санкт-Петербург      15682   5500000.0\n",
       "посёлок Мурино         556   3400000.0\n",
       "посёлок Шушары         440   3950000.0\n",
       "Всеволожск             397   3450000.0\n",
       "Пушкин                 366   5187319.0\n",
       "Колпино                337   3600000.0\n",
       "посёлок Парголово      326   4115000.0\n",
       "Гатчина                307   3100000.0\n",
       "деревня Кудрово        299   3790000.0\n",
       "Выборг                 235   2900000.0"
      ]
     },
     "execution_count": 79,
     "metadata": {},
     "output_type": "execute_result"
    }
   ],
   "source": [
    "data.groupby('locality_name').agg({'balcony':'count', 'last_price':'median'}) \\\n",
    "    .sort_values(by = 'balcony', ascending = False) \\\n",
    "    .head(10)"
   ]
  },
  {
   "cell_type": "markdown",
   "metadata": {},
   "source": [
    "Из городов с наибольшим количеством объявлений самый дорогой квадратный метр в Санкт-Петербурге, а самый дешевый - в Выборге (это подтверждается и средним арифметическим, и медианой)"
   ]
  },
  {
   "cell_type": "code",
   "execution_count": 80,
   "metadata": {},
   "outputs": [
    {
     "data": {
      "text/plain": [
       "'Медианная стоимость километра в Санкт-Петербурге равна:'"
      ]
     },
     "metadata": {},
     "output_type": "display_data"
    },
    {
     "data": {
      "text/plain": [
       "449923.0"
      ]
     },
     "metadata": {},
     "output_type": "display_data"
    },
    {
     "data": {
      "image/png": "[encoded data removed]",
      "text/plain": [
       "<Figure size 432x288 with 1 Axes>"
      ]
     },
     "metadata": {
      "needs_background": "light"
     },
     "output_type": "display_data"
    }
   ],
   "source": [
    "data_spb = data.query('locality_name == \"Санкт-Петербург\"')\n",
    "data_spb['km_cost'] = data_spb['last_price'] // data_spb['cityCenters_km']\n",
    "display('Медианная стоимость километра в Санкт-Петербурге равна:', data_spb['km_cost'].median())\n",
    "seaborn.barplot(x=data_spb['cityCenters_km'], y=data_spb['last_price'])\n",
    "plt.title('Зависимость стоимости жилья от расстояния до центра в Санкт-Петербурге');"
   ]
  },
  {
   "cell_type": "markdown",
   "metadata": {},
   "source": [
    "Дороже всего квартиры, которые ближе всего к центру города; есть одиночный выброс на 27 километрах от центра (вероятно, какое-то элитное жилье), и еще один пик на 7-8 километрах от центра - вероятно, тоже какая-то элитная локация для жилья. После этого стоимость постоянно падает."
   ]
  },
  {
   "cell_type": "markdown",
   "metadata": {},
   "source": [
    "### Общий вывод"
   ]
  },
  {
   "cell_type": "markdown",
   "metadata": {},
   "source": [
    "В ходе работы над исследованием было сделано следующее:\n",
    "- заполнены пропуски в данных\n",
    "- устранены неявные дубликаты (явных дубликатов обнаружено не было)\n",
    "- добавлены новые столбцы с данными для анализа\n",
    "- изменён тип данных в ряде столбцов на более подходящий для анализа\n",
    "- удалены или исправлены аномальные значения\n",
    "- изучены параметры объектов\n",
    "- изучена зависимость цены от различных факторов\n",
    "- выявлены населенные пункты с самой высокой и самой низкой стоимостью квадратного метра\n",
    "- изучена зависимость стоимости квартиры от расстояния до центра города в Санкт-Петербурге\n",
    "\n",
    "\n",
    "Стоимость квартир зависит от всех пунктов, которые мы рассматривали:\n",
    "  - общей площади;\n",
    "  - жилой площади;\n",
    "  - площади кухни;\n",
    "  - количества комнат;\n",
    "  - типа этажа, на котором расположена квартира (первый, последний, другой);\n",
    "  - даты размещения (день недели, месяц, год);\n",
    "  \n",
    "С общей площадью цена коррелирует лучше всего, корреляция с жилой площадью меньше, с площадью кухни - еще меньше. От типа этажа квартиры и года публикации цена зависит линейно, от дня/месяца публикации - непонятен тип зависимости, но можно выделить \"хорошие\" и \"плохие\" дни/месяцы.\n",
    "От года публикации цена скорее не зависит, \n",
    "\n",
    "Чаще всего продажа квартиры занимает около 100 дней (медиана - 95), о слишком быстрых продажах говорить нельзя, необычно долгие продажи - за 452 дня или больше.\n",
    "\n",
    "Самый дорогой квадратный метр жилья - в Санкт-Петербурге, самый дешевый - в Выборге.\n",
    "\n",
    "С точки зрения расстояния до центра города в Санкт-Петербурге самый дорогие локации - в центре и на расстоянии 7-8 км от центра, так же есть одна квартира на расстоянии 27 км от центра - возможно, там какое-то элитное жилье."
   ]
  }
 ],
 "metadata": {
  "ExecuteTimeLog": [
   {
    "duration": 408,
    "start_time": "2022-10-29T12:51:35.293Z"
   },
   {
    "duration": 137,
    "start_time": "2022-10-29T12:55:06.053Z"
   },
   {
    "duration": 14,
    "start_time": "2022-10-29T12:56:53.282Z"
   },
   {
    "duration": 374,
    "start_time": "2022-10-29T12:57:22.028Z"
   },
   {
    "duration": 12,
    "start_time": "2022-10-29T12:57:48.644Z"
   },
   {
    "duration": 10,
    "start_time": "2022-10-29T12:59:51.456Z"
   },
   {
    "duration": 18,
    "start_time": "2022-10-29T13:00:04.021Z"
   },
   {
    "duration": 8,
    "start_time": "2022-10-29T13:00:14.404Z"
   },
   {
    "duration": 3,
    "start_time": "2022-10-29T13:00:35.686Z"
   },
   {
    "duration": 11,
    "start_time": "2022-10-29T13:02:14.895Z"
   },
   {
    "duration": 16,
    "start_time": "2022-10-29T13:03:39.221Z"
   },
   {
    "duration": 98,
    "start_time": "2022-10-29T13:05:12.067Z"
   },
   {
    "duration": 16,
    "start_time": "2022-10-29T13:05:13.011Z"
   },
   {
    "duration": 1982,
    "start_time": "2022-10-29T13:05:17.670Z"
   },
   {
    "duration": 31,
    "start_time": "2022-10-29T13:05:21.804Z"
   },
   {
    "duration": 3,
    "start_time": "2022-10-29T13:09:10.832Z"
   },
   {
    "duration": 104,
    "start_time": "2022-10-29T13:09:14.395Z"
   },
   {
    "duration": 15,
    "start_time": "2022-10-29T13:09:15.345Z"
   },
   {
    "duration": 31,
    "start_time": "2022-10-29T13:09:19.021Z"
   },
   {
    "duration": 2177,
    "start_time": "2022-10-29T13:09:29.258Z"
   },
   {
    "duration": 4,
    "start_time": "2022-10-29T13:10:52.149Z"
   },
   {
    "duration": 86,
    "start_time": "2022-10-29T13:10:52.954Z"
   },
   {
    "duration": 15,
    "start_time": "2022-10-29T13:10:53.550Z"
   },
   {
    "duration": 29,
    "start_time": "2022-10-29T13:10:54.876Z"
   },
   {
    "duration": 2035,
    "start_time": "2022-10-29T13:10:56.410Z"
   },
   {
    "duration": 43,
    "start_time": "2022-10-29T13:17:09.232Z"
   },
   {
    "duration": 9,
    "start_time": "2022-10-29T13:31:39.710Z"
   },
   {
    "duration": 10,
    "start_time": "2022-10-29T13:56:33.248Z"
   },
   {
    "duration": 10,
    "start_time": "2022-10-29T13:56:51.620Z"
   },
   {
    "duration": 51,
    "start_time": "2022-10-29T13:57:10.957Z"
   },
   {
    "duration": 5,
    "start_time": "2022-10-29T13:57:24.855Z"
   },
   {
    "duration": 5,
    "start_time": "2022-10-29T13:57:30.107Z"
   },
   {
    "duration": 58,
    "start_time": "2022-10-29T13:57:30.894Z"
   },
   {
    "duration": 19,
    "start_time": "2022-10-29T13:57:39.872Z"
   },
   {
    "duration": 6,
    "start_time": "2022-10-30T12:51:35.966Z"
   },
   {
    "duration": 10,
    "start_time": "2022-10-30T12:51:37.962Z"
   },
   {
    "duration": 5,
    "start_time": "2022-10-30T12:55:26.093Z"
   },
   {
    "duration": 8,
    "start_time": "2022-10-30T12:55:29.445Z"
   },
   {
    "duration": 9,
    "start_time": "2022-10-30T15:52:00.856Z"
   },
   {
    "duration": 5,
    "start_time": "2022-10-30T15:52:05.837Z"
   },
   {
    "duration": 5,
    "start_time": "2022-10-30T15:52:31.039Z"
   },
   {
    "duration": 10,
    "start_time": "2022-10-30T15:52:32.065Z"
   },
   {
    "duration": 31,
    "start_time": "2022-10-30T15:57:44.293Z"
   },
   {
    "duration": 9,
    "start_time": "2022-10-30T15:57:46.352Z"
   },
   {
    "duration": 26,
    "start_time": "2022-10-30T16:03:02.971Z"
   },
   {
    "duration": 37,
    "start_time": "2022-10-30T16:03:12.471Z"
   },
   {
    "duration": 1174,
    "start_time": "2022-10-30T16:09:15.145Z"
   },
   {
    "duration": 27,
    "start_time": "2022-10-30T16:09:29.414Z"
   },
   {
    "duration": 29,
    "start_time": "2022-10-30T16:09:58.892Z"
   },
   {
    "duration": 27,
    "start_time": "2022-10-30T16:11:12.533Z"
   },
   {
    "duration": 74,
    "start_time": "2022-10-30T16:11:48.738Z"
   },
   {
    "duration": 34,
    "start_time": "2022-10-30T16:11:54.529Z"
   },
   {
    "duration": 8,
    "start_time": "2022-10-30T16:12:07.757Z"
   },
   {
    "duration": 1393,
    "start_time": "2022-10-30T16:23:53.589Z"
   },
   {
    "duration": 1402,
    "start_time": "2022-10-30T16:24:11.446Z"
   },
   {
    "duration": 10,
    "start_time": "2022-10-30T16:30:12.868Z"
   },
   {
    "duration": 8,
    "start_time": "2022-10-30T16:32:29.017Z"
   },
   {
    "duration": 30,
    "start_time": "2022-10-30T16:32:45.683Z"
   },
   {
    "duration": 10,
    "start_time": "2022-10-30T16:32:48.477Z"
   },
   {
    "duration": 9,
    "start_time": "2022-10-30T16:32:58.016Z"
   },
   {
    "duration": 3,
    "start_time": "2022-10-30T20:35:55.060Z"
   },
   {
    "duration": 112,
    "start_time": "2022-10-30T20:35:55.887Z"
   },
   {
    "duration": 14,
    "start_time": "2022-10-30T20:35:57.211Z"
   },
   {
    "duration": 40,
    "start_time": "2022-10-30T20:35:58.964Z"
   },
   {
    "duration": 1853,
    "start_time": "2022-10-30T20:35:59.909Z"
   },
   {
    "duration": 9,
    "start_time": "2022-10-30T20:36:04.978Z"
   },
   {
    "duration": 4,
    "start_time": "2022-10-30T20:36:08.354Z"
   },
   {
    "duration": 6,
    "start_time": "2022-10-30T20:36:09.668Z"
   },
   {
    "duration": 6,
    "start_time": "2022-10-30T20:36:10.779Z"
   },
   {
    "duration": 5,
    "start_time": "2022-10-30T20:36:12.393Z"
   },
   {
    "duration": 29,
    "start_time": "2022-10-30T20:36:17.479Z"
   },
   {
    "duration": 33,
    "start_time": "2022-10-30T20:36:19.594Z"
   },
   {
    "duration": 10,
    "start_time": "2022-10-30T20:36:39.692Z"
   },
   {
    "duration": 5,
    "start_time": "2022-10-30T20:46:29.007Z"
   },
   {
    "duration": 8,
    "start_time": "2022-10-30T20:46:31.392Z"
   },
   {
    "duration": 5,
    "start_time": "2022-10-30T20:47:29.877Z"
   },
   {
    "duration": 10,
    "start_time": "2022-10-30T20:47:31.323Z"
   },
   {
    "duration": 3,
    "start_time": "2022-10-30T20:47:39.263Z"
   },
   {
    "duration": 90,
    "start_time": "2022-10-30T20:47:39.862Z"
   },
   {
    "duration": 14,
    "start_time": "2022-10-30T20:47:40.579Z"
   },
   {
    "duration": 182,
    "start_time": "2022-10-30T20:47:41.521Z"
   },
   {
    "duration": 1837,
    "start_time": "2022-10-30T20:47:42.474Z"
   },
   {
    "duration": 9,
    "start_time": "2022-10-30T20:47:48.101Z"
   },
   {
    "duration": 4,
    "start_time": "2022-10-30T20:47:51.085Z"
   },
   {
    "duration": 4,
    "start_time": "2022-10-30T20:47:52.851Z"
   },
   {
    "duration": 5,
    "start_time": "2022-10-30T20:47:53.834Z"
   },
   {
    "duration": 5,
    "start_time": "2022-10-30T20:47:54.834Z"
   },
   {
    "duration": 32,
    "start_time": "2022-10-30T20:47:55.980Z"
   },
   {
    "duration": 29,
    "start_time": "2022-10-30T20:47:58.223Z"
   },
   {
    "duration": 4,
    "start_time": "2022-10-30T20:47:59.802Z"
   },
   {
    "duration": 10,
    "start_time": "2022-10-30T20:48:01.225Z"
   },
   {
    "duration": 5,
    "start_time": "2022-10-30T20:49:01.104Z"
   },
   {
    "duration": 8,
    "start_time": "2022-10-30T20:49:02.407Z"
   },
   {
    "duration": 8,
    "start_time": "2022-10-30T20:53:46.379Z"
   },
   {
    "duration": 46,
    "start_time": "2022-10-30T20:54:47.073Z"
   },
   {
    "duration": 6,
    "start_time": "2022-10-30T21:02:56.206Z"
   },
   {
    "duration": 6,
    "start_time": "2022-10-30T21:03:51.576Z"
   },
   {
    "duration": 7,
    "start_time": "2022-10-30T21:04:02.298Z"
   },
   {
    "duration": 50,
    "start_time": "2022-10-30T21:04:29.726Z"
   },
   {
    "duration": 11,
    "start_time": "2022-10-30T21:05:19.102Z"
   },
   {
    "duration": 4,
    "start_time": "2022-10-30T21:05:42.818Z"
   },
   {
    "duration": 7,
    "start_time": "2022-10-30T21:07:58.175Z"
   },
   {
    "duration": 10,
    "start_time": "2022-10-30T21:08:59.774Z"
   },
   {
    "duration": 14,
    "start_time": "2022-10-30T21:09:08.057Z"
   },
   {
    "duration": 8,
    "start_time": "2022-10-30T21:11:55.089Z"
   },
   {
    "duration": 9,
    "start_time": "2022-10-30T21:13:37.737Z"
   },
   {
    "duration": 13,
    "start_time": "2022-10-30T21:14:21.403Z"
   },
   {
    "duration": 74,
    "start_time": "2022-10-30T21:14:26.138Z"
   },
   {
    "duration": 38,
    "start_time": "2022-10-30T21:14:29.127Z"
   },
   {
    "duration": 8,
    "start_time": "2022-10-30T21:17:30.758Z"
   },
   {
    "duration": 906,
    "start_time": "2022-10-31T09:34:00.525Z"
   },
   {
    "duration": 24,
    "start_time": "2022-10-31T09:34:17.342Z"
   },
   {
    "duration": 285,
    "start_time": "2022-10-31T09:35:11.605Z"
   },
   {
    "duration": 151,
    "start_time": "2022-10-31T09:35:25.131Z"
   },
   {
    "duration": 23,
    "start_time": "2022-10-31T09:35:31.691Z"
   },
   {
    "duration": 145,
    "start_time": "2022-10-31T09:36:03.021Z"
   },
   {
    "duration": 13,
    "start_time": "2022-10-31T09:36:15.580Z"
   },
   {
    "duration": 8,
    "start_time": "2022-10-31T09:41:01.132Z"
   },
   {
    "duration": 4,
    "start_time": "2022-10-31T09:41:21.158Z"
   },
   {
    "duration": 13,
    "start_time": "2022-10-31T09:41:22.622Z"
   },
   {
    "duration": 28,
    "start_time": "2022-10-31T09:41:56.923Z"
   },
   {
    "duration": 15,
    "start_time": "2022-10-31T09:44:09.217Z"
   },
   {
    "duration": 19,
    "start_time": "2022-10-31T09:44:16.436Z"
   },
   {
    "duration": 14,
    "start_time": "2022-10-31T09:47:27.419Z"
   },
   {
    "duration": 14,
    "start_time": "2022-10-31T09:47:28.863Z"
   },
   {
    "duration": 21,
    "start_time": "2022-10-31T09:53:19.581Z"
   },
   {
    "duration": 23,
    "start_time": "2022-10-31T09:54:33.273Z"
   },
   {
    "duration": 8,
    "start_time": "2022-10-31T09:54:58.130Z"
   },
   {
    "duration": 5,
    "start_time": "2022-10-31T09:55:04.890Z"
   },
   {
    "duration": 6,
    "start_time": "2022-10-31T09:55:21.282Z"
   },
   {
    "duration": 15,
    "start_time": "2022-10-31T09:56:37.519Z"
   },
   {
    "duration": 7,
    "start_time": "2022-10-31T09:57:03.464Z"
   },
   {
    "duration": 16,
    "start_time": "2022-10-31T09:58:25.993Z"
   },
   {
    "duration": 7,
    "start_time": "2022-10-31T11:06:27.377Z"
   },
   {
    "duration": 9,
    "start_time": "2022-10-31T11:07:50.009Z"
   },
   {
    "duration": 9,
    "start_time": "2022-10-31T11:07:59.190Z"
   },
   {
    "duration": 5,
    "start_time": "2022-10-31T11:09:29.038Z"
   },
   {
    "duration": 4,
    "start_time": "2022-10-31T11:09:51.719Z"
   },
   {
    "duration": 8,
    "start_time": "2022-10-31T11:09:56.709Z"
   },
   {
    "duration": 8,
    "start_time": "2022-10-31T11:11:05.931Z"
   },
   {
    "duration": 9,
    "start_time": "2022-10-31T11:14:10.996Z"
   },
   {
    "duration": 6,
    "start_time": "2022-10-31T11:14:41.111Z"
   },
   {
    "duration": 9,
    "start_time": "2022-10-31T11:15:17.977Z"
   },
   {
    "duration": 8,
    "start_time": "2022-10-31T11:15:40.257Z"
   },
   {
    "duration": 11,
    "start_time": "2022-10-31T12:17:49.197Z"
   },
   {
    "duration": 7,
    "start_time": "2022-10-31T12:18:32.600Z"
   },
   {
    "duration": 9,
    "start_time": "2022-10-31T12:19:06.603Z"
   },
   {
    "duration": 6,
    "start_time": "2022-10-31T12:19:11.975Z"
   },
   {
    "duration": 9,
    "start_time": "2022-10-31T12:20:00.577Z"
   },
   {
    "duration": 217,
    "start_time": "2022-10-31T12:20:38.059Z"
   },
   {
    "duration": 6,
    "start_time": "2022-10-31T12:20:39.045Z"
   },
   {
    "duration": 226,
    "start_time": "2022-10-31T12:21:13.595Z"
   },
   {
    "duration": 7,
    "start_time": "2022-10-31T12:21:14.868Z"
   },
   {
    "duration": 299,
    "start_time": "2022-10-31T12:25:16.616Z"
   },
   {
    "duration": 6,
    "start_time": "2022-10-31T12:25:17.965Z"
   },
   {
    "duration": 5,
    "start_time": "2022-10-31T12:32:07.811Z"
   },
   {
    "duration": 9,
    "start_time": "2022-10-31T12:32:25.737Z"
   },
   {
    "duration": 4,
    "start_time": "2022-10-31T12:42:00.324Z"
   },
   {
    "duration": 7,
    "start_time": "2022-10-31T12:42:05.515Z"
   },
   {
    "duration": 48,
    "start_time": "2022-10-31T18:56:57.731Z"
   },
   {
    "duration": 47,
    "start_time": "2022-10-31T18:57:19.260Z"
   },
   {
    "duration": 45,
    "start_time": "2022-10-31T18:58:23.046Z"
   },
   {
    "duration": 44,
    "start_time": "2022-10-31T18:59:10.553Z"
   },
   {
    "duration": 56,
    "start_time": "2022-10-31T19:01:58.089Z"
   },
   {
    "duration": 8,
    "start_time": "2022-10-31T19:02:45.144Z"
   },
   {
    "duration": 10,
    "start_time": "2022-10-31T19:02:54.146Z"
   },
   {
    "duration": 15,
    "start_time": "2022-10-31T19:02:57.913Z"
   },
   {
    "duration": 50,
    "start_time": "2022-10-31T19:03:14.181Z"
   },
   {
    "duration": 46,
    "start_time": "2022-10-31T19:04:48.441Z"
   },
   {
    "duration": 1310,
    "start_time": "2022-10-31T20:16:27.962Z"
   },
   {
    "duration": 5,
    "start_time": "2022-10-31T20:16:36.712Z"
   },
   {
    "duration": 5,
    "start_time": "2022-10-31T20:16:47.252Z"
   },
   {
    "duration": 8,
    "start_time": "2022-10-31T20:22:45.663Z"
   },
   {
    "duration": 51,
    "start_time": "2022-10-31T20:23:38.392Z"
   },
   {
    "duration": 8,
    "start_time": "2022-10-31T20:27:00.364Z"
   },
   {
    "duration": 4,
    "start_time": "2022-10-31T20:28:59.021Z"
   },
   {
    "duration": 49,
    "start_time": "2022-10-31T20:29:03.347Z"
   },
   {
    "duration": 9,
    "start_time": "2022-10-31T20:30:44.464Z"
   },
   {
    "duration": 45,
    "start_time": "2022-10-31T20:30:46.013Z"
   },
   {
    "duration": 8,
    "start_time": "2022-10-31T20:31:59.096Z"
   },
   {
    "duration": 45,
    "start_time": "2022-10-31T20:31:59.989Z"
   },
   {
    "duration": 728,
    "start_time": "2022-11-01T12:56:09.132Z"
   },
   {
    "duration": 158,
    "start_time": "2022-11-01T12:56:10.004Z"
   },
   {
    "duration": 14,
    "start_time": "2022-11-01T12:56:11.300Z"
   },
   {
    "duration": 10,
    "start_time": "2022-11-01T12:57:13.069Z"
   },
   {
    "duration": 2,
    "start_time": "2022-11-01T12:57:31.172Z"
   },
   {
    "duration": 651,
    "start_time": "2022-11-01T12:57:38.667Z"
   },
   {
    "duration": 87,
    "start_time": "2022-11-01T12:57:39.319Z"
   },
   {
    "duration": 14,
    "start_time": "2022-11-01T12:57:39.407Z"
   },
   {
    "duration": 35,
    "start_time": "2022-11-01T12:57:39.423Z"
   },
   {
    "duration": 1812,
    "start_time": "2022-11-01T12:57:39.460Z"
   },
   {
    "duration": 9,
    "start_time": "2022-11-01T12:57:41.273Z"
   },
   {
    "duration": 6,
    "start_time": "2022-11-01T12:57:41.284Z"
   },
   {
    "duration": 7,
    "start_time": "2022-11-01T12:57:41.291Z"
   },
   {
    "duration": 10,
    "start_time": "2022-11-01T12:57:41.300Z"
   },
   {
    "duration": 8,
    "start_time": "2022-11-01T12:57:41.313Z"
   },
   {
    "duration": 30,
    "start_time": "2022-11-01T12:57:41.322Z"
   },
   {
    "duration": 30,
    "start_time": "2022-11-01T12:57:41.353Z"
   },
   {
    "duration": 4,
    "start_time": "2022-11-01T12:57:41.385Z"
   },
   {
    "duration": 19,
    "start_time": "2022-11-01T12:57:41.391Z"
   },
   {
    "duration": 11,
    "start_time": "2022-11-01T12:57:41.412Z"
   },
   {
    "duration": 9,
    "start_time": "2022-11-01T12:57:41.425Z"
   },
   {
    "duration": 20,
    "start_time": "2022-11-01T12:57:41.436Z"
   },
   {
    "duration": 35,
    "start_time": "2022-11-01T12:57:41.458Z"
   },
   {
    "duration": 11,
    "start_time": "2022-11-01T12:57:41.495Z"
   },
   {
    "duration": 293,
    "start_time": "2022-11-01T12:57:41.508Z"
   },
   {
    "duration": 6,
    "start_time": "2022-11-01T12:57:41.802Z"
   },
   {
    "duration": 17,
    "start_time": "2022-11-01T12:57:41.810Z"
   },
   {
    "duration": 10,
    "start_time": "2022-11-01T12:57:41.829Z"
   },
   {
    "duration": 67,
    "start_time": "2022-11-01T12:57:41.841Z"
   },
   {
    "duration": 50,
    "start_time": "2022-11-01T12:57:41.910Z"
   },
   {
    "duration": 63,
    "start_time": "2022-11-01T12:57:41.961Z"
   },
   {
    "duration": 49,
    "start_time": "2022-11-01T12:57:42.026Z"
   },
   {
    "duration": 65,
    "start_time": "2022-11-01T12:57:42.080Z"
   },
   {
    "duration": 16,
    "start_time": "2022-11-01T12:57:42.147Z"
   },
   {
    "duration": 68,
    "start_time": "2022-11-01T12:57:42.164Z"
   },
   {
    "duration": 52,
    "start_time": "2022-11-01T12:57:42.234Z"
   },
   {
    "duration": 17,
    "start_time": "2022-11-01T12:57:42.288Z"
   },
   {
    "duration": 6,
    "start_time": "2022-11-01T12:57:42.307Z"
   },
   {
    "duration": 24,
    "start_time": "2022-11-01T12:57:42.315Z"
   },
   {
    "duration": 9,
    "start_time": "2022-11-01T12:57:42.341Z"
   },
   {
    "duration": 24,
    "start_time": "2022-11-01T12:57:42.351Z"
   },
   {
    "duration": 65,
    "start_time": "2022-11-01T12:57:42.377Z"
   },
   {
    "duration": 7,
    "start_time": "2022-11-01T12:57:42.444Z"
   },
   {
    "duration": 15,
    "start_time": "2022-11-01T12:57:42.453Z"
   },
   {
    "duration": 4,
    "start_time": "2022-11-01T12:59:24.560Z"
   },
   {
    "duration": 26,
    "start_time": "2022-11-01T12:59:30.528Z"
   },
   {
    "duration": 6,
    "start_time": "2022-11-01T13:02:08.423Z"
   },
   {
    "duration": 27,
    "start_time": "2022-11-01T13:02:09.769Z"
   },
   {
    "duration": 6,
    "start_time": "2022-11-01T13:02:59.186Z"
   },
   {
    "duration": 33,
    "start_time": "2022-11-01T13:03:00.272Z"
   },
   {
    "duration": 5,
    "start_time": "2022-11-01T13:03:22.569Z"
   },
   {
    "duration": 25,
    "start_time": "2022-11-01T13:03:23.467Z"
   },
   {
    "duration": 293,
    "start_time": "2022-11-01T13:09:56.103Z"
   },
   {
    "duration": 25,
    "start_time": "2022-11-01T13:09:57.213Z"
   },
   {
    "duration": 345,
    "start_time": "2022-11-01T13:31:55.458Z"
   },
   {
    "duration": 301,
    "start_time": "2022-11-01T13:32:39.616Z"
   },
   {
    "duration": 5,
    "start_time": "2022-11-01T13:32:53.006Z"
   },
   {
    "duration": 25,
    "start_time": "2022-11-01T13:32:54.050Z"
   },
   {
    "duration": 108,
    "start_time": "2022-11-02T12:24:35.083Z"
   },
   {
    "duration": 130,
    "start_time": "2022-11-02T12:30:57.081Z"
   },
   {
    "duration": 274,
    "start_time": "2022-11-02T12:31:03.697Z"
   },
   {
    "duration": 116,
    "start_time": "2022-11-02T12:31:07.595Z"
   },
   {
    "duration": 130,
    "start_time": "2022-11-02T12:31:11.286Z"
   },
   {
    "duration": 157,
    "start_time": "2022-11-02T12:36:43.913Z"
   },
   {
    "duration": 177,
    "start_time": "2022-11-02T12:36:55.616Z"
   },
   {
    "duration": 166,
    "start_time": "2022-11-02T12:36:58.773Z"
   },
   {
    "duration": 156,
    "start_time": "2022-11-02T12:37:03.970Z"
   },
   {
    "duration": 130,
    "start_time": "2022-11-02T12:45:51.057Z"
   },
   {
    "duration": 145,
    "start_time": "2022-11-02T12:48:30.060Z"
   },
   {
    "duration": 225,
    "start_time": "2022-11-02T12:48:34.017Z"
   },
   {
    "duration": 244,
    "start_time": "2022-11-02T12:48:37.932Z"
   },
   {
    "duration": 1433,
    "start_time": "2022-11-02T12:48:42.161Z"
   },
   {
    "duration": 167,
    "start_time": "2022-11-02T12:48:55.850Z"
   },
   {
    "duration": 322,
    "start_time": "2022-11-02T12:49:09.000Z"
   },
   {
    "duration": 303,
    "start_time": "2022-11-02T12:49:15.601Z"
   },
   {
    "duration": 247,
    "start_time": "2022-11-02T12:49:29.992Z"
   },
   {
    "duration": 1815,
    "start_time": "2022-11-02T12:52:15.353Z"
   },
   {
    "duration": 159,
    "start_time": "2022-11-02T12:53:59.973Z"
   },
   {
    "duration": 141,
    "start_time": "2022-11-02T12:54:04.823Z"
   },
   {
    "duration": 133,
    "start_time": "2022-11-02T12:54:13.540Z"
   },
   {
    "duration": 143,
    "start_time": "2022-11-02T12:55:01.061Z"
   },
   {
    "duration": 179,
    "start_time": "2022-11-02T12:55:53.356Z"
   },
   {
    "duration": 231,
    "start_time": "2022-11-02T12:55:58.835Z"
   },
   {
    "duration": 31,
    "start_time": "2022-11-02T12:56:14.851Z"
   },
   {
    "duration": 50,
    "start_time": "2022-11-02T12:56:40.386Z"
   },
   {
    "duration": 153,
    "start_time": "2022-11-02T13:02:00.263Z"
   },
   {
    "duration": 232,
    "start_time": "2022-11-02T13:02:05.284Z"
   },
   {
    "duration": 666,
    "start_time": "2022-11-02T13:02:13.018Z"
   },
   {
    "duration": 204,
    "start_time": "2022-11-02T13:02:15.504Z"
   },
   {
    "duration": 16,
    "start_time": "2022-11-02T13:04:52.418Z"
   },
   {
    "duration": 7,
    "start_time": "2022-11-02T13:10:23.536Z"
   },
   {
    "duration": 152,
    "start_time": "2022-11-02T13:10:28.999Z"
   },
   {
    "duration": 151,
    "start_time": "2022-11-02T13:10:41.574Z"
   },
   {
    "duration": 6,
    "start_time": "2022-11-02T13:10:55.359Z"
   },
   {
    "duration": 128,
    "start_time": "2022-11-02T13:12:53.757Z"
   },
   {
    "duration": 6,
    "start_time": "2022-11-02T13:15:52.336Z"
   },
   {
    "duration": 123,
    "start_time": "2022-11-02T13:19:34.469Z"
   },
   {
    "duration": 147,
    "start_time": "2022-11-02T13:19:40.645Z"
   },
   {
    "duration": 123,
    "start_time": "2022-11-02T13:21:45.159Z"
   },
   {
    "duration": 150,
    "start_time": "2022-11-02T13:21:54.573Z"
   },
   {
    "duration": 45,
    "start_time": "2022-11-02T13:23:34.190Z"
   },
   {
    "duration": 4,
    "start_time": "2022-11-02T13:25:25.700Z"
   },
   {
    "duration": 42,
    "start_time": "2022-11-02T13:26:32.864Z"
   },
   {
    "duration": 275,
    "start_time": "2022-11-02T13:28:05.074Z"
   },
   {
    "duration": 30,
    "start_time": "2022-11-02T13:29:03.830Z"
   },
   {
    "duration": 51,
    "start_time": "2022-11-02T13:29:11.295Z"
   },
   {
    "duration": 8,
    "start_time": "2022-11-02T13:31:45.941Z"
   },
   {
    "duration": 4,
    "start_time": "2022-11-02T13:32:04.069Z"
   },
   {
    "duration": 5,
    "start_time": "2022-11-02T13:45:03.736Z"
   },
   {
    "duration": 7,
    "start_time": "2022-11-02T13:45:08.630Z"
   },
   {
    "duration": 6,
    "start_time": "2022-11-02T13:45:12.451Z"
   },
   {
    "duration": 162,
    "start_time": "2022-11-02T13:47:47.827Z"
   },
   {
    "duration": 162,
    "start_time": "2022-11-02T13:47:56.941Z"
   },
   {
    "duration": 157,
    "start_time": "2022-11-02T13:48:06.654Z"
   },
   {
    "duration": 168,
    "start_time": "2022-11-02T13:48:23.099Z"
   },
   {
    "duration": 281,
    "start_time": "2022-11-02T13:48:27.378Z"
   },
   {
    "duration": 173,
    "start_time": "2022-11-02T13:59:48.698Z"
   },
   {
    "duration": 226,
    "start_time": "2022-11-02T13:59:52.470Z"
   },
   {
    "duration": 6,
    "start_time": "2022-11-02T14:00:30.479Z"
   },
   {
    "duration": 6,
    "start_time": "2022-11-02T14:00:42.379Z"
   },
   {
    "duration": 1857,
    "start_time": "2022-11-02T14:00:51.256Z"
   },
   {
    "duration": 227,
    "start_time": "2022-11-02T14:00:56.995Z"
   },
   {
    "duration": 7,
    "start_time": "2022-11-02T15:54:30.410Z"
   },
   {
    "duration": 59530,
    "start_time": "2022-11-02T15:54:38.425Z"
   },
   {
    "duration": 44030,
    "start_time": "2022-11-02T16:01:37.793Z"
   },
   {
    "duration": 35548,
    "start_time": "2022-11-02T16:04:58.034Z"
   },
   {
    "duration": 20550,
    "start_time": "2022-11-02T16:07:13.530Z"
   },
   {
    "duration": 540,
    "start_time": "2022-11-02T16:08:47.152Z"
   },
   {
    "duration": 271,
    "start_time": "2022-11-02T16:11:00.934Z"
   },
   {
    "duration": 791,
    "start_time": "2022-11-02T16:13:33.817Z"
   },
   {
    "duration": 336,
    "start_time": "2022-11-02T16:15:21.932Z"
   },
   {
    "duration": 446,
    "start_time": "2022-11-02T16:16:04.168Z"
   },
   {
    "duration": 300,
    "start_time": "2022-11-02T16:16:12.391Z"
   },
   {
    "duration": 4,
    "start_time": "2022-11-02T16:23:11.959Z"
   },
   {
    "duration": 40,
    "start_time": "2022-11-02T16:24:30.127Z"
   },
   {
    "duration": 24,
    "start_time": "2022-11-02T16:24:41.461Z"
   },
   {
    "duration": 25,
    "start_time": "2022-11-02T16:25:23.277Z"
   },
   {
    "duration": 20,
    "start_time": "2022-11-02T16:25:35.371Z"
   },
   {
    "duration": 1170,
    "start_time": "2022-11-02T16:26:08.870Z"
   },
   {
    "duration": 11,
    "start_time": "2022-11-02T16:26:16.358Z"
   },
   {
    "duration": 21,
    "start_time": "2022-11-02T16:26:23.732Z"
   },
   {
    "duration": 12,
    "start_time": "2022-11-02T16:26:40.612Z"
   },
   {
    "duration": 12,
    "start_time": "2022-11-02T16:26:48.917Z"
   },
   {
    "duration": 13,
    "start_time": "2022-11-02T16:26:52.560Z"
   },
   {
    "duration": 19,
    "start_time": "2022-11-02T16:27:45.807Z"
   },
   {
    "duration": 19,
    "start_time": "2022-11-02T16:28:15.060Z"
   },
   {
    "duration": 12,
    "start_time": "2022-11-02T16:28:33.165Z"
   },
   {
    "duration": 12,
    "start_time": "2022-11-02T16:28:57.042Z"
   },
   {
    "duration": 20,
    "start_time": "2022-11-02T16:31:38.604Z"
   },
   {
    "duration": 5,
    "start_time": "2022-11-02T16:33:47.961Z"
   },
   {
    "duration": 4,
    "start_time": "2022-11-02T16:33:55.457Z"
   },
   {
    "duration": 12,
    "start_time": "2022-11-02T16:34:14.971Z"
   },
   {
    "duration": 21,
    "start_time": "2022-11-02T16:35:04.720Z"
   },
   {
    "duration": 45,
    "start_time": "2022-11-02T16:35:37.012Z"
   },
   {
    "duration": 60,
    "start_time": "2022-11-02T16:37:35.626Z"
   },
   {
    "duration": 1117,
    "start_time": "2022-11-02T16:38:21.902Z"
   },
   {
    "duration": 1164,
    "start_time": "2022-11-02T16:38:25.692Z"
   },
   {
    "duration": 31,
    "start_time": "2022-11-02T16:38:29.335Z"
   },
   {
    "duration": 35,
    "start_time": "2022-11-02T16:40:09.951Z"
   },
   {
    "duration": 263,
    "start_time": "2022-11-02T16:40:26.838Z"
   },
   {
    "duration": 34,
    "start_time": "2022-11-02T16:41:05.726Z"
   },
   {
    "duration": 37,
    "start_time": "2022-11-02T16:41:13.587Z"
   },
   {
    "duration": 148,
    "start_time": "2022-11-02T16:41:19.110Z"
   },
   {
    "duration": 33,
    "start_time": "2022-11-02T16:41:24.346Z"
   },
   {
    "duration": 33,
    "start_time": "2022-11-02T16:41:30.836Z"
   },
   {
    "duration": 32,
    "start_time": "2022-11-02T16:41:50.219Z"
   },
   {
    "duration": 37,
    "start_time": "2022-11-02T16:43:22.901Z"
   },
   {
    "duration": 35,
    "start_time": "2022-11-02T16:43:26.455Z"
   },
   {
    "duration": 40,
    "start_time": "2022-11-02T16:43:36.302Z"
   },
   {
    "duration": 8,
    "start_time": "2022-11-02T16:44:55.156Z"
   },
   {
    "duration": 28,
    "start_time": "2022-11-02T16:44:58.422Z"
   },
   {
    "duration": 8,
    "start_time": "2022-11-02T16:45:18.073Z"
   },
   {
    "duration": 14,
    "start_time": "2022-11-02T16:45:24.240Z"
   },
   {
    "duration": 40,
    "start_time": "2022-11-02T16:45:30.648Z"
   },
   {
    "duration": 1145,
    "start_time": "2022-11-02T16:46:27.782Z"
   },
   {
    "duration": 1422,
    "start_time": "2022-11-02T16:47:37.098Z"
   },
   {
    "duration": 29,
    "start_time": "2022-11-02T16:47:51.109Z"
   },
   {
    "duration": 10,
    "start_time": "2022-11-02T16:48:29.637Z"
   },
   {
    "duration": 31,
    "start_time": "2022-11-02T16:48:39.472Z"
   },
   {
    "duration": 31,
    "start_time": "2022-11-02T16:48:46.953Z"
   },
   {
    "duration": 21,
    "start_time": "2022-11-02T16:50:59.034Z"
   },
   {
    "duration": 17,
    "start_time": "2022-11-02T16:52:51.688Z"
   },
   {
    "duration": 36,
    "start_time": "2022-11-02T16:52:51.707Z"
   },
   {
    "duration": 10,
    "start_time": "2022-11-02T16:53:00.526Z"
   },
   {
    "duration": 12,
    "start_time": "2022-11-02T16:53:06.916Z"
   },
   {
    "duration": 12,
    "start_time": "2022-11-02T16:53:16.529Z"
   },
   {
    "duration": 14,
    "start_time": "2022-11-02T16:53:31.437Z"
   },
   {
    "duration": 17,
    "start_time": "2022-11-02T16:53:37.309Z"
   },
   {
    "duration": 15,
    "start_time": "2022-11-02T16:53:53.094Z"
   },
   {
    "duration": 102687,
    "start_time": "2022-11-02T16:54:04.488Z"
   },
   {
    "duration": 40348,
    "start_time": "2022-11-02T16:55:59.864Z"
   },
   {
    "duration": 900,
    "start_time": "2022-11-02T16:56:49.964Z"
   },
   {
    "duration": 636,
    "start_time": "2022-11-02T18:44:29.745Z"
   },
   {
    "duration": 105,
    "start_time": "2022-11-02T18:44:30.382Z"
   },
   {
    "duration": 18,
    "start_time": "2022-11-02T18:44:30.489Z"
   },
   {
    "duration": 66,
    "start_time": "2022-11-02T18:44:30.509Z"
   },
   {
    "duration": 1994,
    "start_time": "2022-11-02T18:44:30.577Z"
   },
   {
    "duration": 11,
    "start_time": "2022-11-02T18:44:32.573Z"
   },
   {
    "duration": 5,
    "start_time": "2022-11-02T18:44:32.586Z"
   },
   {
    "duration": 5,
    "start_time": "2022-11-02T18:44:32.593Z"
   },
   {
    "duration": 7,
    "start_time": "2022-11-02T18:44:32.600Z"
   },
   {
    "duration": 5,
    "start_time": "2022-11-02T18:44:32.633Z"
   },
   {
    "duration": 30,
    "start_time": "2022-11-02T18:44:32.640Z"
   },
   {
    "duration": 30,
    "start_time": "2022-11-02T18:44:32.671Z"
   },
   {
    "duration": 4,
    "start_time": "2022-11-02T18:44:32.703Z"
   },
   {
    "duration": 26,
    "start_time": "2022-11-02T18:44:32.709Z"
   },
   {
    "duration": 13,
    "start_time": "2022-11-02T18:44:32.736Z"
   },
   {
    "duration": 9,
    "start_time": "2022-11-02T18:44:32.750Z"
   },
   {
    "duration": 18,
    "start_time": "2022-11-02T18:44:32.761Z"
   },
   {
    "duration": 13,
    "start_time": "2022-11-02T18:44:32.780Z"
   },
   {
    "duration": 39,
    "start_time": "2022-11-02T18:44:32.795Z"
   },
   {
    "duration": 273,
    "start_time": "2022-11-02T18:44:32.836Z"
   },
   {
    "duration": 6,
    "start_time": "2022-11-02T18:44:33.111Z"
   },
   {
    "duration": 15,
    "start_time": "2022-11-02T18:44:33.119Z"
   },
   {
    "duration": 6,
    "start_time": "2022-11-02T18:44:33.136Z"
   },
   {
    "duration": 50,
    "start_time": "2022-11-02T18:44:33.144Z"
   },
   {
    "duration": 72,
    "start_time": "2022-11-02T18:44:33.196Z"
   },
   {
    "duration": 45,
    "start_time": "2022-11-02T18:44:33.269Z"
   },
   {
    "duration": 66,
    "start_time": "2022-11-02T18:44:33.315Z"
   },
   {
    "duration": 55,
    "start_time": "2022-11-02T18:44:33.385Z"
   },
   {
    "duration": 14,
    "start_time": "2022-11-02T18:44:33.442Z"
   },
   {
    "duration": 45,
    "start_time": "2022-11-02T18:44:33.458Z"
   },
   {
    "duration": 74,
    "start_time": "2022-11-02T18:44:33.504Z"
   },
   {
    "duration": 4,
    "start_time": "2022-11-02T18:44:33.581Z"
   },
   {
    "duration": 11,
    "start_time": "2022-11-02T18:44:33.586Z"
   },
   {
    "duration": 11,
    "start_time": "2022-11-02T18:44:33.598Z"
   },
   {
    "duration": 30,
    "start_time": "2022-11-02T18:44:33.611Z"
   },
   {
    "duration": 6,
    "start_time": "2022-11-02T18:44:33.643Z"
   },
   {
    "duration": 14,
    "start_time": "2022-11-02T18:44:33.650Z"
   },
   {
    "duration": 46,
    "start_time": "2022-11-02T18:44:33.666Z"
   },
   {
    "duration": 21,
    "start_time": "2022-11-02T18:44:33.714Z"
   },
   {
    "duration": 4,
    "start_time": "2022-11-02T18:44:33.736Z"
   },
   {
    "duration": 10,
    "start_time": "2022-11-02T18:44:33.741Z"
   },
   {
    "duration": 6,
    "start_time": "2022-11-02T18:44:33.753Z"
   },
   {
    "duration": 8,
    "start_time": "2022-11-02T18:44:33.761Z"
   },
   {
    "duration": 343,
    "start_time": "2022-11-02T18:44:33.770Z"
   },
   {
    "duration": 40,
    "start_time": "2022-11-02T18:44:34.115Z"
   },
   {
    "duration": 49,
    "start_time": "2022-11-02T18:44:34.157Z"
   },
   {
    "duration": 5,
    "start_time": "2022-11-02T18:44:34.208Z"
   },
   {
    "duration": 167,
    "start_time": "2022-11-02T18:44:34.214Z"
   },
   {
    "duration": 170,
    "start_time": "2022-11-02T18:44:34.383Z"
   },
   {
    "duration": 239,
    "start_time": "2022-11-02T18:44:34.555Z"
   },
   {
    "duration": 1517,
    "start_time": "2022-11-02T18:44:34.796Z"
   },
   {
    "duration": 200,
    "start_time": "2022-11-02T18:44:36.316Z"
   },
   {
    "duration": 258,
    "start_time": "2022-11-02T18:44:36.517Z"
   },
   {
    "duration": 192,
    "start_time": "2022-11-02T18:44:36.776Z"
   },
   {
    "duration": 8,
    "start_time": "2022-11-02T18:44:36.969Z"
   },
   {
    "duration": 176,
    "start_time": "2022-11-02T18:44:36.978Z"
   },
   {
    "duration": 180,
    "start_time": "2022-11-02T18:44:37.155Z"
   },
   {
    "duration": 176,
    "start_time": "2022-11-02T18:44:37.337Z"
   },
   {
    "duration": 179,
    "start_time": "2022-11-02T18:44:37.514Z"
   },
   {
    "duration": 179,
    "start_time": "2022-11-02T18:44:37.694Z"
   },
   {
    "duration": 399,
    "start_time": "2022-11-02T18:44:37.875Z"
   },
   {
    "duration": 257,
    "start_time": "2022-11-02T18:44:38.276Z"
   },
   {
    "duration": 5,
    "start_time": "2022-11-02T18:44:38.535Z"
   },
   {
    "duration": 8,
    "start_time": "2022-11-02T18:44:38.542Z"
   },
   {
    "duration": 51040,
    "start_time": "2022-11-02T18:44:38.551Z"
   },
   {
    "duration": 40257,
    "start_time": "2022-11-02T18:45:29.593Z"
   },
   {
    "duration": 21908,
    "start_time": "2022-11-02T18:46:09.852Z"
   },
   {
    "duration": 572,
    "start_time": "2022-11-02T18:46:31.762Z"
   },
   {
    "duration": 299,
    "start_time": "2022-11-02T18:46:32.336Z"
   },
   {
    "duration": 391,
    "start_time": "2022-11-02T18:46:32.637Z"
   },
   {
    "duration": 500,
    "start_time": "2022-11-02T18:46:33.033Z"
   },
   {
    "duration": 377,
    "start_time": "2022-11-02T18:46:33.535Z"
   },
   {
    "duration": 53,
    "start_time": "2022-11-02T18:46:33.914Z"
   },
   {
    "duration": 886,
    "start_time": "2022-11-02T18:46:33.969Z"
   },
   {
    "duration": 19,
    "start_time": "2022-11-02T18:49:56.419Z"
   },
   {
    "duration": 1490,
    "start_time": "2022-11-02T18:50:10.693Z"
   },
   {
    "duration": 14,
    "start_time": "2022-11-02T19:20:37.515Z"
   },
   {
    "duration": 13,
    "start_time": "2022-11-02T19:20:40.778Z"
   },
   {
    "duration": 211,
    "start_time": "2022-11-02T19:24:44.607Z"
   },
   {
    "duration": 163,
    "start_time": "2022-11-02T19:24:52.493Z"
   },
   {
    "duration": 150,
    "start_time": "2022-11-02T19:25:05.043Z"
   },
   {
    "duration": 176,
    "start_time": "2022-11-02T19:25:16.104Z"
   },
   {
    "duration": 26,
    "start_time": "2022-11-02T19:26:43.553Z"
   },
   {
    "duration": 93,
    "start_time": "2022-11-02T19:50:53.504Z"
   },
   {
    "duration": 6,
    "start_time": "2022-11-02T19:51:12.331Z"
   },
   {
    "duration": 6,
    "start_time": "2022-11-02T19:51:42.078Z"
   },
   {
    "duration": 105,
    "start_time": "2022-11-02T19:52:12.086Z"
   },
   {
    "duration": 126,
    "start_time": "2022-11-02T19:52:26.068Z"
   },
   {
    "duration": 103,
    "start_time": "2022-11-02T19:52:35.233Z"
   },
   {
    "duration": 141,
    "start_time": "2022-11-02T19:54:02.664Z"
   },
   {
    "duration": 128,
    "start_time": "2022-11-02T19:54:15.720Z"
   },
   {
    "duration": 119,
    "start_time": "2022-11-02T19:54:45.874Z"
   },
   {
    "duration": 10,
    "start_time": "2022-11-02T19:59:25.064Z"
   },
   {
    "duration": 54,
    "start_time": "2022-11-02T20:03:33.302Z"
   },
   {
    "duration": 669,
    "start_time": "2022-11-02T20:03:52.386Z"
   },
   {
    "duration": 143,
    "start_time": "2022-11-02T20:03:53.057Z"
   },
   {
    "duration": 18,
    "start_time": "2022-11-02T20:03:53.201Z"
   },
   {
    "duration": 41,
    "start_time": "2022-11-02T20:03:53.221Z"
   },
   {
    "duration": 1780,
    "start_time": "2022-11-02T20:03:53.264Z"
   },
   {
    "duration": 11,
    "start_time": "2022-11-02T20:03:55.046Z"
   },
   {
    "duration": 3,
    "start_time": "2022-11-02T20:03:55.058Z"
   },
   {
    "duration": 6,
    "start_time": "2022-11-02T20:03:55.063Z"
   },
   {
    "duration": 9,
    "start_time": "2022-11-02T20:03:55.070Z"
   },
   {
    "duration": 5,
    "start_time": "2022-11-02T20:03:55.081Z"
   },
   {
    "duration": 29,
    "start_time": "2022-11-02T20:03:55.087Z"
   },
   {
    "duration": 29,
    "start_time": "2022-11-02T20:03:55.118Z"
   },
   {
    "duration": 4,
    "start_time": "2022-11-02T20:03:55.149Z"
   },
   {
    "duration": 7,
    "start_time": "2022-11-02T20:03:55.154Z"
   },
   {
    "duration": 14,
    "start_time": "2022-11-02T20:03:55.163Z"
   },
   {
    "duration": 8,
    "start_time": "2022-11-02T20:03:55.178Z"
   },
   {
    "duration": 15,
    "start_time": "2022-11-02T20:03:55.205Z"
   },
   {
    "duration": 15,
    "start_time": "2022-11-02T20:03:55.221Z"
   },
   {
    "duration": 6,
    "start_time": "2022-11-02T20:03:55.238Z"
   },
   {
    "duration": 260,
    "start_time": "2022-11-02T20:03:55.245Z"
   },
   {
    "duration": 8,
    "start_time": "2022-11-02T20:03:55.507Z"
   },
   {
    "duration": 4,
    "start_time": "2022-11-02T20:03:55.517Z"
   },
   {
    "duration": 11,
    "start_time": "2022-11-02T20:03:55.524Z"
   },
   {
    "duration": 48,
    "start_time": "2022-11-02T20:03:55.536Z"
   },
   {
    "duration": 56,
    "start_time": "2022-11-02T20:03:55.585Z"
   },
   {
    "duration": 40,
    "start_time": "2022-11-02T20:03:55.643Z"
   },
   {
    "duration": 56,
    "start_time": "2022-11-02T20:03:55.684Z"
   },
   {
    "duration": 42,
    "start_time": "2022-11-02T20:03:55.743Z"
   },
   {
    "duration": 26,
    "start_time": "2022-11-02T20:03:55.787Z"
   },
   {
    "duration": 46,
    "start_time": "2022-11-02T20:03:55.815Z"
   },
   {
    "duration": 64,
    "start_time": "2022-11-02T20:03:55.863Z"
   },
   {
    "duration": 5,
    "start_time": "2022-11-02T20:03:55.929Z"
   },
   {
    "duration": 12,
    "start_time": "2022-11-02T20:03:55.935Z"
   },
   {
    "duration": 17,
    "start_time": "2022-11-02T20:03:55.949Z"
   },
   {
    "duration": 14,
    "start_time": "2022-11-02T20:03:55.967Z"
   },
   {
    "duration": 6,
    "start_time": "2022-11-02T20:03:55.983Z"
   },
   {
    "duration": 19,
    "start_time": "2022-11-02T20:03:55.991Z"
   },
   {
    "duration": 43,
    "start_time": "2022-11-02T20:03:56.011Z"
   },
   {
    "duration": 18,
    "start_time": "2022-11-02T20:03:56.056Z"
   },
   {
    "duration": 30,
    "start_time": "2022-11-02T20:03:56.076Z"
   },
   {
    "duration": 5,
    "start_time": "2022-11-02T20:03:56.107Z"
   },
   {
    "duration": 9,
    "start_time": "2022-11-02T20:03:56.113Z"
   },
   {
    "duration": 5,
    "start_time": "2022-11-02T20:03:56.124Z"
   },
   {
    "duration": 15,
    "start_time": "2022-11-02T20:03:56.130Z"
   },
   {
    "duration": 329,
    "start_time": "2022-11-02T20:03:56.147Z"
   },
   {
    "duration": 29,
    "start_time": "2022-11-02T20:03:56.477Z"
   },
   {
    "duration": 39,
    "start_time": "2022-11-02T20:03:56.508Z"
   },
   {
    "duration": 5,
    "start_time": "2022-11-02T20:03:56.548Z"
   },
   {
    "duration": 162,
    "start_time": "2022-11-02T20:03:56.554Z"
   },
   {
    "duration": 167,
    "start_time": "2022-11-02T20:03:56.718Z"
   },
   {
    "duration": 220,
    "start_time": "2022-11-02T20:03:56.887Z"
   },
   {
    "duration": 1428,
    "start_time": "2022-11-02T20:03:57.108Z"
   },
   {
    "duration": 160,
    "start_time": "2022-11-02T20:03:58.538Z"
   },
   {
    "duration": 225,
    "start_time": "2022-11-02T20:03:58.705Z"
   },
   {
    "duration": 180,
    "start_time": "2022-11-02T20:03:58.932Z"
   },
   {
    "duration": 110,
    "start_time": "2022-11-02T20:03:59.114Z"
   },
   {
    "duration": 153,
    "start_time": "2022-11-02T20:03:59.226Z"
   },
   {
    "duration": 163,
    "start_time": "2022-11-02T20:03:59.381Z"
   },
   {
    "duration": 155,
    "start_time": "2022-11-02T20:03:59.545Z"
   },
   {
    "duration": 171,
    "start_time": "2022-11-02T20:03:59.705Z"
   },
   {
    "duration": 267,
    "start_time": "2022-11-02T20:03:59.877Z"
   },
   {
    "duration": 176,
    "start_time": "2022-11-02T20:04:00.145Z"
   },
   {
    "duration": 231,
    "start_time": "2022-11-02T20:04:00.322Z"
   },
   {
    "duration": 491,
    "start_time": "2022-11-02T20:04:00.554Z"
   },
   {
    "duration": 5,
    "start_time": "2022-11-02T20:04:01.046Z"
   },
   {
    "duration": 6,
    "start_time": "2022-11-02T20:04:01.105Z"
   },
   {
    "duration": 219,
    "start_time": "2022-11-02T20:04:01.112Z"
   },
   {
    "duration": 45865,
    "start_time": "2022-11-02T20:04:01.333Z"
   },
   {
    "duration": 36055,
    "start_time": "2022-11-02T20:04:47.200Z"
   },
   {
    "duration": 587,
    "start_time": "2022-11-02T20:05:42.833Z"
   },
   {
    "duration": 304,
    "start_time": "2022-11-02T20:05:43.421Z"
   },
   {
    "duration": 397,
    "start_time": "2022-11-02T20:05:43.727Z"
   },
   {
    "duration": 463,
    "start_time": "2022-11-02T20:05:44.125Z"
   },
   {
    "duration": 317,
    "start_time": "2022-11-02T20:05:44.590Z"
   },
   {
    "duration": 38,
    "start_time": "2022-11-02T20:05:44.908Z"
   },
   {
    "duration": 10,
    "start_time": "2022-11-02T20:05:44.948Z"
   },
   {
    "duration": 815,
    "start_time": "2022-11-02T20:05:44.959Z"
   },
   {
    "duration": 1660,
    "start_time": "2022-11-02T20:07:32.447Z"
   },
   {
    "duration": 128,
    "start_time": "2022-11-02T20:07:43.814Z"
   },
   {
    "duration": 14,
    "start_time": "2022-11-02T20:08:56.786Z"
   },
   {
    "duration": 14,
    "start_time": "2022-11-02T20:08:59.400Z"
   },
   {
    "duration": 624,
    "start_time": "2022-11-02T20:09:16.591Z"
   },
   {
    "duration": 102,
    "start_time": "2022-11-02T20:09:17.217Z"
   },
   {
    "duration": 18,
    "start_time": "2022-11-02T20:09:17.321Z"
   },
   {
    "duration": 65,
    "start_time": "2022-11-02T20:09:17.341Z"
   },
   {
    "duration": 1851,
    "start_time": "2022-11-02T20:09:17.408Z"
   },
   {
    "duration": 8,
    "start_time": "2022-11-02T20:09:19.261Z"
   },
   {
    "duration": 3,
    "start_time": "2022-11-02T20:09:19.270Z"
   },
   {
    "duration": 7,
    "start_time": "2022-11-02T20:09:19.274Z"
   },
   {
    "duration": 7,
    "start_time": "2022-11-02T20:09:19.283Z"
   },
   {
    "duration": 5,
    "start_time": "2022-11-02T20:09:19.293Z"
   },
   {
    "duration": 33,
    "start_time": "2022-11-02T20:09:19.300Z"
   },
   {
    "duration": 28,
    "start_time": "2022-11-02T20:09:19.335Z"
   },
   {
    "duration": 4,
    "start_time": "2022-11-02T20:09:19.364Z"
   },
   {
    "duration": 6,
    "start_time": "2022-11-02T20:09:19.369Z"
   },
   {
    "duration": 11,
    "start_time": "2022-11-02T20:09:19.377Z"
   },
   {
    "duration": 24,
    "start_time": "2022-11-02T20:09:19.389Z"
   },
   {
    "duration": 15,
    "start_time": "2022-11-02T20:09:19.414Z"
   },
   {
    "duration": 12,
    "start_time": "2022-11-02T20:09:19.431Z"
   },
   {
    "duration": 6,
    "start_time": "2022-11-02T20:09:19.444Z"
   },
   {
    "duration": 297,
    "start_time": "2022-11-02T20:09:19.452Z"
   },
   {
    "duration": 6,
    "start_time": "2022-11-02T20:09:19.750Z"
   },
   {
    "duration": 3,
    "start_time": "2022-11-02T20:09:19.758Z"
   },
   {
    "duration": 7,
    "start_time": "2022-11-02T20:09:19.763Z"
   },
   {
    "duration": 67,
    "start_time": "2022-11-02T20:09:19.771Z"
   },
   {
    "duration": 46,
    "start_time": "2022-11-02T20:09:19.840Z"
   },
   {
    "duration": 56,
    "start_time": "2022-11-02T20:09:19.888Z"
   },
   {
    "duration": 43,
    "start_time": "2022-11-02T20:09:19.946Z"
   },
   {
    "duration": 46,
    "start_time": "2022-11-02T20:09:20.004Z"
   },
   {
    "duration": 14,
    "start_time": "2022-11-02T20:09:20.051Z"
   },
   {
    "duration": 61,
    "start_time": "2022-11-02T20:09:20.067Z"
   },
   {
    "duration": 56,
    "start_time": "2022-11-02T20:09:20.130Z"
   },
   {
    "duration": 19,
    "start_time": "2022-11-02T20:09:20.188Z"
   },
   {
    "duration": 15,
    "start_time": "2022-11-02T20:09:20.208Z"
   },
   {
    "duration": 14,
    "start_time": "2022-11-02T20:09:20.224Z"
   },
   {
    "duration": 9,
    "start_time": "2022-11-02T20:09:20.239Z"
   },
   {
    "duration": 9,
    "start_time": "2022-11-02T20:09:20.250Z"
   },
   {
    "duration": 14,
    "start_time": "2022-11-02T20:09:20.261Z"
   },
   {
    "duration": 56,
    "start_time": "2022-11-02T20:09:20.276Z"
   },
   {
    "duration": 18,
    "start_time": "2022-11-02T20:09:20.334Z"
   },
   {
    "duration": 7,
    "start_time": "2022-11-02T20:09:20.354Z"
   },
   {
    "duration": 3,
    "start_time": "2022-11-02T20:09:20.362Z"
   },
   {
    "duration": 7,
    "start_time": "2022-11-02T20:09:20.367Z"
   },
   {
    "duration": 5,
    "start_time": "2022-11-02T20:09:20.375Z"
   },
   {
    "duration": 23,
    "start_time": "2022-11-02T20:09:20.382Z"
   },
   {
    "duration": 320,
    "start_time": "2022-11-02T20:09:20.407Z"
   },
   {
    "duration": 27,
    "start_time": "2022-11-02T20:09:20.728Z"
   },
   {
    "duration": 51,
    "start_time": "2022-11-02T20:09:20.756Z"
   },
   {
    "duration": 5,
    "start_time": "2022-11-02T20:09:20.808Z"
   },
   {
    "duration": 170,
    "start_time": "2022-11-02T20:09:20.814Z"
   },
   {
    "duration": 164,
    "start_time": "2022-11-02T20:09:20.986Z"
   },
   {
    "duration": 220,
    "start_time": "2022-11-02T20:09:21.151Z"
   },
   {
    "duration": 140,
    "start_time": "2022-11-02T20:09:21.372Z"
   },
   {
    "duration": 152,
    "start_time": "2022-11-02T20:09:21.514Z"
   },
   {
    "duration": 219,
    "start_time": "2022-11-02T20:09:21.668Z"
   },
   {
    "duration": 177,
    "start_time": "2022-11-02T20:09:21.888Z"
   },
   {
    "duration": 106,
    "start_time": "2022-11-02T20:09:22.066Z"
   },
   {
    "duration": 162,
    "start_time": "2022-11-02T20:09:22.174Z"
   },
   {
    "duration": 164,
    "start_time": "2022-11-02T20:09:22.338Z"
   },
   {
    "duration": 165,
    "start_time": "2022-11-02T20:09:22.503Z"
   },
   {
    "duration": 175,
    "start_time": "2022-11-02T20:09:22.669Z"
   },
   {
    "duration": 245,
    "start_time": "2022-11-02T20:09:22.846Z"
   },
   {
    "duration": 144,
    "start_time": "2022-11-02T20:09:23.093Z"
   },
   {
    "duration": 138,
    "start_time": "2022-11-02T20:09:23.238Z"
   },
   {
    "duration": 243,
    "start_time": "2022-11-02T20:09:23.378Z"
   },
   {
    "duration": 5,
    "start_time": "2022-11-02T20:09:23.623Z"
   },
   {
    "duration": 6,
    "start_time": "2022-11-02T20:09:23.629Z"
   },
   {
    "duration": 134,
    "start_time": "2022-11-02T20:09:23.637Z"
   },
   {
    "duration": 79,
    "start_time": "2022-11-02T20:09:23.773Z"
   },
   {
    "duration": 0,
    "start_time": "2022-11-02T20:09:23.854Z"
   },
   {
    "duration": 0,
    "start_time": "2022-11-02T20:09:23.856Z"
   },
   {
    "duration": 0,
    "start_time": "2022-11-02T20:09:23.858Z"
   },
   {
    "duration": 0,
    "start_time": "2022-11-02T20:09:23.859Z"
   },
   {
    "duration": 0,
    "start_time": "2022-11-02T20:09:23.861Z"
   },
   {
    "duration": 0,
    "start_time": "2022-11-02T20:09:23.862Z"
   },
   {
    "duration": 0,
    "start_time": "2022-11-02T20:09:23.864Z"
   },
   {
    "duration": 1084,
    "start_time": "2022-11-02T20:09:58.068Z"
   },
   {
    "duration": 279,
    "start_time": "2022-11-02T20:10:04.898Z"
   },
   {
    "duration": 353,
    "start_time": "2022-11-02T20:10:08.564Z"
   },
   {
    "duration": 466,
    "start_time": "2022-11-02T20:10:10.853Z"
   },
   {
    "duration": 339,
    "start_time": "2022-11-02T20:10:13.526Z"
   },
   {
    "duration": 1347,
    "start_time": "2022-11-02T20:10:51.742Z"
   },
   {
    "duration": 35,
    "start_time": "2022-11-02T20:23:24.849Z"
   },
   {
    "duration": 10,
    "start_time": "2022-11-02T20:23:38.998Z"
   },
   {
    "duration": 159,
    "start_time": "2022-11-02T20:29:16.016Z"
   },
   {
    "duration": 169,
    "start_time": "2022-11-02T20:30:27.122Z"
   },
   {
    "duration": 189,
    "start_time": "2022-11-02T20:32:28.874Z"
   },
   {
    "duration": 177,
    "start_time": "2022-11-02T20:32:41.210Z"
   },
   {
    "duration": 179,
    "start_time": "2022-11-02T20:34:03.805Z"
   },
   {
    "duration": 289,
    "start_time": "2022-11-02T20:51:59.104Z"
   },
   {
    "duration": 205,
    "start_time": "2022-11-02T21:23:34.692Z"
   },
   {
    "duration": 875,
    "start_time": "2022-11-02T21:23:41.338Z"
   },
   {
    "duration": 887,
    "start_time": "2022-11-02T21:24:19.810Z"
   },
   {
    "duration": 143,
    "start_time": "2022-11-02T21:29:56.663Z"
   },
   {
    "duration": 101,
    "start_time": "2022-11-02T21:30:17.121Z"
   },
   {
    "duration": 724,
    "start_time": "2022-11-02T21:48:16.092Z"
   },
   {
    "duration": 201,
    "start_time": "2022-11-02T21:48:16.818Z"
   },
   {
    "duration": 19,
    "start_time": "2022-11-02T21:48:17.021Z"
   },
   {
    "duration": 40,
    "start_time": "2022-11-02T21:48:17.042Z"
   },
   {
    "duration": 1977,
    "start_time": "2022-11-02T21:48:17.083Z"
   },
   {
    "duration": 9,
    "start_time": "2022-11-02T21:48:19.062Z"
   },
   {
    "duration": 5,
    "start_time": "2022-11-02T21:48:19.073Z"
   },
   {
    "duration": 6,
    "start_time": "2022-11-02T21:48:19.079Z"
   },
   {
    "duration": 7,
    "start_time": "2022-11-02T21:48:19.087Z"
   },
   {
    "duration": 8,
    "start_time": "2022-11-02T21:48:19.098Z"
   },
   {
    "duration": 55,
    "start_time": "2022-11-02T21:48:19.107Z"
   },
   {
    "duration": 28,
    "start_time": "2022-11-02T21:48:19.164Z"
   },
   {
    "duration": 5,
    "start_time": "2022-11-02T21:48:19.194Z"
   },
   {
    "duration": 5,
    "start_time": "2022-11-02T21:48:19.201Z"
   },
   {
    "duration": 34,
    "start_time": "2022-11-02T21:48:19.208Z"
   },
   {
    "duration": 8,
    "start_time": "2022-11-02T21:48:19.243Z"
   },
   {
    "duration": 14,
    "start_time": "2022-11-02T21:48:19.253Z"
   },
   {
    "duration": 16,
    "start_time": "2022-11-02T21:48:19.268Z"
   },
   {
    "duration": 6,
    "start_time": "2022-11-02T21:48:19.286Z"
   },
   {
    "duration": 294,
    "start_time": "2022-11-02T21:48:19.294Z"
   },
   {
    "duration": 7,
    "start_time": "2022-11-02T21:48:19.589Z"
   },
   {
    "duration": 8,
    "start_time": "2022-11-02T21:48:19.598Z"
   },
   {
    "duration": 10,
    "start_time": "2022-11-02T21:48:19.607Z"
   },
   {
    "duration": 63,
    "start_time": "2022-11-02T21:48:19.619Z"
   },
   {
    "duration": 77,
    "start_time": "2022-11-02T21:48:19.684Z"
   },
   {
    "duration": 58,
    "start_time": "2022-11-02T21:48:19.763Z"
   },
   {
    "duration": 65,
    "start_time": "2022-11-02T21:48:19.823Z"
   },
   {
    "duration": 88,
    "start_time": "2022-11-02T21:48:19.892Z"
   },
   {
    "duration": 15,
    "start_time": "2022-11-02T21:48:19.981Z"
   },
   {
    "duration": 68,
    "start_time": "2022-11-02T21:48:19.997Z"
   },
   {
    "duration": 45,
    "start_time": "2022-11-02T21:48:20.067Z"
   },
   {
    "duration": 4,
    "start_time": "2022-11-02T21:48:20.114Z"
   },
   {
    "duration": 4,
    "start_time": "2022-11-02T21:48:20.134Z"
   },
   {
    "duration": 9,
    "start_time": "2022-11-02T21:48:20.139Z"
   },
   {
    "duration": 14,
    "start_time": "2022-11-02T21:48:20.149Z"
   },
   {
    "duration": 11,
    "start_time": "2022-11-02T21:48:20.165Z"
   },
   {
    "duration": 15,
    "start_time": "2022-11-02T21:48:20.178Z"
   },
   {
    "duration": 64,
    "start_time": "2022-11-02T21:48:20.195Z"
   },
   {
    "duration": 22,
    "start_time": "2022-11-02T21:48:20.260Z"
   },
   {
    "duration": 7,
    "start_time": "2022-11-02T21:48:20.284Z"
   },
   {
    "duration": 14,
    "start_time": "2022-11-02T21:48:20.293Z"
   },
   {
    "duration": 19,
    "start_time": "2022-11-02T21:48:20.308Z"
   },
   {
    "duration": 5,
    "start_time": "2022-11-02T21:48:20.333Z"
   },
   {
    "duration": 6,
    "start_time": "2022-11-02T21:48:20.340Z"
   },
   {
    "duration": 335,
    "start_time": "2022-11-02T21:48:20.347Z"
   },
   {
    "duration": 28,
    "start_time": "2022-11-02T21:48:20.684Z"
   },
   {
    "duration": 59,
    "start_time": "2022-11-02T21:48:20.714Z"
   },
   {
    "duration": 6,
    "start_time": "2022-11-02T21:48:20.775Z"
   },
   {
    "duration": 183,
    "start_time": "2022-11-02T21:48:20.783Z"
   },
   {
    "duration": 185,
    "start_time": "2022-11-02T21:48:20.968Z"
   },
   {
    "duration": 237,
    "start_time": "2022-11-02T21:48:21.155Z"
   },
   {
    "duration": 1970,
    "start_time": "2022-11-02T21:48:21.394Z"
   },
   {
    "duration": 163,
    "start_time": "2022-11-02T21:48:23.366Z"
   },
   {
    "duration": 248,
    "start_time": "2022-11-02T21:48:23.530Z"
   },
   {
    "duration": 218,
    "start_time": "2022-11-02T21:48:23.780Z"
   },
   {
    "duration": 138,
    "start_time": "2022-11-02T21:48:24.000Z"
   },
   {
    "duration": 197,
    "start_time": "2022-11-02T21:48:24.140Z"
   },
   {
    "duration": 176,
    "start_time": "2022-11-02T21:48:24.339Z"
   },
   {
    "duration": 176,
    "start_time": "2022-11-02T21:48:24.517Z"
   },
   {
    "duration": 184,
    "start_time": "2022-11-02T21:48:24.695Z"
   },
   {
    "duration": 297,
    "start_time": "2022-11-02T21:48:24.881Z"
   },
   {
    "duration": 156,
    "start_time": "2022-11-02T21:48:25.180Z"
   },
   {
    "duration": 151,
    "start_time": "2022-11-02T21:48:25.338Z"
   },
   {
    "duration": 271,
    "start_time": "2022-11-02T21:48:25.492Z"
   },
   {
    "duration": 4,
    "start_time": "2022-11-02T21:48:25.765Z"
   },
   {
    "duration": 7,
    "start_time": "2022-11-02T21:48:25.771Z"
   },
   {
    "duration": 155,
    "start_time": "2022-11-02T21:48:25.780Z"
   },
   {
    "duration": 10,
    "start_time": "2022-11-02T21:48:25.937Z"
   },
   {
    "duration": 196,
    "start_time": "2022-11-02T21:48:25.949Z"
   },
   {
    "duration": 270,
    "start_time": "2022-11-02T21:48:26.146Z"
   },
   {
    "duration": 217,
    "start_time": "2022-11-02T21:48:26.418Z"
   },
   {
    "duration": 997,
    "start_time": "2022-11-02T21:48:26.637Z"
   },
   {
    "duration": 311,
    "start_time": "2022-11-02T21:48:27.636Z"
   },
   {
    "duration": 397,
    "start_time": "2022-11-02T21:48:27.949Z"
   },
   {
    "duration": 680,
    "start_time": "2022-11-02T21:48:28.348Z"
   },
   {
    "duration": 364,
    "start_time": "2022-11-02T21:48:29.033Z"
   },
   {
    "duration": 346,
    "start_time": "2022-11-02T21:48:29.398Z"
   },
   {
    "duration": 49,
    "start_time": "2022-11-02T21:48:29.746Z"
   },
   {
    "duration": 13,
    "start_time": "2022-11-02T21:48:29.797Z"
   },
   {
    "duration": 942,
    "start_time": "2022-11-02T21:48:29.834Z"
   },
   {
    "duration": 119,
    "start_time": "2022-11-02T21:50:05.449Z"
   },
   {
    "duration": 119,
    "start_time": "2022-11-02T21:52:21.206Z"
   }
  ],
  "kernelspec": {
   "display_name": "Python 3 (ipykernel)",
   "language": "python",
   "name": "python3"
  },
  "language_info": {
   "codemirror_mode": {
    "name": "ipython",
    "version": 3
   },
   "file_extension": ".py",
   "mimetype": "text/x-python",
   "name": "python",
   "nbconvert_exporter": "python",
   "pygments_lexer": "ipython3",
   "version": "3.9.13"
  },
  "toc": {
   "base_numbering": 1,
   "nav_menu": {},
   "number_sections": true,
   "sideBar": true,
   "skip_h1_title": true,
   "title_cell": "Table of Contents",
   "title_sidebar": "Contents",
   "toc_cell": false,
   "toc_position": {},
   "toc_section_display": true,
   "toc_window_display": true
  }
 },
 "nbformat": 4,
 "nbformat_minor": 2
}
